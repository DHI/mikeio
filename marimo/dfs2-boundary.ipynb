{
 "cells": [
  {
   "cell_type": "code",
   "execution_count": null,
   "id": "MJUe",
   "metadata": {},
   "outputs": [],
   "source": [
    "import numpy as np\n",
    "import mikeio"
   ]
  },
  {
   "cell_type": "code",
   "execution_count": null,
   "id": "vblA",
   "metadata": {},
   "outputs": [
    {
     "data": {
      "text/html": [
       "<pre style='font-size: 12px'>&lt;mikeio.Dataset&gt;\n",
       "dims: (time:3, y:5, x:11)\n",
       "time: 2021-08-14 12:00:00 - 2021-08-16 12:00:00 (3 records)\n",
       "geometry: Grid2D (ny=5, nx=11)\n",
       "items:\n",
       "  0:  eastward_sea_water_velocity &lt;u velocity component&gt; (meter per sec)\n",
       "  1:  northward_sea_water_velocity &lt;v velocity component&gt; (meter per sec)</pre>"
      ]
     },
     "metadata": {},
     "output_type": "display_data"
    }
   ],
   "source": [
    "ds_surge = mikeio.read(\"../tests/testdata/uv_vertical_daily.dfs2\")\n",
    "ds_surge"
   ]
  },
  {
   "cell_type": "code",
   "execution_count": null,
   "id": "bkHC",
   "metadata": {},
   "outputs": [
    {
     "data": {
      "text/html": [
       "<pre style='font-size: 12px'>&lt;mikeio.Dataset&gt;\n",
       "dims: (time:721, x:11)\n",
       "time: 2021-08-01 00:00:00 - 2021-08-31 00:00:00 (721 records)\n",
       "geometry: Grid1D (n=11, dx=0.09818)\n",
       "items:\n",
       "  0:  Tidal current component (geographic North) &lt;v velocity component&gt; (meter per sec)\n",
       "  1:  Tidal current component (geographic East) &lt;u velocity component&gt; (meter per sec)</pre>"
      ]
     },
     "metadata": {},
     "output_type": "display_data"
    }
   ],
   "source": [
    "ds_tide = mikeio.read(\"../tests/testdata/vu_tide_hourly.dfs1\")\n",
    "ds_tide"
   ]
  },
  {
   "cell_type": "code",
   "execution_count": null,
   "id": "PKri",
   "metadata": {},
   "outputs": [
    {
     "data": {
      "text/html": [
       "<pre style='font-size: 12px'>&lt;mikeio.Dataset&gt;\n",
       "dims: (time:721, y:5, x:11)\n",
       "time: 2021-08-01 00:00:00 - 2021-08-31 00:00:00 (721 records)\n",
       "geometry: Grid2D (ny=5, nx=11)\n",
       "items:\n",
       "  0:  eastward_sea_water_velocity &lt;u velocity component&gt; (meter per sec)\n",
       "  1:  northward_sea_water_velocity &lt;v velocity component&gt; (meter per sec)</pre>"
      ]
     },
     "metadata": {},
     "output_type": "display_data"
    }
   ],
   "source": [
    "ds_surge_h = ds_surge.interp_time(ds_tide)\n",
    "ds_surge_h"
   ]
  },
  {
   "cell_type": "code",
   "execution_count": null,
   "id": "SFPL",
   "metadata": {},
   "outputs": [
    {
     "data": {
      "application/json": "[721, 1, 11]"
     },
     "metadata": {},
     "output_type": "display_data"
    }
   ],
   "source": [
    "u_tide = ds_tide[\"Tidal current component (geographic East)\"].to_numpy()\n",
    "u_tide = np.expand_dims(u_tide, 1)\n",
    "u_tide.shape"
   ]
  },
  {
   "cell_type": "code",
   "execution_count": null,
   "id": "BYtC",
   "metadata": {},
   "outputs": [],
   "source": [
    "u_surge = ds_surge_h[\"eastward_sea_water_velocity\"]\n",
    "u_combined = u_surge + u_tide\n",
    "u_combined.item = mikeio.ItemInfo(\"U\", mikeio.EUMType.u_velocity_component)"
   ]
  },
  {
   "cell_type": "code",
   "execution_count": null,
   "id": "RGSE",
   "metadata": {},
   "outputs": [],
   "source": [
    "v_tide = ds_tide[\"Tidal current component (geographic North)\"].to_numpy()\n",
    "v_tide = np.expand_dims(v_tide, 1)\n",
    "v_surge = ds_surge_h[\"northward_sea_water_velocity\"]\n",
    "v_combined = v_surge + v_tide\n",
    "v_combined.item = mikeio.ItemInfo(\"V\", mikeio.EUMType.u_velocity_component)"
   ]
  },
  {
   "cell_type": "code",
   "execution_count": null,
   "id": "emfo",
   "metadata": {},
   "outputs": [],
   "source": [
    "ds_combined = mikeio.Dataset([u_combined, v_combined])"
   ]
  },
  {
   "cell_type": "code",
   "execution_count": null,
   "id": "Hstk",
   "metadata": {},
   "outputs": [
    {
     "data": {
      "text/html": [
       "<pre style='font-size: 12px'>&lt;mikeio.Dataset&gt;\n",
       "dims: (time:49, y:5, x:11)\n",
       "time: 2021-08-14 12:00:00 - 2021-08-16 12:00:00 (49 records)\n",
       "geometry: Grid2D (ny=5, nx=11)\n",
       "items:\n",
       "  0:  U &lt;u velocity component&gt; (meter per sec)\n",
       "  1:  V &lt;u velocity component&gt; (meter per sec)</pre>"
      ]
     },
     "metadata": {},
     "output_type": "display_data"
    }
   ],
   "source": [
    "ds_combined_1 = ds_combined.dropna()\n",
    "ds_combined_1"
   ]
  },
  {
   "cell_type": "code",
   "execution_count": null,
   "id": "nWHF",
   "metadata": {},
   "outputs": [],
   "source": [
    "ds_combined_1.to_dfs('uv_combined.dfs2')"
   ]
  },
  {
   "cell_type": "code",
   "execution_count": null,
   "id": "ZHCJ",
   "metadata": {},
   "outputs": [],
   "source": [
    "import os\n",
    "os.remove(\"uv_combined.dfs2\")"
   ]
  },
  {
   "cell_type": "code",
   "execution_count": null,
   "id": "ROlb",
   "metadata": {},
   "outputs": [],
   "source": [
    "import marimo as mo"
   ]
  },
  {
   "cell_type": "markdown",
   "id": "Hbol",
   "metadata": {},
   "source": [
    "# Boundary\n",
    "\n",
    "The task is to combine current velocities from an oceanographic model without tides with tidal current.\n",
    "\n",
    "* The oceanographic model data is vertically resolved and available in a vertical transect as a Dfs2 with daily timestep\n",
    "* The tidal model is vertically integrated and available in a line transect as a Dfs1 with hourly timestep\n",
    "* The spatial grid is identical\n",
    "\n",
    "## Steps\n",
    "1. Read data\n",
    "2. Interpolate in time\n",
    "3. Calculate $\\mathbf{U}_{combined} = \\mathbf{U}_{tide} + \\mathbf{U}_{residual}$\n",
    "4. Write to new dfs2"
   ]
  },
  {
   "cell_type": "markdown",
   "id": "lEQa",
   "metadata": {},
   "source": [
    "### 1. Interpolate in time"
   ]
  },
  {
   "cell_type": "markdown",
   "id": "Xref",
   "metadata": {},
   "source": [
    "### 2. Combine\n",
    "\n",
    "**Note that the naming and order is inconsistent between the two data sources!**"
   ]
  },
  {
   "cell_type": "markdown",
   "id": "Kclp",
   "metadata": {},
   "source": [
    "### 3. Write to dfs2"
   ]
  },
  {
   "cell_type": "markdown",
   "id": "iLit",
   "metadata": {},
   "source": [
    "# Clean up"
   ]
  }
 ],
 "metadata": {},
 "nbformat": 4,
 "nbformat_minor": 5
}
