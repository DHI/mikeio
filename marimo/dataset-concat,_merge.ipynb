{
 "cells": [
  {
   "cell_type": "code",
   "execution_count": null,
   "id": "MJUe",
   "metadata": {},
   "outputs": [],
   "source": [
    "import matplotlib.pyplot as plt\n",
    "import mikeio"
   ]
  },
  {
   "cell_type": "code",
   "execution_count": null,
   "id": "bkHC",
   "metadata": {},
   "outputs": [
    {
     "data": {
      "text/html": [
       "<pre style='font-size: 12px'>&lt;mikeio.Dataset&gt;\n",
       "dims: (time:97, x:10)\n",
       "time: 2019-01-01 00:00:00 - 2019-01-03 00:00:00 (97 records)\n",
       "geometry: Grid1D (n=10, dx=0.06667)\n",
       "items:\n",
       "  0:  Level &lt;Water Level&gt; (meter)</pre>"
      ]
     },
     "metadata": {},
     "output_type": "display_data"
    }
   ],
   "source": [
    "ds1 = mikeio.read(\"../tests/testdata/tide1.dfs1\")\n",
    "ds1"
   ]
  },
  {
   "cell_type": "code",
   "execution_count": null,
   "id": "lEQa",
   "metadata": {},
   "outputs": [
    {
     "data": {
      "text/html": [
       "<pre style='font-size: 12px'>&lt;mikeio.Dataset&gt;\n",
       "dims: (time:97, x:10)\n",
       "time: 2019-01-02 00:00:00 - 2019-01-04 00:00:00 (97 records)\n",
       "geometry: Grid1D (n=10, dx=0.06667)\n",
       "items:\n",
       "  0:  Level &lt;Water Level&gt; (meter)</pre>"
      ]
     },
     "metadata": {},
     "output_type": "display_data"
    }
   ],
   "source": [
    "ds2 = mikeio.read(\"../tests/testdata/tide2.dfs1\") + 0.5  # add offset\n",
    "ds2"
   ]
  },
  {
   "cell_type": "code",
   "execution_count": null,
   "id": "Xref",
   "metadata": {},
   "outputs": [
    {
     "data": {
      "text/html": [
       "<pre style='font-size: 12px'>&lt;mikeio.Dataset&gt;\n",
       "dims: (time:145, x:10)\n",
       "time: 2019-01-01 00:00:00 - 2019-01-04 00:00:00 (145 records)\n",
       "geometry: Grid1D (n=10, dx=0.06667)\n",
       "items:\n",
       "  0:  Level &lt;Water Level&gt; (meter)</pre>"
      ]
     },
     "metadata": {},
     "output_type": "display_data"
    }
   ],
   "source": [
    "ds3 = mikeio.Dataset.concat([ds1, ds2])\n",
    "ds3"
   ]
  },
  {
   "cell_type": "code",
   "execution_count": null,
   "id": "SFPL",
   "metadata": {},
   "outputs": [],
   "source": [
    "plt.plot(ds1.time, ds1[0].to_numpy()[:,1], 'ro', label=\"Dataset 1\")\n",
    "plt.plot(ds2.time, ds2[0].to_numpy()[:,1], 'k+', label=\"Dataset 2\")\n",
    "plt.plot(ds3.time, ds3[0].to_numpy()[:,1], 'g-', label=\"Dataset 3\")\n",
    "plt.title(\"Notice the offset...\")\n",
    "plt.legend();"
   ]
  },
  {
   "cell_type": "code",
   "execution_count": null,
   "id": "RGSE",
   "metadata": {},
   "outputs": [
    {
     "data": {
      "text/html": [
       "<pre style='font-size: 12px'>&lt;mikeio.Dataset&gt;\n",
       "dims: (time:97, x:10)\n",
       "time: 2019-01-01 00:00:00 - 2019-01-03 00:00:00 (97 records)\n",
       "geometry: Grid1D (n=10, dx=0.06667)\n",
       "items:\n",
       "  0:  Level &lt;Water Level&gt; (meter)</pre>"
      ]
     },
     "metadata": {},
     "output_type": "display_data"
    }
   ],
   "source": [
    "dsA = mikeio.read(\"../tests/testdata/tide1.dfs1\")\n",
    "dsA"
   ]
  },
  {
   "cell_type": "code",
   "execution_count": null,
   "id": "Kclp",
   "metadata": {},
   "outputs": [
    {
     "data": {
      "text/html": [
       "<pre style='font-size: 12px'>&lt;mikeio.Dataset&gt;\n",
       "dims: (time:97, x:10)\n",
       "time: 2019-01-01 00:00:00 - 2019-01-03 00:00:00 (97 records)\n",
       "geometry: Grid1D (n=10, dx=0.06667)\n",
       "items:\n",
       "  0:  Other_level &lt;Water Level&gt; (meter)</pre>"
      ]
     },
     "metadata": {},
     "output_type": "display_data"
    }
   ],
   "source": [
    "dsB = dsA.copy()\n",
    "dsB = dsB.rename({\"Level\":\"Other_level\"})\n",
    "dsB = dsB + 2\n",
    "dsB"
   ]
  },
  {
   "cell_type": "code",
   "execution_count": null,
   "id": "Hstk",
   "metadata": {},
   "outputs": [
    {
     "data": {
      "text/html": [
       "<pre style='font-size: 12px'>&lt;mikeio.Dataset&gt;\n",
       "dims: (time:97, x:10)\n",
       "time: 2019-01-01 00:00:00 - 2019-01-03 00:00:00 (97 records)\n",
       "geometry: Grid1D (n=10, dx=0.06667)\n",
       "items:\n",
       "  0:  Level &lt;Water Level&gt; (meter)\n",
       "  1:  Other_level &lt;Water Level&gt; (meter)</pre>"
      ]
     },
     "metadata": {},
     "output_type": "display_data"
    }
   ],
   "source": [
    "dsC = mikeio.Dataset.merge([dsA, dsB])\n",
    "dsC"
   ]
  },
  {
   "cell_type": "code",
   "execution_count": null,
   "id": "iLit",
   "metadata": {},
   "outputs": [
    {
     "data": {
      "text/html": [
       "<pre style='font-size: 12px'>&lt;mikeio.DataArray&gt;\n",
       "name: Level\n",
       "dims: (time:97, x:10)\n",
       "time: 2019-01-01 00:00:00 - 2019-01-03 00:00:00 (97 records)\n",
       "geometry: Grid1D (n=10, dx=0.06667)\n",
       "</pre>"
      ]
     },
     "metadata": {},
     "output_type": "display_data"
    }
   ],
   "source": [
    "daA = dsA[0]\n",
    "daA"
   ]
  },
  {
   "cell_type": "code",
   "execution_count": null,
   "id": "ZHCJ",
   "metadata": {},
   "outputs": [
    {
     "data": {
      "text/html": [
       "<pre style='font-size: 12px'>&lt;mikeio.DataArray&gt;\n",
       "name: Other_level\n",
       "dims: (time:97, x:10)\n",
       "time: 2019-01-01 00:00:00 - 2019-01-03 00:00:00 (97 records)\n",
       "geometry: Grid1D (n=10, dx=0.06667)\n",
       "</pre>"
      ]
     },
     "metadata": {},
     "output_type": "display_data"
    }
   ],
   "source": [
    "daB = dsB[0]\n",
    "daB"
   ]
  },
  {
   "cell_type": "code",
   "execution_count": null,
   "id": "ROlb",
   "metadata": {},
   "outputs": [
    {
     "data": {
      "text/html": [
       "<pre style='font-size: 12px'>&lt;mikeio.Dataset&gt;\n",
       "dims: (time:97, x:10)\n",
       "time: 2019-01-01 00:00:00 - 2019-01-03 00:00:00 (97 records)\n",
       "geometry: Grid1D (n=10, dx=0.06667)\n",
       "items:\n",
       "  0:  Level &lt;Water Level&gt; (meter)\n",
       "  1:  Other_level &lt;Water Level&gt; (meter)</pre>"
      ]
     },
     "metadata": {},
     "output_type": "display_data"
    }
   ],
   "source": [
    "mikeio.Dataset([daA, daB])"
   ]
  },
  {
   "cell_type": "code",
   "execution_count": null,
   "id": "qnkX",
   "metadata": {},
   "outputs": [],
   "source": [
    "import marimo as mo"
   ]
  },
  {
   "cell_type": "markdown",
   "id": "Hbol",
   "metadata": {},
   "source": [
    "# Combining Datasets\n",
    "\n",
    "Datasets can be combined along the items and time axis"
   ]
  },
  {
   "cell_type": "markdown",
   "id": "vblA",
   "metadata": {},
   "source": [
    "## Concatenate Datasets (along the time axis)"
   ]
  },
  {
   "cell_type": "markdown",
   "id": "PKri",
   "metadata": {},
   "source": [
    "Concatenating data along the time axis can be done with `Dataset.concat`"
   ]
  },
  {
   "cell_type": "markdown",
   "id": "BYtC",
   "metadata": {},
   "source": [
    "## Merging datasets"
   ]
  },
  {
   "cell_type": "markdown",
   "id": "emfo",
   "metadata": {},
   "source": [
    "Merge datasets with different items can be done like this:"
   ]
  },
  {
   "cell_type": "markdown",
   "id": "nWHF",
   "metadata": {},
   "source": [
    "Which in this simple case with a single item in each dataset is equivalent to:"
   ]
  }
 ],
 "metadata": {},
 "nbformat": 4,
 "nbformat_minor": 5
}
