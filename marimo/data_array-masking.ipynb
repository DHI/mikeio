{
 "cells": [
  {
   "cell_type": "code",
   "execution_count": null,
   "id": "MJUe",
   "metadata": {},
   "outputs": [],
   "source": [
    "import numpy as np\n",
    "import matplotlib.pyplot as plt\n",
    "import mikeio"
   ]
  },
  {
   "cell_type": "code",
   "execution_count": null,
   "id": "bkHC",
   "metadata": {},
   "outputs": [
    {
     "data": {
      "text/html": [
       "<pre style='font-size: 12px'>&lt;mikeio.DataArray&gt;\n",
       "name: Surface elevation\n",
       "dims: (time:3, element:3612)\n",
       "time: 2018-03-07 00:00:00 - 2018-03-11 00:00:00 (3 records)\n",
       "geometry: Dfsu2D (3612 elements, 2046 nodes)\n",
       "</pre>"
      ]
     },
     "metadata": {},
     "output_type": "display_data"
    }
   ],
   "source": [
    "fn = \"../tests/testdata/oresundHD_run1.dfsu\"\n",
    "da = mikeio.read(fn, items=\"Surface elevation\", time=[0,2,4])[0]\n",
    "da"
   ]
  },
  {
   "cell_type": "code",
   "execution_count": null,
   "id": "lEQa",
   "metadata": {},
   "outputs": [],
   "source": [
    "_, _ax = plt.subplots(1, da.n_timesteps, figsize=(11, 5), sharey=True)\n",
    "for _step in range(da.n_timesteps):\n",
    "    da[_step].plot(ax=_ax[_step], vmin=0.08, vmax=0.35)"
   ]
  },
  {
   "cell_type": "code",
   "execution_count": null,
   "id": "Xref",
   "metadata": {},
   "outputs": [
    {
     "data": {
      "text/html": [
       "<pre style='font-size: 12px'>&lt;mikeio.DataArray&gt;\n",
       "name: Boolean\n",
       "dims: (time:3, element:3612)\n",
       "time: 2018-03-07 00:00:00 - 2018-03-11 00:00:00 (3 records)\n",
       "geometry: Dfsu2D (3612 elements, 2046 nodes)\n",
       "</pre>"
      ]
     },
     "metadata": {},
     "output_type": "display_data"
    }
   ],
   "source": [
    "threshold = 0.2\n",
    "mask = da<threshold\n",
    "mask"
   ]
  },
  {
   "cell_type": "code",
   "execution_count": null,
   "id": "BYtC",
   "metadata": {},
   "outputs": [
    {
     "data": {
      "text/html": [
       "<pre style='font-size: 12px'>&lt;mikeio.DataArray&gt;\n",
       "name: Surface elevation\n",
       "dims: (time:3, element:3612)\n",
       "time: 2018-03-07 00:00:00 - 2018-03-11 00:00:00 (3 records)\n",
       "geometry: Dfsu2D (3612 elements, 2046 nodes)\n",
       "</pre>"
      ]
     },
     "metadata": {},
     "output_type": "display_data"
    }
   ],
   "source": [
    "wl_capped = da.copy()\n",
    "wl_capped[mask] = np.nan\n",
    "wl_capped"
   ]
  },
  {
   "cell_type": "code",
   "execution_count": null,
   "id": "Kclp",
   "metadata": {},
   "outputs": [],
   "source": [
    "_, _ax = plt.subplots(2, da.n_timesteps, figsize=(11, 10), sharey=True)\n",
    "for _step in range(da.n_timesteps):\n",
    "    mask[_step].plot(ax=_ax[0, _step], cmap='Reds', add_colorbar=False)\n",
    "    wl_capped[_step].plot(ax=_ax[1, _step], vmin=0.08, vmax=0.35)"
   ]
  },
  {
   "cell_type": "code",
   "execution_count": null,
   "id": "Hstk",
   "metadata": {},
   "outputs": [
    {
     "data": {
      "application/json": "[3612]"
     },
     "metadata": {},
     "output_type": "display_data"
    }
   ],
   "source": [
    "ze = da.geometry.element_coordinates[:,2]\n",
    "ze.shape"
   ]
  },
  {
   "cell_type": "code",
   "execution_count": null,
   "id": "nWHF",
   "metadata": {},
   "outputs": [
    {
     "data": {
      "application/json": "[3, 3612]"
     },
     "metadata": {},
     "output_type": "display_data"
    }
   ],
   "source": [
    "wl_shallow = da.copy()\n",
    "wl_shallow[ze<-10] = np.nan  # select all elements with depth lower than -10m\n",
    "wl_shallow.shape"
   ]
  },
  {
   "cell_type": "code",
   "execution_count": null,
   "id": "iLit",
   "metadata": {},
   "outputs": [],
   "source": [
    "wl_shallow.plot();"
   ]
  },
  {
   "cell_type": "code",
   "execution_count": null,
   "id": "ZHCJ",
   "metadata": {},
   "outputs": [],
   "source": [
    "import marimo as mo"
   ]
  },
  {
   "cell_type": "markdown",
   "id": "Hbol",
   "metadata": {
    "marimo": {
     "config": {
      "hide_code": true
     }
    }
   },
   "source": [
    "# DataArray - Masking\n",
    "\n",
    "Similar to numpy arrays, DataArrays can be filtered based on values (e.g. all values above a threshold), which will return a DataArray with boolean values."
   ]
  },
  {
   "cell_type": "markdown",
   "id": "vblA",
   "metadata": {
    "marimo": {
     "config": {
      "hide_code": true
     }
    }
   },
   "source": [
    "## Surface elevation in Oresund\n",
    "\n",
    "Read 3 timesteps of Surface elevation from dfsu2d file."
   ]
  },
  {
   "cell_type": "markdown",
   "id": "PKri",
   "metadata": {
    "marimo": {
     "config": {
      "hide_code": true
     }
    }
   },
   "source": [
    "## Mask values below 0.2m\n",
    "\n",
    "Assume that we are not interested in values below 0.2m. Let us find those and call the DataArray mask."
   ]
  },
  {
   "cell_type": "markdown",
   "id": "SFPL",
   "metadata": {
    "marimo": {
     "config": {
      "hide_code": true
     }
    }
   },
   "source": [
    "Now let's set define a new DataArray wl_capped for which we set all values below the threshold to NaN."
   ]
  },
  {
   "cell_type": "markdown",
   "id": "RGSE",
   "metadata": {
    "marimo": {
     "config": {
      "hide_code": true
     }
    }
   },
   "source": [
    "Now let's plot both the boolean mask and the new capped DataArray for each of the three timesteps"
   ]
  },
  {
   "cell_type": "markdown",
   "id": "emfo",
   "metadata": {
    "marimo": {
     "config": {
      "hide_code": true
     }
    }
   },
   "source": [
    "## Boolean indexing with numpy array\n",
    "\n",
    "The boolean indexing can also be done with a plain numpy array (it does not need to be a mikeio.DataArray).\n",
    "\n",
    "In this example, we set all elements with depth lower than -10m to NaN."
   ]
  }
 ],
 "metadata": {},
 "nbformat": 4,
 "nbformat_minor": 5
}
