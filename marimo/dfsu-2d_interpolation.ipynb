{
 "cells": [
  {
   "cell_type": "code",
   "execution_count": null,
   "id": "MJUe",
   "metadata": {},
   "outputs": [],
   "source": [
    "import mikeio"
   ]
  },
  {
   "cell_type": "code",
   "execution_count": null,
   "id": "vblA",
   "metadata": {},
   "outputs": [
    {
     "data": {
      "text/html": [
       "<pre style='font-size: 12px'>&lt;mikeio.Dataset&gt;\n",
       "dims: (time:6, element:958)\n",
       "time: 2017-10-27 00:00:00 - 2017-10-27 05:00:00 (6 records)\n",
       "geometry: Dfsu2D (958 elements, 570 nodes)\n",
       "items:\n",
       "  0:  Wind speed &lt;Wind speed&gt; (meter per sec)</pre>"
      ]
     },
     "metadata": {},
     "output_type": "display_data"
    }
   ],
   "source": [
    "ds = mikeio.read(\"../tests/testdata/wind_north_sea.dfsu\", items=\"Wind speed\")\n",
    "ds"
   ]
  },
  {
   "cell_type": "code",
   "execution_count": null,
   "id": "bkHC",
   "metadata": {},
   "outputs": [],
   "source": [
    "da = ds.Wind_speed\n",
    "da.plot();"
   ]
  },
  {
   "cell_type": "code",
   "execution_count": null,
   "id": "PKri",
   "metadata": {},
   "outputs": [
    {
     "data": {
      "text/html": [
       "<pre style='font-size: 12px'>&lt;mikeio.Grid2D&gt;\n",
       "x: [-1.563, -1.463, ..., 8.837] (nx=105, dx=0.1)\n",
       "y: [49.9, 50, ..., 55.3] (ny=55, dy=0.1)\n",
       "projection: LONG/LAT</pre>"
      ]
     },
     "metadata": {},
     "output_type": "display_data"
    }
   ],
   "source": [
    "g = da.geometry.get_overset_grid(dx=0.1)\n",
    "g"
   ]
  },
  {
   "cell_type": "code",
   "execution_count": null,
   "id": "Xref",
   "metadata": {},
   "outputs": [
    {
     "data": {
      "text/html": [
       "<pre style='font-size: 12px'>&lt;mikeio.DataArray&gt;\n",
       "name: Wind speed\n",
       "dims: (time:6, y:55, x:105)\n",
       "time: 2017-10-27 00:00:00 - 2017-10-27 05:00:00 (6 records)\n",
       "geometry: Grid2D (ny=55, nx=105)\n",
       "</pre>"
      ]
     },
     "metadata": {},
     "output_type": "display_data"
    }
   ],
   "source": [
    "da_grid = da.interp_like(g)\n",
    "da_grid"
   ]
  },
  {
   "cell_type": "code",
   "execution_count": null,
   "id": "SFPL",
   "metadata": {},
   "outputs": [],
   "source": [
    "da_grid.plot();"
   ]
  },
  {
   "cell_type": "code",
   "execution_count": null,
   "id": "RGSE",
   "metadata": {},
   "outputs": [],
   "source": [
    "da_grid.to_dfs(\"wind_north_sea_interpolated.dfs2\")"
   ]
  },
  {
   "cell_type": "code",
   "execution_count": null,
   "id": "Hstk",
   "metadata": {},
   "outputs": [],
   "source": [
    "xr_da = da_grid.to_xarray()\n",
    "xr_da.to_netcdf(\"wind_north_sea_interpolated.nc\")"
   ]
  },
  {
   "cell_type": "code",
   "execution_count": null,
   "id": "ZHCJ",
   "metadata": {},
   "outputs": [],
   "source": [
    "import numpy as np\n",
    "import rasterio\n",
    "from rasterio.transform import from_origin\n",
    "# Dcoumentation https://rasterio.readthedocs.io/en/latest/index.html\n",
    "\n",
    "with rasterio.open(\n",
    "     fp='wind.tif',\n",
    "     mode='w',\n",
    "     driver='GTiff',\n",
    "     height=g.ny,\n",
    "     width=g.nx,\n",
    "     count=1,\n",
    "     dtype=da.dtype,\n",
    "     crs='+proj=latlong', # adjust accordingly for projected coordinate systems\n",
    "     transform=from_origin(g.bbox.left, g.bbox.top, g.dx, g.dy)\n",
    "     ) as dst:\n",
    "        dst.write(np.flipud(da_grid[0].to_numpy()), 1) # first time_step"
   ]
  },
  {
   "cell_type": "code",
   "execution_count": null,
   "id": "TqIu",
   "metadata": {},
   "outputs": [
    {
     "data": {
      "text/html": [
       "<pre style='font-size: 12px'>&lt;Mesh&gt;\n",
       "number of nodes: 1296\n",
       "number of elements: 2259\n",
       "projection: LONG/LAT</pre>"
      ]
     },
     "metadata": {},
     "output_type": "display_data"
    }
   ],
   "source": [
    "msh = mikeio.Mesh('../tests/testdata/north_sea_2.mesh')\n",
    "msh"
   ]
  },
  {
   "cell_type": "code",
   "execution_count": null,
   "id": "Vxnm",
   "metadata": {},
   "outputs": [
    {
     "data": {
      "text/html": [
       "<pre style='font-size: 12px'>&lt;mikeio.DataArray&gt;\n",
       "name: Wind speed\n",
       "dims: (time:6, element:2259)\n",
       "time: 2017-10-27 00:00:00 - 2017-10-27 05:00:00 (6 records)\n",
       "geometry: Dfsu2D (2259 elements, 1296 nodes)\n",
       "</pre>"
      ]
     },
     "metadata": {},
     "output_type": "display_data"
    }
   ],
   "source": [
    "dsi = da.interp_like(msh)\n",
    "dsi"
   ]
  },
  {
   "cell_type": "code",
   "execution_count": null,
   "id": "DnEU",
   "metadata": {},
   "outputs": [],
   "source": [
    "da[0].plot(figsize=(9,7), show_mesh=True);"
   ]
  },
  {
   "cell_type": "code",
   "execution_count": null,
   "id": "ulZA",
   "metadata": {},
   "outputs": [],
   "source": [
    "dsi[0].plot(figsize=(9,7), show_mesh=True);"
   ]
  },
  {
   "cell_type": "code",
   "execution_count": null,
   "id": "Pvdt",
   "metadata": {},
   "outputs": [
    {
     "data": {
      "text/html": [
       "<pre style='font-size: 12px'>array([ 249,  451, 1546])</pre>"
      ]
     },
     "metadata": {},
     "output_type": "display_data"
    }
   ],
   "source": [
    "nan_elements = np.where(np.isnan(dsi[0].to_numpy()))[0]\n",
    "nan_elements"
   ]
  },
  {
   "cell_type": "code",
   "execution_count": null,
   "id": "ZBYS",
   "metadata": {},
   "outputs": [
    {
     "data": {
      "text/html": [
       "<pre style='font-size: 12px'>array([False, False, False])</pre>"
      ]
     },
     "metadata": {},
     "output_type": "display_data"
    }
   ],
   "source": [
    "da.geometry.contains(msh.element_coordinates[nan_elements,:2])"
   ]
  },
  {
   "cell_type": "code",
   "execution_count": null,
   "id": "nHfw",
   "metadata": {},
   "outputs": [],
   "source": [
    "dat_interp = da.interp_like(msh, extrapolate=True)"
   ]
  },
  {
   "cell_type": "code",
   "execution_count": null,
   "id": "xXTn",
   "metadata": {},
   "outputs": [
    {
     "data": {
      "text/html": [
       "<pre style='font-size: 12px'>np.int64(0)</pre>"
      ]
     },
     "metadata": {},
     "output_type": "display_data"
    }
   ],
   "source": [
    "n_nan_elements = np.sum(np.isnan(dat_interp.values))\n",
    "n_nan_elements"
   ]
  },
  {
   "cell_type": "code",
   "execution_count": null,
   "id": "pHFh",
   "metadata": {},
   "outputs": [],
   "source": [
    "from mikeio.spatial._utils import dist_in_meters\n",
    "from mikeio._interpolation import get_idw_interpolant"
   ]
  },
  {
   "cell_type": "code",
   "execution_count": null,
   "id": "NCOB",
   "metadata": {},
   "outputs": [],
   "source": [
    "dfs = mikeio.open('../tests/testdata/wind_north_sea.dfsu')"
   ]
  },
  {
   "cell_type": "code",
   "execution_count": null,
   "id": "aqbW",
   "metadata": {},
   "outputs": [],
   "source": [
    "dfs.geometry.plot.mesh();"
   ]
  },
  {
   "cell_type": "code",
   "execution_count": null,
   "id": "TRpd",
   "metadata": {},
   "outputs": [
    {
     "data": {
      "text/html": [
       "<pre style='font-size: 12px'>array([[ 1. , 50. ,  1. ],\n",
       "       [ 4. , 52. ,  3. ],\n",
       "       [ 8. , 55. ,  2. ],\n",
       "       [-1. , 55. ,  1.5]])</pre>"
      ]
     },
     "metadata": {},
     "output_type": "display_data"
    }
   ],
   "source": [
    "# scatter data: x,y,value for 4 points\n",
    "scatter= np.array([[1,50,1], [4, 52, 3], [8, 55, 2], [-1, 55, 1.5]])\n",
    "scatter"
   ]
  },
  {
   "cell_type": "code",
   "execution_count": null,
   "id": "dNNg",
   "metadata": {},
   "outputs": [
    {
     "data": {
      "text/html": [
       "<pre style='font-size: 12px'>array([4.00139539, 3.18881018, 6.58769411, 2.69722991])</pre>"
      ]
     },
     "metadata": {},
     "output_type": "display_data"
    }
   ],
   "source": [
    "dist = dist_in_meters(scatter[:,:2], dfs.geometry.element_coordinates[0,:2])\n",
    "dist"
   ]
  },
  {
   "cell_type": "code",
   "execution_count": null,
   "id": "yCnT",
   "metadata": {},
   "outputs": [
    {
     "data": {
      "text/html": [
       "<pre style='font-size: 12px'>array([0.19438779, 0.30607974, 0.07171749, 0.42781498])</pre>"
      ]
     },
     "metadata": {},
     "output_type": "display_data"
    }
   ],
   "source": [
    "w = get_idw_interpolant(dist, p=2)\n",
    "w"
   ]
  },
  {
   "cell_type": "code",
   "execution_count": null,
   "id": "wlCL",
   "metadata": {},
   "outputs": [
    {
     "data": {
      "text/html": [
       "<pre style='font-size: 12px'>np.float64(1.8977844597276883)</pre>"
      ]
     },
     "metadata": {},
     "output_type": "display_data"
    }
   ],
   "source": [
    "np.dot(scatter[:,2], w) # interpolated value in element 0"
   ]
  },
  {
   "cell_type": "code",
   "execution_count": null,
   "id": "wAgl",
   "metadata": {},
   "outputs": [],
   "source": [
    "dati = np.zeros((1, dfs.geometry.n_elements))\n",
    "for j in range(dfs.geometry.n_elements):\n",
    "    dist_1 = dist_in_meters(scatter[:, :2], dfs.geometry.element_coordinates[j, :2])\n",
    "    w_1 = get_idw_interpolant(dist_1, p=2)\n",
    "    dati[0, j] = np.dot(scatter[:, 2], w_1)"
   ]
  },
  {
   "cell_type": "code",
   "execution_count": null,
   "id": "rEll",
   "metadata": {},
   "outputs": [
    {
     "data": {
      "text/html": [
       "<pre style='font-size: 12px'>&lt;mikeio.DataArray&gt;\n",
       "name: NoName\n",
       "dims: (time:1, element:958)\n",
       "time: 2017-10-27 00:00:00 (time-invariant)\n",
       "geometry: Dfsu2D (958 elements, 570 nodes)\n",
       "</pre>"
      ]
     },
     "metadata": {},
     "output_type": "display_data"
    }
   ],
   "source": [
    "da_1 = mikeio.DataArray(data=dati, geometry=dfs.geometry, time=dfs.start_time)\n",
    "da_1"
   ]
  },
  {
   "cell_type": "code",
   "execution_count": null,
   "id": "dGlV",
   "metadata": {},
   "outputs": [
    {
     "data": {
      "image/png": "[encoded data removed]"
     },
     "metadata": {},
     "output_type": "display_data"
    }
   ],
   "source": [
    "da_1.plot(title='Interpolated scatter data')"
   ]
  },
  {
   "cell_type": "code",
   "execution_count": null,
   "id": "SdmI",
   "metadata": {},
   "outputs": [],
   "source": [
    "da_1.to_dfs('interpolated_scatter.dfsu')"
   ]
  },
  {
   "cell_type": "code",
   "execution_count": null,
   "id": "yOPj",
   "metadata": {},
   "outputs": [],
   "source": [
    "import os\n",
    "\n",
    "os.remove(\"wind_north_sea_interpolated.dfs2\")\n",
    "os.remove(\"wind_north_sea_interpolated.nc\")\n",
    "os.remove(\"wind.tif\")\n",
    "os.remove(\"interpolated_scatter.dfsu\")"
   ]
  },
  {
   "cell_type": "code",
   "execution_count": null,
   "id": "fwwy",
   "metadata": {},
   "outputs": [],
   "source": [
    "import marimo as mo"
   ]
  },
  {
   "cell_type": "markdown",
   "id": "Hbol",
   "metadata": {},
   "source": [
    "# Dfsu - 2D interpolation\n",
    "This notebook demonstrates how to interpolate dfsu data to a grid, how to save the gridded data as dfs2 and geotiff. It also shows how to interpolate dfsu data to another mesh."
   ]
  },
  {
   "cell_type": "markdown",
   "id": "lEQa",
   "metadata": {},
   "source": [
    "## Interpolate to grid\n",
    "1. Get an overset grid covering the domain\n",
    "2. Then interpolate all data to the new grid and plot.\n",
    "4. The interpolated data is then saved to a dfs2 file."
   ]
  },
  {
   "cell_type": "markdown",
   "id": "BYtC",
   "metadata": {},
   "source": [
    "## Save to dfs2 file"
   ]
  },
  {
   "cell_type": "markdown",
   "id": "Kclp",
   "metadata": {},
   "source": [
    "![](../images/dfsu_grid_interp.png)"
   ]
  },
  {
   "cell_type": "markdown",
   "id": "emfo",
   "metadata": {},
   "source": [
    "## Save to NetCDF"
   ]
  },
  {
   "cell_type": "markdown",
   "id": "nWHF",
   "metadata": {},
   "source": [
    "![](../images/dfsu_grid_netcdf.png)"
   ]
  },
  {
   "cell_type": "markdown",
   "id": "iLit",
   "metadata": {},
   "source": [
    "## Save to GeoTiff\n",
    "\n",
    "Install [rasterio](https://rasterio.readthedocs.io/en/latest/index.html) by running this in a command prompt before running this notebook\n",
    "\n",
    "```\n",
    "$ conda install -c conda-forge rasterio\n",
    "```\n",
    "\n",
    "Or if you prefer to avoid conda, here is how:\n",
    "https://rasterio.readthedocs.io/en/latest/installation.html#windows"
   ]
  },
  {
   "cell_type": "markdown",
   "id": "ROlb",
   "metadata": {},
   "source": [
    "![](../images/dfsu_grid_interp_tiff.png)"
   ]
  },
  {
   "cell_type": "markdown",
   "id": "qnkX",
   "metadata": {},
   "source": [
    "# Interpolate to other mesh\n",
    "Interpolate the data from this coarse mesh onto a finer resolution mesh"
   ]
  },
  {
   "cell_type": "markdown",
   "id": "ecfG",
   "metadata": {},
   "source": [
    "### Note: 3 of the new elements are outside the original mesh and data are therefore NaN by default"
   ]
  },
  {
   "cell_type": "markdown",
   "id": "aLJB",
   "metadata": {},
   "source": [
    "### We can force extrapolation to avoid the NaN values"
   ]
  },
  {
   "cell_type": "markdown",
   "id": "AjVT",
   "metadata": {},
   "source": [
    "## Interpolate scatter data to mesh\n",
    "\n",
    "We want to interpolate scatter data onto an existing mesh and create a new dfsu with the interpolated data.\n",
    "\n",
    "**This uses lower level private utility methods not part of the public API**.\n",
    "\n",
    "Interpolating from scatter data will soon be possible in a simpler way."
   ]
  },
  {
   "cell_type": "markdown",
   "id": "TXez",
   "metadata": {},
   "source": [
    "Let's first try the approx for a single element:\n",
    "\n",
    "* calc distance to all interpolation points\n",
    "* calc IDW interpolatant weights\n",
    "* Interpolate"
   ]
  },
  {
   "cell_type": "markdown",
   "id": "kqZH",
   "metadata": {},
   "source": [
    "Let's do the same for all points in the mesh and plot in the end"
   ]
  },
  {
   "cell_type": "markdown",
   "id": "lgWD",
   "metadata": {},
   "source": [
    "## Clean up"
   ]
  }
 ],
 "metadata": {},
 "nbformat": 4,
 "nbformat_minor": 5
}
