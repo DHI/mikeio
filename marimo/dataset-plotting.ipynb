{
 "cells": [
  {
   "cell_type": "code",
   "execution_count": null,
   "id": "MJUe",
   "metadata": {},
   "outputs": [],
   "source": [
    "import mikeio"
   ]
  },
  {
   "cell_type": "code",
   "execution_count": null,
   "id": "vblA",
   "metadata": {},
   "outputs": [
    {
     "data": {
      "text/html": [
       "<pre style='font-size: 12px'>&lt;mikeio.Dataset&gt;\n",
       "dims: (time:6, element:958)\n",
       "time: 2017-10-27 00:00:00 - 2017-10-27 05:00:00 (6 records)\n",
       "geometry: Dfsu2D (958 elements, 570 nodes)\n",
       "items:\n",
       "  0:  Wind speed &lt;Wind speed&gt; (meter per sec)\n",
       "  1:  Wind direction &lt;Wind Direction&gt; (degree)</pre>"
      ]
     },
     "metadata": {},
     "output_type": "display_data"
    }
   ],
   "source": [
    "ds = mikeio.read(\"../tests/testdata/wind_north_sea.dfsu\")\n",
    "ds"
   ]
  },
  {
   "cell_type": "code",
   "execution_count": null,
   "id": "bkHC",
   "metadata": {},
   "outputs": [],
   "source": [
    "ds.plot.scatter(x=\"Wind speed\", y=\"Wind direction\");"
   ]
  },
  {
   "cell_type": "code",
   "execution_count": null,
   "id": "lEQa",
   "metadata": {},
   "outputs": [],
   "source": [
    "import marimo as mo"
   ]
  },
  {
   "cell_type": "markdown",
   "id": "Hbol",
   "metadata": {},
   "source": [
    "# Dataset - Plotting\n",
    "\n",
    "For most plotting purposes the DataArray rather than the Dataset are used (see other other notebooks on how-to).\n",
    "\n",
    "But for comparison of different items, the Dataset.plot method can be useful."
   ]
  }
 ],
 "metadata": {},
 "nbformat": 4,
 "nbformat_minor": 5
}
