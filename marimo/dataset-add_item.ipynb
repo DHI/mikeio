{
 "cells": [
  {
   "cell_type": "code",
   "execution_count": null,
   "id": "MJUe",
   "metadata": {},
   "outputs": [],
   "source": [
    "import numpy as np\n",
    "import mikeio"
   ]
  },
  {
   "cell_type": "code",
   "execution_count": null,
   "id": "vblA",
   "metadata": {},
   "outputs": [
    {
     "data": {
      "text/html": [
       "<pre style='font-size: 12px'>&lt;mikeio.Dataset&gt;\n",
       "dims: (time:67, element:958)\n",
       "time: 2017-10-27 00:00:00 - 2017-10-29 18:00:00 (67 records)\n",
       "geometry: Dfsu2D (958 elements, 570 nodes)\n",
       "items:\n",
       "  0:  Surface elevation &lt;Surface Elevation&gt; (meter)\n",
       "  1:  Wind speed &lt;Wind speed&gt; (meter per sec)</pre>"
      ]
     },
     "metadata": {},
     "output_type": "display_data"
    }
   ],
   "source": [
    "ds = mikeio.read(\"../tests/testdata/NorthSea_HD_and_windspeed.dfsu\")\n",
    "ds"
   ]
  },
  {
   "cell_type": "code",
   "execution_count": null,
   "id": "lEQa",
   "metadata": {},
   "outputs": [],
   "source": [
    "ws2 = ds.Wind_speed.copy()\n",
    "ws2.plot.hist();"
   ]
  },
  {
   "cell_type": "code",
   "execution_count": null,
   "id": "Xref",
   "metadata": {},
   "outputs": [],
   "source": [
    "ws2.values = np.clip(ws2.values, 1,18)\n",
    "ws2.plot.hist();"
   ]
  },
  {
   "cell_type": "code",
   "execution_count": null,
   "id": "BYtC",
   "metadata": {},
   "outputs": [],
   "source": [
    "ds[\"Wind speed 2\"] = ws2"
   ]
  },
  {
   "cell_type": "code",
   "execution_count": null,
   "id": "RGSE",
   "metadata": {},
   "outputs": [
    {
     "data": {
      "text/html": [
       "<pre style='font-size: 12px'>&lt;mikeio.Dataset&gt;\n",
       "dims: (time:67, element:958)\n",
       "time: 2017-10-27 00:00:00 - 2017-10-29 18:00:00 (67 records)\n",
       "geometry: Dfsu2D (958 elements, 570 nodes)\n",
       "items:\n",
       "  0:  Surface elevation &lt;Surface Elevation&gt; (meter)\n",
       "  1:  Wind speed &lt;Wind speed&gt; (meter per sec)\n",
       "  2:  Wind speed 2 &lt;Wind speed&gt; (meter per sec)</pre>"
      ]
     },
     "metadata": {},
     "output_type": "display_data"
    }
   ],
   "source": [
    "ds"
   ]
  },
  {
   "cell_type": "code",
   "execution_count": null,
   "id": "emfo",
   "metadata": {},
   "outputs": [
    {
     "data": {
      "text/html": [
       "<pre style='font-size: 12px'>&lt;mikeio.Dataset&gt;\n",
       "dims: (time:67, element:958)\n",
       "time: 2017-10-27 00:00:00 - 2017-10-29 18:00:00 (67 records)\n",
       "geometry: Dfsu2D (958 elements, 570 nodes)\n",
       "items:\n",
       "  0:  Wind speed 2 &lt;Wind speed&gt; (meter per sec)\n",
       "  1:  Surface elevation &lt;Surface Elevation&gt; (meter)\n",
       "  2:  Wind speed &lt;Wind speed&gt; (meter per sec)</pre>"
      ]
     },
     "metadata": {},
     "output_type": "display_data"
    }
   ],
   "source": [
    "ds2 = ds[[\"Wind speed 2\",\"Surface elevation\", \"Wind speed\"]]\n",
    "ds2"
   ]
  },
  {
   "cell_type": "code",
   "execution_count": null,
   "id": "Hstk",
   "metadata": {},
   "outputs": [],
   "source": [
    "ds2.to_dfs(\"modified.dfsu\")"
   ]
  },
  {
   "cell_type": "code",
   "execution_count": null,
   "id": "nWHF",
   "metadata": {},
   "outputs": [],
   "source": [
    "import marimo as mo"
   ]
  },
  {
   "cell_type": "markdown",
   "id": "Hbol",
   "metadata": {},
   "source": [
    "# Dataset - Add new item\n",
    "\n",
    "A common workflow is to create a new item based on existing items in a dataset.\n",
    "\n",
    "This can be in done in several ways. Let's try one of the options."
   ]
  },
  {
   "cell_type": "markdown",
   "id": "bkHC",
   "metadata": {},
   "source": [
    "1. Create a copy of the DataArray"
   ]
  },
  {
   "cell_type": "markdown",
   "id": "PKri",
   "metadata": {},
   "source": [
    "2. Make some modifications"
   ]
  },
  {
   "cell_type": "markdown",
   "id": "SFPL",
   "metadata": {},
   "source": [
    "3. Assign it to a new name in the dataset"
   ]
  },
  {
   "cell_type": "markdown",
   "id": "Kclp",
   "metadata": {},
   "source": [
    "4. Reorder items if necessary"
   ]
  }
 ],
 "metadata": {},
 "nbformat": 4,
 "nbformat_minor": 5
}
