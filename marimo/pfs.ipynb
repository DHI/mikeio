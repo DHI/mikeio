{
 "cells": [
  {
   "cell_type": "code",
   "execution_count": null,
   "id": "MJUe",
   "metadata": {},
   "outputs": [],
   "source": [
    "import mikeio"
   ]
  },
  {
   "cell_type": "code",
   "execution_count": null,
   "id": "bkHC",
   "metadata": {},
   "outputs": [],
   "source": [
    "pfs = mikeio.read_pfs(\"../tests/testdata/pfs/lake.sw\")"
   ]
  },
  {
   "cell_type": "code",
   "execution_count": null,
   "id": "PKri",
   "metadata": {},
   "outputs": [
    {
     "data": {
      "text/html": [
       "<pre style='font-size: 12px'>dict_keys([&#x27;DOMAIN&#x27;, &#x27;TIME&#x27;, &#x27;MODULE_SELECTION&#x27;, &#x27;SPECTRAL_WAVE_MODULE&#x27;])</pre>"
      ]
     },
     "metadata": {},
     "output_type": "display_data"
    }
   ],
   "source": [
    "pfs.FemEngineSW.keys()"
   ]
  },
  {
   "cell_type": "code",
   "execution_count": null,
   "id": "SFPL",
   "metadata": {},
   "outputs": [
    {
     "data": {
      "text/html": [
       "<pre style='font-size: 12px'>&#x27;|.\\\\Lake_Mesh.mesh|&#x27;</pre>"
      ]
     },
     "metadata": {},
     "output_type": "display_data"
    }
   ],
   "source": [
    "pfs.FemEngineSW.DOMAIN.file_name"
   ]
  },
  {
   "cell_type": "code",
   "execution_count": null,
   "id": "BYtC",
   "metadata": {},
   "outputs": [
    {
     "data": {
      "text/html": [
       "<pre style='font-size: 12px'>Touched = 0\n",
       "mode_of_hydrodynamic_module = 0\n",
       "hydrodynamic_features = 1\n",
       "fluid_property = 1\n",
       "mode_of_spectral_wave_module = 2\n",
       "mode_of_transport_module = 0\n",
       "mode_of_mud_transport_module = 0\n",
       "mode_of_eco_lab_module = 0\n",
       "mode_of_sand_transport_module = 0\n",
       "mode_of_particle_tracking_module = 0\n",
       "mode_of_oil_spill_module = 0\n",
       "mode_of_shoreline_module = 0</pre>"
      ]
     },
     "metadata": {},
     "output_type": "display_data"
    }
   ],
   "source": [
    "pfs.FemEngineSW.MODULE_SELECTION"
   ]
  },
  {
   "cell_type": "code",
   "execution_count": null,
   "id": "RGSE",
   "metadata": {},
   "outputs": [
    {
     "data": {
      "text/html": [
       "<pre style='font-size: 12px'>2</pre>"
      ]
     },
     "metadata": {},
     "output_type": "display_data"
    }
   ],
   "source": [
    "pfs.FemEngineSW.MODULE_SELECTION.mode_of_spectral_wave_module"
   ]
  },
  {
   "cell_type": "code",
   "execution_count": null,
   "id": "qnkX",
   "metadata": {},
   "outputs": [
    {
     "data": {
      "text/html": [
       "<pre style='font-size: 12px'>16</pre>"
      ]
     },
     "metadata": {},
     "output_type": "display_data"
    }
   ],
   "source": [
    "pfs.SW.SPECTRAL.number_of_directions"
   ]
  },
  {
   "cell_type": "code",
   "execution_count": null,
   "id": "TqIu",
   "metadata": {},
   "outputs": [
    {
     "data": {
      "text/html": [
       "<pre style='font-size: 12px'>0.5959088268863615</pre>"
      ]
     },
     "metadata": {},
     "output_type": "display_data"
    }
   ],
   "source": [
    "pfs.SW.SPECTRAL.maximum_threshold_frequency"
   ]
  },
  {
   "cell_type": "code",
   "execution_count": null,
   "id": "DnEU",
   "metadata": {},
   "outputs": [
    {
     "data": {
      "text/markdown": [
       "<div>\n",
       "<style scoped>\n",
       "    .dataframe tbody tr th:only-of-type {\n",
       "        vertical-align: middle;\n",
       "    }\n",
       "\n",
       "    .dataframe tbody tr th {\n",
       "        vertical-align: top;\n",
       "    }\n",
       "\n",
       "    .dataframe thead th {\n",
       "        text-align: right;\n",
       "    }\n",
       "</style>\n",
       "<table border=\"1\" class=\"dataframe\">\n",
       "  <thead>\n",
       "    <tr style=\"text-align: right;\">\n",
       "      <th></th>\n",
       "      <th>Touched</th>\n",
       "      <th>include</th>\n",
       "      <th>title</th>\n",
       "      <th>file_name</th>\n",
       "      <th>type</th>\n",
       "      <th>format</th>\n",
       "      <th>flood_and_dry</th>\n",
       "      <th>coordinate_type</th>\n",
       "      <th>zone</th>\n",
       "      <th>input_file_name</th>\n",
       "      <th>...</th>\n",
       "      <th>last_time_step</th>\n",
       "      <th>time_step_frequency</th>\n",
       "      <th>number_of_points</th>\n",
       "      <th>POINT_1</th>\n",
       "      <th>LINE</th>\n",
       "      <th>AREA</th>\n",
       "      <th>INTEGRAL_WAVE_PARAMETERS</th>\n",
       "      <th>INPUT_PARAMETERS</th>\n",
       "      <th>MODEL_PARAMETERS</th>\n",
       "      <th>SPECTRAL_PARAMETERS</th>\n",
       "    </tr>\n",
       "  </thead>\n",
       "  <tbody>\n",
       "    <tr>\n",
       "      <th>1</th>\n",
       "      <td>1</td>\n",
       "      <td>1</td>\n",
       "      <td>Wave parameters in domain</td>\n",
       "      <td>Wave_parameters.dfsu</td>\n",
       "      <td>1</td>\n",
       "      <td>2</td>\n",
       "      <td>2</td>\n",
       "      <td>UTM-32</td>\n",
       "      <td>0</td>\n",
       "      <td>||</td>\n",
       "      <td>...</td>\n",
       "      <td>450</td>\n",
       "      <td>10</td>\n",
       "      <td>1</td>\n",
       "      <td>{'name': 'POINT_1', 'x': 20000.0, 'y': 20000.0}</td>\n",
       "      <td>{'npoints': 3, 'x_first': 0.0, 'y_first': 0.0,...</td>\n",
       "      <td>{'number_of_points': 4, 'POINT_1': {'x': -400....</td>\n",
       "      <td>{'Touched': 1, 'type_of_spectrum': 1, 'minimum...</td>\n",
       "      <td>{'Touched': 1, 'Surface_elevation': 0, 'Water_...</td>\n",
       "      <td>{'Touched': 1, 'Wind_friction_speed': 0, 'Roug...</td>\n",
       "      <td>{'Touched': 1, 'separation_of_wind_sea_and_swe...</td>\n",
       "    </tr>\n",
       "    <tr>\n",
       "      <th>2</th>\n",
       "      <td>1</td>\n",
       "      <td>0</td>\n",
       "      <td>Wave parameters along line</td>\n",
       "      <td>Wave_line.dfs1</td>\n",
       "      <td>1</td>\n",
       "      <td>1</td>\n",
       "      <td>2</td>\n",
       "      <td>UTM-32</td>\n",
       "      <td>0</td>\n",
       "      <td>||</td>\n",
       "      <td>...</td>\n",
       "      <td>450</td>\n",
       "      <td>10</td>\n",
       "      <td>1</td>\n",
       "      <td>{'name': 'POINT_1', 'x': 20000.0, 'y': 20000.0}</td>\n",
       "      <td>{'npoints': 41, 'x_first': 0.0, 'y_first': 200...</td>\n",
       "      <td>{'number_of_points': 4, 'POINT_1': {'x': -400....</td>\n",
       "      <td>{'Touched': 1, 'type_of_spectrum': 1, 'minimum...</td>\n",
       "      <td>{'Touched': 1, 'Surface_elevation': 0, 'Water_...</td>\n",
       "      <td>{'Touched': 1, 'Wind_friction_speed': 0, 'Roug...</td>\n",
       "      <td>{'Touched': 1, 'separation_of_wind_sea_and_swe...</td>\n",
       "    </tr>\n",
       "    <tr>\n",
       "      <th>3</th>\n",
       "      <td>1</td>\n",
       "      <td>1</td>\n",
       "      <td>Wave parameters  in a point</td>\n",
       "      <td>Waves_x20km_y20km.dfs0</td>\n",
       "      <td>1</td>\n",
       "      <td>0</td>\n",
       "      <td>2</td>\n",
       "      <td>UTM-32</td>\n",
       "      <td>0</td>\n",
       "      <td>||</td>\n",
       "      <td>...</td>\n",
       "      <td>450</td>\n",
       "      <td>1</td>\n",
       "      <td>1</td>\n",
       "      <td>{'name': 'POINT_1', 'x': 38000.0, 'y': 20000.0}</td>\n",
       "      <td>{'npoints': 3, 'x_first': 0.0, 'y_first': 0.0,...</td>\n",
       "      <td>{'number_of_points': 4, 'POINT_1': {'x': -400....</td>\n",
       "      <td>{'Touched': 1, 'type_of_spectrum': 1, 'minimum...</td>\n",
       "      <td>{'Touched': 1, 'Surface_elevation': 0, 'Water_...</td>\n",
       "      <td>{'Touched': 1, 'Wind_friction_speed': 0, 'Roug...</td>\n",
       "      <td>{'Touched': 1, 'separation_of_wind_sea_and_swe...</td>\n",
       "    </tr>\n",
       "    <tr>\n",
       "      <th>4</th>\n",
       "      <td>1</td>\n",
       "      <td>1</td>\n",
       "      <td>Spectrum in a point</td>\n",
       "      <td>spectrum_x20km_y20km.dfsu</td>\n",
       "      <td>4</td>\n",
       "      <td>0</td>\n",
       "      <td>2</td>\n",
       "      <td>UTM-32</td>\n",
       "      <td>0</td>\n",
       "      <td>||</td>\n",
       "      <td>...</td>\n",
       "      <td>450</td>\n",
       "      <td>10</td>\n",
       "      <td>1</td>\n",
       "      <td>{'name': 'POINT_1', 'x': 38000.0, 'y': 20000.0}</td>\n",
       "      <td>{'npoints': 3, 'x_first': 0.0, 'y_first': 0.0,...</td>\n",
       "      <td>{'number_of_points': 4, 'POINT_1': {'x': -400....</td>\n",
       "      <td>{'Touched': 1, 'type_of_spectrum': 1, 'minimum...</td>\n",
       "      <td>{'Touched': 1, 'Surface_elevation': 0, 'Water_...</td>\n",
       "      <td>{'Touched': 1, 'Wind_friction_speed': 0, 'Roug...</td>\n",
       "      <td>{'Touched': 1, 'separation_of_wind_sea_and_swe...</td>\n",
       "    </tr>\n",
       "  </tbody>\n",
       "</table>\n",
       "<p>4 rows × 24 columns</p>\n",
       "</div>"
      ]
     },
     "metadata": {},
     "output_type": "display_data"
    }
   ],
   "source": [
    "df = pfs.SW.OUTPUTS.to_dataframe()\n",
    "df"
   ]
  },
  {
   "cell_type": "code",
   "execution_count": null,
   "id": "ecfG",
   "metadata": {},
   "outputs": [],
   "source": [
    "pfs.SW.SPECTRAL.number_of_directions = 32"
   ]
  },
  {
   "cell_type": "code",
   "execution_count": null,
   "id": "Pvdt",
   "metadata": {},
   "outputs": [
    {
     "data": {
      "text/html": [
       "<pre style='font-size: 12px'>Touched = 1\n",
       "type_of_frequency_discretization = 2\n",
       "number_of_frequencies = 25\n",
       "minimum_frequency = 0.055\n",
       "frequency_interval = 0.02\n",
       "frequency_factor = 1.1\n",
       "type_of_directional_discretization = 1\n",
       "number_of_directions = 32\n",
       "minimum_direction = 0.0\n",
       "maximum_direction = 0.0\n",
       "separation_of_wind_sea_and_swell = 0\n",
       "threshold_frequency = 0.125\n",
       "maximum_threshold_frequency = 0.5959088268863615</pre>"
      ]
     },
     "metadata": {},
     "output_type": "display_data"
    }
   ],
   "source": [
    "pfs.SW.SPECTRAL"
   ]
  },
  {
   "cell_type": "code",
   "execution_count": null,
   "id": "aLJB",
   "metadata": {},
   "outputs": [],
   "source": [
    "pfs.SW.SPECTRAL[\"new_keyword\"] = \"new_value\""
   ]
  },
  {
   "cell_type": "code",
   "execution_count": null,
   "id": "nHfw",
   "metadata": {},
   "outputs": [
    {
     "data": {
      "text/html": [
       "<pre style='font-size: 12px'>Touched = 1\n",
       "type_of_frequency_discretization = 2\n",
       "number_of_frequencies = 25\n",
       "minimum_frequency = 0.055\n",
       "frequency_interval = 0.02\n",
       "frequency_factor = 1.1\n",
       "type_of_directional_discretization = 1\n",
       "number_of_directions = 32\n",
       "minimum_direction = 0.0\n",
       "maximum_direction = 0.0\n",
       "separation_of_wind_sea_and_swell = 0\n",
       "threshold_frequency = 0.125\n",
       "maximum_threshold_frequency = 0.5959088268863615\n",
       "new_keyword = &#x27;new_value&#x27;</pre>"
      ]
     },
     "metadata": {},
     "output_type": "display_data"
    }
   ],
   "source": [
    "pfs.SW.SPECTRAL"
   ]
  },
  {
   "cell_type": "code",
   "execution_count": null,
   "id": "AjVT",
   "metadata": {},
   "outputs": [],
   "source": [
    "pfs.SW.OUTPUTS.number_of_outputs = pfs.SW.OUTPUTS.number_of_outputs + 1"
   ]
  },
  {
   "cell_type": "code",
   "execution_count": null,
   "id": "pHFh",
   "metadata": {},
   "outputs": [],
   "source": [
    "new_output = pfs.SW.OUTPUTS.OUTPUT_4.copy()"
   ]
  },
  {
   "cell_type": "code",
   "execution_count": null,
   "id": "NCOB",
   "metadata": {},
   "outputs": [],
   "source": [
    "new_output.file_name = 'spectrum_x10km_y40km.dfsu'\n",
    "new_output.POINT_1.x = 10000\n",
    "new_output.POINT_1.y = 40000"
   ]
  },
  {
   "cell_type": "code",
   "execution_count": null,
   "id": "aqbW",
   "metadata": {},
   "outputs": [],
   "source": [
    "pfs.SW.OUTPUTS[\"OUTPUT_5\"] = new_output"
   ]
  },
  {
   "cell_type": "code",
   "execution_count": null,
   "id": "TRpd",
   "metadata": {},
   "outputs": [
    {
     "data": {
      "text/html": [
       "<pre style='font-size: 12px'>dict_keys([&#x27;Touched&#x27;, &#x27;MzSEPfsListItemCount&#x27;, &#x27;number_of_outputs&#x27;, &#x27;OUTPUT_1&#x27;, &#x27;OUTPUT_2&#x27;, &#x27;OUTPUT_3&#x27;, &#x27;OUTPUT_4&#x27;, &#x27;OUTPUT_5&#x27;])</pre>"
      ]
     },
     "metadata": {},
     "output_type": "display_data"
    }
   ],
   "source": [
    "pfs.SW.OUTPUTS.keys()"
   ]
  },
  {
   "cell_type": "code",
   "execution_count": null,
   "id": "dNNg",
   "metadata": {},
   "outputs": [],
   "source": [
    "#pfs.write(\"lake_modified.pfs\")"
   ]
  },
  {
   "cell_type": "code",
   "execution_count": null,
   "id": "yCnT",
   "metadata": {},
   "outputs": [
    {
     "data": {
      "text/html": [
       "<pre style='font-size: 12px'>dict_keys([&#x27;FemEngineSW&#x27;, &#x27;SW&#x27;])</pre>"
      ]
     },
     "metadata": {},
     "output_type": "display_data"
    }
   ],
   "source": [
    "d = pfs.to_dict()\n",
    "d.keys()"
   ]
  },
  {
   "cell_type": "code",
   "execution_count": null,
   "id": "kqZH",
   "metadata": {},
   "outputs": [
    {
     "data": {
      "application/json": "{\"CLSID\": \"t1_t0.dll\", \"TypeName\": \"t1_t0\", \"Setup\": {\"Name\": \"Extract that\", \"InputFileName\": \"|random.dfs1|\", \"FirstTimeStep\": 0, \"LastTimeStep\": 99, \"X\": 2, \"OutputFileName\": \"|.\\\\out2.dfs0|\"}}"
     },
     "metadata": {},
     "output_type": "display_data"
    }
   ],
   "source": [
    "setup = {\n",
    "    \"Name\": \"Extract that\",\n",
    "    \"InputFileName\": \"|random.dfs1|\",\n",
    "    \"FirstTimeStep\": 0,\n",
    "    \"LastTimeStep\": 99,\n",
    "    \"X\": 2,\n",
    "    \"OutputFileName\": \"|.\\\\out2.dfs0|\",\n",
    "}\n",
    "t1_t0 = {\"CLSID\": \"t1_t0.dll\", \"TypeName\": \"t1_t0\", \"Setup\": setup}\n",
    "t1_t0"
   ]
  },
  {
   "cell_type": "code",
   "execution_count": null,
   "id": "wAgl",
   "metadata": {},
   "outputs": [
    {
     "data": {
      "text/html": [
       "<pre style='font-size: 12px'>[t1_t0]\n",
       "   CLSID = &#x27;t1_t0.dll&#x27;\n",
       "   TypeName = &#x27;t1_t0&#x27;\n",
       "   [Setup]\n",
       "      Name = &#x27;Extract that&#x27;\n",
       "      InputFileName = |random.dfs1|\n",
       "      FirstTimeStep = 0\n",
       "      LastTimeStep = 99\n",
       "      X = 2\n",
       "      OutputFileName = |.\\out2.dfs0|\n",
       "   EndSect  // Setup\n",
       "EndSect  // t1_t0</pre>"
      ]
     },
     "metadata": {},
     "output_type": "display_data"
    }
   ],
   "source": [
    "pfs_1 = mikeio.PfsDocument({'t1_t0': t1_t0})\n",
    "pfs_1"
   ]
  },
  {
   "cell_type": "code",
   "execution_count": null,
   "id": "rEll",
   "metadata": {},
   "outputs": [],
   "source": [
    "import marimo as mo"
   ]
  },
  {
   "cell_type": "markdown",
   "id": "Hbol",
   "metadata": {},
   "source": [
    "# PFS"
   ]
  },
  {
   "cell_type": "markdown",
   "id": "vblA",
   "metadata": {},
   "source": [
    "## Read"
   ]
  },
  {
   "cell_type": "markdown",
   "id": "lEQa",
   "metadata": {},
   "source": [
    "The \"target\" (root section) is in this case called FemEngineSW. `pfs.FemEngineSW` is a PfsSection object that contains other PfsSection objects. Let's print the names of it's subsections:"
   ]
  },
  {
   "cell_type": "markdown",
   "id": "Xref",
   "metadata": {},
   "source": [
    "It is possible to navigate to each section and keyword in the pfs file:"
   ]
  },
  {
   "cell_type": "code",
   "execution_count": null,
   "id": "emfo",
   "metadata": {},
   "outputs": [
    {
     "data": {
      "text/markdown": [
       "&lt;marimo-text data-initial-value=&#x27;&amp;quot;charnock&amp;quot;&#x27; data-label=&#x27;&amp;quot;&amp;lt;span class=&amp;#92;&amp;quot;markdown prose dark:prose-invert&amp;#92;&amp;quot;&amp;gt;&amp;lt;span class=&amp;#92;&amp;quot;paragraph&amp;#92;&amp;quot;&amp;gt;Search phrase&amp;lt;/span&amp;gt;&amp;lt;/span&amp;gt;&amp;quot;&#x27; data-placeholder=&#x27;&amp;quot;&amp;quot;&#x27; data-kind=&#x27;&amp;quot;text&amp;quot;&#x27; data-full-width=&#x27;false&#x27; data-disabled=&#x27;false&#x27; data-debounce=&#x27;true&#x27;&gt;&lt;/marimo-text&gt;"
      ]
     },
     "metadata": {},
     "output_type": "display_data"
    }
   ],
   "source": [
    "phrase = mo.ui.text(value=\"charnock\", label=\"Search phrase\")\n",
    "phrase"
   ]
  },
  {
   "cell_type": "code",
   "execution_count": null,
   "id": "Kclp",
   "metadata": {},
   "outputs": [
    {
     "data": {
      "text/markdown": [
       "mo.md(f\"If you are unsure the name of a section, it is also possible to search for a specific string in the file, to find the name of a specific section.\n",
       "\n",
       "In the example below we do an case-insensitive search for the string 'charnock'."
      ]
     },
     "metadata": {},
     "output_type": "display_data"
    }
   ],
   "source": [
    "mo.md(\n",
    "    f\"\"\"\n",
    "    mo.md(f\"If you are unsure the name of a section, it is also possible to search for a specific string in the file, to find the name of a specific section.\n",
    "\n",
    "    In the example below we do an case-insensitive search for the string '{phrase.value}'.\n",
    "    \"\"\"\n",
    ")"
   ]
  },
  {
   "cell_type": "code",
   "execution_count": null,
   "id": "Hstk",
   "metadata": {},
   "outputs": [
    {
     "data": {
      "text/html": [
       "<pre style='font-size: 12px'>[FemEngineSW]\n",
       "   [SPECTRAL_WAVE_MODULE]\n",
       "      [WIND]\n",
       "         background_Charnock_parameter = 0.01\n",
       "         Charnock_parameter = 0.01\n",
       "      EndSect  // WIND\n",
       "      [OUTPUTS]\n",
       "         [OUTPUT_1]\n",
       "            [MODEL_PARAMETERS]\n",
       "               Charnock_constant = 0\n",
       "            EndSect  // MODEL_PARAMETERS\n",
       "         EndSect  // OUTPUT_1\n",
       "         [OUTPUT_2]\n",
       "            [MODEL_PARAMETERS]\n",
       "               Charnock_constant = 0\n",
       "            EndSect  // MODEL_PARAMETERS\n",
       "         EndSect  // OUTPUT_2\n",
       "         [OUTPUT_3]\n",
       "            [MODEL_PARAMETERS]\n",
       "               Charnock_constant = 0\n",
       "            EndSect  // MODEL_PARAMETERS\n",
       "         EndSect  // OUTPUT_3\n",
       "         [OUTPUT_4]\n",
       "            [MODEL_PARAMETERS]\n",
       "               Charnock_constant = 0\n",
       "            EndSect  // MODEL_PARAMETERS\n",
       "         EndSect  // OUTPUT_4\n",
       "         [OUTPUT_5]\n",
       "            [MODEL_PARAMETERS]\n",
       "               Charnock_constant = 0\n",
       "            EndSect  // MODEL_PARAMETERS\n",
       "         EndSect  // OUTPUT_5\n",
       "      EndSect  // OUTPUTS\n",
       "   EndSect  // SPECTRAL_WAVE_MODULE\n",
       "EndSect  // FemEngineSW</pre>"
      ]
     },
     "metadata": {},
     "output_type": "display_data"
    }
   ],
   "source": [
    "pfs.search(phrase.value)"
   ]
  },
  {
   "cell_type": "markdown",
   "id": "nWHF",
   "metadata": {},
   "source": [
    "The same search can be done at any level of the hierarchy, i.e. to search only within the OUTPUTS section:"
   ]
  },
  {
   "cell_type": "code",
   "execution_count": null,
   "id": "iLit",
   "metadata": {},
   "outputs": [
    {
     "data": {
      "text/html": [
       "<pre style='font-size: 12px'>[OUTPUT_1]\n",
       "   [MODEL_PARAMETERS]\n",
       "      Charnock_constant = 0\n",
       "   EndSect  // MODEL_PARAMETERS\n",
       "EndSect  // OUTPUT_1\n",
       "[OUTPUT_2]\n",
       "   [MODEL_PARAMETERS]\n",
       "      Charnock_constant = 0\n",
       "   EndSect  // MODEL_PARAMETERS\n",
       "EndSect  // OUTPUT_2\n",
       "[OUTPUT_3]\n",
       "   [MODEL_PARAMETERS]\n",
       "      Charnock_constant = 0\n",
       "   EndSect  // MODEL_PARAMETERS\n",
       "EndSect  // OUTPUT_3\n",
       "[OUTPUT_4]\n",
       "   [MODEL_PARAMETERS]\n",
       "      Charnock_constant = 0\n",
       "   EndSect  // MODEL_PARAMETERS\n",
       "EndSect  // OUTPUT_4\n",
       "[OUTPUT_5]\n",
       "   [MODEL_PARAMETERS]\n",
       "      Charnock_constant = 0\n",
       "   EndSect  // MODEL_PARAMETERS\n",
       "EndSect  // OUTPUT_5</pre>"
      ]
     },
     "metadata": {},
     "output_type": "display_data"
    }
   ],
   "source": [
    "pfs.FemEngineSW.SPECTRAL_WAVE_MODULE.OUTPUTS.search(phrase.value)"
   ]
  },
  {
   "cell_type": "code",
   "execution_count": null,
   "id": "ZHCJ",
   "metadata": {},
   "outputs": [
    {
     "data": {
      "text/html": [
       "<pre style='font-size: 12px'>background_Charnock_parameter = 0.01\n",
       "Charnock_parameter = 0.01</pre>"
      ]
     },
     "metadata": {},
     "output_type": "display_data"
    }
   ],
   "source": [
    "pfs.FemEngineSW.SPECTRAL_WAVE_MODULE.WIND.search(phrase.value)"
   ]
  },
  {
   "cell_type": "markdown",
   "id": "ROlb",
   "metadata": {},
   "source": [
    "MIKE FM PFS files has a specific structure and active FM modules can be accessed by an alias on the Pfs object. In this case, `pfs.SW` can be used as a short-hand for `pfs.FemEngineSW.SPECTRAL_WAVE_MODULE`."
   ]
  },
  {
   "cell_type": "markdown",
   "id": "Vxnm",
   "metadata": {},
   "source": [
    "Enumerated sections (e.g. [OUTPUT_1], [OUTPUT_2], ...) can be outputted in tabular form (dataframe)."
   ]
  },
  {
   "cell_type": "markdown",
   "id": "ulZA",
   "metadata": {},
   "source": [
    "## Modify\n",
    "\n",
    "The PfsSection object can be modified. Existing values can be changes, new key-value pairs can be added, subsections can added or removed."
   ]
  },
  {
   "cell_type": "markdown",
   "id": "ZBYS",
   "metadata": {},
   "source": [
    "### Add a new keyword"
   ]
  },
  {
   "cell_type": "markdown",
   "id": "xXTn",
   "metadata": {},
   "source": [
    "### Add a section\n",
    "\n",
    "Let's create an additional output, by copying OUTPUT_4 and modifying some parameters."
   ]
  },
  {
   "cell_type": "markdown",
   "id": "TXez",
   "metadata": {},
   "source": [
    "## Output\n",
    "\n",
    "The Pfs object can be written to pfs file, but can also be exported to a dictionary (which in turn can be written to a yaml or json file)."
   ]
  },
  {
   "cell_type": "markdown",
   "id": "wlCL",
   "metadata": {},
   "source": [
    "## Create\n",
    "\n",
    "A PFS file can also be created from a dictionary, like this:"
   ]
  }
 ],
 "metadata": {},
 "nbformat": 4,
 "nbformat_minor": 5
}
