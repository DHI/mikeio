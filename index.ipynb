{
  "cells": [
    {
      "cell_type": "markdown",
      "metadata": {},
      "source": [
        "# \n",
        "\n",
        "![](attachment:MIKE-IO-Logo-Pos-RGB.svg)\n",
        "\n",
        "# MIKE IO: input/output of MIKE files in Python\n",
        "\n",
        "![Python version](https://img.shields.io/pypi/pyversions/mikeio.svg)\n",
        "[![PyPI\n",
        "version](https://badge.fury.io/py/mikeio.svg)](https://badge.fury.io/py/mikeio)\n",
        "\n",
        "##  **Set up in 5 minutes**\n",
        "\n",
        "Install **MIKE IO** with [`pip`](https://pypi.org/project/mikeio/) and\n",
        "get up and running in minutes\n",
        "\n",
        "[**Getting started**](user-guide/getting-started.qmd)\n",
        "\n",
        "##  **It’s just Python**\n",
        "\n",
        "Read, write and manipulate dfs0, dfs1, dfs2, dfs3, dfsu and mesh files.\n",
        "\n",
        "[**API Reference**](api/index.qmd)\n",
        "\n",
        "##  **Associated package**\n",
        "\n",
        "See our sister library **MIKE IO 1D** for .res1d and .xns11 files.\n",
        "\n",
        "[**MIKE IO 1D**](https://dhi.github.io/mikeio1d/)\n",
        "\n",
        "##  **Open Source**\n",
        "\n",
        "MIKE IO is licensed under BSD-3-Clause license and available on\n",
        "[GitHub](https://github.com/DHI/mikeio)\n",
        "\n",
        "[**License**](license.qmd)"
      ],
      "attachments": {
        "MIKE-IO-Logo-Pos-RGB.svg": {
          "image/svg+xml": "PD94bWwgdmVyc2lvbj0iMS4wIiBlbmNvZGluZz0idXRmLTgiPz4KPCEtLSBHZW5lcmF0b3I6IEFk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\nTGF5ZXJfMiI+CjwvZz4KPC9zdmc+Cg==\n"
        }
      },
      "id": "4179d2f1-3a1d-440a-8df2-ef23ef86b020"
    }
  ],
  "nbformat": 4,
  "nbformat_minor": 5,
  "metadata": {
    "kernelspec": {
      "display_name": "Python 3",
      "language": "python",
      "name": "python3"
    }
  }
}