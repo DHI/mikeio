{
  "cells": [
    {
      "cell_type": "markdown",
      "metadata": {},
      "source": [
        "# from_polars\n",
        "\n",
        "``` python\n",
        "from_polars(df, items=None, datetime_col=None)\n",
        "```\n",
        "\n",
        "Create a Dataset from a polars DataFrame.\n",
        "\n",
        "## Parameters\n",
        "\n",
        "| Name | Type | Description | Default |\n",
        "|------|------------------------|-------------------------------------|-----|\n",
        "| df | 'pl.DataFrame' | DataFrame | *required* |\n",
        "| items | Mapping\\[str, ItemInfo\\] \\| Sequence\\[ItemInfo\\] \\| ItemInfo \\| None | Mapping of item names to ItemInfo objects, or a sequence of ItemInfo objects, or a single ItemInfo object. | `None` |\n",
        "| datetime_col | str \\| None | Name of the column containing datetime information, default is to use the first datetime column found. | `None` |\n",
        "\n",
        "## Returns\n",
        "\n",
        "| Name | Type    | Description         |\n",
        "|------|---------|---------------------|\n",
        "|      | Dataset | time series dataset |\n",
        "\n",
        "## Examples"
      ],
      "id": "e2210e3f-95f3-493f-9ee0-4b6a23a5560f"
    },
    {
      "cell_type": "code",
      "execution_count": 1,
      "metadata": {},
      "outputs": [
        {
          "output_type": "display_data",
          "metadata": {},
          "data": {
            "text/plain": [
              "<mikeio.Dataset>\n",
              "dims: (time:2)\n",
              "time: 2021-01-01 00:00:00 - 2021-01-02 00:00:00 (2 records)\n",
              "geometry: GeometryUndefined()\n",
              "items:\n",
              "  0:  A <Water Level> (meter)\n",
              "  1:  B <Discharge> (meter pow 3 per sec)"
            ]
          }
        }
      ],
      "source": [
        "import polars as pl\n",
        "import mikeio\n",
        "from datetime import datetime\n",
        "\n",
        "df = pl.DataFrame(\n",
        "    {\n",
        "        \"time\": [datetime(2021, 1, 1), datetime(2021, 1, 2)],\n",
        "        \"A\": [1.0, 2.0],\n",
        "        \"B\": [4.0, 5.0],\n",
        "    }\n",
        ")\n",
        "\n",
        "ds = mikeio.from_polars(\n",
        "    df,\n",
        "    items={\n",
        "        \"A\": mikeio.ItemInfo(mikeio.EUMType.Water_Level),\n",
        "        \"B\": mikeio.ItemInfo(mikeio.EUMType.Discharge),\n",
        "    },\n",
        ")\n",
        "ds"
      ],
      "id": "f0358736"
    }
  ],
  "nbformat": 4,
  "nbformat_minor": 5,
  "metadata": {
    "kernelspec": {
      "name": "python3",
      "display_name": "Python 3 (ipykernel)",
      "language": "python",
      "path": "/opt/hostedtoolcache/Python/3.12.8/x64/share/jupyter/kernels/python3"
    },
    "language_info": {
      "name": "python",
      "codemirror_mode": {
        "name": "ipython",
        "version": "3"
      },
      "file_extension": ".py",
      "mimetype": "text/x-python",
      "nbconvert_exporter": "python",
      "pygments_lexer": "ipython3",
      "version": "3.12.8"
    }
  }
}