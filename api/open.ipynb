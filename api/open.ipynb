{
  "cells": [
    {
      "cell_type": "markdown",
      "metadata": {},
      "source": [
        "# \n",
        "\n",
        "# open\n",
        "\n",
        "``` python\n",
        "open(filename, **kwargs)\n",
        "```\n",
        "\n",
        "Open a dfs/mesh file (and read the header).\n",
        "\n",
        "The typical workflow for small dfs files is to read all data with\n",
        "*mikeio.read* instead of using this function. For big files, however, it\n",
        "can be convenient to open the file first with *dfs=mikeio.open(…)* to\n",
        "inspect it’s content (items, time and shape) and then decide what to\n",
        "read using dfs.read(…)\n",
        "\n",
        "## Parameters\n",
        "\n",
        "| Name | Type | Description | Default |\n",
        "|------|--------|----------------------------------------------------|-------|\n",
        "| filename | str \\| Path | full path and file name to the dfs file. | *required* |\n",
        "| type | str | Dfs2 only. Additional information about the file, e.g. “spectral” for spectral dfs2 files. By default: None. | *required* |\n",
        "| \\*\\*kwargs | Any | Additional keyword arguments, e.g. *type=“spectral”* | `{}` |\n",
        "\n",
        "## See also\n",
        "\n",
        "mikeio.read - read data from a dfs file\n",
        "\n",
        "## Examples\n",
        "\n",
        "``` python\n",
        ">>> dfs = mikeio.open(\"wl.dfs1\")\n",
        ">>> dfs = mikeio.open(\"HD2D.dfsu\")\n",
        ">>> ds = dfs.read(items=\"Salinity\", time=\"2016-01\")\n",
        "```\n",
        "\n",
        "``` python\n",
        ">>> dfs = mikeio.open(\"pt_spectra.dfs2\", type=\"spectral\")\n",
        "```"
      ],
      "id": "a55b35aa-bbe6-4185-8e7e-55656b3cb444"
    }
  ],
  "nbformat": 4,
  "nbformat_minor": 5,
  "metadata": {
    "kernelspec": {
      "display_name": "Python 3",
      "language": "python",
      "name": "python3"
    }
  }
}