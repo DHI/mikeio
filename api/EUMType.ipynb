{
  "cells": [
    {
      "cell_type": "markdown",
      "metadata": {},
      "source": [
        "# EUMType\n",
        "\n",
        "``` python\n",
        "EUMType(self, code)\n",
        "```\n",
        "\n",
        "EUM type.\n",
        "\n",
        "## Examples"
      ],
      "id": "3d570057-3ac1-424d-8cb5-99807a1a9102"
    },
    {
      "cell_type": "code",
      "execution_count": 1,
      "metadata": {},
      "outputs": [
        {
          "output_type": "display_data",
          "metadata": {},
          "data": {
            "text/plain": [
              "Temperature"
            ]
          }
        }
      ],
      "source": [
        "import mikeio\n",
        "mikeio.EUMType.Temperature"
      ],
      "id": "0908b9e7"
    },
    {
      "cell_type": "code",
      "execution_count": 2,
      "metadata": {},
      "outputs": [
        {
          "output_type": "display_data",
          "metadata": {},
          "data": {
            "text/plain": [
              "[degree Celsius, degree Fahrenheit, degree Kelvin]"
            ]
          }
        }
      ],
      "source": [
        "mikeio.EUMType.Temperature.units"
      ],
      "id": "7b94062d"
    },
    {
      "cell_type": "markdown",
      "metadata": {},
      "source": [
        "## Attributes\n",
        "\n",
        "| Name | Description |\n",
        "|------------------------------------|------------------------------------|\n",
        "| [display_name](#mikeio.EUMType.display_name) | Display friendly name. |\n",
        "| [units](#mikeio.EUMType.units) | List valid units for this EUM type. |"
      ],
      "id": "99ad8629-4f80-4223-80d4-46a946c0dc9c"
    }
  ],
  "nbformat": 4,
  "nbformat_minor": 5,
  "metadata": {
    "kernelspec": {
      "name": "python3",
      "display_name": "Python 3 (ipykernel)",
      "language": "python",
      "path": "/opt/hostedtoolcache/Python/3.12.7/x64/share/jupyter/kernels/python3"
    },
    "language_info": {
      "name": "python",
      "codemirror_mode": {
        "name": "ipython",
        "version": "3"
      },
      "file_extension": ".py",
      "mimetype": "text/x-python",
      "nbconvert_exporter": "python",
      "pygments_lexer": "ipython3",
      "version": "3.12.7"
    }
  }
}