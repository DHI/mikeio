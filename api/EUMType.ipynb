{
  "cells": [
    {
      "cell_type": "markdown",
      "metadata": {},
      "source": [
        "# EUMType\n",
        "\n",
        "``` python\n",
        "EUMType(self, code)\n",
        "```\n",
        "\n",
        "EUM type.\n",
        "\n",
        "## Examples"
      ],
      "id": "5892eb3f-696d-468f-b951-73e2dc90e0dd"
    },
    {
      "cell_type": "code",
      "execution_count": 1,
      "metadata": {},
      "outputs": [
        {
          "output_type": "display_data",
          "metadata": {},
          "data": {
            "text/plain": [
              "Temperature"
            ]
          }
        }
      ],
      "source": [
        "import mikeio\n",
        "mikeio.EUMType.Temperature"
      ],
      "id": "87e8a315"
    },
    {
      "cell_type": "code",
      "execution_count": 2,
      "metadata": {},
      "outputs": [
        {
          "output_type": "display_data",
          "metadata": {},
          "data": {
            "text/plain": [
              "[degree Celsius, degree Fahrenheit, degree Kelvin]"
            ]
          }
        }
      ],
      "source": [
        "mikeio.EUMType.Temperature.units"
      ],
      "id": "40ed6489"
    },
    {
      "cell_type": "markdown",
      "metadata": {},
      "source": [
        "## Attributes\n",
        "\n",
        "| Name | Description |\n",
        "|------------------------------------|------------------------------------|\n",
        "| [display_name](#mikeio.EUMType.display_name) | Display friendly name. |\n",
        "| [units](#mikeio.EUMType.units) | List valid units for this EUM type. |"
      ],
      "id": "bad10cbe-4971-4a72-aee1-f09275b62114"
    }
  ],
  "nbformat": 4,
  "nbformat_minor": 5,
  "metadata": {
    "kernelspec": {
      "name": "python3",
      "display_name": "Python 3 (ipykernel)",
      "language": "python",
      "path": "/opt/hostedtoolcache/Python/3.12.7/x64/share/jupyter/kernels/python3"
    },
    "language_info": {
      "name": "python",
      "codemirror_mode": {
        "name": "ipython",
        "version": "3"
      },
      "file_extension": ".py",
      "mimetype": "text/x-python",
      "nbconvert_exporter": "python",
      "pygments_lexer": "ipython3",
      "version": "3.12.7"
    }
  }
}