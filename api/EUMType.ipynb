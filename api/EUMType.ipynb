{
  "cells": [
    {
      "cell_type": "markdown",
      "metadata": {},
      "source": [
        "# EUMType\n",
        "\n",
        "``` python\n",
        "EUMType(self, code)\n",
        "```\n",
        "\n",
        "EUM type.\n",
        "\n",
        "## Examples"
      ],
      "id": "3b09bb5e-53c6-431c-ad32-dda8fe6d8642"
    },
    {
      "cell_type": "code",
      "execution_count": 1,
      "metadata": {},
      "outputs": [
        {
          "output_type": "display_data",
          "metadata": {},
          "data": {
            "text/plain": [
              "Temperature"
            ]
          }
        }
      ],
      "source": [
        "import mikeio\n",
        "mikeio.EUMType.Temperature"
      ],
      "id": "e0c7de5b"
    },
    {
      "cell_type": "code",
      "execution_count": 2,
      "metadata": {},
      "outputs": [
        {
          "output_type": "display_data",
          "metadata": {},
          "data": {
            "text/plain": [
              "[degree Celsius, degree Fahrenheit, degree Kelvin]"
            ]
          }
        }
      ],
      "source": [
        "mikeio.EUMType.Temperature.units"
      ],
      "id": "bb276c76"
    },
    {
      "cell_type": "markdown",
      "metadata": {},
      "source": [
        "## Attributes\n",
        "\n",
        "| Name | Description |\n",
        "|------------------------------------|------------------------------------|\n",
        "| [display_name](#mikeio.EUMType.display_name) | Display friendly name. |\n",
        "| [units](#mikeio.EUMType.units) | List valid units for this EUM type. |\n",
        "\n",
        "## Methods\n",
        "\n",
        "| Name                             | Description                       |\n",
        "|----------------------------------|-----------------------------------|\n",
        "| [search](#mikeio.EUMType.search) | Search EUM types by name pattern. |\n",
        "\n",
        "### search\n",
        "\n",
        "``` python\n",
        "EUMType.search(pattern)\n",
        "```\n",
        "\n",
        "Search EUM types by name pattern.\n",
        "\n",
        "#### Parameters\n",
        "\n",
        "| Name    | Type | Description                        | Default    |\n",
        "|---------|------|------------------------------------|------------|\n",
        "| pattern | str  | Search pattern (case insensitive). | *required* |\n",
        "\n",
        "#### Returns\n",
        "\n",
        "| Name | Type            | Description                 |\n",
        "|------|-----------------|-----------------------------|\n",
        "|      | list\\[EUMType\\] | List of matching EUM types. |"
      ],
      "id": "7578515a-9b94-4819-88a3-c62f81fe5fb6"
    }
  ],
  "nbformat": 4,
  "nbformat_minor": 5,
  "metadata": {
    "kernelspec": {
      "name": "python3",
      "display_name": "Python 3 (ipykernel)",
      "language": "python",
      "path": "/home/runner/work/mikeio/mikeio/.venv/share/jupyter/kernels/python3"
    },
    "language_info": {
      "name": "python",
      "codemirror_mode": {
        "name": "ipython",
        "version": "3"
      },
      "file_extension": ".py",
      "mimetype": "text/x-python",
      "nbconvert_exporter": "python",
      "pygments_lexer": "ipython3",
      "version": "3.12.3"
    }
  }
}