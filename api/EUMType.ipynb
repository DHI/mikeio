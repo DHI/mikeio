{
  "cells": [
    {
      "cell_type": "markdown",
      "metadata": {},
      "source": [
        "# EUMType\n",
        "\n",
        "``` python\n",
        "EUMType(self, code)\n",
        "```\n",
        "\n",
        "EUM type.\n",
        "\n",
        "## Examples"
      ],
      "id": "57fe46ca-a6e3-4398-ae8e-78872cbd7f87"
    },
    {
      "cell_type": "code",
      "execution_count": 1,
      "metadata": {},
      "outputs": [
        {
          "output_type": "display_data",
          "metadata": {},
          "data": {
            "text/plain": [
              "Temperature"
            ]
          }
        }
      ],
      "source": [
        "import mikeio\n",
        "mikeio.EUMType.Temperature"
      ],
      "id": "c5563d32"
    },
    {
      "cell_type": "code",
      "execution_count": 2,
      "metadata": {},
      "outputs": [
        {
          "output_type": "display_data",
          "metadata": {},
          "data": {
            "text/plain": [
              "[degree Celsius, degree Fahrenheit, degree Kelvin]"
            ]
          }
        }
      ],
      "source": [
        "mikeio.EUMType.Temperature.units"
      ],
      "id": "c7195d97"
    },
    {
      "cell_type": "markdown",
      "metadata": {},
      "source": [
        "## Attributes\n",
        "\n",
        "| Name | Description |\n",
        "|------------------------------------|------------------------------------|\n",
        "| [display_name](#mikeio.EUMType.display_name) | Display friendly name. |\n",
        "| [units](#mikeio.EUMType.units) | List valid units for this EUM type. |"
      ],
      "id": "534389e6-19fa-4b6d-80a9-8368cd4700fe"
    }
  ],
  "nbformat": 4,
  "nbformat_minor": 5,
  "metadata": {
    "kernelspec": {
      "name": "python3",
      "display_name": "Python 3 (ipykernel)",
      "language": "python",
      "path": "/opt/hostedtoolcache/Python/3.12.10/x64/share/jupyter/kernels/python3"
    },
    "language_info": {
      "name": "python",
      "codemirror_mode": {
        "name": "ipython",
        "version": "3"
      },
      "file_extension": ".py",
      "mimetype": "text/x-python",
      "nbconvert_exporter": "python",
      "pygments_lexer": "ipython3",
      "version": "3.12.10"
    }
  }
}