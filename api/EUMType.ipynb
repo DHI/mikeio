{
  "cells": [
    {
      "cell_type": "markdown",
      "metadata": {},
      "source": [
        "# EUMType\n",
        "\n",
        "``` python\n",
        "EUMType(self, code)\n",
        "```\n",
        "\n",
        "EUM type.\n",
        "\n",
        "## Examples"
      ],
      "id": "dddebec0-f542-4f1e-bb55-d5ea7ff34544"
    },
    {
      "cell_type": "code",
      "execution_count": 1,
      "metadata": {},
      "outputs": [
        {
          "output_type": "display_data",
          "metadata": {},
          "data": {
            "text/plain": [
              "Temperature"
            ]
          }
        }
      ],
      "source": [
        "import mikeio\n",
        "mikeio.EUMType.Temperature"
      ],
      "id": "f834cc79"
    },
    {
      "cell_type": "code",
      "execution_count": 2,
      "metadata": {},
      "outputs": [
        {
          "output_type": "display_data",
          "metadata": {},
          "data": {
            "text/plain": [
              "[degree Celsius, degree Fahrenheit, degree Kelvin]"
            ]
          }
        }
      ],
      "source": [
        "mikeio.EUMType.Temperature.units"
      ],
      "id": "019eeacc"
    },
    {
      "cell_type": "markdown",
      "metadata": {},
      "source": [
        "## Attributes\n",
        "\n",
        "| Name | Description |\n",
        "|------------------------------------|------------------------------------|\n",
        "| [display_name](#mikeio.EUMType.display_name) | Display friendly name. |\n",
        "| [units](#mikeio.EUMType.units) | List valid units for this EUM type. |"
      ],
      "id": "46d8c85d-df05-4220-a7e7-3223cbbe9b4c"
    }
  ],
  "nbformat": 4,
  "nbformat_minor": 5,
  "metadata": {
    "kernelspec": {
      "name": "python3",
      "display_name": "Python 3 (ipykernel)",
      "language": "python",
      "path": "/opt/hostedtoolcache/Python/3.12.9/x64/share/jupyter/kernels/python3"
    },
    "language_info": {
      "name": "python",
      "codemirror_mode": {
        "name": "ipython",
        "version": "3"
      },
      "file_extension": ".py",
      "mimetype": "text/x-python",
      "nbconvert_exporter": "python",
      "pygments_lexer": "ipython3",
      "version": "3.12.9"
    }
  }
}