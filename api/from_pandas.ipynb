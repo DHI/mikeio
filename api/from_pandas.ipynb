{
  "cells": [
    {
      "cell_type": "markdown",
      "metadata": {},
      "source": [
        "# from_pandas\n",
        "\n",
        "``` python\n",
        "from_pandas(df, items=None)\n",
        "```\n",
        "\n",
        "Create a Dataset from a pandas DataFrame.\n",
        "\n",
        "## Parameters\n",
        "\n",
        "| Name | Type | Description | Default |\n",
        "|----|-------------------------|--------------------------------------|------|\n",
        "| df | pd.DataFrame | DataFrame with time index | *required* |\n",
        "| items | Mapping\\[str, ItemInfo\\] \\| Sequence\\[ItemInfo\\] \\| ItemInfo \\| None | Mapping of item names to ItemInfo objects, or a sequence of ItemInfo objects, or a single ItemInfo object. | `None` |\n",
        "\n",
        "## Returns\n",
        "\n",
        "| Name | Type    | Description         |\n",
        "|------|---------|---------------------|\n",
        "|      | Dataset | time series dataset |\n",
        "\n",
        "## Examples"
      ],
      "id": "fc2b6cbd-063b-4d59-b114-69f795f18a69"
    },
    {
      "cell_type": "code",
      "execution_count": 1,
      "metadata": {},
      "outputs": [
        {
          "output_type": "display_data",
          "metadata": {},
          "data": {
            "text/plain": [
              "<mikeio.Dataset>\n",
              "dims: (time:3)\n",
              "time: 2021-01-01 00:00:00 - 2021-01-03 00:00:00 (3 records)\n",
              "geometry: GeometryUndefined()\n",
              "items:\n",
              "  0:  A <Water Level> (meter)\n",
              "  1:  B <Discharge> (meter pow 3 per sec)"
            ]
          }
        }
      ],
      "source": [
        "import pandas as pd\n",
        "import mikeio\n",
        "\n",
        "df = pd.DataFrame(\n",
        "    {\n",
        "        \"A\": [1, 2, 3],\n",
        "        \"B\": [4, 5, 6],\n",
        "    },\n",
        "    index=pd.date_range(\"20210101\", periods=3, freq=\"D\"),\n",
        ")\n",
        "ds = mikeio.from_pandas(df, items={\"A\": mikeio.ItemInfo(mikeio.EUMType.Water_Level),\n",
        "                                   \"B\": mikeio.ItemInfo(mikeio.EUMType.Discharge)})\n",
        "ds"
      ],
      "id": "56fc2b55"
    }
  ],
  "nbformat": 4,
  "nbformat_minor": 5,
  "metadata": {
    "kernelspec": {
      "name": "python3",
      "display_name": "Python 3 (ipykernel)",
      "language": "python",
      "path": "/opt/hostedtoolcache/Python/3.12.7/x64/share/jupyter/kernels/python3"
    },
    "language_info": {
      "name": "python",
      "codemirror_mode": {
        "name": "ipython",
        "version": "3"
      },
      "file_extension": ".py",
      "mimetype": "text/x-python",
      "nbconvert_exporter": "python",
      "pygments_lexer": "ipython3",
      "version": "3.12.7"
    }
  }
}