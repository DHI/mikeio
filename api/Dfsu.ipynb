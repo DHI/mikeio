{
  "cells": [
    {
      "cell_type": "markdown",
      "metadata": {},
      "source": [
        "# \n",
        "\n",
        "# Dfsu\n",
        "\n",
        "``` python\n",
        "Dfsu()\n",
        "```\n",
        "\n",
        "Factory class for dfsu files."
      ],
      "id": "c459e44d-d9e6-4a7c-8e5f-28b60e3c7fb6"
    }
  ],
  "nbformat": 4,
  "nbformat_minor": 5,
  "metadata": {
    "kernelspec": {
      "display_name": "Python 3",
      "language": "python",
      "name": "python3"
    }
  }
}