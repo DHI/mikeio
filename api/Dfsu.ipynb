{
  "cells": [
    {
      "cell_type": "markdown",
      "metadata": {},
      "source": [
        "# \n",
        "\n",
        "# Dfsu\n",
        "\n",
        "``` python\n",
        "Dfsu()\n",
        "```\n",
        "\n",
        "Factory class for dfsu files."
      ],
      "id": "b54f0324-1262-4337-8244-b6e51193fe91"
    }
  ],
  "nbformat": 4,
  "nbformat_minor": 5,
  "metadata": {
    "kernelspec": {
      "display_name": "Python 3",
      "language": "python",
      "name": "python3"
    }
  }
}