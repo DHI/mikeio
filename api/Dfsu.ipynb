{
  "cells": [
    {
      "cell_type": "markdown",
      "metadata": {},
      "source": [
        "# \n",
        "\n",
        "# Dfsu\n",
        "\n",
        "``` python\n",
        "Dfsu()\n",
        "```"
      ],
      "id": "42f1882e-5707-4098-95ce-f7856f87619d"
    }
  ],
  "nbformat": 4,
  "nbformat_minor": 5,
  "metadata": {
    "kernelspec": {
      "display_name": "Python 3",
      "language": "python",
      "name": "python3"
    }
  }
}