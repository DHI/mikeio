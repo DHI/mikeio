{
  "cells": [
    {
      "cell_type": "markdown",
      "metadata": {},
      "source": [
        "# \n",
        "\n",
        "# Dfsu\n",
        "\n",
        "``` python\n",
        "Dfsu()\n",
        "```"
      ],
      "id": "dfb301df-1b68-484b-95c5-0c2b6e18a269"
    }
  ],
  "nbformat": 4,
  "nbformat_minor": 5,
  "metadata": {
    "kernelspec": {
      "display_name": "Python 3",
      "language": "python",
      "name": "python3"
    }
  }
}