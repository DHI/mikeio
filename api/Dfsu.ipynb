{
  "cells": [
    {
      "cell_type": "markdown",
      "metadata": {},
      "source": [
        "# \n",
        "\n",
        "# Dfsu\n",
        "\n",
        "``` python\n",
        "Dfsu()\n",
        "```"
      ],
      "id": "8dee8fac-fe23-4e47-935c-d924234d586e"
    }
  ],
  "nbformat": 4,
  "nbformat_minor": 5,
  "metadata": {
    "kernelspec": {
      "display_name": "Python 3",
      "language": "python",
      "name": "python3"
    }
  }
}