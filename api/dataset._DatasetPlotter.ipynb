{
  "cells": [
    {
      "cell_type": "markdown",
      "metadata": {},
      "source": [
        "# \n",
        "\n",
        "# dataset.\\_DatasetPlotter\n",
        "\n",
        "``` python\n",
        "dataset._DatasetPlotter(self, ds)\n",
        "```\n",
        "\n",
        "Class for plotting scatter plots from datasets.\n",
        "\n",
        "## Methods\n",
        "\n",
        "| Name | Description |\n",
        "|------------------------------------|------------------------------------|\n",
        "| [scatter](#mikeio.dataset._DatasetPlotter.scatter) | Plot data from two DataArrays against each other in a scatter plot. |\n",
        "\n",
        "### scatter\n",
        "\n",
        "``` python\n",
        "dataset._DatasetPlotter.scatter(x, y, ax=None, figsize=None, **kwargs)\n",
        "```\n",
        "\n",
        "Plot data from two DataArrays against each other in a scatter plot.\n",
        "\n",
        "#### Parameters\n",
        "\n",
        "| Name | Type | Description | Default |\n",
        "|--------|---------------------|-----------------------------------|---------|\n",
        "| x | str or int | Identifier for first DataArray | *required* |\n",
        "| y | str or int | Identifier for second DataArray | *required* |\n",
        "| ax | Axes \\| None | Adding to existing axis, instead of creating new fig | `None` |\n",
        "| figsize | tuple\\[float, float\\] \\| None | specify size of figure | `None` |\n",
        "| title |  | axes title | *required* |\n",
        "| \\*\\*kwargs | Any | additional kwargs will be passed to ax.scatter() | `{}` |\n",
        "\n",
        "#### Returns\n",
        "\n",
        "| Name | Type                | Description |\n",
        "|------|---------------------|-------------|\n",
        "|      | \\<matplotlib.axes\\> |             |\n",
        "\n",
        "#### Examples\n",
        "\n",
        "``` python\n",
        ">>> ds = mikeio.read(\"oresund_sigma_z.dfsu\")\n",
        ">>> ds.plot.scatter(x=\"Salinity\", y=\"Temperature\", title=\"S-vs-T\")\n",
        ">>> ds.plot.scatter(x=0, y=1, figsize=(9,9), marker='*')\n",
        "```"
      ],
      "id": "59037053-6f60-4d4a-bb46-0308f23ffd5a"
    }
  ],
  "nbformat": 4,
  "nbformat_minor": 5,
  "metadata": {
    "kernelspec": {
      "display_name": "Python 3",
      "language": "python",
      "name": "python3"
    }
  }
}