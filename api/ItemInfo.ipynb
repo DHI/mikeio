{
  "cells": [
    {
      "cell_type": "markdown",
      "metadata": {},
      "source": [
        "# ItemInfo\n",
        "\n",
        "``` python\n",
        "ItemInfo(\n",
        "    self,\n",
        "    name=None,\n",
        "    itemtype=None,\n",
        "    unit=None,\n",
        "    data_value_type='Instantaneous',\n",
        ")\n",
        "```\n",
        "\n",
        "ItemInfo.\n",
        "\n",
        "## Parameters\n",
        "\n",
        "| Name | Type | Description | Default |\n",
        "|------|------------------------|-------------------------------------|------|\n",
        "| name | str \\| EUMType \\| None |  | `None` |\n",
        "| type |  | Default EUMType.Undefined | *required* |\n",
        "| unit | EUMUnit \\| None | Default unit matching EUMType | `None` |\n",
        "| data_value_type | Literal\\['Instantaneous', 'Accumulated', 'StepAccumulated', 'MeanStepBackward'\\] | One of the following strings: ‘Instantaneous’, ‘Accumulated’, ‘StepAccumulated’, ‘MeanStepBackward’, ‘MeanStepForward’. Default: ‘Instantaneous’ | `'Instantaneous'` |\n",
        "\n",
        "## Examples"
      ],
      "id": "94c815c6-d82d-4163-aac8-bccb8cc7705d"
    },
    {
      "cell_type": "code",
      "execution_count": 1,
      "metadata": {},
      "outputs": [
        {
          "output_type": "display_data",
          "metadata": {},
          "data": {
            "text/plain": [
              "Viken <Water Level> (meter)"
            ]
          }
        }
      ],
      "source": [
        "import mikeio\n",
        "mikeio.ItemInfo(\"Viken\", mikeio.EUMType.Water_Level)"
      ],
      "id": "b42d6aa1"
    },
    {
      "cell_type": "code",
      "execution_count": 2,
      "metadata": {},
      "outputs": [
        {
          "output_type": "display_data",
          "metadata": {},
          "data": {
            "text/plain": [
              "Wind speed <Wind speed> (meter per sec)"
            ]
          }
        }
      ],
      "source": [
        "mikeio.ItemInfo(mikeio.EUMType.Wind_speed)"
      ],
      "id": "a054a8da"
    },
    {
      "cell_type": "markdown",
      "metadata": {},
      "source": [
        "## Methods\n",
        "\n",
        "| Name | Description |\n",
        "|------------------------------------|------------------------------------|\n",
        "| [from_mikecore_dynamic_item_info](#mikeio.ItemInfo.from_mikecore_dynamic_item_info) | Create ItemInfo from a mikecore.DfsDynamicItemInfo object. |\n",
        "\n",
        "### from_mikecore_dynamic_item_info\n",
        "\n",
        "``` python\n",
        "ItemInfo.from_mikecore_dynamic_item_info(dfsItemInfo)\n",
        "```\n",
        "\n",
        "Create ItemInfo from a mikecore.DfsDynamicItemInfo object."
      ],
      "id": "2013f488-dbab-44ca-aac6-d069d2742053"
    }
  ],
  "nbformat": 4,
  "nbformat_minor": 5,
  "metadata": {
    "kernelspec": {
      "name": "python3",
      "display_name": "Python 3 (ipykernel)",
      "language": "python",
      "path": "/opt/hostedtoolcache/Python/3.12.7/x64/share/jupyter/kernels/python3"
    },
    "language_info": {
      "name": "python",
      "codemirror_mode": {
        "name": "ipython",
        "version": "3"
      },
      "file_extension": ".py",
      "mimetype": "text/x-python",
      "nbconvert_exporter": "python",
      "pygments_lexer": "ipython3",
      "version": "3.12.7"
    }
  }
}