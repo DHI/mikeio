{
  "cells": [
    {
      "cell_type": "markdown",
      "metadata": {},
      "source": [
        "# ItemInfo\n",
        "\n",
        "``` python\n",
        "ItemInfo(\n",
        "    self,\n",
        "    name=None,\n",
        "    itemtype=None,\n",
        "    unit=None,\n",
        "    data_value_type='Instantaneous',\n",
        ")\n",
        "```\n",
        "\n",
        "Info for dynamicc items (variables).\n",
        "\n",
        "## Parameters\n",
        "\n",
        "| Name | Type | Description | Default |\n",
        "|------|------------------------|-------------------------------------|------|\n",
        "| name | str \\| EUMType \\| None | User defined name | `None` |\n",
        "| itemtype | EUMType \\| EUMUnit \\| None | Default EUMType.Undefined | `None` |\n",
        "| unit | EUMUnit \\| None | Default unit matching EUMType | `None` |\n",
        "| data_value_type | Literal\\['Instantaneous', 'Accumulated', 'StepAccumulated', 'MeanStepBackward'\\] | One of the following strings: ‘Instantaneous’, ‘Accumulated’, ‘StepAccumulated’, ‘MeanStepBackward’, ‘MeanStepForward’. Default: ‘Instantaneous’ | `'Instantaneous'` |\n",
        "\n",
        "## Examples"
      ],
      "id": "4bd00720-5c05-497f-8c74-a037b8275a90"
    },
    {
      "cell_type": "code",
      "execution_count": 1,
      "metadata": {},
      "outputs": [
        {
          "output_type": "display_data",
          "metadata": {},
          "data": {
            "text/plain": [
              "Viken <Water Level> (meter)"
            ]
          }
        }
      ],
      "source": [
        "import mikeio\n",
        "mikeio.ItemInfo(\"Viken\", mikeio.EUMType.Water_Level)"
      ],
      "id": "b90fb87f"
    },
    {
      "cell_type": "code",
      "execution_count": 2,
      "metadata": {},
      "outputs": [
        {
          "output_type": "display_data",
          "metadata": {},
          "data": {
            "text/plain": [
              "Wind speed <Wind speed> (meter per sec)"
            ]
          }
        }
      ],
      "source": [
        "mikeio.ItemInfo(mikeio.EUMType.Wind_speed)"
      ],
      "id": "d840cf2a"
    },
    {
      "cell_type": "markdown",
      "metadata": {},
      "source": [
        "## Attributes\n",
        "\n",
        "| Name                          | Description |\n",
        "|-------------------------------|-------------|\n",
        "| [unit](#mikeio.ItemInfo.unit) | Item unit.  |\n",
        "\n",
        "## Methods\n",
        "\n",
        "| Name | Description |\n",
        "|------------------------------------|------------------------------------|\n",
        "| [from_mikecore_dynamic_item_info](#mikeio.ItemInfo.from_mikecore_dynamic_item_info) | Create ItemInfo from a mikecore.DfsDynamicItemInfo object. |\n",
        "\n",
        "### from_mikecore_dynamic_item_info\n",
        "\n",
        "``` python\n",
        "ItemInfo.from_mikecore_dynamic_item_info(dfsItemInfo)\n",
        "```\n",
        "\n",
        "Create ItemInfo from a mikecore.DfsDynamicItemInfo object."
      ],
      "id": "6a738cbe-62c1-4b6a-ac53-d2039d083aea"
    }
  ],
  "nbformat": 4,
  "nbformat_minor": 5,
  "metadata": {
    "kernelspec": {
      "name": "python3",
      "display_name": "Python 3 (ipykernel)",
      "language": "python",
      "path": "/opt/hostedtoolcache/Python/3.12.9/x64/share/jupyter/kernels/python3"
    },
    "language_info": {
      "name": "python",
      "codemirror_mode": {
        "name": "ipython",
        "version": "3"
      },
      "file_extension": ".py",
      "mimetype": "text/x-python",
      "nbconvert_exporter": "python",
      "pygments_lexer": "ipython3",
      "version": "3.12.9"
    }
  }
}