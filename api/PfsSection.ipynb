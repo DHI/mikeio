{
  "cells": [
    {
      "cell_type": "markdown",
      "metadata": {},
      "source": [
        "# PfsSection\n",
        "\n",
        "``` python\n",
        "PfsSection(self, dictionary, **kwargs)\n",
        "```\n",
        "\n",
        "Class for reading/writing sections in a pfs file.\n",
        "\n",
        "## Methods\n",
        "\n",
        "| Name | Description |\n",
        "|------------------------------------|------------------------------------|\n",
        "| [clear](#mikeio.PfsSection.clear) | Remove all items from the PfsSection. |\n",
        "| [copy](#mikeio.PfsSection.copy) | Return a copy of the PfsSection. |\n",
        "| [find_replace](#mikeio.PfsSection.find_replace) | Update recursively all old_value with new_value. |\n",
        "| [from_dataframe](#mikeio.PfsSection.from_dataframe) | Create a PfsSection from a DataFrame. |\n",
        "| [get](#mikeio.PfsSection.get) | Return the value for key if key is in the PfsSection, |\n",
        "| [items](#mikeio.PfsSection.items) | Return a new view of the PfsSection’s items ((key, value) pairs). |\n",
        "| [keys](#mikeio.PfsSection.keys) | Return a new view of the PfsSection’s keys. |\n",
        "| [pop](#mikeio.PfsSection.pop) | If key is in the dictionary, remove it and return its |\n",
        "| [search](#mikeio.PfsSection.search) | Find recursively all keys, sections or parameters |\n",
        "| [to_dataframe](#mikeio.PfsSection.to_dataframe) | Output enumerated subsections to a DataFrame. |\n",
        "| [to_dict](#mikeio.PfsSection.to_dict) | Convert to (nested) dict (as a copy). |\n",
        "| [values](#mikeio.PfsSection.values) | Return a new view of the PfsSection’s values. |\n",
        "\n",
        "### clear\n",
        "\n",
        "``` python\n",
        "PfsSection.clear()\n",
        "```\n",
        "\n",
        "Remove all items from the PfsSection.\n",
        "\n",
        "### copy\n",
        "\n",
        "``` python\n",
        "PfsSection.copy()\n",
        "```\n",
        "\n",
        "Return a copy of the PfsSection.\n",
        "\n",
        "### find_replace\n",
        "\n",
        "``` python\n",
        "PfsSection.find_replace(old_value, new_value)\n",
        "```\n",
        "\n",
        "Update recursively all old_value with new_value.\n",
        "\n",
        "### from_dataframe\n",
        "\n",
        "``` python\n",
        "PfsSection.from_dataframe(df, prefix)\n",
        "```\n",
        "\n",
        "Create a PfsSection from a DataFrame.\n",
        "\n",
        "#### Parameters\n",
        "\n",
        "| Name   | Type         | Description           | Default    |\n",
        "|--------|--------------|-----------------------|------------|\n",
        "| df     | pd.DataFrame | data                  | *required* |\n",
        "| prefix | str          | section header prefix | *required* |\n",
        "\n",
        "#### Examples"
      ],
      "id": "3df995a1-be3c-412f-8fbc-013decefeb63"
    },
    {
      "cell_type": "code",
      "execution_count": 1,
      "metadata": {},
      "outputs": [
        {
          "output_type": "display_data",
          "metadata": {},
          "data": {
            "text/html": [
              "\n",
              "</div>"
            ]
          }
        }
      ],
      "source": [
        "import pandas as pd\n",
        "import mikeio\n",
        "df = pd.DataFrame(dict(station=[\"Foo\", \"Bar\"],include=[0,1]), index=[1,2])\n",
        "df"
      ],
      "id": "3940e8e2"
    },
    {
      "cell_type": "code",
      "execution_count": 2,
      "metadata": {},
      "outputs": [
        {
          "output_type": "display_data",
          "metadata": {},
          "data": {
            "text/plain": [
              "[STATION_1]\n",
              "   station = 'Foo'\n",
              "   include = 0\n",
              "EndSect  // STATION_1\n",
              "[STATION_2]\n",
              "   station = 'Bar'\n",
              "   include = 1\n",
              "EndSect  // STATION_2"
            ]
          }
        }
      ],
      "source": [
        "mikeio.PfsSection.from_dataframe(df,\"STATION_\")"
      ],
      "id": "ef18dc00"
    },
    {
      "cell_type": "markdown",
      "metadata": {},
      "source": [
        "### get\n",
        "\n",
        "``` python\n",
        "PfsSection.get(key, default=None)\n",
        "```\n",
        "\n",
        "Return the value for key if key is in the PfsSection, else default. If\n",
        "default is not given, it defaults to None, so that this method never\n",
        "raises a KeyError.\n",
        "\n",
        "### items\n",
        "\n",
        "``` python\n",
        "PfsSection.items()\n",
        "```\n",
        "\n",
        "Return a new view of the PfsSection’s items ((key, value) pairs).\n",
        "\n",
        "### keys\n",
        "\n",
        "``` python\n",
        "PfsSection.keys()\n",
        "```\n",
        "\n",
        "Return a new view of the PfsSection’s keys.\n",
        "\n",
        "### pop\n",
        "\n",
        "``` python\n",
        "PfsSection.pop(key, default=None)\n",
        "```\n",
        "\n",
        "If key is in the dictionary, remove it and return its value, else return\n",
        "default. If default is not given and key is not in the dictionary, a\n",
        "KeyError is raised.\n",
        "\n",
        "### search\n",
        "\n",
        "``` python\n",
        "PfsSection.search(text=None, *, key=None, section=None, param=None, case=False)\n",
        "```\n",
        "\n",
        "Find recursively all keys, sections or parameters matching a pattern.\n",
        "\n",
        "NOTE: logical OR between multiple conditions\n",
        "\n",
        "#### Parameters\n",
        "\n",
        "| Name | Type | Description | Default |\n",
        "|-------|----------------|------------------------------------------|--------|\n",
        "| text | str | Search for text in either key, section or parameter, by default None | `None` |\n",
        "| key | str | text pattern to seach for in keywords, by default None | `None` |\n",
        "| section | str | text pattern to seach for in sections, by default None | `None` |\n",
        "| param | (str, bool, float, int) | text or value in a parameter, by default None | `None` |\n",
        "| case | bool | should the text search be case-sensitive?, by default False | `False` |\n",
        "\n",
        "#### Returns\n",
        "\n",
        "| Name | Type       | Description                          |\n",
        "|------|------------|--------------------------------------|\n",
        "|      | PfsSection | Search result as a nested PfsSection |\n",
        "\n",
        "### to_dataframe\n",
        "\n",
        "``` python\n",
        "PfsSection.to_dataframe(prefix=None)\n",
        "```\n",
        "\n",
        "Output enumerated subsections to a DataFrame.\n",
        "\n",
        "#### Parameters\n",
        "\n",
        "| Name | Type | Description | Default |\n",
        "|----|----|-----------------------------------------------------------|-----|\n",
        "| prefix | str | The prefix of the enumerated sections, e.g. “OUTPUT\\_”, which can be supplied if it fails without this argument, by default None (will try to “guess” the prefix) | `None` |\n",
        "\n",
        "#### Returns\n",
        "\n",
        "| Name | Type         | Description                               |\n",
        "|------|--------------|-------------------------------------------|\n",
        "|      | pd.DataFrame | The enumerated subsections as a DataFrame |\n",
        "\n",
        "#### Examples"
      ],
      "id": "359c7cab-25d1-4654-9ca5-7d1992160e19"
    },
    {
      "cell_type": "code",
      "execution_count": 3,
      "metadata": {},
      "outputs": [
        {
          "output_type": "display_data",
          "metadata": {},
          "data": {
            "text/html": [
              "\n",
              "<p>4 rows × 24 columns</p>\n",
              "</div>"
            ]
          }
        }
      ],
      "source": [
        "pfs = mikeio.read_pfs(\"../data/pfs/lake.sw\")\n",
        "pfs.SW.OUTPUTS.to_dataframe(prefix=\"OUTPUT_\")"
      ],
      "id": "005d00e4"
    },
    {
      "cell_type": "markdown",
      "metadata": {},
      "source": [
        "### to_dict\n",
        "\n",
        "``` python\n",
        "PfsSection.to_dict()\n",
        "```\n",
        "\n",
        "Convert to (nested) dict (as a copy).\n",
        "\n",
        "### values\n",
        "\n",
        "``` python\n",
        "PfsSection.values()\n",
        "```\n",
        "\n",
        "Return a new view of the PfsSection’s values."
      ],
      "id": "fbbd09fb-f690-4adb-859f-9c4ca5dc3db8"
    }
  ],
  "nbformat": 4,
  "nbformat_minor": 5,
  "metadata": {
    "kernelspec": {
      "name": "python3",
      "display_name": "Python 3 (ipykernel)",
      "language": "python",
      "path": "/opt/hostedtoolcache/Python/3.12.9/x64/share/jupyter/kernels/python3"
    },
    "language_info": {
      "name": "python",
      "codemirror_mode": {
        "name": "ipython",
        "version": "3"
      },
      "file_extension": ".py",
      "mimetype": "text/x-python",
      "nbconvert_exporter": "python",
      "pygments_lexer": "ipython3",
      "version": "3.12.9"
    }
  }
}