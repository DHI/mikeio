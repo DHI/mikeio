{
  "cells": [
    {
      "cell_type": "markdown",
      "metadata": {},
      "source": [
        "# \n",
        "\n",
        "# spatial.GeometryFMLineSpectrum\n",
        "\n",
        "``` python\n",
        "spatial.GeometryFMLineSpectrum(\n",
        "    self,\n",
        "    node_coordinates,\n",
        "    element_table,\n",
        "    codes=None,\n",
        "    projection='LONG/LAT',\n",
        "    dfsu_type=None,\n",
        "    element_ids=None,\n",
        "    node_ids=None,\n",
        "    validate=True,\n",
        "    frequencies=None,\n",
        "    directions=None,\n",
        "    reindex=False,\n",
        ")\n",
        "```\n",
        "\n",
        "Flexible mesh line spectrum geometry.\n",
        "\n",
        "## Attributes\n",
        "\n",
        "| Name | Description |\n",
        "|------------------------------------|------------------------------------|\n",
        "| [boundary_codes](#mikeio.spatial.GeometryFMLineSpectrum.boundary_codes) | Unique list of boundary codes. |\n",
        "| [codes](#mikeio.spatial.GeometryFMLineSpectrum.codes) | Node codes of all nodes (0=water, 1=land, 2…=open boundaries). |\n",
        "| [directions](#mikeio.spatial.GeometryFMLineSpectrum.directions) | Directional axis. |\n",
        "| [frequencies](#mikeio.spatial.GeometryFMLineSpectrum.frequencies) | Frequency axis. |\n",
        "| [is_geo](#mikeio.spatial.GeometryFMLineSpectrum.is_geo) | Are coordinates geographical (LONG/LAT)? |\n",
        "| [is_local_coordinates](#mikeio.spatial.GeometryFMLineSpectrum.is_local_coordinates) | Are coordinates relative (NON-UTM)? |\n",
        "| [is_spectral](#mikeio.spatial.GeometryFMLineSpectrum.is_spectral) | Type is spectral dfsu (point, line or area spectrum). |\n",
        "| [max_nodes_per_element](#mikeio.spatial.GeometryFMLineSpectrum.max_nodes_per_element) | The maximum number of nodes for an element. |\n",
        "| [n_directions](#mikeio.spatial.GeometryFMLineSpectrum.n_directions) | Number of directions. |\n",
        "| [n_elements](#mikeio.spatial.GeometryFMLineSpectrum.n_elements) | Number of elements. |\n",
        "| [n_frequencies](#mikeio.spatial.GeometryFMLineSpectrum.n_frequencies) | Number of frequencies. |\n",
        "| [n_nodes](#mikeio.spatial.GeometryFMLineSpectrum.n_nodes) | Number of nodes. |\n",
        "| [projection](#mikeio.spatial.GeometryFMLineSpectrum.projection) | The projection. |\n",
        "| [projection_string](#mikeio.spatial.GeometryFMLineSpectrum.projection_string) | The projection string. |"
      ],
      "id": "0059d2f3-27e8-4cc6-926d-bd7f7fd9bdb5"
    }
  ],
  "nbformat": 4,
  "nbformat_minor": 5,
  "metadata": {
    "kernelspec": {
      "display_name": "Python 3",
      "language": "python",
      "name": "python3"
    }
  }
}