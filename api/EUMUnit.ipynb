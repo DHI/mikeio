{
  "cells": [
    {
      "cell_type": "markdown",
      "metadata": {},
      "source": [
        "# EUMUnit\n",
        "\n",
        "``` python\n",
        "EUMUnit(self, code)\n",
        "```\n",
        "\n",
        "EUM unit.\n",
        "\n",
        "## Examples"
      ],
      "id": "8994dac5-932a-40e5-9179-aca8b6d33185"
    },
    {
      "cell_type": "code",
      "execution_count": 1,
      "metadata": {},
      "outputs": [
        {
          "output_type": "display_data",
          "metadata": {},
          "data": {
            "text/plain": [
              "degree Kelvin"
            ]
          }
        }
      ],
      "source": [
        "import mikeio\n",
        "mikeio.EUMUnit.degree_Kelvin"
      ],
      "id": "b4bf1566"
    },
    {
      "cell_type": "markdown",
      "metadata": {},
      "source": [
        "## Attributes\n",
        "\n",
        "| Name                                         | Description            |\n",
        "|----------------------------------------------|------------------------|\n",
        "| [display_name](#mikeio.EUMUnit.display_name) | Display friendly name. |"
      ],
      "id": "f0c64719-2a85-4a39-bf6b-a6bb89f7224f"
    }
  ],
  "nbformat": 4,
  "nbformat_minor": 5,
  "metadata": {
    "kernelspec": {
      "name": "python3",
      "display_name": "Python 3 (ipykernel)",
      "language": "python",
      "path": "/opt/hostedtoolcache/Python/3.12.9/x64/share/jupyter/kernels/python3"
    },
    "language_info": {
      "name": "python",
      "codemirror_mode": {
        "name": "ipython",
        "version": "3"
      },
      "file_extension": ".py",
      "mimetype": "text/x-python",
      "nbconvert_exporter": "python",
      "pygments_lexer": "ipython3",
      "version": "3.12.9"
    }
  }
}