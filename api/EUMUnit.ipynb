{
  "cells": [
    {
      "cell_type": "markdown",
      "metadata": {},
      "source": [
        "# EUMUnit\n",
        "\n",
        "``` python\n",
        "EUMUnit(self, code)\n",
        "```\n",
        "\n",
        "EUM unit.\n",
        "\n",
        "## Examples"
      ],
      "id": "e9802c12-5350-424d-b6e3-69a8ca4975ae"
    },
    {
      "cell_type": "code",
      "execution_count": 1,
      "metadata": {},
      "outputs": [
        {
          "output_type": "display_data",
          "metadata": {},
          "data": {
            "text/plain": [
              "degree Kelvin"
            ]
          }
        }
      ],
      "source": [
        "import mikeio\n",
        "mikeio.EUMUnit.degree_Kelvin"
      ],
      "id": "414d78e8"
    },
    {
      "cell_type": "markdown",
      "metadata": {},
      "source": [
        "## Attributes\n",
        "\n",
        "| Name                                         | Description            |\n",
        "|----------------------------------------------|------------------------|\n",
        "| [display_name](#mikeio.EUMUnit.display_name) | Display friendly name. |"
      ],
      "id": "cfa1f5bb-01a2-43fe-82bb-513ff2c9eb07"
    }
  ],
  "nbformat": 4,
  "nbformat_minor": 5,
  "metadata": {
    "kernelspec": {
      "name": "python3",
      "display_name": "Python 3 (ipykernel)",
      "language": "python",
      "path": "/home/runner/work/mikeio/mikeio/.venv/share/jupyter/kernels/python3"
    },
    "language_info": {
      "name": "python",
      "codemirror_mode": {
        "name": "ipython",
        "version": "3"
      },
      "file_extension": ".py",
      "mimetype": "text/x-python",
      "nbconvert_exporter": "python",
      "pygments_lexer": "ipython3",
      "version": "3.12.3"
    }
  }
}