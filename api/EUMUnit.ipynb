{
  "cells": [
    {
      "cell_type": "markdown",
      "metadata": {},
      "source": [
        "# EUMUnit\n",
        "\n",
        "``` python\n",
        "EUMUnit(self, code)\n",
        "```\n",
        "\n",
        "EUM unit.\n",
        "\n",
        "## Examples"
      ],
      "id": "df08584f-1190-4cac-82e1-bccc89fcc4e2"
    },
    {
      "cell_type": "code",
      "execution_count": 1,
      "metadata": {},
      "outputs": [
        {
          "output_type": "display_data",
          "metadata": {},
          "data": {
            "text/plain": [
              "degree Kelvin"
            ]
          }
        }
      ],
      "source": [
        "import mikeio\n",
        "mikeio.EUMUnit.degree_Kelvin"
      ],
      "id": "98bb61db"
    },
    {
      "cell_type": "markdown",
      "metadata": {},
      "source": [
        "## Attributes\n",
        "\n",
        "| Name                                         | Description            |\n",
        "|----------------------------------------------|------------------------|\n",
        "| [display_name](#mikeio.EUMUnit.display_name) | Display friendly name. |"
      ],
      "id": "509d5d83-1fed-4331-880c-f57513b6cf66"
    }
  ],
  "nbformat": 4,
  "nbformat_minor": 5,
  "metadata": {
    "kernelspec": {
      "name": "python3",
      "display_name": "Python 3 (ipykernel)",
      "language": "python",
      "path": "/opt/hostedtoolcache/Python/3.12.8/x64/share/jupyter/kernels/python3"
    },
    "language_info": {
      "name": "python",
      "codemirror_mode": {
        "name": "ipython",
        "version": "3"
      },
      "file_extension": ".py",
      "mimetype": "text/x-python",
      "nbconvert_exporter": "python",
      "pygments_lexer": "ipython3",
      "version": "3.12.8"
    }
  }
}