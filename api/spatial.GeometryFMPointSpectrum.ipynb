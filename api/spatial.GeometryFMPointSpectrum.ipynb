{
  "cells": [
    {
      "cell_type": "markdown",
      "metadata": {},
      "source": [
        "# \n",
        "\n",
        "# spatial.GeometryFMPointSpectrum\n",
        "\n",
        "``` python\n",
        "spatial.GeometryFMPointSpectrum(\n",
        "    self,\n",
        "    frequencies=None,\n",
        "    directions=None,\n",
        "    x=None,\n",
        "    y=None,\n",
        ")\n",
        "```\n",
        "\n",
        "Flexible mesh point spectrum.\n",
        "\n",
        "## Attributes\n",
        "\n",
        "| Name | Description |\n",
        "|------------------------------------|------------------------------------|\n",
        "| [directions](#mikeio.spatial.GeometryFMPointSpectrum.directions) | Directional axis. |\n",
        "| [frequencies](#mikeio.spatial.GeometryFMPointSpectrum.frequencies) | Frequency axis. |\n",
        "| [is_geo](#mikeio.spatial.GeometryFMPointSpectrum.is_geo) | Are coordinates geographical (LONG/LAT)? |\n",
        "| [is_local_coordinates](#mikeio.spatial.GeometryFMPointSpectrum.is_local_coordinates) | Are coordinates relative (NON-UTM)? |\n",
        "| [n_directions](#mikeio.spatial.GeometryFMPointSpectrum.n_directions) | Number of directions. |\n",
        "| [n_frequencies](#mikeio.spatial.GeometryFMPointSpectrum.n_frequencies) | Number of frequencies. |\n",
        "| [projection](#mikeio.spatial.GeometryFMPointSpectrum.projection) | The projection. |\n",
        "| [projection_string](#mikeio.spatial.GeometryFMPointSpectrum.projection_string) | The projection string. |"
      ],
      "id": "dd09bbad-f1dc-42c7-93f3-7a57ed1c5eac"
    }
  ],
  "nbformat": 4,
  "nbformat_minor": 5,
  "metadata": {
    "kernelspec": {
      "display_name": "Python 3",
      "language": "python",
      "name": "python3"
    }
  }
}