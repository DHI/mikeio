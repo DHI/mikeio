{
  "cells": [
    {
      "cell_type": "markdown",
      "metadata": {},
      "source": [
        "# \n",
        "\n",
        "# read_pfs\n",
        "\n",
        "``` python\n",
        "read_pfs(filename, encoding='cp1252', unique_keywords=False)\n",
        "```\n",
        "\n",
        "Read a pfs file to a Pfs object for further analysis/manipulation.\n",
        "\n",
        "## Parameters\n",
        "\n",
        "| Name | Type | Description | Default |\n",
        "|------|-----|----------------------------------------------------------|----|\n",
        "| filename | str \\| Path | File name including full path to the pfs file. | *required* |\n",
        "| encoding | str | How is the pfs file encoded? By default ‘cp1252’ | `'cp1252'` |\n",
        "| unique_keywords | bool | Should the keywords in a section be unique? Some tools e.g. the MIKE Plot Composer allows non-unique keywords. If True: warnings will be issued if non-unique keywords are present and the first occurence will be used by default False | `False` |\n",
        "\n",
        "## Returns\n",
        "\n",
        "| Name | Type        | Description          |\n",
        "|------|-------------|----------------------|\n",
        "|      | PfsDocument | A PfsDocument object |"
      ],
      "id": "aa1263e2-f7b2-4b26-ac5c-55071facf2fc"
    }
  ],
  "nbformat": 4,
  "nbformat_minor": 5,
  "metadata": {
    "kernelspec": {
      "display_name": "Python 3",
      "language": "python",
      "name": "python3"
    }
  }
}