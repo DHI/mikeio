{
  "cells": [
    {
      "cell_type": "markdown",
      "metadata": {},
      "source": [
        "# Grid1D\n",
        "\n",
        "``` python\n",
        "Grid1D(\n",
        "    self,\n",
        "    x=None,\n",
        "    *,\n",
        "    x0=0.0,\n",
        "    dx=None,\n",
        "    nx=None,\n",
        "    projection='NON-UTM',\n",
        "    origin=(0.0, 0.0),\n",
        "    orientation=0.0,\n",
        "    node_coordinates=None,\n",
        "    axis_name='x',\n",
        ")\n",
        "```\n",
        "\n",
        "1d spatial grid.\n",
        "\n",
        "The axis is increasing and equidistant\n",
        "\n",
        "## Parameters\n",
        "\n",
        "| Name | Type | Description | Default |\n",
        "|---------------|--------------|--------------------------------|------------|\n",
        "| x | array_like | node coordinates | `None` |\n",
        "| x0 | float | first node coordinate | `0.0` |\n",
        "| dx | float | grid spacing | `None` |\n",
        "| nx | int | number of nodes | `None` |\n",
        "| projection | str | projection string | `'NON-UTM'` |\n",
        "| origin | (float, float) | not commonly used | `(0.0, 0.0)` |\n",
        "| orientation | float | not commonly used | `0.0` |\n",
        "| node_coordinates | array_like | coordinates of nodes in 2D or 3D space | `None` |\n",
        "| axis_name | str | name of axis, by default “x” | `'x'` |\n",
        "\n",
        "## Examples"
      ],
      "id": "aa6a233b-c76a-4afe-b829-cadbde15d106"
    },
    {
      "cell_type": "code",
      "execution_count": 1,
      "metadata": {},
      "outputs": [
        {
          "output_type": "display_data",
          "metadata": {},
          "data": {
            "text/plain": [
              "<mikeio.Grid1D>\n",
              "x: [0, 0.1, 0.2] (nx=3, dx=0.1)"
            ]
          }
        }
      ],
      "source": [
        "import mikeio\n",
        "mikeio.Grid1D(nx=3,dx=0.1)"
      ],
      "id": "496c877a"
    },
    {
      "cell_type": "code",
      "execution_count": 2,
      "metadata": {},
      "outputs": [
        {
          "output_type": "display_data",
          "metadata": {},
          "data": {
            "text/plain": [
              "<mikeio.Grid1D>\n",
              "x: [0.1, 0.5, 0.9] (nx=3, dx=0.4)"
            ]
          }
        }
      ],
      "source": [
        "mikeio.Grid1D(x=[0.1, 0.5, 0.9])"
      ],
      "id": "509de7c1"
    },
    {
      "cell_type": "markdown",
      "metadata": {},
      "source": [
        "## Attributes\n",
        "\n",
        "| Name | Description |\n",
        "|------------------------------------|------------------------------------|\n",
        "| [dx](#mikeio.Grid1D.dx) | Grid spacing. |\n",
        "| [is_geo](#mikeio.Grid1D.is_geo) | Are coordinates geographical (LONG/LAT)? |\n",
        "| [is_local_coordinates](#mikeio.Grid1D.is_local_coordinates) | Are coordinates relative (NON-UTM)? |\n",
        "| [nx](#mikeio.Grid1D.nx) | Number of grid points. |\n",
        "| [projection](#mikeio.Grid1D.projection) | The projection. |\n",
        "| [projection_string](#mikeio.Grid1D.projection_string) | The projection string. |\n",
        "| [x](#mikeio.Grid1D.x) | Array of node coordinates. |\n",
        "\n",
        "## Methods\n",
        "\n",
        "| Name | Description |\n",
        "|------------------------------------|------------------------------------|\n",
        "| [find_index](#mikeio.Grid1D.find_index) | Find nearest point. |\n",
        "| [isel](#mikeio.Grid1D.isel) | Get a subset geometry from this geometry. |\n",
        "\n",
        "### find_index\n",
        "\n",
        "``` python\n",
        "Grid1D.find_index(x, **kwargs)\n",
        "```\n",
        "\n",
        "Find nearest point.\n",
        "\n",
        "#### Parameters\n",
        "\n",
        "| Name       | Type  | Description           | Default    |\n",
        "|------------|-------|-----------------------|------------|\n",
        "| x          | float | x-coordinate of point | *required* |\n",
        "| \\*\\*kwargs | Any   | Not used              | `{}`       |\n",
        "\n",
        "#### Returns\n",
        "\n",
        "| Name | Type | Description            |\n",
        "|------|------|------------------------|\n",
        "|      | int  | index of nearest point |\n",
        "\n",
        "#### See Also\n",
        "\n",
        "[`mikeio.Dataset.sel`](../api/Dataset.html#mikeio.Dataset.sel)\n",
        "\n",
        "### isel\n",
        "\n",
        "``` python\n",
        "Grid1D.isel(idx, axis=None)\n",
        "```\n",
        "\n",
        "Get a subset geometry from this geometry.\n",
        "\n",
        "#### Parameters\n",
        "\n",
        "| Name | Type         | Description                          | Default    |\n",
        "|------|--------------|--------------------------------------|------------|\n",
        "| idx  | int or slice | index or slice                       | *required* |\n",
        "| axis | int          | Not used for Grid1D, by default None | `None`     |\n",
        "\n",
        "#### Returns\n",
        "\n",
        "| Name | Type | Description |\n",
        "|-------|----------------------------------------|--------------------------|\n",
        "|  | GeometryPoint2D or GeometryPoint3D or GeometryUndefined | The geometry of the selected point |\n",
        "\n",
        "#### Examples"
      ],
      "id": "081dc27e-dc88-473f-99a3-93349e14ac6a"
    },
    {
      "cell_type": "code",
      "execution_count": 3,
      "metadata": {},
      "outputs": [
        {
          "output_type": "display_data",
          "metadata": {},
          "data": {
            "text/plain": [
              "<mikeio.Grid1D>\n",
              "x: [0, 0.1, 0.2] (nx=3, dx=0.1)"
            ]
          }
        }
      ],
      "source": [
        "import mikeio\n",
        "g = mikeio.Grid1D(nx=3,dx=0.1)\n",
        "g"
      ],
      "id": "39599908"
    },
    {
      "cell_type": "code",
      "execution_count": 4,
      "metadata": {},
      "outputs": [
        {
          "output_type": "display_data",
          "metadata": {},
          "data": {
            "text/plain": [
              "<mikeio.Grid1D>\n",
              "x: [0.1, 0.2] (nx=2, dx=0.1)"
            ]
          }
        }
      ],
      "source": [
        "g.isel([1,2])"
      ],
      "id": "9bd448ef"
    },
    {
      "cell_type": "code",
      "execution_count": 5,
      "metadata": {},
      "outputs": [
        {
          "output_type": "display_data",
          "metadata": {},
          "data": {
            "text/plain": [
              "GeometryUndefined()"
            ]
          }
        }
      ],
      "source": [
        "g.isel(1)"
      ],
      "id": "a976a74b"
    }
  ],
  "nbformat": 4,
  "nbformat_minor": 5,
  "metadata": {
    "kernelspec": {
      "name": "python3",
      "display_name": "Python 3 (ipykernel)",
      "language": "python",
      "path": "/opt/hostedtoolcache/Python/3.12.11/x64/share/jupyter/kernels/python3"
    },
    "language_info": {
      "name": "python",
      "codemirror_mode": {
        "name": "ipython",
        "version": "3"
      },
      "file_extension": ".py",
      "mimetype": "text/x-python",
      "nbconvert_exporter": "python",
      "pygments_lexer": "ipython3",
      "version": "3.12.11"
    }
  }
}