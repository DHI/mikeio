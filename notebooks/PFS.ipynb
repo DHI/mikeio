{
 "cells": [
  {
   "cell_type": "markdown",
   "metadata": {},
   "source": [
    "# PFS \n",
    "\n",
    "The support for PFS files have been extended with MIKE IO release 1.2. It was previously only possible to *read* PFS files. It is now also possible to *modify* and *create* new PFS files. "
   ]
  },
  {
   "cell_type": "code",
   "execution_count": 1,
   "metadata": {},
   "outputs": [],
   "source": [
    "import mikeio"
   ]
  },
  {
   "cell_type": "markdown",
   "metadata": {},
   "source": [
    "## Read"
   ]
  },
  {
   "cell_type": "code",
   "execution_count": 2,
   "metadata": {},
   "outputs": [
    {
     "data": {
      "text/plain": [
       "<mikeio.Pfs>\n",
       "FemEngineSW: [DOMAIN]   Touched = 1   discretization = 2  ..."
      ]
     },
     "execution_count": 2,
     "metadata": {},
     "output_type": "execute_result"
    }
   ],
   "source": [
    "pfs = mikeio.read_pfs(\"../tests/testdata/pfs/lake.sw\")\n",
    "pfs"
   ]
  },
  {
   "cell_type": "markdown",
   "metadata": {},
   "source": [
    "The \"target\" (root section) is in this case called FemEngineSW. `pfs.FemEngineSW` is a PfsSection object that contains other PfsSection objects. Let's print the names of it's subsections:"
   ]
  },
  {
   "cell_type": "code",
   "execution_count": 3,
   "metadata": {},
   "outputs": [
    {
     "data": {
      "text/plain": [
       "dict_keys(['DOMAIN', 'TIME', 'MODULE_SELECTION', 'SPECTRAL_WAVE_MODULE'])"
      ]
     },
     "execution_count": 3,
     "metadata": {},
     "output_type": "execute_result"
    }
   ],
   "source": [
    "pfs.FemEngineSW.keys()"
   ]
  },
  {
   "cell_type": "markdown",
   "metadata": {},
   "source": [
    "It is possible to navigate to each section and keyword in the pfs file:"
   ]
  },
  {
   "cell_type": "code",
   "execution_count": 4,
   "metadata": {},
   "outputs": [
    {
     "data": {
      "text/plain": [
       "'|.\\\\Lake_Mesh.mesh|'"
      ]
     },
     "execution_count": 4,
     "metadata": {},
     "output_type": "execute_result"
    }
   ],
   "source": [
    "pfs.FemEngineSW.DOMAIN.file_name"
   ]
  },
  {
   "cell_type": "code",
   "execution_count": null,
   "metadata": {},
   "outputs": [],
   "source": [
    "pfs.FemEngineSW.MODULE_SELECTION"
   ]
  },
  {
   "cell_type": "code",
   "execution_count": null,
   "metadata": {},
   "outputs": [],
   "source": [
    "pfs.FemEngineSW.MODULE_SELECTION.mode_of_spectral_wave_module"
   ]
  },
  {
   "cell_type": "markdown",
   "metadata": {},
   "source": [
    "If you are unsure the name of a section, it is also possible to search for a specific string in the file, to find the name of a specific section.\n",
    "\n",
    "In the example below we do an case-insensitive search for the string 'charnock', which occurs at 6 different places in this file."
   ]
  },
  {
   "cell_type": "code",
   "execution_count": 22,
   "metadata": {},
   "outputs": [
    {
     "data": {
      "text/plain": [
       "[FemEngineSW]\n",
       "   [SPECTRAL_WAVE_MODULE]\n",
       "      [WIND]\n",
       "         background_Charnock_parameter = 0.01\n",
       "         Charnock_parameter = 0.01\n",
       "      EndSect  // WIND\n",
       "      [OUTPUTS]\n",
       "         [OUTPUT_1]\n",
       "            [MODEL_PARAMETERS]\n",
       "               Charnock_constant = 0\n",
       "            EndSect  // MODEL_PARAMETERS\n",
       "         EndSect  // OUTPUT_1\n",
       "         [OUTPUT_2]\n",
       "            [MODEL_PARAMETERS]\n",
       "               Charnock_constant = 0\n",
       "            EndSect  // MODEL_PARAMETERS\n",
       "         EndSect  // OUTPUT_2\n",
       "         [OUTPUT_3]\n",
       "            [MODEL_PARAMETERS]\n",
       "               Charnock_constant = 0\n",
       "            EndSect  // MODEL_PARAMETERS\n",
       "         EndSect  // OUTPUT_3\n",
       "         [OUTPUT_4]\n",
       "            [MODEL_PARAMETERS]\n",
       "               Charnock_constant = 0\n",
       "            EndSect  // MODEL_PARAMETERS\n",
       "         EndSect  // OUTPUT_4\n",
       "      EndSect  // OUTPUTS\n",
       "   EndSect  // SPECTRAL_WAVE_MODULE\n",
       "EndSect  // FemEngineSW"
      ]
     },
     "execution_count": 22,
     "metadata": {},
     "output_type": "execute_result"
    }
   ],
   "source": [
    "pfs.search(\"charnock\")"
   ]
  },
  {
   "cell_type": "markdown",
   "metadata": {},
   "source": [
    "The same search can be done at any level of the hierarchy, i.e. to search only within the OUTPUTS section:"
   ]
  },
  {
   "cell_type": "code",
   "execution_count": 25,
   "metadata": {},
   "outputs": [
    {
     "data": {
      "text/plain": [
       "[OUTPUT_1]\n",
       "   [MODEL_PARAMETERS]\n",
       "      Charnock_constant = 0\n",
       "   EndSect  // MODEL_PARAMETERS\n",
       "EndSect  // OUTPUT_1\n",
       "[OUTPUT_2]\n",
       "   [MODEL_PARAMETERS]\n",
       "      Charnock_constant = 0\n",
       "   EndSect  // MODEL_PARAMETERS\n",
       "EndSect  // OUTPUT_2\n",
       "[OUTPUT_3]\n",
       "   [MODEL_PARAMETERS]\n",
       "      Charnock_constant = 0\n",
       "   EndSect  // MODEL_PARAMETERS\n",
       "EndSect  // OUTPUT_3\n",
       "[OUTPUT_4]\n",
       "   [MODEL_PARAMETERS]\n",
       "      Charnock_constant = 0\n",
       "   EndSect  // MODEL_PARAMETERS\n",
       "EndSect  // OUTPUT_4"
      ]
     },
     "execution_count": 25,
     "metadata": {},
     "output_type": "execute_result"
    }
   ],
   "source": [
    "pfs.FemEngineSW.SPECTRAL_WAVE_MODULE.OUTPUTS.search(\"charnock\")"
   ]
  },
  {
   "cell_type": "code",
   "execution_count": 30,
   "metadata": {},
   "outputs": [
    {
     "data": {
      "text/plain": [
       "background_Charnock_parameter = 0.01\n",
       "Charnock_parameter = 0.01"
      ]
     },
     "execution_count": 30,
     "metadata": {},
     "output_type": "execute_result"
    }
   ],
   "source": [
    "pfs.FemEngineSW.SPECTRAL_WAVE_MODULE.WIND.search(\"charnock\")"
   ]
  },
  {
   "cell_type": "markdown",
   "metadata": {},
   "source": [
    "MIKE FM PFS files has a specific structure and active FM modules can be accessed by an alias on the Pfs object. In this case, `pfs.SW` can be used as a short-hand for `pfs.FemEngineSW.SPECTRAL_WAVE_MODULE`."
   ]
  },
  {
   "cell_type": "code",
   "execution_count": null,
   "metadata": {},
   "outputs": [],
   "source": [
    "pfs.SW.SPECTRAL.number_of_directions"
   ]
  },
  {
   "cell_type": "code",
   "execution_count": null,
   "metadata": {},
   "outputs": [],
   "source": [
    "pfs.SW.SPECTRAL.maximum_threshold_frequency"
   ]
  },
  {
   "cell_type": "markdown",
   "metadata": {},
   "source": [
    "Enumerated sections (e.g. [OUTPUT_1], [OUTPUT_2], ...) can be outputted in tabular form (dataframe)."
   ]
  },
  {
   "cell_type": "code",
   "execution_count": null,
   "metadata": {},
   "outputs": [],
   "source": [
    "df = pfs.SW.OUTPUTS.to_dataframe()\n",
    "df"
   ]
  },
  {
   "cell_type": "markdown",
   "metadata": {},
   "source": [
    "## Modify\n",
    "\n",
    "The PfsSection object can be modified. Existing values can be changes, new key-value pairs can be added, subsections can added or removed. "
   ]
  },
  {
   "cell_type": "code",
   "execution_count": null,
   "metadata": {},
   "outputs": [],
   "source": [
    "pfs.SW.SPECTRAL.number_of_directions = 32"
   ]
  },
  {
   "cell_type": "code",
   "execution_count": null,
   "metadata": {},
   "outputs": [],
   "source": [
    "pfs.SW.SPECTRAL"
   ]
  },
  {
   "cell_type": "markdown",
   "metadata": {},
   "source": [
    "### Add a new keyword"
   ]
  },
  {
   "cell_type": "code",
   "execution_count": null,
   "metadata": {},
   "outputs": [],
   "source": [
    "pfs.SW.SPECTRAL[\"new_keyword\"] = \"new_value\""
   ]
  },
  {
   "cell_type": "code",
   "execution_count": 29,
   "metadata": {},
   "outputs": [
    {
     "data": {
      "text/plain": [
       "Touched = 1\n",
       "type_of_frequency_discretization = 2\n",
       "number_of_frequencies = 25\n",
       "minimum_frequency = 0.055\n",
       "frequency_interval = 0.02\n",
       "frequency_factor = 1.1\n",
       "type_of_directional_discretization = 1\n",
       "number_of_directions = 32\n",
       "minimum_direction = 0.0\n",
       "maximum_direction = 0.0\n",
       "separation_of_wind_sea_and_swell = 0\n",
       "threshold_frequency = 0.125\n",
       "maximum_threshold_frequency = 0.5959088268863615\n",
       "new_keyword = 'new_value'"
      ]
     },
     "execution_count": 29,
     "metadata": {},
     "output_type": "execute_result"
    }
   ],
   "source": [
    "pfs.SW.SPECTRAL"
   ]
  },
  {
   "cell_type": "markdown",
   "metadata": {},
   "source": [
    "### Add a section\n",
    "\n",
    "Let's create an additional output, by copying OUTPUT_4 and modifying some parameters."
   ]
  },
  {
   "cell_type": "code",
   "execution_count": 30,
   "metadata": {},
   "outputs": [],
   "source": [
    "pfs.SW.OUTPUTS.number_of_outputs += 1"
   ]
  },
  {
   "cell_type": "code",
   "execution_count": 31,
   "metadata": {},
   "outputs": [],
   "source": [
    "new_output = pfs.SW.OUTPUTS.OUTPUT_4.copy()"
   ]
  },
  {
   "cell_type": "code",
   "execution_count": 32,
   "metadata": {},
   "outputs": [],
   "source": [
    "new_output.file_name = 'spectrum_x10km_y40km.dfsu'\n",
    "new_output.POINT_1.x = 10000\n",
    "new_output.POINT_1.y = 40000"
   ]
  },
  {
   "cell_type": "code",
   "execution_count": 33,
   "metadata": {},
   "outputs": [],
   "source": [
    "pfs.SW.OUTPUTS[\"OUTPUT_5\"] = new_output"
   ]
  },
  {
   "cell_type": "code",
   "execution_count": 34,
   "metadata": {},
   "outputs": [
    {
     "data": {
      "text/plain": [
       "dict_keys(['Touched', 'MzSEPfsListItemCount', 'number_of_outputs', 'OUTPUT_1', 'OUTPUT_2', 'OUTPUT_3', 'OUTPUT_4', 'OUTPUT_5'])"
      ]
     },
     "execution_count": 34,
     "metadata": {},
     "output_type": "execute_result"
    }
   ],
   "source": [
    "pfs.SW.OUTPUTS.keys()"
   ]
  },
  {
   "cell_type": "markdown",
   "metadata": {},
   "source": [
    "## Output\n",
    "\n",
    "The Pfs object can be written to pfs file, but can also be exported to a dictionary (which in turn can be written to a yaml or json file)."
   ]
  },
  {
   "cell_type": "code",
   "execution_count": null,
   "metadata": {},
   "outputs": [],
   "source": [
    "pfs.write(\"lake_modified.pfs\")"
   ]
  },
  {
   "cell_type": "code",
   "execution_count": null,
   "metadata": {},
   "outputs": [],
   "source": [
    "pfs.to_dict()"
   ]
  },
  {
   "cell_type": "code",
   "execution_count": null,
   "metadata": {},
   "outputs": [],
   "source": [
    "# write to yaml file\n",
    "import yaml\n",
    "yaml.dump(pfs.to_dict(), open('lake_modified.yaml', 'w+'))"
   ]
  },
  {
   "cell_type": "markdown",
   "metadata": {},
   "source": [
    "## Create\n",
    "\n",
    "A PFS file can also be created from a dictionary, like this:"
   ]
  },
  {
   "cell_type": "code",
   "execution_count": null,
   "metadata": {},
   "outputs": [],
   "source": [
    "setup = {\n",
    "    \"Name\": \"Extract that\",\n",
    "    \"InputFileName\": \"|random.dfs1|\",\n",
    "    \"FirstTimeStep\": 0,\n",
    "    \"LastTimeStep\": 99,\n",
    "    \"X\": 2,\n",
    "    \"OutputFileName\": \"|.\\\\out2.dfs0|\",\n",
    "}\n",
    "t1_t0 = {\"CLSID\": \"t1_t0.dll\", \"TypeName\": \"t1_t0\", \"Setup\": setup}\n",
    "t1_t0"
   ]
  },
  {
   "cell_type": "code",
   "execution_count": null,
   "metadata": {},
   "outputs": [],
   "source": [
    "section = mikeio.PfsSection(t1_t0)\n",
    "section"
   ]
  },
  {
   "cell_type": "code",
   "execution_count": null,
   "metadata": {},
   "outputs": [],
   "source": [
    "pfs = section.to_Pfs(name=\"t1_t0\")\n",
    "pfs"
   ]
  },
  {
   "cell_type": "code",
   "execution_count": null,
   "metadata": {},
   "outputs": [],
   "source": [
    "pfs.write(\"extract_point.mzt\")"
   ]
  },
  {
   "cell_type": "markdown",
   "metadata": {},
   "source": [
    "## Clean up"
   ]
  },
  {
   "cell_type": "code",
   "execution_count": null,
   "metadata": {},
   "outputs": [],
   "source": [
    "import os\n",
    "os.remove(\"lake_modified.pfs\")\n",
    "os.remove('lake_modified.yaml')\n",
    "os.remove(\"extract_point.mzt\")"
   ]
  }
 ],
 "metadata": {
  "kernelspec": {
   "display_name": "Python 3.10.6 ('base')",
   "language": "python",
   "name": "python3"
  },
  "language_info": {
   "codemirror_mode": {
    "name": "ipython",
    "version": 3
   },
   "file_extension": ".py",
   "mimetype": "text/x-python",
   "name": "python",
   "nbconvert_exporter": "python",
   "pygments_lexer": "ipython3",
   "version": "3.10.6"
  },
  "vscode": {
   "interpreter": {
    "hash": "29241bd0f6dcdc7baf6ca7a8c63eed3702f363cfda55e5fb2434992ede57da6b"
   }
  }
 },
 "nbformat": 4,
 "nbformat_minor": 4
}
