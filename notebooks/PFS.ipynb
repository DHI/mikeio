{
 "cells": [
  {
   "cell_type": "markdown",
   "metadata": {},
   "source": [
    "# PFS - Reading\n",
    "\n",
    "Support for PFS is limited to files with unique subsections. This applies to all files in the MIKE FM family."
   ]
  },
  {
   "cell_type": "code",
   "execution_count": null,
   "metadata": {},
   "outputs": [],
   "source": [
    "import mikeio"
   ]
  },
  {
   "cell_type": "code",
   "execution_count": 1,
   "metadata": {},
   "outputs": [],
   "source": [
    "pfs = mikeio.Pfs(\"../tests/testdata/lake.sw\")"
   ]
  },
  {
   "cell_type": "markdown",
   "metadata": {},
   "source": [
    "It is possible to navigate to each section and keyword in the pfs file:"
   ]
  },
  {
   "cell_type": "code",
   "execution_count": 2,
   "metadata": {},
   "outputs": [
    {
     "data": {
      "text/plain": [
       "'|.\\\\Lake_Mesh.mesh|'"
      ]
     },
     "execution_count": 2,
     "metadata": {},
     "output_type": "execute_result"
    }
   ],
   "source": [
    "pfs.data.DOMAIN.file_name"
   ]
  },
  {
   "cell_type": "code",
   "execution_count": 3,
   "metadata": {},
   "outputs": [
    {
     "data": {
      "text/plain": [
       "2"
      ]
     },
     "execution_count": 3,
     "metadata": {},
     "output_type": "execute_result"
    }
   ],
   "source": [
    "pfs.data.MODULE_SELECTION.mode_of_spectral_wave_module"
   ]
  },
  {
   "cell_type": "code",
   "execution_count": 4,
   "metadata": {},
   "outputs": [
    {
     "data": {
      "text/plain": [
       "16"
      ]
     },
     "execution_count": 4,
     "metadata": {},
     "output_type": "execute_result"
    }
   ],
   "source": [
    "pfs.SW.SPECTRAL.number_of_directions"
   ]
  },
  {
   "cell_type": "code",
   "execution_count": 5,
   "metadata": {},
   "outputs": [
    {
     "data": {
      "text/plain": [
       "0.5959088268863615"
      ]
     },
     "execution_count": 5,
     "metadata": {},
     "output_type": "execute_result"
    }
   ],
   "source": [
    "pfs.SW.SPECTRAL.maximum_threshold_frequency"
   ]
  },
  {
   "cell_type": "markdown",
   "metadata": {},
   "source": [
    "Some common information is also available in tabular form (dataframe)."
   ]
  },
  {
   "cell_type": "code",
   "execution_count": 6,
   "metadata": {},
   "outputs": [
    {
     "data": {
      "text/html": [
       "<div>\n",
       "<style scoped>\n",
       "    .dataframe tbody tr th:only-of-type {\n",
       "        vertical-align: middle;\n",
       "    }\n",
       "\n",
       "    .dataframe tbody tr th {\n",
       "        vertical-align: top;\n",
       "    }\n",
       "\n",
       "    .dataframe thead th {\n",
       "        text-align: right;\n",
       "    }\n",
       "</style>\n",
       "<table border=\"1\" class=\"dataframe\">\n",
       "  <thead>\n",
       "    <tr style=\"text-align: right;\">\n",
       "      <th></th>\n",
       "      <th>Touched</th>\n",
       "      <th>include</th>\n",
       "      <th>title</th>\n",
       "      <th>file_name</th>\n",
       "      <th>type</th>\n",
       "      <th>format</th>\n",
       "      <th>flood_and_dry</th>\n",
       "      <th>coordinate_type</th>\n",
       "      <th>zone</th>\n",
       "      <th>input_file_name</th>\n",
       "      <th>...</th>\n",
       "      <th>last_time_step</th>\n",
       "      <th>time_step_frequency</th>\n",
       "      <th>number_of_points</th>\n",
       "      <th>POINT_1</th>\n",
       "      <th>LINE</th>\n",
       "      <th>AREA</th>\n",
       "      <th>INTEGRAL_WAVE_PARAMETERS</th>\n",
       "      <th>INPUT_PARAMETERS</th>\n",
       "      <th>MODEL_PARAMETERS</th>\n",
       "      <th>SPECTRAL_PARAMETERS</th>\n",
       "    </tr>\n",
       "  </thead>\n",
       "  <tbody>\n",
       "    <tr>\n",
       "      <th>1</th>\n",
       "      <td>1</td>\n",
       "      <td>1</td>\n",
       "      <td>Wave parameters in domain</td>\n",
       "      <td>Wave_parameters.dfsu</td>\n",
       "      <td>1</td>\n",
       "      <td>2</td>\n",
       "      <td>2</td>\n",
       "      <td>UTM-32</td>\n",
       "      <td>0</td>\n",
       "      <td>||</td>\n",
       "      <td>...</td>\n",
       "      <td>450</td>\n",
       "      <td>10</td>\n",
       "      <td>1</td>\n",
       "      <td>{'name': 'POINT_1', 'x': 20000.0, 'y': 20000.0}</td>\n",
       "      <td>{'npoints': 3, 'x_first': 0.0, 'y_first': 0.0,...</td>\n",
       "      <td>{'number_of_points': 4, 'POINT_1': {'x': -400....</td>\n",
       "      <td>{'Touched': 1, 'type_of_spectrum': 1, 'minimum...</td>\n",
       "      <td>{'Touched': 1, 'Surface_elevation': 0, 'Water_...</td>\n",
       "      <td>{'Touched': 1, 'Wind_friction_speed': 0, 'Roug...</td>\n",
       "      <td>{'Touched': 1, 'separation_of_wind_sea_and_swe...</td>\n",
       "    </tr>\n",
       "    <tr>\n",
       "      <th>2</th>\n",
       "      <td>1</td>\n",
       "      <td>0</td>\n",
       "      <td>Wave parameters along line</td>\n",
       "      <td>Wave_line.dfs1</td>\n",
       "      <td>1</td>\n",
       "      <td>1</td>\n",
       "      <td>2</td>\n",
       "      <td>UTM-32</td>\n",
       "      <td>0</td>\n",
       "      <td>||</td>\n",
       "      <td>...</td>\n",
       "      <td>450</td>\n",
       "      <td>10</td>\n",
       "      <td>1</td>\n",
       "      <td>{'name': 'POINT_1', 'x': 20000.0, 'y': 20000.0}</td>\n",
       "      <td>{'npoints': 41, 'x_first': 0.0, 'y_first': 200...</td>\n",
       "      <td>{'number_of_points': 4, 'POINT_1': {'x': -400....</td>\n",
       "      <td>{'Touched': 1, 'type_of_spectrum': 1, 'minimum...</td>\n",
       "      <td>{'Touched': 1, 'Surface_elevation': 0, 'Water_...</td>\n",
       "      <td>{'Touched': 1, 'Wind_friction_speed': 0, 'Roug...</td>\n",
       "      <td>{'Touched': 1, 'separation_of_wind_sea_and_swe...</td>\n",
       "    </tr>\n",
       "    <tr>\n",
       "      <th>3</th>\n",
       "      <td>1</td>\n",
       "      <td>1</td>\n",
       "      <td>Wave parameters  in a point</td>\n",
       "      <td>Waves_x20km_y20km.dfs0</td>\n",
       "      <td>1</td>\n",
       "      <td>0</td>\n",
       "      <td>2</td>\n",
       "      <td>UTM-32</td>\n",
       "      <td>0</td>\n",
       "      <td>||</td>\n",
       "      <td>...</td>\n",
       "      <td>450</td>\n",
       "      <td>1</td>\n",
       "      <td>1</td>\n",
       "      <td>{'name': 'POINT_1', 'x': 38000.0, 'y': 20000.0}</td>\n",
       "      <td>{'npoints': 3, 'x_first': 0.0, 'y_first': 0.0,...</td>\n",
       "      <td>{'number_of_points': 4, 'POINT_1': {'x': -400....</td>\n",
       "      <td>{'Touched': 1, 'type_of_spectrum': 1, 'minimum...</td>\n",
       "      <td>{'Touched': 1, 'Surface_elevation': 0, 'Water_...</td>\n",
       "      <td>{'Touched': 1, 'Wind_friction_speed': 0, 'Roug...</td>\n",
       "      <td>{'Touched': 1, 'separation_of_wind_sea_and_swe...</td>\n",
       "    </tr>\n",
       "    <tr>\n",
       "      <th>4</th>\n",
       "      <td>1</td>\n",
       "      <td>1</td>\n",
       "      <td>Spectrum in a point</td>\n",
       "      <td>spectrum_x20km_y20km.dfsu</td>\n",
       "      <td>4</td>\n",
       "      <td>0</td>\n",
       "      <td>2</td>\n",
       "      <td>UTM-32</td>\n",
       "      <td>0</td>\n",
       "      <td>||</td>\n",
       "      <td>...</td>\n",
       "      <td>450</td>\n",
       "      <td>10</td>\n",
       "      <td>1</td>\n",
       "      <td>{'name': 'POINT_1', 'x': 38000.0, 'y': 20000.0}</td>\n",
       "      <td>{'npoints': 3, 'x_first': 0.0, 'y_first': 0.0,...</td>\n",
       "      <td>{'number_of_points': 4, 'POINT_1': {'x': -400....</td>\n",
       "      <td>{'Touched': 1, 'type_of_spectrum': 1, 'minimum...</td>\n",
       "      <td>{'Touched': 1, 'Surface_elevation': 0, 'Water_...</td>\n",
       "      <td>{'Touched': 1, 'Wind_friction_speed': 0, 'Roug...</td>\n",
       "      <td>{'Touched': 1, 'separation_of_wind_sea_and_swe...</td>\n",
       "    </tr>\n",
       "  </tbody>\n",
       "</table>\n",
       "<p>4 rows × 24 columns</p>\n",
       "</div>"
      ],
      "text/plain": [
       "   Touched  include                        title                  file_name  \\\n",
       "1        1        1    Wave parameters in domain       Wave_parameters.dfsu   \n",
       "2        1        0   Wave parameters along line             Wave_line.dfs1   \n",
       "3        1        1  Wave parameters  in a point     Waves_x20km_y20km.dfs0   \n",
       "4        1        1          Spectrum in a point  spectrum_x20km_y20km.dfsu   \n",
       "\n",
       "   type  format  flood_and_dry coordinate_type  zone input_file_name  ...  \\\n",
       "1     1       2              2          UTM-32     0              ||  ...   \n",
       "2     1       1              2          UTM-32     0              ||  ...   \n",
       "3     1       0              2          UTM-32     0              ||  ...   \n",
       "4     4       0              2          UTM-32     0              ||  ...   \n",
       "\n",
       "   last_time_step  time_step_frequency  number_of_points  \\\n",
       "1             450                   10                 1   \n",
       "2             450                   10                 1   \n",
       "3             450                    1                 1   \n",
       "4             450                   10                 1   \n",
       "\n",
       "                                           POINT_1  \\\n",
       "1  {'name': 'POINT_1', 'x': 20000.0, 'y': 20000.0}   \n",
       "2  {'name': 'POINT_1', 'x': 20000.0, 'y': 20000.0}   \n",
       "3  {'name': 'POINT_1', 'x': 38000.0, 'y': 20000.0}   \n",
       "4  {'name': 'POINT_1', 'x': 38000.0, 'y': 20000.0}   \n",
       "\n",
       "                                                LINE  \\\n",
       "1  {'npoints': 3, 'x_first': 0.0, 'y_first': 0.0,...   \n",
       "2  {'npoints': 41, 'x_first': 0.0, 'y_first': 200...   \n",
       "3  {'npoints': 3, 'x_first': 0.0, 'y_first': 0.0,...   \n",
       "4  {'npoints': 3, 'x_first': 0.0, 'y_first': 0.0,...   \n",
       "\n",
       "                                                AREA  \\\n",
       "1  {'number_of_points': 4, 'POINT_1': {'x': -400....   \n",
       "2  {'number_of_points': 4, 'POINT_1': {'x': -400....   \n",
       "3  {'number_of_points': 4, 'POINT_1': {'x': -400....   \n",
       "4  {'number_of_points': 4, 'POINT_1': {'x': -400....   \n",
       "\n",
       "                            INTEGRAL_WAVE_PARAMETERS  \\\n",
       "1  {'Touched': 1, 'type_of_spectrum': 1, 'minimum...   \n",
       "2  {'Touched': 1, 'type_of_spectrum': 1, 'minimum...   \n",
       "3  {'Touched': 1, 'type_of_spectrum': 1, 'minimum...   \n",
       "4  {'Touched': 1, 'type_of_spectrum': 1, 'minimum...   \n",
       "\n",
       "                                    INPUT_PARAMETERS  \\\n",
       "1  {'Touched': 1, 'Surface_elevation': 0, 'Water_...   \n",
       "2  {'Touched': 1, 'Surface_elevation': 0, 'Water_...   \n",
       "3  {'Touched': 1, 'Surface_elevation': 0, 'Water_...   \n",
       "4  {'Touched': 1, 'Surface_elevation': 0, 'Water_...   \n",
       "\n",
       "                                    MODEL_PARAMETERS  \\\n",
       "1  {'Touched': 1, 'Wind_friction_speed': 0, 'Roug...   \n",
       "2  {'Touched': 1, 'Wind_friction_speed': 0, 'Roug...   \n",
       "3  {'Touched': 1, 'Wind_friction_speed': 0, 'Roug...   \n",
       "4  {'Touched': 1, 'Wind_friction_speed': 0, 'Roug...   \n",
       "\n",
       "                                 SPECTRAL_PARAMETERS  \n",
       "1  {'Touched': 1, 'separation_of_wind_sea_and_swe...  \n",
       "2  {'Touched': 1, 'separation_of_wind_sea_and_swe...  \n",
       "3  {'Touched': 1, 'separation_of_wind_sea_and_swe...  \n",
       "4  {'Touched': 1, 'separation_of_wind_sea_and_swe...  \n",
       "\n",
       "[4 rows x 24 columns]"
      ]
     },
     "execution_count": 6,
     "metadata": {},
     "output_type": "execute_result"
    }
   ],
   "source": [
    "df = pfs.SW.OUTPUTS.to_dataframe()\n",
    "df"
   ]
  },
  {
   "cell_type": "code",
   "execution_count": null,
   "metadata": {},
   "outputs": [],
   "source": []
  }
 ],
 "metadata": {
  "kernelspec": {
   "display_name": "Python 3.10.5 ('base')",
   "language": "python",
   "name": "python3"
  },
  "language_info": {
   "codemirror_mode": {
    "name": "ipython",
    "version": 3
   },
   "file_extension": ".py",
   "mimetype": "text/x-python",
   "name": "python",
   "nbconvert_exporter": "python",
   "pygments_lexer": "ipython3",
   "version": "3.10.5"
  },
  "vscode": {
   "interpreter": {
    "hash": "7aec4f91c09090e98e6ae8203c38529831bb4a3ce54cd1b69639b53cb01a6aa9"
   }
  }
 },
 "nbformat": 4,
 "nbformat_minor": 4
}
