{
 "cells": [
  {
   "cell_type": "markdown",
   "metadata": {},
   "source": [
    "# PFS - experimental support\n",
    "\n",
    "Support for PFS is limited to files with unique subsections. This applies to all files in the MIKE FM family.\n",
    "\n",
    "It is only possible to read files, there is no support for modifying or writing files at this stage."
   ]
  },
  {
   "cell_type": "code",
   "execution_count": 1,
   "metadata": {},
   "outputs": [
    {
     "name": "stderr",
     "output_type": "stream",
     "text": [
      "c:\\users\\jan\\code\\mikeio\\mikeio\\pfs.py:23: UserWarning: Support for PFS files in mikeio is experimental. The API is likely to change!\n",
      "  warnings.warn(\n"
     ]
    }
   ],
   "source": [
    "from mikeio import Pfs\n",
    "\n",
    "pfs = Pfs(\"../tests/testdata/lake.sw\")"
   ]
  },
  {
   "cell_type": "code",
   "execution_count": 2,
   "metadata": {},
   "outputs": [
    {
     "data": {
      "text/plain": [
       "2"
      ]
     },
     "execution_count": 2,
     "metadata": {},
     "output_type": "execute_result"
    }
   ],
   "source": [
    "pfs.data.MODULE_SELECTION.mode_of_spectral_wave_module"
   ]
  },
  {
   "cell_type": "code",
   "execution_count": 3,
   "metadata": {},
   "outputs": [
    {
     "data": {
      "text/plain": [
       "16"
      ]
     },
     "execution_count": 3,
     "metadata": {},
     "output_type": "execute_result"
    }
   ],
   "source": [
    "pfs.data.SW.SPECTRAL.number_of_directions"
   ]
  },
  {
   "cell_type": "code",
   "execution_count": 4,
   "metadata": {},
   "outputs": [
    {
     "data": {
      "text/plain": [
       "0.5959088268863615"
      ]
     },
     "execution_count": 4,
     "metadata": {},
     "output_type": "execute_result"
    }
   ],
   "source": [
    "pfs.data.SW.SPECTRAL.maximum_threshold_frequency"
   ]
  },
  {
   "cell_type": "code",
   "execution_count": 5,
   "metadata": {},
   "outputs": [
    {
     "data": {
      "text/html": [
       "<div>\n",
       "<style scoped>\n",
       "    .dataframe tbody tr th:only-of-type {\n",
       "        vertical-align: middle;\n",
       "    }\n",
       "\n",
       "    .dataframe tbody tr th {\n",
       "        vertical-align: top;\n",
       "    }\n",
       "\n",
       "    .dataframe thead th {\n",
       "        text-align: right;\n",
       "    }\n",
       "</style>\n",
       "<table border=\"1\" class=\"dataframe\">\n",
       "  <thead>\n",
       "    <tr style=\"text-align: right;\">\n",
       "      <th></th>\n",
       "      <th>file_name</th>\n",
       "      <th>include</th>\n",
       "      <th>type</th>\n",
       "      <th>format</th>\n",
       "      <th>first_time_step</th>\n",
       "      <th>last_time_step</th>\n",
       "      <th>use_end_time</th>\n",
       "      <th>time_step_frequency</th>\n",
       "    </tr>\n",
       "  </thead>\n",
       "  <tbody>\n",
       "    <tr>\n",
       "      <th>0</th>\n",
       "      <td>Wave_parameters.dfsu</td>\n",
       "      <td>1</td>\n",
       "      <td>1</td>\n",
       "      <td>2</td>\n",
       "      <td>0</td>\n",
       "      <td>450</td>\n",
       "      <td>1</td>\n",
       "      <td>10</td>\n",
       "    </tr>\n",
       "    <tr>\n",
       "      <th>1</th>\n",
       "      <td>Wave_line.dfs1</td>\n",
       "      <td>0</td>\n",
       "      <td>1</td>\n",
       "      <td>1</td>\n",
       "      <td>0</td>\n",
       "      <td>450</td>\n",
       "      <td>1</td>\n",
       "      <td>10</td>\n",
       "    </tr>\n",
       "    <tr>\n",
       "      <th>2</th>\n",
       "      <td>Waves_x20km_y20km.dfs0</td>\n",
       "      <td>1</td>\n",
       "      <td>1</td>\n",
       "      <td>0</td>\n",
       "      <td>0</td>\n",
       "      <td>450</td>\n",
       "      <td>1</td>\n",
       "      <td>1</td>\n",
       "    </tr>\n",
       "    <tr>\n",
       "      <th>3</th>\n",
       "      <td>spectrum_x20km_y20km.dfsu</td>\n",
       "      <td>1</td>\n",
       "      <td>4</td>\n",
       "      <td>0</td>\n",
       "      <td>0</td>\n",
       "      <td>450</td>\n",
       "      <td>1</td>\n",
       "      <td>10</td>\n",
       "    </tr>\n",
       "  </tbody>\n",
       "</table>\n",
       "</div>"
      ],
      "text/plain": [
       "                   file_name  include  type  format  first_time_step  \\\n",
       "0       Wave_parameters.dfsu        1     1       2                0   \n",
       "1             Wave_line.dfs1        0     1       1                0   \n",
       "2     Waves_x20km_y20km.dfs0        1     1       0                0   \n",
       "3  spectrum_x20km_y20km.dfsu        1     4       0                0   \n",
       "\n",
       "   last_time_step  use_end_time  time_step_frequency  \n",
       "0             450             1                   10  \n",
       "1             450             1                   10  \n",
       "2             450             1                    1  \n",
       "3             450             1                   10  "
      ]
     },
     "execution_count": 5,
     "metadata": {},
     "output_type": "execute_result"
    }
   ],
   "source": [
    "df = pfs.data.SW.get_outputs()\n",
    "df"
   ]
  },
  {
   "source": [
    "# Modify PFS files"
   ],
   "cell_type": "markdown",
   "metadata": {}
  },
  {
   "cell_type": "code",
   "execution_count": 6,
   "metadata": {},
   "outputs": [],
   "source": [
    "from mikeio.pfs import PfsCore\n",
    "\n",
    "pfs = PfsCore(\"../tests/testdata/lake.sw\")\n",
    "\n",
    "wind_section = pfs.section(\"SPECTRAL_WAVE_MODULE\").section(\"WIND\")"
   ]
  },
  {
   "cell_type": "code",
   "execution_count": 8,
   "metadata": {},
   "outputs": [
    {
     "output_type": "execute_result",
     "data": {
      "text/plain": [
       "0.01"
      ]
     },
     "metadata": {},
     "execution_count": 8
    }
   ],
   "source": [
    "wind_section[\"Charnock_parameter\"].value"
   ]
  },
  {
   "cell_type": "code",
   "execution_count": 9,
   "metadata": {},
   "outputs": [
    {
     "output_type": "execute_result",
     "data": {
      "text/plain": [
       "0.02"
      ]
     },
     "metadata": {},
     "execution_count": 9
    }
   ],
   "source": [
    "# modify parameter without needing to specify that the float is a float...\n",
    "wind_section[\"Charnock_parameter\"] = 0.02\n",
    "wind_section[\"Charnock_parameter\"].value\n"
   ]
  },
  {
   "cell_type": "code",
   "execution_count": 10,
   "metadata": {},
   "outputs": [],
   "source": [
    "# modify a filename\n",
    "pfs.section(\"DOMAIN\")[\"file_name\"] = \"tests\\\\testdata\\\\odense_rough.mesh\""
   ]
  },
  {
   "cell_type": "code",
   "execution_count": 13,
   "metadata": {},
   "outputs": [
    {
     "output_type": "execute_result",
     "data": {
      "text/plain": [
       "<Parameter>Wave_parameters.dfsu"
      ]
     },
     "metadata": {},
     "execution_count": 13
    }
   ],
   "source": [
    "# attribute access\n",
    "(pfs.section(\"SPECTRAL_WAVE_MODULE\")\n",
    "    .section(\"OUTPUTS\")\n",
    "    .section(\"OUTPUT_1\")\n",
    "    .file_name)"
   ]
  },
  {
   "cell_type": "code",
   "execution_count": 14,
   "metadata": {},
   "outputs": [],
   "source": [
    "pfs.write(\"lake_mod.sw\")"
   ]
  },
  {
   "source": [
    "# Clean up"
   ],
   "cell_type": "markdown",
   "metadata": {}
  },
  {
   "cell_type": "code",
   "execution_count": 16,
   "metadata": {},
   "outputs": [],
   "source": [
    "import os\n",
    "\n",
    "os.remove(\"lake_mod.sw\")"
   ]
  },
  {
   "cell_type": "code",
   "execution_count": null,
   "metadata": {},
   "outputs": [],
   "source": []
  }
 ],
 "metadata": {
  "kernelspec": {
   "display_name": "Python 3",
   "language": "python",
   "name": "python3"
  },
  "language_info": {
   "codemirror_mode": {
    "name": "ipython",
    "version": 3
   },
   "file_extension": ".py",
   "mimetype": "text/x-python",
   "name": "python",
   "nbconvert_exporter": "python",
   "pygments_lexer": "ipython3",
   "version": "3.8.3-final"
  }
 },
 "nbformat": 4,
 "nbformat_minor": 4
}