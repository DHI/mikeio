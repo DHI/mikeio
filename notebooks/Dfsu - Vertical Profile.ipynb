{
 "cells": [
  {
   "cell_type": "markdown",
   "metadata": {},
   "source": [
    "# Dfsu - Vertical Profile\n",
    "This notebooks demonstrates plotting of vertical profile dfsu. "
   ]
  },
  {
   "cell_type": "code",
   "execution_count": 1,
   "metadata": {},
   "outputs": [],
   "source": [
    "import matplotlib.pyplot as plt\n",
    "from matplotlib_inline.backend_inline import set_matplotlib_formats\n",
    "set_matplotlib_formats('png')\n",
    "\n",
    "import mikeio"
   ]
  },
  {
   "cell_type": "code",
   "execution_count": 2,
   "metadata": {},
   "outputs": [
    {
     "data": {
      "text/plain": [
       "DfsuVerticalProfileSigmaZ\n",
       "Number of elements: 441\n",
       "Number of nodes: 550\n",
       "Projection: UTM-33\n",
       "Number of sigma layers: 4\n",
       "Max number of z layers: 5\n",
       "Items:\n",
       "  0:  Temperature <Temperature> (degree Celsius)\n",
       "  1:  Salinity <Salinity> (PSU)\n",
       "Time: 3 steps with dt=10800.0s\n",
       "      1997-09-15 21:00:00 -- 1997-09-16 03:00:00"
      ]
     },
     "execution_count": 2,
     "metadata": {},
     "output_type": "execute_result"
    }
   ],
   "source": [
    "filename = \"../tests/testdata/oresund_vertical_slice.dfsu\"\n",
    "dfs = mikeio.open(filename)\n",
    "dfs"
   ]
  },
  {
   "cell_type": "code",
   "execution_count": 3,
   "metadata": {},
   "outputs": [],
   "source": [
    "ds = dfs.read()"
   ]
  },
  {
   "cell_type": "code",
   "execution_count": 4,
   "metadata": {},
   "outputs": [],
   "source": [
    "time_step = 1\n",
    "dat = ds['Salinity'][time_step, :]\n",
    "\n",
    "# TODO: not yet implemented!\n",
    "#dfs.plot_vertical_profile(dat, time_step=time_step, title='Salinity across Oresund', label='Salinity [psu]', figsize=(10,6));"
   ]
  },
  {
   "cell_type": "code",
   "execution_count": 5,
   "metadata": {},
   "outputs": [],
   "source": [
    "time_step = 1\n",
    "dat = ds['Salinity'][time_step, :]\n",
    "\n",
    "# TODO: not yet implemented!\n",
    "# dfs.plot_vertical_profile(dat, label='Salinity [psu]', cmin=10, cmax=22, cmap='viridis', edge_color=\"0.3\", figsize=(10,6));"
   ]
  },
  {
   "cell_type": "code",
   "execution_count": 6,
   "metadata": {},
   "outputs": [
    {
     "data": {
      "image/png": "[encoded data removed]",
      "text/plain": [
       "<Figure size 864x432 with 2 Axes>"
      ]
     },
     "metadata": {
      "needs_background": "light"
     },
     "output_type": "display_data"
    }
   ],
   "source": [
    "fig, ax = plt.subplots(1,2,figsize=(12,6))\n",
    "\n",
    "dat = ds['Temperature'][time_step, :]\n",
    "# TODO: not yet implemented!\n",
    "# dfs.plot_vertical_profile(dat, label='Temperature [degC]', ax=ax[0]);\n",
    "\n",
    "dat = ds['Salinity'][time_step, :]\n",
    "# TODO: not yet implemented!\n",
    "# dfs.plot_vertical_profile(dat, label='Salinity [psu]', ax=ax[1]);"
   ]
  }
 ],
 "metadata": {
  "kernelspec": {
   "display_name": "Python 3",
   "name": "python3"
  },
  "language_info": {
   "codemirror_mode": {
    "name": "ipython",
    "version": 3
   },
   "file_extension": ".py",
   "mimetype": "text/x-python",
   "name": "python",
   "nbconvert_exporter": "python",
   "pygments_lexer": "ipython3",
   "version": "3.8.10"
  },
  "orig_nbformat": 2
 },
 "nbformat": 4,
 "nbformat_minor": 2
}
