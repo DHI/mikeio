{
 "cells": [
  {
   "cell_type": "code",
   "execution_count": null,
   "metadata": {},
   "outputs": [],
   "source": [
    "import numpy as np\n",
    "import pandas as pd\n",
    "import mikeio\n",
    "from mikeio import ItemInfo, EUMType, EUMUnit\n"
   ]
  },
  {
   "cell_type": "markdown",
   "metadata": {},
   "source": [
    "# Write a dfs0\n",
    "\n",
    "A mikeio.Dataset contains the information needed to write a dfs file. A Dataset consists of one or more mikeio.DataArrays each corresponding to an \"item\" in a dfs file."
   ]
  },
  {
   "cell_type": "code",
   "execution_count": null,
   "metadata": {},
   "outputs": [],
   "source": [
    "nt = 10\n",
    "time = pd.date_range(\"2000-1-1\", periods=nt, freq='H')\n",
    "\n",
    "d1 = np.zeros(nt)\n",
    "item = ItemInfo(\"Zeros\", EUMType.Water_Level)\n",
    "da1 = mikeio.DataArray(d1, time=time, item=item)\n",
    "\n",
    "d2 = np.ones(nt)\n",
    "item = ItemInfo(\"Ones\", EUMType.Discharge, EUMUnit.meter_pow_3_per_sec)\n",
    "da2 = mikeio.DataArray(d2, time=time, item=item)\n",
    "\n",
    "ds = mikeio.Dataset([da1, da2])\n",
    "ds"
   ]
  },
  {
   "cell_type": "code",
   "execution_count": null,
   "metadata": {},
   "outputs": [],
   "source": [
    "ds.is_equidistant"
   ]
  },
  {
   "cell_type": "code",
   "execution_count": null,
   "metadata": {},
   "outputs": [],
   "source": [
    "ds.to_dfs(\"test.dfs0\", title=\"Zeros and ones\")"
   ]
  },
  {
   "cell_type": "markdown",
   "metadata": {},
   "source": [
    "# Read a timeseries\n",
    "\n",
    "A dfs file is easily read with mikeio.read which returns a Dataset."
   ]
  },
  {
   "cell_type": "code",
   "execution_count": null,
   "metadata": {},
   "outputs": [],
   "source": [
    "ds = mikeio.read(\"test.dfs0\")\n",
    "ds"
   ]
  },
  {
   "cell_type": "markdown",
   "metadata": {},
   "source": [
    "## From comma separated file"
   ]
  },
  {
   "cell_type": "code",
   "execution_count": null,
   "metadata": {},
   "outputs": [],
   "source": [
    "df = pd.read_csv(\"../tests/testdata/co2-mm-mlo.csv\", parse_dates=True, index_col='Date', na_values=-99.99)\n",
    "df.head()"
   ]
  },
  {
   "cell_type": "markdown",
   "metadata": {},
   "source": [
    "Remove missing values"
   ]
  },
  {
   "cell_type": "code",
   "execution_count": null,
   "metadata": {},
   "outputs": [],
   "source": [
    "df = df.dropna()\n",
    "df = df[[\"Average\",\"Trend\"]]\n",
    "df.plot()"
   ]
  },
  {
   "cell_type": "markdown",
   "metadata": {},
   "source": [
    "A dataframe with a datetimeindex can be used to create a dfs0 with a non-equidistant time axis by first converting it to a mikeio.Dataset."
   ]
  },
  {
   "cell_type": "code",
   "execution_count": null,
   "metadata": {},
   "outputs": [],
   "source": [
    "ds = mikeio.from_pandas(df)\n",
    "ds"
   ]
  },
  {
   "cell_type": "markdown",
   "metadata": {},
   "source": [
    "And then write to a dfs0 file:"
   ]
  },
  {
   "cell_type": "code",
   "execution_count": null,
   "metadata": {},
   "outputs": [],
   "source": [
    "ds.to_dfs(\"mauna_loa_co2.dfs0\")"
   ]
  },
  {
   "cell_type": "markdown",
   "metadata": {},
   "source": [
    "To get a equidistant time axis first interpolate to regularly spaced values, in this case daily.\n",
    "\n",
    "*The code for this can be written in many ways, below is an example, where we avoid temporary variables.*"
   ]
  },
  {
   "cell_type": "code",
   "execution_count": null,
   "metadata": {},
   "outputs": [],
   "source": [
    "(\n",
    "df.resample(\"D\") # resample to daily\n",
    "  .interpolate() # interpolate linearly\n",
    "  .pipe(mikeio.from_pandas) # convert to mikeio.Dataset\n",
    "  .to_dfs(\"mauna_loa_co2_daily.dfs0\") # save to dfs0\n",
    " )"
   ]
  },
  {
   "cell_type": "markdown",
   "metadata": {},
   "source": [
    "# Read a timeseries"
   ]
  },
  {
   "cell_type": "code",
   "execution_count": null,
   "metadata": {},
   "outputs": [],
   "source": [
    "res = mikeio.read(\"test.dfs0\")\n",
    "res"
   ]
  },
  {
   "cell_type": "code",
   "execution_count": null,
   "metadata": {},
   "outputs": [],
   "source": [
    "res.time"
   ]
  },
  {
   "cell_type": "code",
   "execution_count": null,
   "metadata": {},
   "outputs": [],
   "source": [
    "res.to_numpy()"
   ]
  },
  {
   "cell_type": "markdown",
   "metadata": {},
   "source": [
    "## Or as a Pandas dataframe\n",
    "\n",
    "A mikeio.Dataset ds is converted to a pandas dataframe with ds.to_dataframe()"
   ]
  },
  {
   "cell_type": "code",
   "execution_count": null,
   "metadata": {},
   "outputs": [],
   "source": [
    "dfs0file = \"../tests/testdata/da_diagnostic.dfs0\"\n",
    "df = mikeio.read(dfs0file).to_dataframe()\n",
    "df.head()"
   ]
  },
  {
   "cell_type": "code",
   "execution_count": null,
   "metadata": {},
   "outputs": [],
   "source": [
    "dfs0file = \"../tests/testdata/random.dfs0\"\n",
    "df = mikeio.read(dfs0file).to_dataframe()\n",
    "df.head()"
   ]
  },
  {
   "cell_type": "markdown",
   "metadata": {},
   "source": [
    "## Create a timeseries with non-equidistant data"
   ]
  },
  {
   "cell_type": "code",
   "execution_count": null,
   "metadata": {},
   "outputs": [],
   "source": [
    "d1 = np.random.uniform(low=0.0, high=5.0, size=5)\n",
    "time = pd.DatetimeIndex([\"2000-1-1\", \"2000-1-8\", \"2000-1-10\", \"2000-2-22\", \"2000-11-29\"])\n",
    "da = mikeio.DataArray(d1, time=time, item=ItemInfo(\"Random\"))\n",
    "da"
   ]
  },
  {
   "cell_type": "code",
   "execution_count": null,
   "metadata": {},
   "outputs": [],
   "source": [
    "da.is_equidistant"
   ]
  },
  {
   "cell_type": "code",
   "execution_count": null,
   "metadata": {},
   "outputs": [],
   "source": [
    "da.to_dfs(\"neq.dfs0\", title=\"Non equidistant\")"
   ]
  },
  {
   "cell_type": "markdown",
   "metadata": {},
   "source": [
    "## Create a timeseries with accumulated timestep"
   ]
  },
  {
   "cell_type": "markdown",
   "metadata": {},
   "source": [
    "## Find correct eum units"
   ]
  },
  {
   "cell_type": "code",
   "execution_count": null,
   "metadata": {},
   "outputs": [],
   "source": [
    "EUMType.search(\"prec\")"
   ]
  },
  {
   "cell_type": "code",
   "execution_count": null,
   "metadata": {},
   "outputs": [],
   "source": [
    "EUMType.Precipitation_Rate.units"
   ]
  },
  {
   "cell_type": "code",
   "execution_count": null,
   "metadata": {},
   "outputs": [],
   "source": [
    "from mikecore.DfsFile import DataValueType\n",
    "\n",
    "n= 1000\n",
    "time = pd.date_range(\"2017-01-01 00:00\", freq='H', periods=n)\n",
    "\n",
    "# use default name and unit based on type\n",
    "item = ItemInfo(EUMType.Water_Level, data_value_type=DataValueType.Instantaneous)\n",
    "da1 = mikeio.DataArray(data=np.random.random([n]), time=time, item=item)\n",
    "\n",
    "# use a custom name\n",
    "item = ItemInfo(\"Nedbør\", EUMType.Precipitation_Rate, data_value_type=DataValueType.Accumulated)\n",
    "da2 = mikeio.DataArray(data=np.random.random([n]), time=time, item=item)\n",
    "\n",
    "ds = mikeio.Dataset([da1, da2])\n",
    "ds.to_dfs('accumulated.dfs0')"
   ]
  },
  {
   "cell_type": "code",
   "execution_count": null,
   "metadata": {},
   "outputs": [],
   "source": [
    "ds = mikeio.read(\"accumulated.dfs0\")\n",
    "ds"
   ]
  },
  {
   "cell_type": "markdown",
   "metadata": {},
   "source": [
    "# Modify an existing timeseries"
   ]
  },
  {
   "cell_type": "code",
   "execution_count": null,
   "metadata": {},
   "outputs": [],
   "source": [
    "ds = mikeio.read(\"test.dfs0\")\n",
    "ds"
   ]
  },
  {
   "cell_type": "code",
   "execution_count": null,
   "metadata": {},
   "outputs": [],
   "source": [
    "ds['Ones']"
   ]
  },
  {
   "cell_type": "markdown",
   "metadata": {},
   "source": [
    "Modify the data in some way..."
   ]
  },
  {
   "cell_type": "code",
   "execution_count": null,
   "metadata": {},
   "outputs": [],
   "source": [
    "ds['Ones'] = ds['Ones']*np.pi\n",
    "ds['Ones'].values"
   ]
  },
  {
   "cell_type": "code",
   "execution_count": null,
   "metadata": {},
   "outputs": [],
   "source": [
    "ds.to_dfs(\"modified.dfs0\")"
   ]
  },
  {
   "cell_type": "code",
   "execution_count": null,
   "metadata": {},
   "outputs": [],
   "source": [
    "res = mikeio.read(\"modified.dfs0\")\n",
    "res['Ones']"
   ]
  },
  {
   "cell_type": "markdown",
   "metadata": {},
   "source": [
    "The second item is not modified."
   ]
  },
  {
   "cell_type": "code",
   "execution_count": null,
   "metadata": {},
   "outputs": [],
   "source": [
    "res['Zeros']"
   ]
  },
  {
   "cell_type": "markdown",
   "metadata": {},
   "source": [
    "## Convert units\n",
    "\n",
    "Read a file with waterlevel i meters."
   ]
  },
  {
   "cell_type": "code",
   "execution_count": null,
   "metadata": {},
   "outputs": [],
   "source": [
    "filename = \"../tests/testdata/waterlevel_viken.dfs0\"\n",
    "# filename = r\"C:\\Program Files (x86)\\DHI\\MIKE Zero\\2021\\Examples\\MIKE_21\\FlowModel_FM\\HD\\Oresund\\Data\\1993\\Boundary_Conditions\\waterlevel_viken.dfs0\"\n",
    "ds = mikeio.read(filename)\n",
    "ds"
   ]
  },
  {
   "cell_type": "code",
   "execution_count": null,
   "metadata": {},
   "outputs": [],
   "source": [
    "ds.plot()"
   ]
  },
  {
   "cell_type": "markdown",
   "metadata": {},
   "source": [
    "The aim is to convert this timeseries to feet (1m = 3.3 ft)"
   ]
  },
  {
   "cell_type": "code",
   "execution_count": null,
   "metadata": {},
   "outputs": [],
   "source": [
    "ds[0] = ds[0]*3.3"
   ]
  },
  {
   "cell_type": "markdown",
   "metadata": {},
   "source": [
    "Which units are acceptable?"
   ]
  },
  {
   "cell_type": "code",
   "execution_count": null,
   "metadata": {},
   "outputs": [],
   "source": [
    "ds.items[0].type.units"
   ]
  },
  {
   "cell_type": "code",
   "execution_count": null,
   "metadata": {},
   "outputs": [],
   "source": [
    "ds[0].item = ItemInfo(\"Viken\", ds[0].item.type, EUMUnit.feet)"
   ]
  },
  {
   "cell_type": "code",
   "execution_count": null,
   "metadata": {},
   "outputs": [],
   "source": [
    "ds.to_dfs(\"wl_feet.dfs0\")"
   ]
  },
  {
   "cell_type": "markdown",
   "metadata": {},
   "source": [
    "![WL](https://github.com/DHI/mikeio/raw/main/images/wl_feet.png)"
   ]
  },
  {
   "cell_type": "markdown",
   "metadata": {},
   "source": [
    "## Extrapolation"
   ]
  },
  {
   "cell_type": "code",
   "execution_count": null,
   "metadata": {},
   "outputs": [],
   "source": [
    "# filename = r\"C:\\Program Files (x86)\\DHI\\MIKE Zero\\2021\\Examples\\MIKE_21\\FlowModel_FM\\HD\\Oresund\\Data\\1993\\Boundary_Conditions\\waterlevel_viken.dfs0\"\n",
    "filename = \"../tests/testdata/waterlevel_viken.dfs0\"\n",
    "ds = mikeio.read(filename)\n",
    "df = ds.to_dataframe()\n",
    "df.plot()"
   ]
  },
  {
   "cell_type": "code",
   "execution_count": null,
   "metadata": {},
   "outputs": [],
   "source": [
    "rng = pd.date_range(\"1993-12-1\",\"1994-1-1\",freq='30t')\n",
    "ix = pd.DatetimeIndex(rng)\n",
    "dfr = df.reindex(ix)\n",
    "dfr.plot()"
   ]
  },
  {
   "cell_type": "markdown",
   "metadata": {},
   "source": [
    "Replace NaN with constant extrapolation (forward fill + back fill)."
   ]
  },
  {
   "cell_type": "code",
   "execution_count": null,
   "metadata": {},
   "outputs": [],
   "source": [
    "dfr = dfr.ffill().bfill()\n",
    "dfr.plot()"
   ]
  },
  {
   "cell_type": "code",
   "execution_count": null,
   "metadata": {},
   "outputs": [],
   "source": [
    "(\n",
    "    mikeio.from_pandas(dfr, items=ds.items)\n",
    "          .to_dfs(\"Viken_extrapolated.dfs0\", title=\"Caution extrapolated data!\")\n",
    ")"
   ]
  },
  {
   "cell_type": "markdown",
   "metadata": {},
   "source": [
    "## Clean up"
   ]
  },
  {
   "cell_type": "code",
   "execution_count": null,
   "metadata": {},
   "outputs": [],
   "source": [
    "import os\n",
    "\n",
    "os.remove(\"test.dfs0\")\n",
    "os.remove(\"modified.dfs0\")\n",
    "os.remove(\"neq.dfs0\")\n",
    "os.remove(\"accumulated.dfs0\")\n",
    "os.remove(\"wl_feet.dfs0\")\n",
    "os.remove(\"mauna_loa_co2_daily.dfs0\")\n",
    "os.remove(\"mauna_loa_co2.dfs0\")\n",
    "os.remove(\"Viken_extrapolated.dfs0\")"
   ]
  }
 ],
 "metadata": {
  "kernelspec": {
   "display_name": "mikeio",
   "language": "python",
   "name": "python3"
  },
  "language_info": {
   "codemirror_mode": {
    "name": "ipython",
    "version": 3
   },
   "file_extension": ".py",
   "mimetype": "text/x-python",
   "name": "python",
   "nbconvert_exporter": "python",
   "pygments_lexer": "ipython3",
   "version": "3.13.0"
  }
 },
 "nbformat": 4,
 "nbformat_minor": 4
}
