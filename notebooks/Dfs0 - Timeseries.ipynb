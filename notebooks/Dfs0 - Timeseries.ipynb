{
 "cells": [
  {
   "cell_type": "code",
   "execution_count": 1,
   "metadata": {},
   "outputs": [],
   "source": [
    "import numpy as np\n",
    "import pandas as pd\n",
    "import mikeio\n",
    "from mikeio import ItemInfo, EUMType, EUMUnit\n"
   ]
  },
  {
   "cell_type": "markdown",
   "metadata": {},
   "source": [
    "# Write a dfs0\n",
    "\n",
    "A mikeio.Dataset contains the information needed to write a dfs file. A Dataset consists of one or more mikeio.DataArrays each corresponding to an \"item\" in a dfs file."
   ]
  },
  {
   "cell_type": "code",
   "execution_count": 2,
   "metadata": {},
   "outputs": [
    {
     "data": {
      "text/plain": [
       "<mikeio.Dataset>\n",
       "dims: (time:10)\n",
       "time: 2000-01-01 00:00:00 - 2000-01-01 09:00:00 (10 records)\n",
       "geometry: GeometryUndefined()\n",
       "items:\n",
       "  0:  Zeros <Water Level> (meter)\n",
       "  1:  Ones <Discharge> (meter pow 3 per sec)"
      ]
     },
     "execution_count": 2,
     "metadata": {},
     "output_type": "execute_result"
    }
   ],
   "source": [
    "nt = 10\n",
    "time = pd.date_range(\"2000-1-1\", periods=nt, freq='H')\n",
    "\n",
    "d1 = np.zeros(nt)\n",
    "item = ItemInfo(\"Zeros\", EUMType.Water_Level)\n",
    "da1 = mikeio.DataArray(d1, time=time, item=item)\n",
    "\n",
    "d2 = np.ones(nt)\n",
    "item = ItemInfo(\"Ones\", EUMType.Discharge, EUMUnit.meter_pow_3_per_sec)\n",
    "da2 = mikeio.DataArray(d2, time=time, item=item)\n",
    "\n",
    "ds = mikeio.Dataset([da1, da2])\n",
    "ds"
   ]
  },
  {
   "cell_type": "code",
   "execution_count": 3,
   "metadata": {},
   "outputs": [
    {
     "data": {
      "text/plain": [
       "True"
      ]
     },
     "execution_count": 3,
     "metadata": {},
     "output_type": "execute_result"
    }
   ],
   "source": [
    "ds.is_equidistant"
   ]
  },
  {
   "cell_type": "code",
   "execution_count": 4,
   "metadata": {},
   "outputs": [],
   "source": [
    "ds.to_dfs(\"test.dfs0\", title=\"Zeros and ones\")"
   ]
  },
  {
   "cell_type": "markdown",
   "metadata": {},
   "source": [
    "# Read a timeseries\n",
    "\n",
    "A dfs file is easily read with mikeio.read which returns a Dataset."
   ]
  },
  {
   "cell_type": "code",
   "execution_count": 5,
   "metadata": {},
   "outputs": [
    {
     "data": {
      "text/plain": [
       "<mikeio.Dataset>\n",
       "dims: (time:10)\n",
       "time: 2000-01-01 00:00:00 - 2000-01-01 09:00:00 (10 records)\n",
       "geometry: GeometryUndefined()\n",
       "items:\n",
       "  0:  Zeros <Water Level> (meter)\n",
       "  1:  Ones <Discharge> (meter pow 3 per sec)"
      ]
     },
     "execution_count": 5,
     "metadata": {},
     "output_type": "execute_result"
    }
   ],
   "source": [
    "ds = mikeio.read(\"test.dfs0\")\n",
    "ds"
   ]
  },
  {
   "cell_type": "markdown",
   "metadata": {},
   "source": [
    "## From comma separated file"
   ]
  },
  {
   "cell_type": "code",
   "execution_count": 6,
   "metadata": {},
   "outputs": [
    {
     "data": {
      "text/html": [
       "<div>\n",
       "<style scoped>\n",
       "    .dataframe tbody tr th:only-of-type {\n",
       "        vertical-align: middle;\n",
       "    }\n",
       "\n",
       "    .dataframe tbody tr th {\n",
       "        vertical-align: top;\n",
       "    }\n",
       "\n",
       "    .dataframe thead th {\n",
       "        text-align: right;\n",
       "    }\n",
       "</style>\n",
       "<table border=\"1\" class=\"dataframe\">\n",
       "  <thead>\n",
       "    <tr style=\"text-align: right;\">\n",
       "      <th></th>\n",
       "      <th>Decimal Date</th>\n",
       "      <th>Average</th>\n",
       "      <th>Interpolated</th>\n",
       "      <th>Trend</th>\n",
       "      <th>Number of Days</th>\n",
       "    </tr>\n",
       "    <tr>\n",
       "      <th>Date</th>\n",
       "      <th></th>\n",
       "      <th></th>\n",
       "      <th></th>\n",
       "      <th></th>\n",
       "      <th></th>\n",
       "    </tr>\n",
       "  </thead>\n",
       "  <tbody>\n",
       "    <tr>\n",
       "      <th>1958-03-01</th>\n",
       "      <td>1958.208</td>\n",
       "      <td>315.71</td>\n",
       "      <td>315.71</td>\n",
       "      <td>314.62</td>\n",
       "      <td>-1</td>\n",
       "    </tr>\n",
       "    <tr>\n",
       "      <th>1958-04-01</th>\n",
       "      <td>1958.292</td>\n",
       "      <td>317.45</td>\n",
       "      <td>317.45</td>\n",
       "      <td>315.29</td>\n",
       "      <td>-1</td>\n",
       "    </tr>\n",
       "    <tr>\n",
       "      <th>1958-05-01</th>\n",
       "      <td>1958.375</td>\n",
       "      <td>317.50</td>\n",
       "      <td>317.50</td>\n",
       "      <td>314.71</td>\n",
       "      <td>-1</td>\n",
       "    </tr>\n",
       "    <tr>\n",
       "      <th>1958-06-01</th>\n",
       "      <td>1958.458</td>\n",
       "      <td>NaN</td>\n",
       "      <td>317.10</td>\n",
       "      <td>314.85</td>\n",
       "      <td>-1</td>\n",
       "    </tr>\n",
       "    <tr>\n",
       "      <th>1958-07-01</th>\n",
       "      <td>1958.542</td>\n",
       "      <td>315.86</td>\n",
       "      <td>315.86</td>\n",
       "      <td>314.98</td>\n",
       "      <td>-1</td>\n",
       "    </tr>\n",
       "  </tbody>\n",
       "</table>\n",
       "</div>"
      ],
      "text/plain": [
       "            Decimal Date  Average  Interpolated   Trend  Number of Days\n",
       "Date                                                                   \n",
       "1958-03-01      1958.208   315.71        315.71  314.62              -1\n",
       "1958-04-01      1958.292   317.45        317.45  315.29              -1\n",
       "1958-05-01      1958.375   317.50        317.50  314.71              -1\n",
       "1958-06-01      1958.458      NaN        317.10  314.85              -1\n",
       "1958-07-01      1958.542   315.86        315.86  314.98              -1"
      ]
     },
     "execution_count": 6,
     "metadata": {},
     "output_type": "execute_result"
    }
   ],
   "source": [
    "df = pd.read_csv(\"../tests/testdata/co2-mm-mlo.csv\", parse_dates=True, index_col='Date', na_values=-99.99)\n",
    "df.head()"
   ]
  },
  {
   "cell_type": "markdown",
   "metadata": {},
   "source": [
    "Remove missing values"
   ]
  },
  {
   "cell_type": "code",
   "execution_count": 7,
   "metadata": {},
   "outputs": [
    {
     "data": {
      "text/plain": [
       "<Axes: xlabel='Date'>"
      ]
     },
     "execution_count": 7,
     "metadata": {},
     "output_type": "execute_result"
    },
    {
     "data": {
      "image/png": "[encoded data removed]",
      "text/plain": [
       "<Figure size 640x480 with 1 Axes>"
      ]
     },
     "metadata": {},
     "output_type": "display_data"
    }
   ],
   "source": [
    "df = df.dropna()\n",
    "df = df[[\"Average\",\"Trend\"]]\n",
    "df.plot()"
   ]
  },
  {
   "cell_type": "markdown",
   "metadata": {},
   "source": [
    "A dataframe with a datetimeindex can be used to create a dfs0 with a non-equidistant time axis by first converting it to a mikeio.Dataset."
   ]
  },
  {
   "cell_type": "code",
   "execution_count": 8,
   "metadata": {},
   "outputs": [
    {
     "data": {
      "text/plain": [
       "<mikeio.Dataset>\n",
       "dims: (time:720)\n",
       "time: 1958-03-01 00:00:00 - 2018-09-01 00:00:00 (720 non-equidistant records)\n",
       "geometry: GeometryUndefined()\n",
       "items:\n",
       "  0:  Average <Undefined> (undefined)\n",
       "  1:  Trend <Undefined> (undefined)"
      ]
     },
     "execution_count": 8,
     "metadata": {},
     "output_type": "execute_result"
    }
   ],
   "source": [
    "ds = mikeio.from_pandas(df)\n",
    "ds"
   ]
  },
  {
   "cell_type": "markdown",
   "metadata": {},
   "source": [
    "And then write to a dfs0 file:"
   ]
  },
  {
   "cell_type": "code",
   "execution_count": 9,
   "metadata": {},
   "outputs": [],
   "source": [
    "ds.to_dfs(\"mauna_loa_co2.dfs0\")"
   ]
  },
  {
   "cell_type": "markdown",
   "metadata": {},
   "source": [
    "To get a equidistant time axis first interpolate to regularly spaced values, in this case daily.\n",
    "\n",
    "*The code for this can be written in many ways, below is an example, where we avoid temporary variables.*"
   ]
  },
  {
   "cell_type": "code",
   "execution_count": 14,
   "metadata": {},
   "outputs": [],
   "source": [
    "(\n",
    "df.resample(\"D\") # resample to daily\n",
    "  .interpolate() # interpolate linearly\n",
    "  .pipe(mikeio.from_pandas) # convert to mikeio.Dataset\n",
    "  .to_dfs(\"mauna_loa_co2_daily.dfs0\") # save to dfs0\n",
    " )"
   ]
  },
  {
   "cell_type": "markdown",
   "metadata": {},
   "source": [
    "# Read a timeseries"
   ]
  },
  {
   "cell_type": "code",
   "execution_count": 11,
   "metadata": {},
   "outputs": [
    {
     "data": {
      "text/plain": [
       "<mikeio.Dataset>\n",
       "dims: (time:10)\n",
       "time: 2000-01-01 00:00:00 - 2000-01-01 09:00:00 (10 records)\n",
       "items:\n",
       "  0:  Zeros <Water Level> (meter)\n",
       "  1:  Ones <Discharge> (meter pow 3 per sec)"
      ]
     },
     "execution_count": 11,
     "metadata": {},
     "output_type": "execute_result"
    }
   ],
   "source": [
    "res = mikeio.read(\"test.dfs0\")\n",
    "res"
   ]
  },
  {
   "cell_type": "code",
   "execution_count": 12,
   "metadata": {},
   "outputs": [
    {
     "data": {
      "text/plain": [
       "DatetimeIndex(['2000-01-01 00:00:00', '2000-01-01 01:00:00',\n",
       "               '2000-01-01 02:00:00', '2000-01-01 03:00:00',\n",
       "               '2000-01-01 04:00:00', '2000-01-01 05:00:00',\n",
       "               '2000-01-01 06:00:00', '2000-01-01 07:00:00',\n",
       "               '2000-01-01 08:00:00', '2000-01-01 09:00:00'],\n",
       "              dtype='datetime64[ns]', freq=None)"
      ]
     },
     "execution_count": 12,
     "metadata": {},
     "output_type": "execute_result"
    }
   ],
   "source": [
    "res.time"
   ]
  },
  {
   "cell_type": "code",
   "execution_count": 13,
   "metadata": {},
   "outputs": [
    {
     "data": {
      "text/plain": [
       "array([[0., 0., 0., 0., 0., 0., 0., 0., 0., 0.],\n",
       "       [1., 1., 1., 1., 1., 1., 1., 1., 1., 1.]])"
      ]
     },
     "execution_count": 13,
     "metadata": {},
     "output_type": "execute_result"
    }
   ],
   "source": [
    "res.to_numpy()"
   ]
  },
  {
   "cell_type": "markdown",
   "metadata": {},
   "source": [
    "## Or as a Pandas dataframe\n",
    "\n",
    "A mikeio.Dataset ds is converted to a pandas dataframe with ds.to_dataframe()"
   ]
  },
  {
   "cell_type": "code",
   "execution_count": 14,
   "metadata": {},
   "outputs": [
    {
     "data": {
      "text/html": [
       "<div>\n",
       "<style scoped>\n",
       "    .dataframe tbody tr th:only-of-type {\n",
       "        vertical-align: middle;\n",
       "    }\n",
       "\n",
       "    .dataframe tbody tr th {\n",
       "        vertical-align: top;\n",
       "    }\n",
       "\n",
       "    .dataframe thead th {\n",
       "        text-align: right;\n",
       "    }\n",
       "</style>\n",
       "<table border=\"1\" class=\"dataframe\">\n",
       "  <thead>\n",
       "    <tr style=\"text-align: right;\">\n",
       "      <th></th>\n",
       "      <th>State 1Sign. Wave Height</th>\n",
       "      <th>State 2Sign. Wave Height</th>\n",
       "      <th>Mean StateSign. Wave Height</th>\n",
       "      <th>MeasurementSign. Wave Height</th>\n",
       "    </tr>\n",
       "  </thead>\n",
       "  <tbody>\n",
       "    <tr>\n",
       "      <th>2017-10-27 00:00:00</th>\n",
       "      <td>1.749465</td>\n",
       "      <td>1.749465</td>\n",
       "      <td>1.749465</td>\n",
       "      <td>1.72</td>\n",
       "    </tr>\n",
       "    <tr>\n",
       "      <th>2017-10-27 00:10:00</th>\n",
       "      <td>1.811340</td>\n",
       "      <td>1.796895</td>\n",
       "      <td>1.807738</td>\n",
       "      <td>NaN</td>\n",
       "    </tr>\n",
       "    <tr>\n",
       "      <th>2017-10-27 00:20:00</th>\n",
       "      <td>1.863424</td>\n",
       "      <td>1.842759</td>\n",
       "      <td>1.853422</td>\n",
       "      <td>NaN</td>\n",
       "    </tr>\n",
       "    <tr>\n",
       "      <th>2017-10-27 00:30:00</th>\n",
       "      <td>1.922261</td>\n",
       "      <td>1.889839</td>\n",
       "      <td>1.897670</td>\n",
       "      <td>NaN</td>\n",
       "    </tr>\n",
       "    <tr>\n",
       "      <th>2017-10-27 00:40:00</th>\n",
       "      <td>1.972455</td>\n",
       "      <td>1.934886</td>\n",
       "      <td>1.935281</td>\n",
       "      <td>NaN</td>\n",
       "    </tr>\n",
       "  </tbody>\n",
       "</table>\n",
       "</div>"
      ],
      "text/plain": [
       "                     State 1Sign. Wave Height  State 2Sign. Wave Height  \\\n",
       "2017-10-27 00:00:00                  1.749465                  1.749465   \n",
       "2017-10-27 00:10:00                  1.811340                  1.796895   \n",
       "2017-10-27 00:20:00                  1.863424                  1.842759   \n",
       "2017-10-27 00:30:00                  1.922261                  1.889839   \n",
       "2017-10-27 00:40:00                  1.972455                  1.934886   \n",
       "\n",
       "                     Mean StateSign. Wave Height  MeasurementSign. Wave Height  \n",
       "2017-10-27 00:00:00                     1.749465                          1.72  \n",
       "2017-10-27 00:10:00                     1.807738                           NaN  \n",
       "2017-10-27 00:20:00                     1.853422                           NaN  \n",
       "2017-10-27 00:30:00                     1.897670                           NaN  \n",
       "2017-10-27 00:40:00                     1.935281                           NaN  "
      ]
     },
     "execution_count": 14,
     "metadata": {},
     "output_type": "execute_result"
    }
   ],
   "source": [
    "dfs0file = \"../tests/testdata/da_diagnostic.dfs0\"\n",
    "df = mikeio.read(dfs0file).to_dataframe()\n",
    "df.head()"
   ]
  },
  {
   "cell_type": "code",
   "execution_count": 15,
   "metadata": {},
   "outputs": [
    {
     "data": {
      "text/html": [
       "<div>\n",
       "<style scoped>\n",
       "    .dataframe tbody tr th:only-of-type {\n",
       "        vertical-align: middle;\n",
       "    }\n",
       "\n",
       "    .dataframe tbody tr th {\n",
       "        vertical-align: top;\n",
       "    }\n",
       "\n",
       "    .dataframe thead th {\n",
       "        text-align: right;\n",
       "    }\n",
       "</style>\n",
       "<table border=\"1\" class=\"dataframe\">\n",
       "  <thead>\n",
       "    <tr style=\"text-align: right;\">\n",
       "      <th></th>\n",
       "      <th>VarFun01</th>\n",
       "      <th>NotFun</th>\n",
       "    </tr>\n",
       "  </thead>\n",
       "  <tbody>\n",
       "    <tr>\n",
       "      <th>2017-01-01 00:00:00</th>\n",
       "      <td>0.843547</td>\n",
       "      <td>0.640486</td>\n",
       "    </tr>\n",
       "    <tr>\n",
       "      <th>2017-01-01 05:00:00</th>\n",
       "      <td>0.093729</td>\n",
       "      <td>0.653257</td>\n",
       "    </tr>\n",
       "    <tr>\n",
       "      <th>2017-01-01 10:00:00</th>\n",
       "      <td>NaN</td>\n",
       "      <td>NaN</td>\n",
       "    </tr>\n",
       "    <tr>\n",
       "      <th>2017-01-01 15:00:00</th>\n",
       "      <td>0.305065</td>\n",
       "      <td>0.214208</td>\n",
       "    </tr>\n",
       "    <tr>\n",
       "      <th>2017-01-01 20:00:00</th>\n",
       "      <td>0.900190</td>\n",
       "      <td>0.999157</td>\n",
       "    </tr>\n",
       "  </tbody>\n",
       "</table>\n",
       "</div>"
      ],
      "text/plain": [
       "                     VarFun01    NotFun\n",
       "2017-01-01 00:00:00  0.843547  0.640486\n",
       "2017-01-01 05:00:00  0.093729  0.653257\n",
       "2017-01-01 10:00:00       NaN       NaN\n",
       "2017-01-01 15:00:00  0.305065  0.214208\n",
       "2017-01-01 20:00:00  0.900190  0.999157"
      ]
     },
     "execution_count": 15,
     "metadata": {},
     "output_type": "execute_result"
    }
   ],
   "source": [
    "dfs0file = \"../tests/testdata/random.dfs0\"\n",
    "df = mikeio.read(dfs0file).to_dataframe()\n",
    "df.head()"
   ]
  },
  {
   "cell_type": "markdown",
   "metadata": {},
   "source": [
    "## Create a timeseries with non-equidistant data"
   ]
  },
  {
   "cell_type": "code",
   "execution_count": 16,
   "metadata": {},
   "outputs": [
    {
     "data": {
      "text/plain": [
       "<mikeio.DataArray>\n",
       "name: Random\n",
       "dims: (time:5)\n",
       "time: 2000-01-01 00:00:00 - 2000-11-29 00:00:00 (5 non-equidistant records)\n",
       "values: [1.646, 1.234, ..., 2.629]"
      ]
     },
     "execution_count": 16,
     "metadata": {},
     "output_type": "execute_result"
    }
   ],
   "source": [
    "d1 = np.random.uniform(low=0.0, high=5.0, size=5)\n",
    "time = pd.DatetimeIndex([\"2000-1-1\", \"2000-1-8\", \"2000-1-10\", \"2000-2-22\", \"2000-11-29\"])\n",
    "da = mikeio.DataArray(d1, time=time, item=ItemInfo(\"Random\"))\n",
    "da"
   ]
  },
  {
   "cell_type": "code",
   "execution_count": 17,
   "metadata": {},
   "outputs": [
    {
     "data": {
      "text/plain": [
       "False"
      ]
     },
     "execution_count": 17,
     "metadata": {},
     "output_type": "execute_result"
    }
   ],
   "source": [
    "da.is_equidistant"
   ]
  },
  {
   "cell_type": "code",
   "execution_count": 18,
   "metadata": {},
   "outputs": [],
   "source": [
    "da.to_dfs(\"neq.dfs0\", title=\"Non equidistant\")"
   ]
  },
  {
   "cell_type": "markdown",
   "metadata": {},
   "source": [
    "## Create a timeseries with accumulated timestep"
   ]
  },
  {
   "cell_type": "markdown",
   "metadata": {},
   "source": [
    "## Find correct eum units"
   ]
  },
  {
   "cell_type": "code",
   "execution_count": 19,
   "metadata": {},
   "outputs": [
    {
     "data": {
      "text/plain": [
       "[Correction of precipitation,\n",
       " Precipitation correction,\n",
       " Precipitation,\n",
       " Specific Precipitation,\n",
       " Precipitation Rate]"
      ]
     },
     "execution_count": 19,
     "metadata": {},
     "output_type": "execute_result"
    }
   ],
   "source": [
    "EUMType.search(\"prec\")"
   ]
  },
  {
   "cell_type": "code",
   "execution_count": 20,
   "metadata": {},
   "outputs": [
    {
     "data": {
      "text/plain": [
       "[mm per day,\n",
       " mm per hour,\n",
       " cm per hour,\n",
       " meter per sec,\n",
       " meter per day,\n",
       " feet per day,\n",
       " inch per hour,\n",
       " inch per min,\n",
       " inch per day,\n",
       " mm per year]"
      ]
     },
     "execution_count": 20,
     "metadata": {},
     "output_type": "execute_result"
    }
   ],
   "source": [
    "EUMType.Precipitation_Rate.units"
   ]
  },
  {
   "cell_type": "code",
   "execution_count": 21,
   "metadata": {},
   "outputs": [],
   "source": [
    "from mikecore.DfsFile import DataValueType\n",
    "\n",
    "n= 1000\n",
    "time = pd.date_range(\"2017-01-01 00:00\", freq='H', periods=n)\n",
    "\n",
    "# use default name and unit based on type\n",
    "item = ItemInfo(EUMType.Water_Level, data_value_type=DataValueType.Instantaneous)\n",
    "da1 = mikeio.DataArray(data=np.random.random([n]), time=time, item=item)\n",
    "\n",
    "# use a custom name\n",
    "item = ItemInfo(\"Nedbør\", EUMType.Precipitation_Rate, data_value_type=DataValueType.Accumulated)\n",
    "da2 = mikeio.DataArray(data=np.random.random([n]), time=time, item=item)\n",
    "\n",
    "ds = mikeio.Dataset([da1, da2])\n",
    "ds.to_dfs('accumulated.dfs0')"
   ]
  },
  {
   "cell_type": "code",
   "execution_count": 22,
   "metadata": {},
   "outputs": [
    {
     "data": {
      "text/plain": [
       "<mikeio.Dataset>\n",
       "dims: (time:1000)\n",
       "time: 2017-01-01 00:00:00 - 2017-02-11 15:00:00 (1000 records)\n",
       "items:\n",
       "  0:  Water Level <Water Level> (meter)\n",
       "  1:  Nedbør <Precipitation Rate> (mm per day) - 1"
      ]
     },
     "execution_count": 22,
     "metadata": {},
     "output_type": "execute_result"
    }
   ],
   "source": [
    "ds = mikeio.read(\"accumulated.dfs0\")\n",
    "ds"
   ]
  },
  {
   "cell_type": "markdown",
   "metadata": {},
   "source": [
    "# Modify an existing timeseries"
   ]
  },
  {
   "cell_type": "code",
   "execution_count": 23,
   "metadata": {},
   "outputs": [
    {
     "data": {
      "text/plain": [
       "<mikeio.Dataset>\n",
       "dims: (time:10)\n",
       "time: 2000-01-01 00:00:00 - 2000-01-01 09:00:00 (10 records)\n",
       "items:\n",
       "  0:  Zeros <Water Level> (meter)\n",
       "  1:  Ones <Discharge> (meter pow 3 per sec)"
      ]
     },
     "execution_count": 23,
     "metadata": {},
     "output_type": "execute_result"
    }
   ],
   "source": [
    "ds = mikeio.read(\"test.dfs0\")\n",
    "ds"
   ]
  },
  {
   "cell_type": "code",
   "execution_count": 24,
   "metadata": {},
   "outputs": [
    {
     "data": {
      "text/plain": [
       "<mikeio.DataArray>\n",
       "name: Ones\n",
       "dims: (time:10)\n",
       "time: 2000-01-01 00:00:00 - 2000-01-01 09:00:00 (10 records)\n",
       "values: [1, 1, ..., 1]"
      ]
     },
     "execution_count": 24,
     "metadata": {},
     "output_type": "execute_result"
    }
   ],
   "source": [
    "ds['Ones']"
   ]
  },
  {
   "cell_type": "markdown",
   "metadata": {},
   "source": [
    "Modify the data in some way..."
   ]
  },
  {
   "cell_type": "code",
   "execution_count": 25,
   "metadata": {},
   "outputs": [
    {
     "data": {
      "text/plain": [
       "array([3.14159265, 3.14159265, 3.14159265, 3.14159265, 3.14159265,\n",
       "       3.14159265, 3.14159265, 3.14159265, 3.14159265, 3.14159265])"
      ]
     },
     "execution_count": 25,
     "metadata": {},
     "output_type": "execute_result"
    }
   ],
   "source": [
    "ds['Ones'] = ds['Ones']*np.pi\n",
    "ds['Ones'].values"
   ]
  },
  {
   "cell_type": "code",
   "execution_count": 26,
   "metadata": {},
   "outputs": [],
   "source": [
    "ds.to_dfs(\"modified.dfs0\")"
   ]
  },
  {
   "cell_type": "code",
   "execution_count": 27,
   "metadata": {},
   "outputs": [
    {
     "data": {
      "text/plain": [
       "<mikeio.DataArray>\n",
       "name: Ones\n",
       "dims: (time:10)\n",
       "time: 2000-01-01 00:00:00 - 2000-01-01 09:00:00 (10 records)\n",
       "values: [3.142, 3.142, ..., 3.142]"
      ]
     },
     "execution_count": 27,
     "metadata": {},
     "output_type": "execute_result"
    }
   ],
   "source": [
    "res = mikeio.read(\"modified.dfs0\")\n",
    "res['Ones']"
   ]
  },
  {
   "cell_type": "markdown",
   "metadata": {},
   "source": [
    "The second item is not modified."
   ]
  },
  {
   "cell_type": "code",
   "execution_count": 28,
   "metadata": {},
   "outputs": [
    {
     "data": {
      "text/plain": [
       "<mikeio.DataArray>\n",
       "name: Zeros\n",
       "dims: (time:10)\n",
       "time: 2000-01-01 00:00:00 - 2000-01-01 09:00:00 (10 records)\n",
       "values: [0, 0, ..., 0]"
      ]
     },
     "execution_count": 28,
     "metadata": {},
     "output_type": "execute_result"
    }
   ],
   "source": [
    "res['Zeros']"
   ]
  },
  {
   "cell_type": "markdown",
   "metadata": {},
   "source": [
    "## Convert units\n",
    "\n",
    "Read a file with waterlevel i meters."
   ]
  },
  {
   "cell_type": "code",
   "execution_count": 29,
   "metadata": {},
   "outputs": [
    {
     "data": {
      "text/plain": [
       "<mikeio.Dataset>\n",
       "dims: (time:577)\n",
       "time: 1993-12-02 00:00:00 - 1993-12-14 00:00:00 (577 records)\n",
       "items:\n",
       "  0:  ST 2: WL (m) <Water Level> (meter)"
      ]
     },
     "execution_count": 29,
     "metadata": {},
     "output_type": "execute_result"
    }
   ],
   "source": [
    "filename = \"../tests/testdata/waterlevel_viken.dfs0\"\n",
    "# filename = r\"C:\\Program Files (x86)\\DHI\\MIKE Zero\\2021\\Examples\\MIKE_21\\FlowModel_FM\\HD\\Oresund\\Data\\1993\\Boundary_Conditions\\waterlevel_viken.dfs0\"\n",
    "ds = mikeio.read(filename)\n",
    "ds"
   ]
  },
  {
   "cell_type": "code",
   "execution_count": 30,
   "metadata": {},
   "outputs": [
    {
     "data": {
      "image/png": "[encoded data removed]",
      "text/plain": [
       "<Figure size 432x288 with 1 Axes>"
      ]
     },
     "metadata": {
      "needs_background": "light"
     },
     "output_type": "display_data"
    }
   ],
   "source": [
    "ds.plot()"
   ]
  },
  {
   "cell_type": "markdown",
   "metadata": {},
   "source": [
    "The aim is to convert this timeseries to feet (1m = 3.3 ft)"
   ]
  },
  {
   "cell_type": "code",
   "execution_count": 31,
   "metadata": {},
   "outputs": [],
   "source": [
    "ds[0] = ds[0]*3.3"
   ]
  },
  {
   "cell_type": "markdown",
   "metadata": {},
   "source": [
    "Which units are acceptable?"
   ]
  },
  {
   "cell_type": "code",
   "execution_count": 32,
   "metadata": {},
   "outputs": [
    {
     "data": {
      "text/plain": [
       "[meter,\n",
       " kilometer,\n",
       " centimeter,\n",
       " millimeter,\n",
       " feet,\n",
       " feet US,\n",
       " inch,\n",
       " inch US,\n",
       " mile,\n",
       " mile US,\n",
       " yard,\n",
       " yard US]"
      ]
     },
     "execution_count": 32,
     "metadata": {},
     "output_type": "execute_result"
    }
   ],
   "source": [
    "ds.items[0].type.units"
   ]
  },
  {
   "cell_type": "code",
   "execution_count": 33,
   "metadata": {},
   "outputs": [],
   "source": [
    "ds[0].item = ItemInfo(\"Viken\", ds[0].item.type, EUMUnit.feet)"
   ]
  },
  {
   "cell_type": "code",
   "execution_count": 34,
   "metadata": {},
   "outputs": [],
   "source": [
    "ds.to_dfs(\"wl_feet.dfs0\")"
   ]
  },
  {
   "cell_type": "markdown",
   "metadata": {},
   "source": [
    "![WL](https://github.com/DHI/mikeio/raw/main/images/wl_feet.png)"
   ]
  },
  {
   "cell_type": "markdown",
   "metadata": {},
   "source": [
    "## Extrapolation"
   ]
  },
  {
   "cell_type": "code",
   "execution_count": 35,
   "metadata": {},
   "outputs": [
    {
     "data": {
      "text/plain": [
       "<AxesSubplot:>"
      ]
     },
     "execution_count": 35,
     "metadata": {},
     "output_type": "execute_result"
    },
    {
     "data": {
      "image/png": "[encoded data removed]",
      "text/plain": [
       "<Figure size 432x288 with 1 Axes>"
      ]
     },
     "metadata": {
      "needs_background": "light"
     },
     "output_type": "display_data"
    }
   ],
   "source": [
    "# filename = r\"C:\\Program Files (x86)\\DHI\\MIKE Zero\\2021\\Examples\\MIKE_21\\FlowModel_FM\\HD\\Oresund\\Data\\1993\\Boundary_Conditions\\waterlevel_viken.dfs0\"\n",
    "filename = \"../tests/testdata/waterlevel_viken.dfs0\"\n",
    "ds = mikeio.read(filename)\n",
    "df = ds.to_dataframe()\n",
    "df.plot()"
   ]
  },
  {
   "cell_type": "code",
   "execution_count": 36,
   "metadata": {},
   "outputs": [
    {
     "data": {
      "text/plain": [
       "<AxesSubplot:>"
      ]
     },
     "execution_count": 36,
     "metadata": {},
     "output_type": "execute_result"
    },
    {
     "data": {
      "image/png": "[encoded data removed]",
      "text/plain": [
       "<Figure size 432x288 with 1 Axes>"
      ]
     },
     "metadata": {
      "needs_background": "light"
     },
     "output_type": "display_data"
    }
   ],
   "source": [
    "rng = pd.date_range(\"1993-12-1\",\"1994-1-1\",freq='30t')\n",
    "ix = pd.DatetimeIndex(rng)\n",
    "dfr = df.reindex(ix)\n",
    "dfr.plot()"
   ]
  },
  {
   "cell_type": "markdown",
   "metadata": {},
   "source": [
    "Replace NaN with constant extrapolation (forward fill + back fill)."
   ]
  },
  {
   "cell_type": "code",
   "execution_count": 37,
   "metadata": {},
   "outputs": [
    {
     "data": {
      "text/plain": [
       "<AxesSubplot:>"
      ]
     },
     "execution_count": 37,
     "metadata": {},
     "output_type": "execute_result"
    },
    {
     "data": {
      "image/png": "[encoded data removed]",
      "text/plain": [
       "<Figure size 432x288 with 1 Axes>"
      ]
     },
     "metadata": {
      "needs_background": "light"
     },
     "output_type": "display_data"
    }
   ],
   "source": [
    "dfr = dfr.ffill().bfill()\n",
    "dfr.plot()"
   ]
  },
  {
   "cell_type": "code",
   "execution_count": 38,
   "metadata": {},
   "outputs": [],
   "source": [
    "dfr.to_dfs0(\"Viken_extrapolated.dfs0\", \n",
    "            items=ds.items, \n",
    "            title=\"Caution extrapolated data!\"\n",
    "            )"
   ]
  },
  {
   "cell_type": "markdown",
   "metadata": {},
   "source": [
    "## Clean up"
   ]
  },
  {
   "cell_type": "code",
   "execution_count": 39,
   "metadata": {},
   "outputs": [],
   "source": [
    "import os\n",
    "\n",
    "os.remove(\"test.dfs0\")\n",
    "os.remove(\"modified.dfs0\")\n",
    "os.remove(\"neq.dfs0\")\n",
    "os.remove(\"accumulated.dfs0\")\n",
    "os.remove(\"wl_feet.dfs0\")\n",
    "os.remove(\"mauna_loa_co2_eq_1hr.dfs0\")\n",
    "os.remove(\"mauna_loa_co2.dfs0\")\n",
    "os.remove(\"Viken_extrapolated.dfs0\")"
   ]
  }
 ],
 "metadata": {
  "interpreter": {
   "hash": "ce8098af3ce22f00283f2dbf9dff06733072d21f076b7f034380a2cf9868eeaa"
  },
  "kernelspec": {
   "display_name": "Python 3.8.10 ('base')",
   "language": "python",
   "name": "python3"
  },
  "language_info": {
   "codemirror_mode": {
    "name": "ipython",
    "version": 3
   },
   "file_extension": ".py",
   "mimetype": "text/x-python",
   "name": "python",
   "nbconvert_exporter": "python",
   "pygments_lexer": "ipython3",
   "version": "3.10.12"
  }
 },
 "nbformat": 4,
 "nbformat_minor": 4
}
