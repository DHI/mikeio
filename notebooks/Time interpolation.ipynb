{
 "cells": [
  {
   "cell_type": "markdown",
   "metadata": {},
   "source": [
    "#  Time interpolation"
   ]
  },
  {
   "cell_type": "code",
   "execution_count": 1,
   "metadata": {},
   "outputs": [
    {
     "data": {
      "text/plain": [
       "<mikeio.Dfs2>\n",
       "dx: 50.00000\n",
       "dy: 50.00000\n",
       "Items:\n",
       "  0:  Sign. Wave Height <Significant wave height> (meter)\n",
       "  1:  Peak Wave Period <Wave period> (second)\n",
       "  2:  Mean Wave Direction <Mean Wave Direction> (degree)\n",
       "Time: 3 steps\n",
       "Start time: 2004-01-01 00:00:00"
      ]
     },
     "execution_count": 1,
     "metadata": {},
     "output_type": "execute_result"
    }
   ],
   "source": [
    "import numpy as np\n",
    "\n",
    "from mikeio import Dfs2\n",
    "\n",
    "dfs2 = Dfs2(\"../tests/testdata/waves.dfs2\")\n",
    "dfs2"
   ]
  },
  {
   "cell_type": "code",
   "execution_count": 2,
   "metadata": {},
   "outputs": [
    {
     "data": {
      "text/plain": [
       "<mikeio.Dataset>\n",
       "Dimensions: (3, 31, 31)\n",
       "Time: 2004-01-01 00:00:00 - 2004-01-03 00:00:00\n",
       "Items:\n",
       "  0:  Sign. Wave Height <Significant wave height> (meter)\n",
       "  1:  Peak Wave Period <Wave period> (second)\n",
       "  2:  Mean Wave Direction <Mean Wave Direction> (degree)"
      ]
     },
     "execution_count": 2,
     "metadata": {},
     "output_type": "execute_result"
    }
   ],
   "source": [
    "ds = dfs2.read()\n",
    "ds"
   ]
  },
  {
   "cell_type": "markdown",
   "metadata": {},
   "source": [
    "## Interpolate to specific timestep"
   ]
  },
  {
   "cell_type": "code",
   "execution_count": 3,
   "metadata": {},
   "outputs": [
    {
     "data": {
      "text/plain": [
       "<mikeio.Dataset>\n",
       "Dimensions: (49, 31, 31)\n",
       "Time: 2004-01-01 00:00:00 - 2004-01-03 00:00:00\n",
       "Items:\n",
       "  0:  Sign. Wave Height <Significant wave height> (meter)\n",
       "  1:  Peak Wave Period <Wave period> (second)\n",
       "  2:  Mean Wave Direction <Mean Wave Direction> (degree)"
      ]
     },
     "execution_count": 3,
     "metadata": {},
     "output_type": "execute_result"
    }
   ],
   "source": [
    "ds_h = ds.interp_time(3600)\n",
    "ds_h"
   ]
  },
  {
   "cell_type": "code",
   "execution_count": 4,
   "metadata": {},
   "outputs": [],
   "source": [
    "dfs2.write(\"waves_3h.dfs2\",ds_h)"
   ]
  },
  {
   "cell_type": "markdown",
   "metadata": {},
   "source": [
    "## Interpolate to time axis of another dataset"
   ]
  },
  {
   "cell_type": "markdown",
   "metadata": {},
   "source": [
    "Read some non-equidistant \"observations\"."
   ]
  },
  {
   "cell_type": "code",
   "execution_count": 5,
   "metadata": {},
   "outputs": [
    {
     "data": {
      "text/plain": [
       "<mikeio.Dataset>\n",
       "Dimensions: (24,)\n",
       "Time: 2004-01-01 01:00:00 - 2004-01-03 12:00:10\n",
       "-- Non-equidistant calendar axis --\n",
       "Items:\n",
       "  0:  Sign. Wave Height <Undefined> (undefined)\n",
       "  1:  Peak Wave Period <Undefined> (undefined)\n",
       "  2:  Mean Wave Direction <Undefined> (undefined)"
      ]
     },
     "execution_count": 5,
     "metadata": {},
     "output_type": "execute_result"
    }
   ],
   "source": [
    "from mikeio import Dfs0\n",
    "\n",
    "dfs0 = Dfs0(\"../tests/testdata/waves.dfs0\")\n",
    "ts = dfs0.read()\n",
    "ts"
   ]
  },
  {
   "cell_type": "markdown",
   "metadata": {},
   "source": [
    "The observed timeseries is longer than the modelled data. Default is to fill values with NaN."
   ]
  },
  {
   "cell_type": "code",
   "execution_count": 6,
   "metadata": {},
   "outputs": [],
   "source": [
    "dsi = ds.interp_time(ts.time)"
   ]
  },
  {
   "cell_type": "code",
   "execution_count": 7,
   "metadata": {},
   "outputs": [
    {
     "data": {
      "text/plain": [
       "array([0.06543457, 0.06661261, 0.06779064, 0.06896868, 0.07014672,\n",
       "       0.07132475, 0.07250279, 0.07368083, 0.09135137, 0.09252941,\n",
       "       0.09108364, 0.08963786, 0.08819209, 0.08674632, 0.08530055,\n",
       "       0.08385478, 0.082409  , 0.08096323, 0.07951746, 0.06361397,\n",
       "       0.0621682 , 0.05927665, 0.05783088,        nan])"
      ]
     },
     "execution_count": 7,
     "metadata": {},
     "output_type": "execute_result"
    }
   ],
   "source": [
    "dsi[\"Sign. Wave Height\"][:,1,0]"
   ]
  },
  {
   "cell_type": "code",
   "execution_count": 8,
   "metadata": {},
   "outputs": [
    {
     "data": {
      "text/plain": [
       "(24, 31, 31)"
      ]
     },
     "execution_count": 8,
     "metadata": {},
     "output_type": "execute_result"
    }
   ],
   "source": [
    "dsi[\"Sign. Wave Height\"].shape"
   ]
  },
  {
   "cell_type": "code",
   "execution_count": 9,
   "metadata": {},
   "outputs": [
    {
     "data": {
      "image/png": "[encoded data removed]",
      "text/plain": [
       "<Figure size 432x288 with 1 Axes>"
      ]
     },
     "metadata": {
      "needs_background": "light"
     },
     "output_type": "display_data"
    }
   ],
   "source": [
    "import matplotlib.pyplot as plt\n",
    "\n",
    "plt.plot(ts.time,ts[\"Sign. Wave Height\"],'k*',label=\"Observation\")\n",
    "plt.plot(dsi.time, dsi[\"Sign. Wave Height\"][:,1,0],'r+-',label=\"Model\")\n",
    "plt.gcf().autofmt_xdate()"
   ]
  },
  {
   "cell_type": "markdown",
   "metadata": {},
   "source": [
    "## Mean absolute error\n",
    "Use `np.nanmean` to skip NaN."
   ]
  },
  {
   "cell_type": "code",
   "execution_count": 10,
   "metadata": {},
   "outputs": [
    {
     "data": {
      "text/plain": [
       "0.0008009996575613816"
      ]
     },
     "execution_count": 10,
     "metadata": {},
     "output_type": "execute_result"
    }
   ],
   "source": [
    "mae = np.nanmean(np.abs(ts[\"Sign. Wave Height\"] - dsi[\"Sign. Wave Height\"][:,1,0]))\n",
    "mae"
   ]
  },
  {
   "cell_type": "markdown",
   "metadata": {},
   "source": [
    "# Clean up"
   ]
  },
  {
   "cell_type": "code",
   "execution_count": 11,
   "metadata": {},
   "outputs": [],
   "source": [
    "import os\n",
    "os.remove(\"waves_3h.dfs2\")"
   ]
  },
  {
   "cell_type": "code",
   "execution_count": null,
   "metadata": {},
   "outputs": [],
   "source": []
  }
 ],
 "metadata": {
  "kernelspec": {
   "display_name": "Python 3 (ipykernel)",
   "language": "python",
   "name": "python3"
  },
  "language_info": {
   "codemirror_mode": {
    "name": "ipython",
    "version": 3
   },
   "file_extension": ".py",
   "mimetype": "text/x-python",
   "name": "python",
   "nbconvert_exporter": "python",
   "pygments_lexer": "ipython3",
   "version": "3.8.10"
  }
 },
 "nbformat": 4,
 "nbformat_minor": 4
}
