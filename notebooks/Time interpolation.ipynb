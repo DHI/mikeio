{
 "metadata": {
  "language_info": {
   "codemirror_mode": {
    "name": "ipython",
    "version": 3
   },
   "file_extension": ".py",
   "mimetype": "text/x-python",
   "name": "python",
   "nbconvert_exporter": "python",
   "pygments_lexer": "ipython3",
   "version": "3.7.7-final"
  },
  "orig_nbformat": 2,
  "kernelspec": {
   "name": "python_defaultSpec_1601406133647",
   "display_name": "Python 3.8.3 64-bit ('base': conda)"
  }
 },
 "nbformat": 4,
 "nbformat_minor": 2,
 "cells": [
  {
   "source": [
    "#  Time interpolation"
   ],
   "cell_type": "markdown",
   "metadata": {}
  },
  {
   "cell_type": "code",
   "execution_count": 4,
   "metadata": {},
   "outputs": [
    {
     "output_type": "execute_result",
     "data": {
      "text/plain": "Dfs2\ndx: 50.00000\ndy: 50.00000\nItems:\n  0:  Sign. Wave Height <Significant wave height> (meter)\n  1:  Peak Wave Period <Wave period> (second)\n  2:  Mean Wave Direction <Mean Wave Direction> (degree)\nTime: 3 steps\nStart time: 2004-01-01 00:00:00"
     },
     "metadata": {},
     "execution_count": 4
    }
   ],
   "source": [
    "import numpy as np\n",
    "\n",
    "from mikeio import Dfs2\n",
    "\n",
    "dfs2 = Dfs2(\"../tests/testdata/waves.dfs2\")\n",
    "dfs2"
   ]
  },
  {
   "cell_type": "code",
   "execution_count": 5,
   "metadata": {},
   "outputs": [
    {
     "output_type": "execute_result",
     "data": {
      "text/plain": "<mikeio.DataSet>\nDimensions: (3, 31, 31)\nTime: 2004-01-01 00:00:00 - 2004-01-03 00:00:00\nItems:\n  0:  Sign. Wave Height <Significant wave height> (meter)\n  1:  Peak Wave Period <Wave period> (second)\n  2:  Mean Wave Direction <Mean Wave Direction> (degree)"
     },
     "metadata": {},
     "execution_count": 5
    }
   ],
   "source": [
    "ds = dfs2.read()\n",
    "ds"
   ]
  },
  {
   "source": [
    "## Interpolate to specific timestep"
   ],
   "cell_type": "markdown",
   "metadata": {}
  },
  {
   "cell_type": "code",
   "execution_count": 6,
   "metadata": {},
   "outputs": [
    {
     "output_type": "execute_result",
     "data": {
      "text/plain": "<mikeio.DataSet>\nDimensions: (49, 31, 31)\nTime: 2004-01-01 00:00:00 - 2004-01-03 00:00:00\nItems:\n  0:  Sign. Wave Height <Significant wave height> (meter)\n  1:  Peak Wave Period <Wave period> (second)\n  2:  Mean Wave Direction <Mean Wave Direction> (degree)"
     },
     "metadata": {},
     "execution_count": 6
    }
   ],
   "source": [
    "ds_h = ds.interp_time(3600)\n",
    "ds_h"
   ]
  },
  {
   "cell_type": "code",
   "execution_count": 7,
   "metadata": {},
   "outputs": [],
   "source": [
    "dfs2.write(\"waves_3h.dfs2\",ds_h)"
   ]
  },
  {
   "source": [
    "## Interpolate to time axis of another dataset"
   ],
   "cell_type": "markdown",
   "metadata": {}
  },
  {
   "source": [
    "Read some non-equidistant \"observations\"."
   ],
   "cell_type": "markdown",
   "metadata": {}
  },
  {
   "cell_type": "code",
   "execution_count": 8,
   "metadata": {},
   "outputs": [
    {
     "output_type": "execute_result",
     "data": {
      "text/plain": "<mikeio.DataSet>\nDimensions: (24,)\nTime: 2004-01-01 01:00:00 - 2004-01-03 12:00:10\nItems:\n  0:  Sign. Wave Height <Undefined> (undefined)\n  1:  Peak Wave Period <Undefined> (undefined)\n  2:  Mean Wave Direction <Undefined> (undefined)"
     },
     "metadata": {},
     "execution_count": 8
    }
   ],
   "source": [
    "from mikeio import Dfs0\n",
    "\n",
    "dfs0 = Dfs0(\"../tests/testdata/waves.dfs0\")\n",
    "ts = dfs0.read()\n",
    "ts"
   ]
  },
  {
   "source": [
    "The observed timeseries is longer than the modelled data. Default is to fill values with NaN."
   ],
   "cell_type": "markdown",
   "metadata": {}
  },
  {
   "cell_type": "code",
   "execution_count": 9,
   "metadata": {},
   "outputs": [],
   "source": [
    "dsi = ds.interp_time(ts.time)"
   ]
  },
  {
   "cell_type": "code",
   "execution_count": 10,
   "metadata": {},
   "outputs": [
    {
     "output_type": "execute_result",
     "data": {
      "text/plain": "array([0.06543457, 0.06661261, 0.06779064, 0.06896868, 0.07014672,\n       0.07132475, 0.07250279, 0.07368083, 0.09135137, 0.09252941,\n       0.09108364, 0.08963786, 0.08819209, 0.08674632, 0.08530055,\n       0.08385478, 0.082409  , 0.08096323, 0.07951746, 0.06361397,\n       0.0621682 , 0.05927665, 0.05783088,        nan])"
     },
     "metadata": {},
     "execution_count": 10
    }
   ],
   "source": [
    "dsi[\"Sign. Wave Height\"][:,1,0]"
   ]
  },
  {
   "cell_type": "code",
   "execution_count": 11,
   "metadata": {},
   "outputs": [
    {
     "output_type": "execute_result",
     "data": {
      "text/plain": "(24, 31, 31)"
     },
     "metadata": {},
     "execution_count": 11
    }
   ],
   "source": [
    "dsi[\"Sign. Wave Height\"].shape"
   ]
  },
  {
   "cell_type": "code",
   "execution_count": 12,
   "metadata": {},
   "outputs": [
    {
     "output_type": "execute_result",
     "data": {
      "text/plain": "[<matplotlib.lines.Line2D at 0x2312d8dc048>]"
     },
     "metadata": {},
     "execution_count": 12
    },
    {
     "output_type": "display_data",
     "data": {
      "text/plain": "<Figure size 432x288 with 1 Axes>",
      "image/svg+xml": "<?xml version=\"1.0\" encoding=\"utf-8\" standalone=\"no\"?>\r\n<!DOCTYPE svg PUBLIC \"-//W3C//DTD SVG 1.1//EN\"\r\n  \"http://www.w3.org/Graphics/SVG/1.1/DTD/svg11.dtd\">\r\n<!-- Created with matplotlib (https://matplotlib.org/) -->\r\n<svg height=\"248.518125pt\" version=\"1.1\" viewBox=\"0 0 397.286239 248.518125\" width=\"397.286239pt\" xmlns=\"http://www.w3.org/2000/svg\" xmlns:xlink=\"http://www.w3.org/1999/xlink\">\r\n <defs>\r\n  <style type=\"text/css\">\r\n*{stroke-linecap:butt;stroke-linejoin:round;}\r\n  </style>\r\n </defs>\r\n <g id=\"figure_1\">\r\n  <g id=\"patch_1\">\r\n   <path d=\"M 0 248.518125 \r\nL 397.286239 248.518125 \r\nL 397.286239 0 \r\nL 0 0 \r\nz\r\n\" style=\"fill:none;\"/>\r\n  </g>\r\n  <g id=\"axes_1\">\r\n   <g id=\"patch_2\">\r\n    <path d=\"M 45.829688 224.64 \r\nL 380.629688 224.64 \r\nL 380.629688 7.2 \r\nL 45.829688 7.2 \r\nz\r\n\" style=\"fill:#ffffff;\"/>\r\n   </g>\r\n   <g id=\"matplotlib.axis_1\">\r\n    <g id=\"xtick_1\">\r\n     <g id=\"line2d_1\">\r\n      <defs>\r\n       <path d=\"M 0 0 \r\nL 0 3.5 \r\n\" id=\"mbf10030641\" style=\"stroke:#000000;stroke-width:0.8;\"/>\r\n      </defs>\r\n      <g>\r\n       <use style=\"stroke:#000000;stroke-width:0.8;\" x=\"55.889406\" xlink:href=\"#mbf10030641\" y=\"224.64\"/>\r\n      </g>\r\n     </g>\r\n     <g id=\"text_1\">\r\n      <!-- 01-01 00 -->\r\n      <defs>\r\n       <path d=\"M 46 36.53125 \r\nQ 46 50.203125 43.4375 55.78125 \r\nQ 40.875 61.375 34.8125 61.375 \r\nQ 28.765625 61.375 26.171875 55.78125 \r\nQ 23.578125 50.203125 23.578125 36.53125 \r\nQ 23.578125 22.703125 26.171875 17.03125 \r\nQ 28.765625 11.375 34.8125 11.375 \r\nQ 40.828125 11.375 43.40625 17.03125 \r\nQ 46 22.703125 46 36.53125 \r\nz\r\nM 64.796875 36.375 \r\nQ 64.796875 18.265625 56.984375 8.421875 \r\nQ 49.171875 -1.421875 34.8125 -1.421875 \r\nQ 20.40625 -1.421875 12.59375 8.421875 \r\nQ 4.78125 18.265625 4.78125 36.375 \r\nQ 4.78125 54.546875 12.59375 64.375 \r\nQ 20.40625 74.21875 34.8125 74.21875 \r\nQ 49.171875 74.21875 56.984375 64.375 \r\nQ 64.796875 54.546875 64.796875 36.375 \r\nz\r\n\" id=\"DejaVuSans-Bold-48\"/>\r\n       <path d=\"M 11.71875 12.984375 \r\nL 28.328125 12.984375 \r\nL 28.328125 60.109375 \r\nL 11.28125 56.59375 \r\nL 11.28125 69.390625 \r\nL 28.21875 72.90625 \r\nL 46.09375 72.90625 \r\nL 46.09375 12.984375 \r\nL 62.703125 12.984375 \r\nL 62.703125 0 \r\nL 11.71875 0 \r\nz\r\n\" id=\"DejaVuSans-Bold-49\"/>\r\n       <path d=\"M 5.421875 35.890625 \r\nL 36.078125 35.890625 \r\nL 36.078125 21.6875 \r\nL 5.421875 21.6875 \r\nz\r\n\" id=\"DejaVuSans-Bold-45\"/>\r\n       <path id=\"DejaVuSans-Bold-32\"/>\r\n      </defs>\r\n      <g transform=\"translate(31.200344 239.238437)scale(0.1 -0.1)\">\r\n       <use xlink:href=\"#DejaVuSans-Bold-48\"/>\r\n       <use x=\"69.580078\" xlink:href=\"#DejaVuSans-Bold-49\"/>\r\n       <use x=\"139.160156\" xlink:href=\"#DejaVuSans-Bold-45\"/>\r\n       <use x=\"180.664062\" xlink:href=\"#DejaVuSans-Bold-48\"/>\r\n       <use x=\"250.244141\" xlink:href=\"#DejaVuSans-Bold-49\"/>\r\n       <use x=\"319.824219\" xlink:href=\"#DejaVuSans-Bold-32\"/>\r\n       <use x=\"354.638672\" xlink:href=\"#DejaVuSans-Bold-48\"/>\r\n       <use x=\"424.21875\" xlink:href=\"#DejaVuSans-Bold-48\"/>\r\n      </g>\r\n     </g>\r\n    </g>\r\n    <g id=\"xtick_2\">\r\n     <g id=\"line2d_2\">\r\n      <g>\r\n       <use style=\"stroke:#000000;stroke-width:0.8;\" x=\"86.840183\" xlink:href=\"#mbf10030641\" y=\"224.64\"/>\r\n      </g>\r\n     </g>\r\n     <g id=\"text_2\">\r\n      <!-- 01-01 06 -->\r\n      <defs>\r\n       <path d=\"M 36.1875 35.984375 \r\nQ 31.25 35.984375 28.78125 32.78125 \r\nQ 26.3125 29.59375 26.3125 23.1875 \r\nQ 26.3125 16.796875 28.78125 13.59375 \r\nQ 31.25 10.40625 36.1875 10.40625 \r\nQ 41.15625 10.40625 43.625 13.59375 \r\nQ 46.09375 16.796875 46.09375 23.1875 \r\nQ 46.09375 29.59375 43.625 32.78125 \r\nQ 41.15625 35.984375 36.1875 35.984375 \r\nz\r\nM 59.421875 71 \r\nL 59.421875 57.515625 \r\nQ 54.78125 59.71875 50.671875 60.765625 \r\nQ 46.578125 61.8125 42.671875 61.8125 \r\nQ 34.28125 61.8125 29.59375 57.140625 \r\nQ 24.90625 52.484375 24.125 43.3125 \r\nQ 27.34375 45.703125 31.09375 46.890625 \r\nQ 34.859375 48.09375 39.3125 48.09375 \r\nQ 50.484375 48.09375 57.34375 41.546875 \r\nQ 64.203125 35.015625 64.203125 24.421875 \r\nQ 64.203125 12.703125 56.53125 5.640625 \r\nQ 48.875 -1.421875 35.984375 -1.421875 \r\nQ 21.78125 -1.421875 13.984375 8.171875 \r\nQ 6.203125 17.78125 6.203125 35.40625 \r\nQ 6.203125 53.46875 15.3125 63.796875 \r\nQ 24.421875 74.125 40.28125 74.125 \r\nQ 45.3125 74.125 50.046875 73.34375 \r\nQ 54.78125 72.5625 59.421875 71 \r\nz\r\n\" id=\"DejaVuSans-Bold-54\"/>\r\n      </defs>\r\n      <g transform=\"translate(62.151121 239.238437)scale(0.1 -0.1)\">\r\n       <use xlink:href=\"#DejaVuSans-Bold-48\"/>\r\n       <use x=\"69.580078\" xlink:href=\"#DejaVuSans-Bold-49\"/>\r\n       <use x=\"139.160156\" xlink:href=\"#DejaVuSans-Bold-45\"/>\r\n       <use x=\"180.664062\" xlink:href=\"#DejaVuSans-Bold-48\"/>\r\n       <use x=\"250.244141\" xlink:href=\"#DejaVuSans-Bold-49\"/>\r\n       <use x=\"319.824219\" xlink:href=\"#DejaVuSans-Bold-32\"/>\r\n       <use x=\"354.638672\" xlink:href=\"#DejaVuSans-Bold-48\"/>\r\n       <use x=\"424.21875\" xlink:href=\"#DejaVuSans-Bold-54\"/>\r\n      </g>\r\n     </g>\r\n    </g>\r\n    <g id=\"xtick_3\">\r\n     <g id=\"line2d_3\">\r\n      <g>\r\n       <use style=\"stroke:#000000;stroke-width:0.8;\" x=\"117.790961\" xlink:href=\"#mbf10030641\" y=\"224.64\"/>\r\n      </g>\r\n     </g>\r\n     <g id=\"text_3\">\r\n      <!-- 01-01 12 -->\r\n      <defs>\r\n       <path d=\"M 28.8125 13.8125 \r\nL 60.890625 13.8125 \r\nL 60.890625 0 \r\nL 7.90625 0 \r\nL 7.90625 13.8125 \r\nL 34.515625 37.3125 \r\nQ 38.09375 40.53125 39.796875 43.609375 \r\nQ 41.5 46.6875 41.5 50 \r\nQ 41.5 55.125 38.0625 58.25 \r\nQ 34.625 61.375 28.90625 61.375 \r\nQ 24.515625 61.375 19.28125 59.5 \r\nQ 14.0625 57.625 8.109375 53.90625 \r\nL 8.109375 69.921875 \r\nQ 14.453125 72.015625 20.65625 73.109375 \r\nQ 26.859375 74.21875 32.8125 74.21875 \r\nQ 45.90625 74.21875 53.15625 68.453125 \r\nQ 60.40625 62.703125 60.40625 52.390625 \r\nQ 60.40625 46.4375 57.328125 41.28125 \r\nQ 54.25 36.140625 44.390625 27.484375 \r\nz\r\n\" id=\"DejaVuSans-Bold-50\"/>\r\n      </defs>\r\n      <g transform=\"translate(93.101898 239.238437)scale(0.1 -0.1)\">\r\n       <use xlink:href=\"#DejaVuSans-Bold-48\"/>\r\n       <use x=\"69.580078\" xlink:href=\"#DejaVuSans-Bold-49\"/>\r\n       <use x=\"139.160156\" xlink:href=\"#DejaVuSans-Bold-45\"/>\r\n       <use x=\"180.664062\" xlink:href=\"#DejaVuSans-Bold-48\"/>\r\n       <use x=\"250.244141\" xlink:href=\"#DejaVuSans-Bold-49\"/>\r\n       <use x=\"319.824219\" xlink:href=\"#DejaVuSans-Bold-32\"/>\r\n       <use x=\"354.638672\" xlink:href=\"#DejaVuSans-Bold-49\"/>\r\n       <use x=\"424.21875\" xlink:href=\"#DejaVuSans-Bold-50\"/>\r\n      </g>\r\n     </g>\r\n    </g>\r\n    <g id=\"xtick_4\">\r\n     <g id=\"line2d_4\">\r\n      <g>\r\n       <use style=\"stroke:#000000;stroke-width:0.8;\" x=\"148.741738\" xlink:href=\"#mbf10030641\" y=\"224.64\"/>\r\n      </g>\r\n     </g>\r\n     <g id=\"text_4\">\r\n      <!-- 01-01 18 -->\r\n      <defs>\r\n       <path d=\"M 34.8125 32.625 \r\nQ 29.546875 32.625 26.703125 29.734375 \r\nQ 23.875 26.859375 23.875 21.484375 \r\nQ 23.875 16.109375 26.703125 13.25 \r\nQ 29.546875 10.40625 34.8125 10.40625 \r\nQ 40.046875 10.40625 42.828125 13.25 \r\nQ 45.609375 16.109375 45.609375 21.484375 \r\nQ 45.609375 26.90625 42.828125 29.765625 \r\nQ 40.046875 32.625 34.8125 32.625 \r\nz\r\nM 21.09375 38.8125 \r\nQ 14.453125 40.828125 11.078125 44.96875 \r\nQ 7.71875 49.125 7.71875 55.328125 \r\nQ 7.71875 64.546875 14.59375 69.375 \r\nQ 21.484375 74.21875 34.8125 74.21875 \r\nQ 48.046875 74.21875 54.921875 69.40625 \r\nQ 61.8125 64.59375 61.8125 55.328125 \r\nQ 61.8125 49.125 58.421875 44.96875 \r\nQ 55.03125 40.828125 48.390625 38.8125 \r\nQ 55.8125 36.765625 59.59375 32.15625 \r\nQ 63.375 27.546875 63.375 20.515625 \r\nQ 63.375 9.671875 56.171875 4.125 \r\nQ 48.96875 -1.421875 34.8125 -1.421875 \r\nQ 20.609375 -1.421875 13.359375 4.125 \r\nQ 6.109375 9.671875 6.109375 20.515625 \r\nQ 6.109375 27.546875 9.890625 32.15625 \r\nQ 13.671875 36.765625 21.09375 38.8125 \r\nz\r\nM 25.484375 53.421875 \r\nQ 25.484375 49.078125 27.90625 46.734375 \r\nQ 30.328125 44.390625 34.8125 44.390625 \r\nQ 39.203125 44.390625 41.59375 46.734375 \r\nQ 44 49.078125 44 53.421875 \r\nQ 44 57.765625 41.59375 60.078125 \r\nQ 39.203125 62.40625 34.8125 62.40625 \r\nQ 30.328125 62.40625 27.90625 60.0625 \r\nQ 25.484375 57.71875 25.484375 53.421875 \r\nz\r\n\" id=\"DejaVuSans-Bold-56\"/>\r\n      </defs>\r\n      <g transform=\"translate(124.052675 239.238437)scale(0.1 -0.1)\">\r\n       <use xlink:href=\"#DejaVuSans-Bold-48\"/>\r\n       <use x=\"69.580078\" xlink:href=\"#DejaVuSans-Bold-49\"/>\r\n       <use x=\"139.160156\" xlink:href=\"#DejaVuSans-Bold-45\"/>\r\n       <use x=\"180.664062\" xlink:href=\"#DejaVuSans-Bold-48\"/>\r\n       <use x=\"250.244141\" xlink:href=\"#DejaVuSans-Bold-49\"/>\r\n       <use x=\"319.824219\" xlink:href=\"#DejaVuSans-Bold-32\"/>\r\n       <use x=\"354.638672\" xlink:href=\"#DejaVuSans-Bold-49\"/>\r\n       <use x=\"424.21875\" xlink:href=\"#DejaVuSans-Bold-56\"/>\r\n      </g>\r\n     </g>\r\n    </g>\r\n    <g id=\"xtick_5\">\r\n     <g id=\"line2d_5\">\r\n      <g>\r\n       <use style=\"stroke:#000000;stroke-width:0.8;\" x=\"179.692515\" xlink:href=\"#mbf10030641\" y=\"224.64\"/>\r\n      </g>\r\n     </g>\r\n     <g id=\"text_5\">\r\n      <!-- 01-02 00 -->\r\n      <g transform=\"translate(155.003452 239.238437)scale(0.1 -0.1)\">\r\n       <use xlink:href=\"#DejaVuSans-Bold-48\"/>\r\n       <use x=\"69.580078\" xlink:href=\"#DejaVuSans-Bold-49\"/>\r\n       <use x=\"139.160156\" xlink:href=\"#DejaVuSans-Bold-45\"/>\r\n       <use x=\"180.664062\" xlink:href=\"#DejaVuSans-Bold-48\"/>\r\n       <use x=\"250.244141\" xlink:href=\"#DejaVuSans-Bold-50\"/>\r\n       <use x=\"319.824219\" xlink:href=\"#DejaVuSans-Bold-32\"/>\r\n       <use x=\"354.638672\" xlink:href=\"#DejaVuSans-Bold-48\"/>\r\n       <use x=\"424.21875\" xlink:href=\"#DejaVuSans-Bold-48\"/>\r\n      </g>\r\n     </g>\r\n    </g>\r\n    <g id=\"xtick_6\">\r\n     <g id=\"line2d_6\">\r\n      <g>\r\n       <use style=\"stroke:#000000;stroke-width:0.8;\" x=\"210.643292\" xlink:href=\"#mbf10030641\" y=\"224.64\"/>\r\n      </g>\r\n     </g>\r\n     <g id=\"text_6\">\r\n      <!-- 01-02 06 -->\r\n      <g transform=\"translate(185.954229 239.238437)scale(0.1 -0.1)\">\r\n       <use xlink:href=\"#DejaVuSans-Bold-48\"/>\r\n       <use x=\"69.580078\" xlink:href=\"#DejaVuSans-Bold-49\"/>\r\n       <use x=\"139.160156\" xlink:href=\"#DejaVuSans-Bold-45\"/>\r\n       <use x=\"180.664062\" xlink:href=\"#DejaVuSans-Bold-48\"/>\r\n       <use x=\"250.244141\" xlink:href=\"#DejaVuSans-Bold-50\"/>\r\n       <use x=\"319.824219\" xlink:href=\"#DejaVuSans-Bold-32\"/>\r\n       <use x=\"354.638672\" xlink:href=\"#DejaVuSans-Bold-48\"/>\r\n       <use x=\"424.21875\" xlink:href=\"#DejaVuSans-Bold-54\"/>\r\n      </g>\r\n     </g>\r\n    </g>\r\n    <g id=\"xtick_7\">\r\n     <g id=\"line2d_7\">\r\n      <g>\r\n       <use style=\"stroke:#000000;stroke-width:0.8;\" x=\"241.594069\" xlink:href=\"#mbf10030641\" y=\"224.64\"/>\r\n      </g>\r\n     </g>\r\n     <g id=\"text_7\">\r\n      <!-- 01-02 12 -->\r\n      <g transform=\"translate(216.905006 239.238437)scale(0.1 -0.1)\">\r\n       <use xlink:href=\"#DejaVuSans-Bold-48\"/>\r\n       <use x=\"69.580078\" xlink:href=\"#DejaVuSans-Bold-49\"/>\r\n       <use x=\"139.160156\" xlink:href=\"#DejaVuSans-Bold-45\"/>\r\n       <use x=\"180.664062\" xlink:href=\"#DejaVuSans-Bold-48\"/>\r\n       <use x=\"250.244141\" xlink:href=\"#DejaVuSans-Bold-50\"/>\r\n       <use x=\"319.824219\" xlink:href=\"#DejaVuSans-Bold-32\"/>\r\n       <use x=\"354.638672\" xlink:href=\"#DejaVuSans-Bold-49\"/>\r\n       <use x=\"424.21875\" xlink:href=\"#DejaVuSans-Bold-50\"/>\r\n      </g>\r\n     </g>\r\n    </g>\r\n    <g id=\"xtick_8\">\r\n     <g id=\"line2d_8\">\r\n      <g>\r\n       <use style=\"stroke:#000000;stroke-width:0.8;\" x=\"272.544846\" xlink:href=\"#mbf10030641\" y=\"224.64\"/>\r\n      </g>\r\n     </g>\r\n     <g id=\"text_8\">\r\n      <!-- 01-02 18 -->\r\n      <g transform=\"translate(247.855783 239.238437)scale(0.1 -0.1)\">\r\n       <use xlink:href=\"#DejaVuSans-Bold-48\"/>\r\n       <use x=\"69.580078\" xlink:href=\"#DejaVuSans-Bold-49\"/>\r\n       <use x=\"139.160156\" xlink:href=\"#DejaVuSans-Bold-45\"/>\r\n       <use x=\"180.664062\" xlink:href=\"#DejaVuSans-Bold-48\"/>\r\n       <use x=\"250.244141\" xlink:href=\"#DejaVuSans-Bold-50\"/>\r\n       <use x=\"319.824219\" xlink:href=\"#DejaVuSans-Bold-32\"/>\r\n       <use x=\"354.638672\" xlink:href=\"#DejaVuSans-Bold-49\"/>\r\n       <use x=\"424.21875\" xlink:href=\"#DejaVuSans-Bold-56\"/>\r\n      </g>\r\n     </g>\r\n    </g>\r\n    <g id=\"xtick_9\">\r\n     <g id=\"line2d_9\">\r\n      <g>\r\n       <use style=\"stroke:#000000;stroke-width:0.8;\" x=\"303.495623\" xlink:href=\"#mbf10030641\" y=\"224.64\"/>\r\n      </g>\r\n     </g>\r\n     <g id=\"text_9\">\r\n      <!-- 01-03 00 -->\r\n      <defs>\r\n       <path d=\"M 46.578125 39.3125 \r\nQ 53.953125 37.40625 57.78125 32.6875 \r\nQ 61.625 27.984375 61.625 20.703125 \r\nQ 61.625 9.859375 53.3125 4.21875 \r\nQ 45.015625 -1.421875 29.109375 -1.421875 \r\nQ 23.484375 -1.421875 17.84375 -0.515625 \r\nQ 12.203125 0.390625 6.6875 2.203125 \r\nL 6.6875 16.703125 \r\nQ 11.96875 14.0625 17.15625 12.71875 \r\nQ 22.359375 11.375 27.390625 11.375 \r\nQ 34.859375 11.375 38.84375 13.953125 \r\nQ 42.828125 16.546875 42.828125 21.390625 \r\nQ 42.828125 26.375 38.75 28.9375 \r\nQ 34.671875 31.5 26.703125 31.5 \r\nL 19.1875 31.5 \r\nL 19.1875 43.609375 \r\nL 27.09375 43.609375 \r\nQ 34.1875 43.609375 37.640625 45.828125 \r\nQ 41.109375 48.046875 41.109375 52.59375 \r\nQ 41.109375 56.78125 37.734375 59.078125 \r\nQ 34.375 61.375 28.21875 61.375 \r\nQ 23.6875 61.375 19.046875 60.34375 \r\nQ 14.40625 59.328125 9.8125 57.328125 \r\nL 9.8125 71.09375 \r\nQ 15.375 72.65625 20.84375 73.4375 \r\nQ 26.3125 74.21875 31.59375 74.21875 \r\nQ 45.796875 74.21875 52.84375 69.546875 \r\nQ 59.90625 64.890625 59.90625 55.515625 \r\nQ 59.90625 49.125 56.53125 45.046875 \r\nQ 53.171875 40.96875 46.578125 39.3125 \r\nz\r\n\" id=\"DejaVuSans-Bold-51\"/>\r\n      </defs>\r\n      <g transform=\"translate(278.80656 239.238437)scale(0.1 -0.1)\">\r\n       <use xlink:href=\"#DejaVuSans-Bold-48\"/>\r\n       <use x=\"69.580078\" xlink:href=\"#DejaVuSans-Bold-49\"/>\r\n       <use x=\"139.160156\" xlink:href=\"#DejaVuSans-Bold-45\"/>\r\n       <use x=\"180.664062\" xlink:href=\"#DejaVuSans-Bold-48\"/>\r\n       <use x=\"250.244141\" xlink:href=\"#DejaVuSans-Bold-51\"/>\r\n       <use x=\"319.824219\" xlink:href=\"#DejaVuSans-Bold-32\"/>\r\n       <use x=\"354.638672\" xlink:href=\"#DejaVuSans-Bold-48\"/>\r\n       <use x=\"424.21875\" xlink:href=\"#DejaVuSans-Bold-48\"/>\r\n      </g>\r\n     </g>\r\n    </g>\r\n    <g id=\"xtick_10\">\r\n     <g id=\"line2d_10\">\r\n      <g>\r\n       <use style=\"stroke:#000000;stroke-width:0.8;\" x=\"334.4464\" xlink:href=\"#mbf10030641\" y=\"224.64\"/>\r\n      </g>\r\n     </g>\r\n     <g id=\"text_10\">\r\n      <!-- 01-03 06 -->\r\n      <g transform=\"translate(309.757337 239.238437)scale(0.1 -0.1)\">\r\n       <use xlink:href=\"#DejaVuSans-Bold-48\"/>\r\n       <use x=\"69.580078\" xlink:href=\"#DejaVuSans-Bold-49\"/>\r\n       <use x=\"139.160156\" xlink:href=\"#DejaVuSans-Bold-45\"/>\r\n       <use x=\"180.664062\" xlink:href=\"#DejaVuSans-Bold-48\"/>\r\n       <use x=\"250.244141\" xlink:href=\"#DejaVuSans-Bold-51\"/>\r\n       <use x=\"319.824219\" xlink:href=\"#DejaVuSans-Bold-32\"/>\r\n       <use x=\"354.638672\" xlink:href=\"#DejaVuSans-Bold-48\"/>\r\n       <use x=\"424.21875\" xlink:href=\"#DejaVuSans-Bold-54\"/>\r\n      </g>\r\n     </g>\r\n    </g>\r\n    <g id=\"xtick_11\">\r\n     <g id=\"line2d_11\">\r\n      <g>\r\n       <use style=\"stroke:#000000;stroke-width:0.8;\" x=\"365.397177\" xlink:href=\"#mbf10030641\" y=\"224.64\"/>\r\n      </g>\r\n     </g>\r\n     <g id=\"text_11\">\r\n      <!-- 01-03 12 -->\r\n      <g transform=\"translate(340.708114 239.238437)scale(0.1 -0.1)\">\r\n       <use xlink:href=\"#DejaVuSans-Bold-48\"/>\r\n       <use x=\"69.580078\" xlink:href=\"#DejaVuSans-Bold-49\"/>\r\n       <use x=\"139.160156\" xlink:href=\"#DejaVuSans-Bold-45\"/>\r\n       <use x=\"180.664062\" xlink:href=\"#DejaVuSans-Bold-48\"/>\r\n       <use x=\"250.244141\" xlink:href=\"#DejaVuSans-Bold-51\"/>\r\n       <use x=\"319.824219\" xlink:href=\"#DejaVuSans-Bold-32\"/>\r\n       <use x=\"354.638672\" xlink:href=\"#DejaVuSans-Bold-49\"/>\r\n       <use x=\"424.21875\" xlink:href=\"#DejaVuSans-Bold-50\"/>\r\n      </g>\r\n     </g>\r\n    </g>\r\n   </g>\r\n   <g id=\"matplotlib.axis_2\">\r\n    <g id=\"ytick_1\">\r\n     <g id=\"line2d_12\">\r\n      <defs>\r\n       <path d=\"M 0 0 \r\nL -3.5 0 \r\n\" id=\"mef6be8fb38\" style=\"stroke:#000000;stroke-width:0.8;\"/>\r\n      </defs>\r\n      <g>\r\n       <use style=\"stroke:#000000;stroke-width:0.8;\" x=\"45.829688\" xlink:href=\"#mef6be8fb38\" y=\"201.170572\"/>\r\n      </g>\r\n     </g>\r\n     <g id=\"text_12\">\r\n      <!-- 0.060 -->\r\n      <defs>\r\n       <path d=\"M 10.203125 18.890625 \r\nL 27.78125 18.890625 \r\nL 27.78125 0 \r\nL 10.203125 0 \r\nz\r\n\" id=\"DejaVuSans-Bold-46\"/>\r\n      </defs>\r\n      <g transform=\"translate(7.2 204.969791)scale(0.1 -0.1)\">\r\n       <use xlink:href=\"#DejaVuSans-Bold-48\"/>\r\n       <use x=\"69.580078\" xlink:href=\"#DejaVuSans-Bold-46\"/>\r\n       <use x=\"107.568359\" xlink:href=\"#DejaVuSans-Bold-48\"/>\r\n       <use x=\"177.148438\" xlink:href=\"#DejaVuSans-Bold-54\"/>\r\n       <use x=\"246.728516\" xlink:href=\"#DejaVuSans-Bold-48\"/>\r\n      </g>\r\n     </g>\r\n    </g>\r\n    <g id=\"ytick_2\">\r\n     <g id=\"line2d_13\">\r\n      <g>\r\n       <use style=\"stroke:#000000;stroke-width:0.8;\" x=\"45.829688\" xlink:href=\"#mef6be8fb38\" y=\"172.875109\"/>\r\n      </g>\r\n     </g>\r\n     <g id=\"text_13\">\r\n      <!-- 0.065 -->\r\n      <defs>\r\n       <path d=\"M 10.59375 72.90625 \r\nL 57.328125 72.90625 \r\nL 57.328125 59.078125 \r\nL 25.59375 59.078125 \r\nL 25.59375 47.796875 \r\nQ 27.734375 48.390625 29.90625 48.703125 \r\nQ 32.078125 49.03125 34.421875 49.03125 \r\nQ 47.75 49.03125 55.171875 42.359375 \r\nQ 62.59375 35.6875 62.59375 23.78125 \r\nQ 62.59375 11.96875 54.515625 5.265625 \r\nQ 46.4375 -1.421875 32.078125 -1.421875 \r\nQ 25.875 -1.421875 19.796875 -0.21875 \r\nQ 13.71875 0.984375 7.71875 3.421875 \r\nL 7.71875 18.21875 \r\nQ 13.671875 14.796875 19.015625 13.078125 \r\nQ 24.359375 11.375 29.109375 11.375 \r\nQ 35.9375 11.375 39.859375 14.71875 \r\nQ 43.796875 18.0625 43.796875 23.78125 \r\nQ 43.796875 29.546875 39.859375 32.859375 \r\nQ 35.9375 36.1875 29.109375 36.1875 \r\nQ 25.046875 36.1875 20.453125 35.125 \r\nQ 15.875 34.078125 10.59375 31.890625 \r\nz\r\n\" id=\"DejaVuSans-Bold-53\"/>\r\n      </defs>\r\n      <g transform=\"translate(7.2 176.674328)scale(0.1 -0.1)\">\r\n       <use xlink:href=\"#DejaVuSans-Bold-48\"/>\r\n       <use x=\"69.580078\" xlink:href=\"#DejaVuSans-Bold-46\"/>\r\n       <use x=\"107.568359\" xlink:href=\"#DejaVuSans-Bold-48\"/>\r\n       <use x=\"177.148438\" xlink:href=\"#DejaVuSans-Bold-54\"/>\r\n       <use x=\"246.728516\" xlink:href=\"#DejaVuSans-Bold-53\"/>\r\n      </g>\r\n     </g>\r\n    </g>\r\n    <g id=\"ytick_3\">\r\n     <g id=\"line2d_14\">\r\n      <g>\r\n       <use style=\"stroke:#000000;stroke-width:0.8;\" x=\"45.829688\" xlink:href=\"#mef6be8fb38\" y=\"144.579646\"/>\r\n      </g>\r\n     </g>\r\n     <g id=\"text_14\">\r\n      <!-- 0.070 -->\r\n      <defs>\r\n       <path d=\"M 6.6875 72.90625 \r\nL 61.625 72.90625 \r\nL 61.625 62.3125 \r\nL 33.203125 0 \r\nL 14.890625 0 \r\nL 41.796875 59.078125 \r\nL 6.6875 59.078125 \r\nz\r\n\" id=\"DejaVuSans-Bold-55\"/>\r\n      </defs>\r\n      <g transform=\"translate(7.2 148.378865)scale(0.1 -0.1)\">\r\n       <use xlink:href=\"#DejaVuSans-Bold-48\"/>\r\n       <use x=\"69.580078\" xlink:href=\"#DejaVuSans-Bold-46\"/>\r\n       <use x=\"107.568359\" xlink:href=\"#DejaVuSans-Bold-48\"/>\r\n       <use x=\"177.148438\" xlink:href=\"#DejaVuSans-Bold-55\"/>\r\n       <use x=\"246.728516\" xlink:href=\"#DejaVuSans-Bold-48\"/>\r\n      </g>\r\n     </g>\r\n    </g>\r\n    <g id=\"ytick_4\">\r\n     <g id=\"line2d_15\">\r\n      <g>\r\n       <use style=\"stroke:#000000;stroke-width:0.8;\" x=\"45.829688\" xlink:href=\"#mef6be8fb38\" y=\"116.284183\"/>\r\n      </g>\r\n     </g>\r\n     <g id=\"text_15\">\r\n      <!-- 0.075 -->\r\n      <g transform=\"translate(7.2 120.083402)scale(0.1 -0.1)\">\r\n       <use xlink:href=\"#DejaVuSans-Bold-48\"/>\r\n       <use x=\"69.580078\" xlink:href=\"#DejaVuSans-Bold-46\"/>\r\n       <use x=\"107.568359\" xlink:href=\"#DejaVuSans-Bold-48\"/>\r\n       <use x=\"177.148438\" xlink:href=\"#DejaVuSans-Bold-55\"/>\r\n       <use x=\"246.728516\" xlink:href=\"#DejaVuSans-Bold-53\"/>\r\n      </g>\r\n     </g>\r\n    </g>\r\n    <g id=\"ytick_5\">\r\n     <g id=\"line2d_16\">\r\n      <g>\r\n       <use style=\"stroke:#000000;stroke-width:0.8;\" x=\"45.829688\" xlink:href=\"#mef6be8fb38\" y=\"87.98872\"/>\r\n      </g>\r\n     </g>\r\n     <g id=\"text_16\">\r\n      <!-- 0.080 -->\r\n      <g transform=\"translate(7.2 91.787939)scale(0.1 -0.1)\">\r\n       <use xlink:href=\"#DejaVuSans-Bold-48\"/>\r\n       <use x=\"69.580078\" xlink:href=\"#DejaVuSans-Bold-46\"/>\r\n       <use x=\"107.568359\" xlink:href=\"#DejaVuSans-Bold-48\"/>\r\n       <use x=\"177.148438\" xlink:href=\"#DejaVuSans-Bold-56\"/>\r\n       <use x=\"246.728516\" xlink:href=\"#DejaVuSans-Bold-48\"/>\r\n      </g>\r\n     </g>\r\n    </g>\r\n    <g id=\"ytick_6\">\r\n     <g id=\"line2d_17\">\r\n      <g>\r\n       <use style=\"stroke:#000000;stroke-width:0.8;\" x=\"45.829688\" xlink:href=\"#mef6be8fb38\" y=\"59.693257\"/>\r\n      </g>\r\n     </g>\r\n     <g id=\"text_17\">\r\n      <!-- 0.085 -->\r\n      <g transform=\"translate(7.2 63.492476)scale(0.1 -0.1)\">\r\n       <use xlink:href=\"#DejaVuSans-Bold-48\"/>\r\n       <use x=\"69.580078\" xlink:href=\"#DejaVuSans-Bold-46\"/>\r\n       <use x=\"107.568359\" xlink:href=\"#DejaVuSans-Bold-48\"/>\r\n       <use x=\"177.148438\" xlink:href=\"#DejaVuSans-Bold-56\"/>\r\n       <use x=\"246.728516\" xlink:href=\"#DejaVuSans-Bold-53\"/>\r\n      </g>\r\n     </g>\r\n    </g>\r\n    <g id=\"ytick_7\">\r\n     <g id=\"line2d_18\">\r\n      <g>\r\n       <use style=\"stroke:#000000;stroke-width:0.8;\" x=\"45.829688\" xlink:href=\"#mef6be8fb38\" y=\"31.397794\"/>\r\n      </g>\r\n     </g>\r\n     <g id=\"text_18\">\r\n      <!-- 0.090 -->\r\n      <defs>\r\n       <path d=\"M 10.015625 1.609375 \r\nL 10.015625 15.09375 \r\nQ 14.5 12.984375 18.59375 11.9375 \r\nQ 22.703125 10.890625 26.703125 10.890625 \r\nQ 35.109375 10.890625 39.796875 15.546875 \r\nQ 44.484375 20.21875 45.3125 29.390625 \r\nQ 42 26.953125 38.234375 25.734375 \r\nQ 34.46875 24.515625 30.078125 24.515625 \r\nQ 18.890625 24.515625 12.03125 31.03125 \r\nQ 5.171875 37.546875 5.171875 48.1875 \r\nQ 5.171875 59.96875 12.8125 67.046875 \r\nQ 20.453125 74.125 33.296875 74.125 \r\nQ 47.5625 74.125 55.375 64.5 \r\nQ 63.1875 54.890625 63.1875 37.3125 \r\nQ 63.1875 19.234375 54.046875 8.90625 \r\nQ 44.921875 -1.421875 29 -1.421875 \r\nQ 23.875 -1.421875 19.1875 -0.65625 \r\nQ 14.5 0.09375 10.015625 1.609375 \r\nz\r\nM 33.203125 36.71875 \r\nQ 38.140625 36.71875 40.625 39.90625 \r\nQ 43.109375 43.109375 43.109375 49.515625 \r\nQ 43.109375 55.859375 40.625 59.078125 \r\nQ 38.140625 62.3125 33.203125 62.3125 \r\nQ 28.265625 62.3125 25.78125 59.078125 \r\nQ 23.296875 55.859375 23.296875 49.515625 \r\nQ 23.296875 43.109375 25.78125 39.90625 \r\nQ 28.265625 36.71875 33.203125 36.71875 \r\nz\r\n\" id=\"DejaVuSans-Bold-57\"/>\r\n      </defs>\r\n      <g transform=\"translate(7.2 35.197013)scale(0.1 -0.1)\">\r\n       <use xlink:href=\"#DejaVuSans-Bold-48\"/>\r\n       <use x=\"69.580078\" xlink:href=\"#DejaVuSans-Bold-46\"/>\r\n       <use x=\"107.568359\" xlink:href=\"#DejaVuSans-Bold-48\"/>\r\n       <use x=\"177.148438\" xlink:href=\"#DejaVuSans-Bold-57\"/>\r\n       <use x=\"246.728516\" xlink:href=\"#DejaVuSans-Bold-48\"/>\r\n      </g>\r\n     </g>\r\n    </g>\r\n   </g>\r\n   <g id=\"line2d_19\">\r\n    <defs>\r\n     <path d=\"M 0 -3 \r\nL -0.673542 -0.927051 \r\nL -2.85317 -0.927051 \r\nL -1.089814 0.354102 \r\nL -1.763356 2.427051 \r\nL -0 1.145898 \r\nL 1.763356 2.427051 \r\nL 1.089814 0.354102 \r\nL 2.85317 -0.927051 \r\nL 0.673542 -0.927051 \r\nz\r\n\" id=\"m5ed1dc53f4\" style=\"stroke:#000000;stroke-linejoin:bevel;\"/>\r\n    </defs>\r\n    <g clip-path=\"url(#p299f5cf9ba)\">\r\n     <use style=\"stroke:#000000;stroke-linejoin:bevel;\" x=\"61.047869\" xlink:href=\"#m5ed1dc53f4\" y=\"171.676329\"/>\r\n     <use style=\"stroke:#000000;stroke-linejoin:bevel;\" x=\"66.206332\" xlink:href=\"#m5ed1dc53f4\" y=\"157.553783\"/>\r\n     <use style=\"stroke:#000000;stroke-linejoin:bevel;\" x=\"71.364795\" xlink:href=\"#m5ed1dc53f4\" y=\"156.1451\"/>\r\n     <use style=\"stroke:#000000;stroke-linejoin:bevel;\" x=\"76.523258\" xlink:href=\"#m5ed1dc53f4\" y=\"145.991195\"/>\r\n     <use style=\"stroke:#000000;stroke-linejoin:bevel;\" x=\"81.681721\" xlink:href=\"#m5ed1dc53f4\" y=\"139.80783\"/>\r\n     <use style=\"stroke:#000000;stroke-linejoin:bevel;\" x=\"86.840183\" xlink:href=\"#m5ed1dc53f4\" y=\"135.578111\"/>\r\n     <use style=\"stroke:#000000;stroke-linejoin:bevel;\" x=\"91.998646\" xlink:href=\"#m5ed1dc53f4\" y=\"139.570702\"/>\r\n     <use style=\"stroke:#000000;stroke-linejoin:bevel;\" x=\"97.157109\" xlink:href=\"#m5ed1dc53f4\" y=\"135.365818\"/>\r\n     <use style=\"stroke:#000000;stroke-linejoin:bevel;\" x=\"174.534052\" xlink:href=\"#m5ed1dc53f4\" y=\"26.564147\"/>\r\n     <use style=\"stroke:#000000;stroke-linejoin:bevel;\" x=\"179.692515\" xlink:href=\"#m5ed1dc53f4\" y=\"25.73711\"/>\r\n     <use style=\"stroke:#000000;stroke-linejoin:bevel;\" x=\"184.850977\" xlink:href=\"#m5ed1dc53f4\" y=\"30.129959\"/>\r\n     <use style=\"stroke:#000000;stroke-linejoin:bevel;\" x=\"190.00944\" xlink:href=\"#m5ed1dc53f4\" y=\"35.279727\"/>\r\n     <use style=\"stroke:#000000;stroke-linejoin:bevel;\" x=\"195.167903\" xlink:href=\"#m5ed1dc53f4\" y=\"39.024186\"/>\r\n     <use style=\"stroke:#000000;stroke-linejoin:bevel;\" x=\"200.326366\" xlink:href=\"#m5ed1dc53f4\" y=\"54.241803\"/>\r\n     <use style=\"stroke:#000000;stroke-linejoin:bevel;\" x=\"205.484829\" xlink:href=\"#m5ed1dc53f4\" y=\"64.565669\"/>\r\n     <use style=\"stroke:#000000;stroke-linejoin:bevel;\" x=\"210.643292\" xlink:href=\"#m5ed1dc53f4\" y=\"67.985342\"/>\r\n     <use style=\"stroke:#000000;stroke-linejoin:bevel;\" x=\"215.801754\" xlink:href=\"#m5ed1dc53f4\" y=\"70.043133\"/>\r\n     <use style=\"stroke:#000000;stroke-linejoin:bevel;\" x=\"220.960217\" xlink:href=\"#m5ed1dc53f4\" y=\"82.368206\"/>\r\n     <use style=\"stroke:#000000;stroke-linejoin:bevel;\" x=\"226.11868\" xlink:href=\"#m5ed1dc53f4\" y=\"79.668686\"/>\r\n     <use style=\"stroke:#000000;stroke-linejoin:bevel;\" x=\"282.861771\" xlink:href=\"#m5ed1dc53f4\" y=\"187.824475\"/>\r\n     <use style=\"stroke:#000000;stroke-linejoin:bevel;\" x=\"288.020234\" xlink:href=\"#m5ed1dc53f4\" y=\"185.823246\"/>\r\n     <use style=\"stroke:#000000;stroke-linejoin:bevel;\" x=\"298.33716\" xlink:href=\"#m5ed1dc53f4\" y=\"209.87505\"/>\r\n     <use style=\"stroke:#000000;stroke-linejoin:bevel;\" x=\"303.495623\" xlink:href=\"#m5ed1dc53f4\" y=\"214.756153\"/>\r\n     <use style=\"stroke:#000000;stroke-linejoin:bevel;\" x=\"365.411506\" xlink:href=\"#m5ed1dc53f4\" y=\"214.756364\"/>\r\n    </g>\r\n   </g>\r\n   <g id=\"line2d_20\">\r\n    <path clip-path=\"url(#p299f5cf9ba)\" d=\"M 61.047869 170.415835 \r\nL 66.206332 163.749218 \r\nL 71.364795 157.0826 \r\nL 76.523258 150.415983 \r\nL 81.681721 143.749366 \r\nL 86.840183 137.082748 \r\nL 91.998646 130.416131 \r\nL 97.157109 123.749514 \r\nL 174.534052 23.750254 \r\nL 179.692515 17.083636 \r\nL 184.850977 25.265394 \r\nL 190.00944 33.447151 \r\nL 195.167903 41.628909 \r\nL 200.326366 49.810666 \r\nL 205.484829 57.992424 \r\nL 210.643292 66.174181 \r\nL 215.801754 74.355939 \r\nL 220.960217 82.537696 \r\nL 226.11868 90.719454 \r\nL 282.861771 180.718786 \r\nL 288.020234 188.900543 \r\nL 298.33716 205.264058 \r\nL 303.495623 213.445816 \r\n\" style=\"fill:none;stroke:#ff0000;stroke-linecap:square;stroke-width:1.5;\"/>\r\n    <defs>\r\n     <path d=\"M -3 0 \r\nL 3 0 \r\nM 0 3 \r\nL 0 -3 \r\n\" id=\"m1f9fa6acd2\" style=\"stroke:#ff0000;\"/>\r\n    </defs>\r\n    <g clip-path=\"url(#p299f5cf9ba)\">\r\n     <use style=\"fill:#ff0000;stroke:#ff0000;\" x=\"61.047869\" xlink:href=\"#m1f9fa6acd2\" y=\"170.415835\"/>\r\n     <use style=\"fill:#ff0000;stroke:#ff0000;\" x=\"66.206332\" xlink:href=\"#m1f9fa6acd2\" y=\"163.749218\"/>\r\n     <use style=\"fill:#ff0000;stroke:#ff0000;\" x=\"71.364795\" xlink:href=\"#m1f9fa6acd2\" y=\"157.0826\"/>\r\n     <use style=\"fill:#ff0000;stroke:#ff0000;\" x=\"76.523258\" xlink:href=\"#m1f9fa6acd2\" y=\"150.415983\"/>\r\n     <use style=\"fill:#ff0000;stroke:#ff0000;\" x=\"81.681721\" xlink:href=\"#m1f9fa6acd2\" y=\"143.749366\"/>\r\n     <use style=\"fill:#ff0000;stroke:#ff0000;\" x=\"86.840183\" xlink:href=\"#m1f9fa6acd2\" y=\"137.082748\"/>\r\n     <use style=\"fill:#ff0000;stroke:#ff0000;\" x=\"91.998646\" xlink:href=\"#m1f9fa6acd2\" y=\"130.416131\"/>\r\n     <use style=\"fill:#ff0000;stroke:#ff0000;\" x=\"97.157109\" xlink:href=\"#m1f9fa6acd2\" y=\"123.749514\"/>\r\n     <use style=\"fill:#ff0000;stroke:#ff0000;\" x=\"174.534052\" xlink:href=\"#m1f9fa6acd2\" y=\"23.750254\"/>\r\n     <use style=\"fill:#ff0000;stroke:#ff0000;\" x=\"179.692515\" xlink:href=\"#m1f9fa6acd2\" y=\"17.083636\"/>\r\n     <use style=\"fill:#ff0000;stroke:#ff0000;\" x=\"184.850977\" xlink:href=\"#m1f9fa6acd2\" y=\"25.265394\"/>\r\n     <use style=\"fill:#ff0000;stroke:#ff0000;\" x=\"190.00944\" xlink:href=\"#m1f9fa6acd2\" y=\"33.447151\"/>\r\n     <use style=\"fill:#ff0000;stroke:#ff0000;\" x=\"195.167903\" xlink:href=\"#m1f9fa6acd2\" y=\"41.628909\"/>\r\n     <use style=\"fill:#ff0000;stroke:#ff0000;\" x=\"200.326366\" xlink:href=\"#m1f9fa6acd2\" y=\"49.810666\"/>\r\n     <use style=\"fill:#ff0000;stroke:#ff0000;\" x=\"205.484829\" xlink:href=\"#m1f9fa6acd2\" y=\"57.992424\"/>\r\n     <use style=\"fill:#ff0000;stroke:#ff0000;\" x=\"210.643292\" xlink:href=\"#m1f9fa6acd2\" y=\"66.174181\"/>\r\n     <use style=\"fill:#ff0000;stroke:#ff0000;\" x=\"215.801754\" xlink:href=\"#m1f9fa6acd2\" y=\"74.355939\"/>\r\n     <use style=\"fill:#ff0000;stroke:#ff0000;\" x=\"220.960217\" xlink:href=\"#m1f9fa6acd2\" y=\"82.537696\"/>\r\n     <use style=\"fill:#ff0000;stroke:#ff0000;\" x=\"226.11868\" xlink:href=\"#m1f9fa6acd2\" y=\"90.719454\"/>\r\n     <use style=\"fill:#ff0000;stroke:#ff0000;\" x=\"282.861771\" xlink:href=\"#m1f9fa6acd2\" y=\"180.718786\"/>\r\n     <use style=\"fill:#ff0000;stroke:#ff0000;\" x=\"288.020234\" xlink:href=\"#m1f9fa6acd2\" y=\"188.900543\"/>\r\n     <use style=\"fill:#ff0000;stroke:#ff0000;\" x=\"298.33716\" xlink:href=\"#m1f9fa6acd2\" y=\"205.264058\"/>\r\n     <use style=\"fill:#ff0000;stroke:#ff0000;\" x=\"303.495623\" xlink:href=\"#m1f9fa6acd2\" y=\"213.445816\"/>\r\n    </g>\r\n   </g>\r\n   <g id=\"patch_3\">\r\n    <path d=\"M 45.829688 224.64 \r\nL 45.829688 7.2 \r\n\" style=\"fill:none;stroke:#000000;stroke-linecap:square;stroke-linejoin:miter;stroke-width:0.8;\"/>\r\n   </g>\r\n   <g id=\"patch_4\">\r\n    <path d=\"M 380.629688 224.64 \r\nL 380.629688 7.2 \r\n\" style=\"fill:none;stroke:#000000;stroke-linecap:square;stroke-linejoin:miter;stroke-width:0.8;\"/>\r\n   </g>\r\n   <g id=\"patch_5\">\r\n    <path d=\"M 45.829687 224.64 \r\nL 380.629688 224.64 \r\n\" style=\"fill:none;stroke:#000000;stroke-linecap:square;stroke-linejoin:miter;stroke-width:0.8;\"/>\r\n   </g>\r\n   <g id=\"patch_6\">\r\n    <path d=\"M 45.829687 7.2 \r\nL 380.629688 7.2 \r\n\" style=\"fill:none;stroke:#000000;stroke-linecap:square;stroke-linejoin:miter;stroke-width:0.8;\"/>\r\n   </g>\r\n  </g>\r\n </g>\r\n <defs>\r\n  <clipPath id=\"p299f5cf9ba\">\r\n   <rect height=\"217.44\" width=\"334.8\" x=\"45.829688\" y=\"7.2\"/>\r\n  </clipPath>\r\n </defs>\r\n</svg>\r\n",
      "image/png": "[encoded data removed]"
     },
     "metadata": {
      "needs_background": "light"
     }
    }
   ],
   "source": [
    "import matplotlib.pyplot as plt\n",
    "\n",
    "plt.plot(ts.time,ts[\"Sign. Wave Height\"],'k*',label=\"Observation\")\n",
    "plt.plot(dsi.time, dsi[\"Sign. Wave Height\"][:,1,0],'r+-',label=\"Model\")"
   ]
  },
  {
   "source": [
    "## Mean absolute error\n",
    "Use `np.nanmean` to skip NaN."
   ],
   "cell_type": "markdown",
   "metadata": {}
  },
  {
   "cell_type": "code",
   "execution_count": 13,
   "metadata": {},
   "outputs": [
    {
     "output_type": "execute_result",
     "data": {
      "text/plain": "0.0008009996575613816"
     },
     "metadata": {},
     "execution_count": 13
    }
   ],
   "source": [
    "mae = np.nanmean(np.abs(ts[\"Sign. Wave Height\"] - dsi[\"Sign. Wave Height\"][:,1,0]))\n",
    "mae"
   ]
  },
  {
   "source": [
    "# Clean up"
   ],
   "cell_type": "markdown",
   "metadata": {}
  },
  {
   "cell_type": "code",
   "execution_count": 14,
   "metadata": {},
   "outputs": [],
   "source": [
    "import os\n",
    "os.remove(\"waves_3h.dfs2\")"
   ]
  },
  {
   "cell_type": "code",
   "execution_count": null,
   "metadata": {},
   "outputs": [],
   "source": []
  }
 ]
}