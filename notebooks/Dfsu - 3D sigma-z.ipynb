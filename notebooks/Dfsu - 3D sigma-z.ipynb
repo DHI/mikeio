{
 "cells": [
  {
   "cell_type": "code",
   "execution_count": 3,
   "metadata": {},
   "outputs": [],
   "source": [
    "import numpy as np\n",
    "from mikeio import Dfsu\n",
    "\n",
    "# DURING DEVELOPMENT ONLY\n",
    "%load_ext autoreload\n",
    "%autoreload 2"
   ]
  },
  {
   "cell_type": "code",
   "execution_count": 4,
   "metadata": {},
   "outputs": [
    {
     "output_type": "execute_result",
     "data": {
      "text/plain": "Dfsu3DSigmaZ\nNumber of elements: 17118\nNumber of nodes: 12042\nNumber of sigma layers: 4\nMax number of z layers: 5\nNumber of items: 3\nTime: 3 steps with dt=10800.0s and start 1997-09-15 21:00:00"
     },
     "metadata": {},
     "execution_count": 4
    }
   ],
   "source": [
    "filename = \"../tests/testdata/oresund_sigma_z.dfsu\"\n",
    "dfs = Dfsu(filename)\n",
    "dfs"
   ]
  },
  {
   "cell_type": "code",
   "execution_count": 5,
   "metadata": {},
   "outputs": [
    {
     "output_type": "execute_result",
     "data": {
      "text/plain": "[Z coordinate <ItemGeometry3D> (meter),\n Temperature <Temperature> (degree Celsius),\n Salinity <Salinity> (PSU)]"
     },
     "metadata": {},
     "execution_count": 5
    }
   ],
   "source": [
    "dfs.items"
   ]
  },
  {
   "cell_type": "code",
   "execution_count": null,
   "metadata": {},
   "outputs": [],
   "source": []
  }
 ],
 "metadata": {
  "language_info": {
   "codemirror_mode": {
    "name": "ipython",
    "version": 3
   },
   "file_extension": ".py",
   "mimetype": "text/x-python",
   "name": "python",
   "nbconvert_exporter": "python",
   "pygments_lexer": "ipython3",
   "version": 3
  },
  "orig_nbformat": 2,
  "kernelspec": {
   "name": "python_defaultSpec_1598443321327",
   "display_name": "Python 3.7.6 64-bit ('ProgramData': virtualenv)"
  }
 },
 "nbformat": 4,
 "nbformat_minor": 2
}