{
 "cells": [
  {
   "cell_type": "code",
   "execution_count": 65,
   "metadata": {
    "tags": []
   },
   "outputs": [
    {
     "output_type": "stream",
     "name": "stdout",
     "text": "The autoreload extension is already loaded. To reload it, use:\n  %reload_ext autoreload\n"
    }
   ],
   "source": [
    "import numpy as np\n",
    "from mikeio import Dfsu, Mesh\n",
    "\n",
    "# DURING DEVELOPMENT ONLY\n",
    "%load_ext autoreload\n",
    "%autoreload 2"
   ]
  },
  {
   "cell_type": "code",
   "execution_count": 66,
   "metadata": {},
   "outputs": [
    {
     "output_type": "execute_result",
     "data": {
      "text/plain": "Dfsu3DSigmaZ\nNumber of elements: 17118\nNumber of nodes: 12042\nNumber of sigma layers: 4\nMax number of z layers: 5\nNumber of items: 3\nTime: 3 steps with dt=10800.0s and start 1997-09-15 21:00:00"
     },
     "metadata": {},
     "execution_count": 66
    }
   ],
   "source": [
    "filename = \"../tests/testdata/oresund_sigma_z.dfsu\"\n",
    "dfs = Dfsu(filename)\n",
    "dfs"
   ]
  },
  {
   "cell_type": "code",
   "execution_count": 67,
   "metadata": {},
   "outputs": [
    {
     "output_type": "execute_result",
     "data": {
      "text/plain": "[Z coordinate <ItemGeometry3D> (meter),\n Temperature <Temperature> (degree Celsius),\n Salinity <Salinity> (PSU)]"
     },
     "metadata": {},
     "execution_count": 67
    }
   ],
   "source": [
    "dfs.items"
   ]
  },
  {
   "cell_type": "code",
   "execution_count": 88,
   "metadata": {},
   "outputs": [
    {
     "output_type": "execute_result",
     "data": {
      "text/plain": "array([ 0,  5,  9, 13, 17, 21, 25, 29, 33, 37])"
     },
     "metadata": {},
     "execution_count": 88
    }
   ],
   "source": [
    "elem_ids = dfs.bottom_element_ids\n",
    "elem_ids[:10]"
   ]
  },
  {
   "cell_type": "code",
   "execution_count": 89,
   "metadata": {
    "tags": []
   },
   "outputs": [
    {
     "output_type": "execute_result",
     "data": {
      "text/plain": "Unstructured Geometry\nNumber of nodes: 2820\nNumber of elements: 3700\nProjection: UTM-33"
     },
     "metadata": {},
     "execution_count": 89
    }
   ],
   "source": [
    "geom = dfs.elements_to_geometry(elem_ids, node_layers='bottom')\n",
    "geom"
   ]
  },
  {
   "cell_type": "code",
   "execution_count": 93,
   "metadata": {},
   "outputs": [
    {
     "output_type": "execute_result",
     "data": {
      "text/plain": "-33.0"
     },
     "metadata": {},
     "execution_count": 93
    }
   ],
   "source": [
    "ze = geom.element_coordinates[:,2]\n",
    "ze.min()"
   ]
  },
  {
   "cell_type": "markdown",
   "metadata": {},
   "source": [
    "## Save bottom layer to new mesh file"
   ]
  },
  {
   "cell_type": "code",
   "execution_count": 97,
   "metadata": {},
   "outputs": [],
   "source": [
    "Mesh.geometry_to_mesh(\"../tests/testdata/mesh_oresund_extracted.mesh\", geom)"
   ]
  },
  {
   "cell_type": "markdown",
   "metadata": {},
   "source": [
    "## Evaluate top layer"
   ]
  },
  {
   "cell_type": "code",
   "execution_count": 98,
   "metadata": {},
   "outputs": [],
   "source": [
    "elem_ids = dfs.top_element_ids"
   ]
  },
  {
   "cell_type": "code",
   "execution_count": 99,
   "metadata": {
    "tags": []
   },
   "outputs": [
    {
     "output_type": "stream",
     "name": "stdout",
     "text": "DataSet(data, time, items)\nNumber of items: 3\nShape: (3, 4180)\n1997-09-15 21:00:00 - 1997-09-16 03:00:00\nMaximum temperature in top layer: 17.5\n"
    }
   ],
   "source": [
    "ds = dfs.read(element_ids=elem_ids)\n",
    "print(ds)\n",
    "max_t = ds['Temperature'].max()\n",
    "print(f'Maximum temperature in top layer: {max_t:.1f}')"
   ]
  }
 ],
 "metadata": {
  "language_info": {
   "codemirror_mode": {
    "name": "ipython",
    "version": 3
   },
   "file_extension": ".py",
   "mimetype": "text/x-python",
   "name": "python",
   "nbconvert_exporter": "python",
   "pygments_lexer": "ipython3",
   "version": 3
  },
  "orig_nbformat": 2,
  "kernelspec": {
   "name": "python_defaultSpec_1598443321327",
   "display_name": "Python 3.7.6 64-bit ('ProgramData': virtualenv)"
  }
 },
 "nbformat": 4,
 "nbformat_minor": 2
}