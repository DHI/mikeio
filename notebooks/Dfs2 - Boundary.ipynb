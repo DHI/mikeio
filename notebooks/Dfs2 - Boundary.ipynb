{
 "metadata": {
  "language_info": {
   "codemirror_mode": {
    "name": "ipython",
    "version": 3
   },
   "file_extension": ".py",
   "mimetype": "text/x-python",
   "name": "python",
   "nbconvert_exporter": "python",
   "pygments_lexer": "ipython3",
   "version": "3.8.3-final"
  },
  "orig_nbformat": 2,
  "kernelspec": {
   "name": "python3",
   "display_name": "Python 3"
  }
 },
 "nbformat": 4,
 "nbformat_minor": 2,
 "cells": [
  {
   "source": [
    "# Boundary \n",
    "\n",
    "The task is to combine current velocities from an oceanographic model without tides with tidal current.\n",
    "\n",
    "* The oceanographic model data is vertically resolved and available in a vertical transect as a Dfs2 with daily timestep\n",
    "* The tidal model is vertically integrated and available in a line transect as a Dfs1 with hourly timestep\n",
    "* The spatial grid is identical\n",
    "\n",
    "## Steps\n",
    "1. Interpolate in time\n",
    "2. Calculate $\\mathbf{U}_{combined} = \\mathbf{U}_{tide} + \\mathbf{U}_{residual}$\n",
    "3. Write to new dfs2"
   ],
   "cell_type": "markdown",
   "metadata": {}
  },
  {
   "cell_type": "code",
   "execution_count": 34,
   "metadata": {},
   "outputs": [
    {
     "output_type": "execute_result",
     "data": {
      "text/plain": [
       "<mikeio.DataSet>\n",
       "Dimensions: (6, 100, 40)\n",
       "Time: 2017-01-01 00:00:00 - 2017-01-06 00:00:00\n",
       "Items:\n",
       "  0:  U-velocity <u velocity component> (meter per sec)\n",
       "  1:  V-velocity <v velocity component> (meter per sec)"
      ]
     },
     "metadata": {},
     "execution_count": 34
    }
   ],
   "source": [
    "import numpy as np\n",
    "import matplotlib.pyplot as plt\n",
    "from mikeio import Dfs2, Dfs1\n",
    "\n",
    "dfs2 = Dfs2(r\"../tests/testdata/uv_vertical_daily.dfs2\")\n",
    "ds_surge = dfs2.read()\n",
    "ds_surge"
   ]
  },
  {
   "cell_type": "code",
   "execution_count": 35,
   "metadata": {},
   "outputs": [
    {
     "output_type": "execute_result",
     "data": {
      "text/plain": [
       "<mikeio.DataSet>\n",
       "Dimensions: (145, 40)\n",
       "Time: 2017-01-01 00:00:00 - 2017-01-07 00:00:00\n",
       "Items:\n",
       "  0:  Tidal current component (geographic North) <v velocity component> (meter per sec)\n",
       "  1:  Tidal current component (geographic East) <u velocity component> (meter per sec)"
      ]
     },
     "metadata": {},
     "execution_count": 35
    }
   ],
   "source": [
    "dfs1 = Dfs1(r\"../tests/testdata/vu_tide_hourly.dfs1\")\n",
    "ds_tide = dfs1.read()\n",
    "ds_tide"
   ]
  },
  {
   "source": [
    "### 1. Interpolate in time"
   ],
   "cell_type": "markdown",
   "metadata": {}
  },
  {
   "cell_type": "code",
   "execution_count": 36,
   "metadata": {},
   "outputs": [
    {
     "output_type": "execute_result",
     "data": {
      "text/plain": [
       "<mikeio.DataSet>\n",
       "Dimensions: (145, 100, 40)\n",
       "Time: 2017-01-01 00:00:00 - 2017-01-07 00:00:00\n",
       "Items:\n",
       "  0:  U-velocity <u velocity component> (meter per sec)\n",
       "  1:  V-velocity <v velocity component> (meter per sec)"
      ]
     },
     "metadata": {},
     "execution_count": 36
    }
   ],
   "source": [
    "ds_surge_h = ds_surge.interp_time(ds_tide.time)\n",
    "ds_surge_h"
   ]
  },
  {
   "source": [
    "### 2. Combine\n",
    "\n",
    "Note that the naming and order is inconsistent between the two data sources"
   ],
   "cell_type": "markdown",
   "metadata": {}
  },
  {
   "cell_type": "code",
   "execution_count": 37,
   "metadata": {},
   "outputs": [
    {
     "output_type": "execute_result",
     "data": {
      "text/plain": [
       "(145, 1, 40)"
      ]
     },
     "metadata": {},
     "execution_count": 37
    }
   ],
   "source": [
    "u_tide = ds_tide[\"Tidal current component (geographic East)\"]\n",
    "u_tide = np.expand_dims(u_tide, 1)\n",
    "u_tide.shape"
   ]
  },
  {
   "cell_type": "code",
   "execution_count": 38,
   "metadata": {},
   "outputs": [
    {
     "output_type": "execute_result",
     "data": {
      "text/plain": [
       "(145, 100, 40)"
      ]
     },
     "metadata": {},
     "execution_count": 38
    }
   ],
   "source": [
    "u_surge = ds_surge_h[\"U-velocity\"]\n",
    "u_surge.shape"
   ]
  },
  {
   "cell_type": "code",
   "execution_count": 39,
   "metadata": {},
   "outputs": [
    {
     "output_type": "execute_result",
     "data": {
      "text/plain": [
       "(145, 100, 40)"
      ]
     },
     "metadata": {},
     "execution_count": 39
    }
   ],
   "source": [
    "u_combined = u_tide + u_surge\n",
    "u_combined.shape"
   ]
  },
  {
   "cell_type": "code",
   "execution_count": 40,
   "metadata": {},
   "outputs": [],
   "source": [
    "v_tide = ds_tide[\"Tidal current component (geographic North)\"]\n",
    "v_tide = np.expand_dims(v_tide, 1)\n",
    "v_surge = ds_surge_h[\"V-velocity\"]\n",
    "v_combined = v_tide + v_surge"
   ]
  },
  {
   "source": [
    "### 3. Write to dfs2"
   ],
   "cell_type": "markdown",
   "metadata": {}
  },
  {
   "cell_type": "code",
   "execution_count": 41,
   "metadata": {},
   "outputs": [
    {
     "output_type": "execute_result",
     "data": {
      "text/plain": [
       "<mikeio.DataSet>\n",
       "Dimensions: (145, 100, 40)\n",
       "Time: 2017-01-01 00:00:00 - 2017-01-07 00:00:00\n",
       "Items:\n",
       "  0:  U-velocity <u velocity component> (meter per sec)\n",
       "  1:  V-velocity <v velocity component> (meter per sec)"
      ]
     },
     "metadata": {},
     "execution_count": 41
    }
   ],
   "source": [
    "from mikeio import Dataset\n",
    "ds_combined = Dataset(data=[u_combined,v_combined],time=ds_tide.time,items=ds_surge.items)\n",
    "ds_combined"
   ]
  },
  {
   "cell_type": "code",
   "execution_count": 42,
   "metadata": {},
   "outputs": [
    {
     "output_type": "execute_result",
     "data": {
      "text/plain": [
       "<mikeio.DataSet>\n",
       "Dimensions: (121, 100, 40)\n",
       "Time: 2017-01-01 00:00:00 - 2017-01-06 00:00:00\n",
       "Items:\n",
       "  0:  U-velocity <u velocity component> (meter per sec)\n",
       "  1:  V-velocity <v velocity component> (meter per sec)"
      ]
     },
     "metadata": {},
     "execution_count": 42
    }
   ],
   "source": [
    "ds_combined = ds_combined.dropna()\n",
    "ds_combined"
   ]
  },
  {
   "cell_type": "code",
   "execution_count": 43,
   "metadata": {},
   "outputs": [],
   "source": [
    "dfsnew = Dfs2()\n",
    "\n",
    "dfsnew.write(\"uv_combined.dfs2\", ds_combined)"
   ]
  },
  {
   "source": [
    "# Clean up\n"
   ],
   "cell_type": "markdown",
   "metadata": {}
  },
  {
   "cell_type": "code",
   "execution_count": 44,
   "metadata": {},
   "outputs": [],
   "source": [
    "import os\n",
    "os.remove(\"uv_combined.dfs2\")"
   ]
  },
  {
   "cell_type": "code",
   "execution_count": null,
   "metadata": {},
   "outputs": [],
   "source": []
  }
 ]
}