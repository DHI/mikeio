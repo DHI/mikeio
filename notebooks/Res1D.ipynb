{
 "cells": [
  {
   "cell_type": "markdown",
   "metadata": {},
   "source": [
    "# Read a Res1D file"
   ]
  },
  {
   "cell_type": "code",
   "execution_count": 1,
   "metadata": {},
   "outputs": [],
   "source": [
    "from mikeio.res1d import Res1D"
   ]
  },
  {
   "cell_type": "code",
   "execution_count": 2,
   "metadata": {},
   "outputs": [],
   "source": [
    "file_path = \"../tests/testdata/Exam6Base.res1d\""
   ]
  },
  {
   "cell_type": "code",
   "execution_count": 3,
   "metadata": {},
   "outputs": [],
   "source": [
    "res1d = Res1D(file_path)\n",
    "df = res1d.read()"
   ]
  },
  {
   "cell_type": "code",
   "execution_count": 4,
   "metadata": {},
   "outputs": [
    {
     "data": {
      "text/html": [
       "<div>\n",
       "<style scoped>\n",
       "    .dataframe tbody tr th:only-of-type {\n",
       "        vertical-align: middle;\n",
       "    }\n",
       "\n",
       "    .dataframe tbody tr th {\n",
       "        vertical-align: top;\n",
       "    }\n",
       "\n",
       "    .dataframe thead th {\n",
       "        text-align: right;\n",
       "    }\n",
       "</style>\n",
       "<table border=\"1\" class=\"dataframe\">\n",
       "  <thead>\n",
       "    <tr style=\"text-align: right;\">\n",
       "      <th></th>\n",
       "      <th>WaterLevel:1</th>\n",
       "      <th>WaterLevel:2</th>\n",
       "      <th>WaterLevel:3</th>\n",
       "      <th>WaterLevel:4</th>\n",
       "      <th>WaterLevel:5</th>\n",
       "      <th>WaterLevel:6</th>\n",
       "      <th>WaterLevel:7</th>\n",
       "      <th>WaterLevel:8</th>\n",
       "      <th>WaterLevel:9</th>\n",
       "      <th>WaterLevel:10</th>\n",
       "      <th>...</th>\n",
       "      <th>Discharge:99l1</th>\n",
       "      <th>WaterLevel:9l1:0</th>\n",
       "      <th>WaterLevel:9l1:1</th>\n",
       "      <th>Discharge:9l1</th>\n",
       "      <th>WaterLevel:Weir:119w1:0</th>\n",
       "      <th>WaterLevel:Weir:119w1:1</th>\n",
       "      <th>Discharge:Weir:119w1</th>\n",
       "      <th>WaterLevel:Pump:115p1:0</th>\n",
       "      <th>WaterLevel:Pump:115p1:1</th>\n",
       "      <th>Discharge:Pump:115p1</th>\n",
       "    </tr>\n",
       "  </thead>\n",
       "  <tbody>\n",
       "    <tr>\n",
       "      <th>1994-08-07 16:35:00</th>\n",
       "      <td>195.053</td>\n",
       "      <td>195.8215</td>\n",
       "      <td>195.8815</td>\n",
       "      <td>193.605</td>\n",
       "      <td>193.615</td>\n",
       "      <td>193.6250</td>\n",
       "      <td>193.6750</td>\n",
       "      <td>193.7650</td>\n",
       "      <td>193.7750</td>\n",
       "      <td>193.805</td>\n",
       "      <td>...</td>\n",
       "      <td>0.000002</td>\n",
       "      <td>193.7750</td>\n",
       "      <td>193.7650</td>\n",
       "      <td>0.000031</td>\n",
       "      <td>193.5500</td>\n",
       "      <td>188.48</td>\n",
       "      <td>0.0</td>\n",
       "      <td>193.3050</td>\n",
       "      <td>195.005</td>\n",
       "      <td>0.0</td>\n",
       "    </tr>\n",
       "    <tr>\n",
       "      <th>1994-08-07 16:36:01</th>\n",
       "      <td>195.053</td>\n",
       "      <td>195.8217</td>\n",
       "      <td>195.8815</td>\n",
       "      <td>193.605</td>\n",
       "      <td>193.615</td>\n",
       "      <td>193.6253</td>\n",
       "      <td>193.6751</td>\n",
       "      <td>193.7651</td>\n",
       "      <td>193.7751</td>\n",
       "      <td>193.805</td>\n",
       "      <td>...</td>\n",
       "      <td>0.000002</td>\n",
       "      <td>193.7751</td>\n",
       "      <td>193.7651</td>\n",
       "      <td>0.000031</td>\n",
       "      <td>193.5500</td>\n",
       "      <td>188.48</td>\n",
       "      <td>0.0</td>\n",
       "      <td>193.3061</td>\n",
       "      <td>195.005</td>\n",
       "      <td>0.0</td>\n",
       "    </tr>\n",
       "    <tr>\n",
       "      <th>1994-08-07 16:37:07</th>\n",
       "      <td>195.053</td>\n",
       "      <td>195.8216</td>\n",
       "      <td>195.8815</td>\n",
       "      <td>193.605</td>\n",
       "      <td>193.615</td>\n",
       "      <td>193.6257</td>\n",
       "      <td>193.6754</td>\n",
       "      <td>193.7651</td>\n",
       "      <td>193.7755</td>\n",
       "      <td>193.805</td>\n",
       "      <td>...</td>\n",
       "      <td>0.000002</td>\n",
       "      <td>193.7754</td>\n",
       "      <td>193.7651</td>\n",
       "      <td>0.000033</td>\n",
       "      <td>193.5500</td>\n",
       "      <td>188.48</td>\n",
       "      <td>0.0</td>\n",
       "      <td>193.3071</td>\n",
       "      <td>195.005</td>\n",
       "      <td>0.0</td>\n",
       "    </tr>\n",
       "    <tr>\n",
       "      <th>1994-08-07 16:38:55</th>\n",
       "      <td>195.053</td>\n",
       "      <td>195.8215</td>\n",
       "      <td>195.8815</td>\n",
       "      <td>193.605</td>\n",
       "      <td>193.615</td>\n",
       "      <td>193.6262</td>\n",
       "      <td>193.6758</td>\n",
       "      <td>193.7652</td>\n",
       "      <td>193.7761</td>\n",
       "      <td>193.805</td>\n",
       "      <td>...</td>\n",
       "      <td>0.000002</td>\n",
       "      <td>193.7759</td>\n",
       "      <td>193.7652</td>\n",
       "      <td>0.000037</td>\n",
       "      <td>193.5501</td>\n",
       "      <td>188.48</td>\n",
       "      <td>0.0</td>\n",
       "      <td>193.3089</td>\n",
       "      <td>195.005</td>\n",
       "      <td>0.0</td>\n",
       "    </tr>\n",
       "    <tr>\n",
       "      <th>1994-08-07 16:39:55</th>\n",
       "      <td>195.053</td>\n",
       "      <td>195.8215</td>\n",
       "      <td>195.8815</td>\n",
       "      <td>193.605</td>\n",
       "      <td>193.615</td>\n",
       "      <td>193.6266</td>\n",
       "      <td>193.6759</td>\n",
       "      <td>193.7653</td>\n",
       "      <td>193.7764</td>\n",
       "      <td>193.805</td>\n",
       "      <td>...</td>\n",
       "      <td>0.000002</td>\n",
       "      <td>193.7762</td>\n",
       "      <td>193.7653</td>\n",
       "      <td>0.000039</td>\n",
       "      <td>193.5501</td>\n",
       "      <td>188.48</td>\n",
       "      <td>0.0</td>\n",
       "      <td>193.3099</td>\n",
       "      <td>195.005</td>\n",
       "      <td>0.0</td>\n",
       "    </tr>\n",
       "  </tbody>\n",
       "</table>\n",
       "<p>5 rows × 495 columns</p>\n",
       "</div>"
      ],
      "text/plain": [
       "                     WaterLevel:1  WaterLevel:2  WaterLevel:3  WaterLevel:4  \\\n",
       "1994-08-07 16:35:00       195.053      195.8215      195.8815       193.605   \n",
       "1994-08-07 16:36:01       195.053      195.8217      195.8815       193.605   \n",
       "1994-08-07 16:37:07       195.053      195.8216      195.8815       193.605   \n",
       "1994-08-07 16:38:55       195.053      195.8215      195.8815       193.605   \n",
       "1994-08-07 16:39:55       195.053      195.8215      195.8815       193.605   \n",
       "\n",
       "                     WaterLevel:5  WaterLevel:6  WaterLevel:7  WaterLevel:8  \\\n",
       "1994-08-07 16:35:00       193.615      193.6250      193.6750      193.7650   \n",
       "1994-08-07 16:36:01       193.615      193.6253      193.6751      193.7651   \n",
       "1994-08-07 16:37:07       193.615      193.6257      193.6754      193.7651   \n",
       "1994-08-07 16:38:55       193.615      193.6262      193.6758      193.7652   \n",
       "1994-08-07 16:39:55       193.615      193.6266      193.6759      193.7653   \n",
       "\n",
       "                     WaterLevel:9  WaterLevel:10  ...  Discharge:99l1  \\\n",
       "1994-08-07 16:35:00      193.7750        193.805  ...        0.000002   \n",
       "1994-08-07 16:36:01      193.7751        193.805  ...        0.000002   \n",
       "1994-08-07 16:37:07      193.7755        193.805  ...        0.000002   \n",
       "1994-08-07 16:38:55      193.7761        193.805  ...        0.000002   \n",
       "1994-08-07 16:39:55      193.7764        193.805  ...        0.000002   \n",
       "\n",
       "                     WaterLevel:9l1:0  WaterLevel:9l1:1  Discharge:9l1  \\\n",
       "1994-08-07 16:35:00          193.7750          193.7650       0.000031   \n",
       "1994-08-07 16:36:01          193.7751          193.7651       0.000031   \n",
       "1994-08-07 16:37:07          193.7754          193.7651       0.000033   \n",
       "1994-08-07 16:38:55          193.7759          193.7652       0.000037   \n",
       "1994-08-07 16:39:55          193.7762          193.7653       0.000039   \n",
       "\n",
       "                     WaterLevel:Weir:119w1:0  WaterLevel:Weir:119w1:1  \\\n",
       "1994-08-07 16:35:00                 193.5500                   188.48   \n",
       "1994-08-07 16:36:01                 193.5500                   188.48   \n",
       "1994-08-07 16:37:07                 193.5500                   188.48   \n",
       "1994-08-07 16:38:55                 193.5501                   188.48   \n",
       "1994-08-07 16:39:55                 193.5501                   188.48   \n",
       "\n",
       "                     Discharge:Weir:119w1  WaterLevel:Pump:115p1:0  \\\n",
       "1994-08-07 16:35:00                   0.0                 193.3050   \n",
       "1994-08-07 16:36:01                   0.0                 193.3061   \n",
       "1994-08-07 16:37:07                   0.0                 193.3071   \n",
       "1994-08-07 16:38:55                   0.0                 193.3089   \n",
       "1994-08-07 16:39:55                   0.0                 193.3099   \n",
       "\n",
       "                     WaterLevel:Pump:115p1:1  Discharge:Pump:115p1  \n",
       "1994-08-07 16:35:00                  195.005                   0.0  \n",
       "1994-08-07 16:36:01                  195.005                   0.0  \n",
       "1994-08-07 16:37:07                  195.005                   0.0  \n",
       "1994-08-07 16:38:55                  195.005                   0.0  \n",
       "1994-08-07 16:39:55                  195.005                   0.0  \n",
       "\n",
       "[5 rows x 495 columns]"
      ]
     },
     "execution_count": 4,
     "metadata": {},
     "output_type": "execute_result"
    }
   ],
   "source": [
    "df.head()"
   ]
  },
  {
   "cell_type": "code",
   "execution_count": 5,
   "metadata": {},
   "outputs": [
    {
     "data": {
      "text/plain": [
       "<AxesSubplot:>"
      ]
     },
     "execution_count": 5,
     "metadata": {},
     "output_type": "execute_result"
    },
    {
     "data": {
      "image/png": "[encoded data removed]",
      "text/plain": [
       "<Figure size 432x288 with 1 Axes>"
      ]
     },
     "metadata": {
      "needs_background": "light"
     },
     "output_type": "display_data"
    }
   ],
   "source": [
    "df[['WaterLevel:100l1:0', 'WaterLevel:100l1:1']].plot()"
   ]
  },
  {
   "cell_type": "markdown",
   "metadata": {},
   "source": [
    "# Explore other metadata"
   ]
  },
  {
   "cell_type": "code",
   "execution_count": 6,
   "metadata": {},
   "outputs": [
    {
     "data": {
      "text/plain": [
       "'1994-08-07 16:35:00'"
      ]
     },
     "execution_count": 6,
     "metadata": {},
     "output_type": "execute_result"
    }
   ],
   "source": [
    "str(res1d.start_time)"
   ]
  },
  {
   "cell_type": "code",
   "execution_count": 7,
   "metadata": {},
   "outputs": [
    {
     "data": {
      "text/plain": [
       "['WaterLevel', 'Discharge']"
      ]
     },
     "execution_count": 7,
     "metadata": {},
     "output_type": "execute_result"
    }
   ],
   "source": [
    "res1d.quantities # list quantities found in file"
   ]
  },
  {
   "cell_type": "code",
   "execution_count": 8,
   "metadata": {},
   "outputs": [
    {
     "data": {
      "text/plain": [
       "['WaterLevel',\n",
       " 'WaterLevelChange',\n",
       " 'WaterLevelCorrection',\n",
       " 'WaterDepth',\n",
       " 'WaterVolume',\n",
       " 'WaterVolumeAboveGround',\n",
       " 'WaterFlowRateAboveGround',\n",
       " 'WaterVolumeRetainedInMaxInflow',\n",
       " 'WaterVolumeM11',\n",
       " 'WaterVolumeChange',\n",
       " 'MassError',\n",
       " 'MassErrorM11Comp',\n",
       " 'MassErrorAccumulated',\n",
       " 'MassErrorAbsAccumulated',\n",
       " 'MassErrorChecksum',\n",
       " 'MassErrorAccumulatedChecksum',\n",
       " 'FlowArea',\n",
       " 'FlowAreaTsMean',\n",
       " 'FlowAreaInStructure',\n",
       " 'FloodedArea',\n",
       " 'GateLevel',\n",
       " 'Discharge',\n",
       " 'DischargeCorrection',\n",
       " 'DischargePerLength',\n",
       " 'DischargePerArea',\n",
       " 'DischargeInStructure',\n",
       " 'DischargeFromSurface',\n",
       " 'DischargeOutflow',\n",
       " 'DischargeStepAveraged',\n",
       " 'LateralSources',\n",
       " 'LateralInflow',\n",
       " 'LateralOutflow',\n",
       " 'LateralOutflowReduction',\n",
       " 'TimestepInflow',\n",
       " 'TimestepOutflow',\n",
       " 'TotalInflow',\n",
       " 'TotalOutflow',\n",
       " 'NodeInfiltration',\n",
       " 'DischargeHPoints',\n",
       " 'FlowVelocity',\n",
       " 'FlowVelocityInStructure',\n",
       " 'WindVelocity',\n",
       " 'WindDirection',\n",
       " 'FlowWidth',\n",
       " 'FlowWidthTsMean',\n",
       " 'Time',\n",
       " 'TimeStep',\n",
       " 'NumberOfTriesForTimeStep',\n",
       " 'TotalRunOff',\n",
       " 'HydraulicRadius',\n",
       " 'ManningResistanceNumber',\n",
       " 'ChezyResistanceNumber',\n",
       " 'BedLevel',\n",
       " 'BedShearStress',\n",
       " 'CourantNumber',\n",
       " 'Froude',\n",
       " 'WaterLevelSlope',\n",
       " 'EnergyLevelSlope',\n",
       " 'EnergyLevel',\n",
       " 'Conveyance',\n",
       " 'NetRainfall',\n",
       " 'CatchmentDischarge',\n",
       " 'TotalLoad',\n",
       " 'WeirDischarge',\n",
       " 'PumpDischarge',\n",
       " 'PumpIsActive',\n",
       " 'OverlandFlow',\n",
       " 'InterFlow',\n",
       " 'TotalBaseFlow',\n",
       " 'BaseFlow',\n",
       " 'LowerBaseFlow',\n",
       " 'InterFlowAndBaseFlow',\n",
       " 'OverlandAndInterflow',\n",
       " 'ActualRainfall',\n",
       " 'ActualEvaporation',\n",
       " 'RootZoneStorage',\n",
       " 'SurfaceStorage',\n",
       " 'GroundWaterDepth',\n",
       " 'InfiltrationToGroundWater',\n",
       " 'InfiltrationFlow',\n",
       " 'TotalInfiltration',\n",
       " 'OverlandFlowFirstReservoir',\n",
       " 'InterFlowFirstReservoir',\n",
       " 'CapillaryFlux',\n",
       " 'OverlandFirstReservoirStorage',\n",
       " 'OverlandSecondReservoirStorage',\n",
       " 'IrrigationSupply',\n",
       " 'SnowStorage',\n",
       " 'Temperature',\n",
       " 'ZoneTemperature',\n",
       " 'ZoneRainfall',\n",
       " 'ZoneWaterRetention',\n",
       " 'ZoneMeltingCoeff',\n",
       " 'ZoneSnowAreaCoverage',\n",
       " 'ZoneMeltingWater',\n",
       " 'ValveOpening',\n",
       " 'CrestLevel',\n",
       " 'Force',\n",
       " 'GroundWaterLeakage',\n",
       " 'DamBreakBreachLevel',\n",
       " 'DamBreakBreachWidth',\n",
       " 'DamBreakBreachSlope',\n",
       " 'DamBreakPipeTopLevel',\n",
       " 'InfiltrationToGroundWaterMinusCapillaryFlux',\n",
       " 'ControlStrategyId',\n",
       " 'Concentration',\n",
       " 'CO1',\n",
       " 'CO2',\n",
       " 'CO3',\n",
       " 'CO4',\n",
       " 'WaterSpillDischarge',\n",
       " 'DamBreakBreachFlow',\n",
       " 'DamBreakCrestFlow',\n",
       " 'WaterSpillVolume',\n",
       " 'NodeSources',\n",
       " 'NodeInflow',\n",
       " 'NodeOutflow',\n",
       " 'NodeInflowVolume',\n",
       " 'NodeOutflowVolume',\n",
       " 'WaterSurcharge',\n",
       " 'FullReachDischarge',\n",
       " 'SurfacePreciEvapoTranspiration',\n",
       " 'ControlVariables',\n",
       " 'DischargeLTSContinuous',\n",
       " 'SourcesInflow',\n",
       " 'Undefined']"
      ]
     },
     "execution_count": 8,
     "metadata": {},
     "output_type": "execute_result"
    }
   ],
   "source": [
    "# Get a list of possible quantity names to use in query\n",
    "from mikeio.res1d import mike1d_quantities\n",
    "mike1d_quantities()"
   ]
  },
  {
   "cell_type": "code",
   "execution_count": 9,
   "metadata": {},
   "outputs": [
    {
     "data": {
      "text/plain": [
       "['Res1DManhole: 1',\n",
       " 'Res1DManhole: 2',\n",
       " 'Res1DManhole: 3',\n",
       " 'Res1DManhole: 4',\n",
       " 'Res1DManhole: 5',\n",
       " 'Res1DManhole: 6',\n",
       " 'Res1DManhole: 7',\n",
       " 'Res1DManhole: 8',\n",
       " 'Res1DManhole: 9',\n",
       " 'Res1DManhole: 10',\n",
       " 'Res1DManhole: 11',\n",
       " 'Res1DManhole: 13',\n",
       " 'Res1DManhole: 14',\n",
       " 'Res1DManhole: 15',\n",
       " 'Res1DManhole: 17',\n",
       " 'Res1DManhole: 20',\n",
       " 'Res1DManhole: 21',\n",
       " 'Res1DManhole: 22',\n",
       " 'Res1DManhole: 23',\n",
       " 'Res1DManhole: 24',\n",
       " 'Res1DManhole: 25',\n",
       " 'Res1DManhole: 26',\n",
       " 'Res1DManhole: 27',\n",
       " 'Res1DManhole: 28',\n",
       " 'Res1DManhole: 29',\n",
       " 'Res1DManhole: 30',\n",
       " 'Res1DManhole: 31',\n",
       " 'Res1DManhole: 32',\n",
       " 'Res1DManhole: 33',\n",
       " 'Res1DManhole: 34',\n",
       " 'Res1DManhole: 35',\n",
       " 'Res1DManhole: 36',\n",
       " 'Res1DManhole: 37',\n",
       " 'Res1DManhole: 38',\n",
       " 'Res1DManhole: 39',\n",
       " 'Res1DManhole: 40',\n",
       " 'Res1DManhole: 41',\n",
       " 'Res1DManhole: 42',\n",
       " 'Res1DManhole: 43',\n",
       " 'Res1DManhole: 44',\n",
       " 'Res1DManhole: 45',\n",
       " 'Res1DManhole: 47',\n",
       " 'Res1DManhole: 48',\n",
       " 'Res1DManhole: 49',\n",
       " 'Res1DManhole: 50',\n",
       " 'Res1DManhole: 51',\n",
       " 'Res1DManhole: 52',\n",
       " 'Res1DManhole: 53',\n",
       " 'Res1DManhole: 54',\n",
       " 'Res1DManhole: 56',\n",
       " 'Res1DManhole: 57',\n",
       " 'Res1DManhole: 59',\n",
       " 'Res1DManhole: 60',\n",
       " 'Res1DManhole: 61',\n",
       " 'Res1DManhole: 62',\n",
       " 'Res1DManhole: 63',\n",
       " 'Res1DManhole: 64',\n",
       " 'Res1DManhole: 65',\n",
       " 'Res1DManhole: 66',\n",
       " 'Res1DManhole: 67',\n",
       " 'Res1DManhole: 68',\n",
       " 'Res1DManhole: 69',\n",
       " 'Res1DManhole: 70',\n",
       " 'Res1DManhole: 71',\n",
       " 'Res1DManhole: 72',\n",
       " 'Res1DManhole: 73',\n",
       " 'Res1DManhole: 74',\n",
       " 'Res1DManhole: 75',\n",
       " 'Res1DManhole: 76',\n",
       " 'Res1DManhole: 77',\n",
       " 'Res1DManhole: 78',\n",
       " 'Res1DManhole: 79',\n",
       " 'Res1DManhole: 80',\n",
       " 'Res1DManhole: 81',\n",
       " 'Res1DManhole: 82',\n",
       " 'Res1DManhole: 83',\n",
       " 'Res1DManhole: 84',\n",
       " 'Res1DManhole: 85',\n",
       " 'Res1DManhole: 86',\n",
       " 'Res1DManhole: 87',\n",
       " 'Res1DManhole: 88',\n",
       " 'Res1DManhole: 89',\n",
       " 'Res1DManhole: 90',\n",
       " 'Res1DManhole: 91',\n",
       " 'Res1DManhole: 92',\n",
       " 'Res1DManhole: 93',\n",
       " 'Res1DManhole: 94',\n",
       " 'Res1DManhole: 95',\n",
       " 'Res1DManhole: 96',\n",
       " 'Res1DManhole: 97',\n",
       " 'Res1DManhole: 98',\n",
       " 'Res1DManhole: 99',\n",
       " 'Res1DManhole: 100',\n",
       " 'Res1DManhole: 101',\n",
       " 'Res1DManhole: 102',\n",
       " 'Res1DManhole: 103',\n",
       " 'Res1DManhole: 104',\n",
       " 'Res1DManhole: 105',\n",
       " 'Res1DManhole: 106',\n",
       " 'Res1DManhole: 107',\n",
       " 'Res1DManhole: 108',\n",
       " 'Res1DManhole: 109',\n",
       " 'Res1DManhole: 110',\n",
       " 'Res1DManhole: 111',\n",
       " 'Res1DManhole: 112',\n",
       " 'Res1DManhole: 113',\n",
       " 'Res1DManhole: 114',\n",
       " 'Res1DManhole: 12',\n",
       " 'Res1DManhole: 16',\n",
       " 'Res1DManhole: 46',\n",
       " 'Res1DManhole: 55',\n",
       " 'Res1DManhole: 58',\n",
       " 'Res1DManhole: 116',\n",
       " 'Res1DManhole: 117',\n",
       " 'Res1DManhole: 118',\n",
       " 'Res1DBasin: 115',\n",
       " 'Res1DBasin: 119',\n",
       " 'Res1DOutlet: 120',\n",
       " 'Res1DOutlet: Weir Outlet:119w1']"
      ]
     },
     "execution_count": 9,
     "metadata": {},
     "output_type": "execute_result"
    }
   ],
   "source": [
    "# List nodes (type: name) \n",
    "[str(n) for n in res1d.data.Nodes]"
   ]
  },
  {
   "cell_type": "markdown",
   "metadata": {},
   "source": [
    "# Example: Query specific time series"
   ]
  },
  {
   "cell_type": "code",
   "execution_count": 10,
   "metadata": {},
   "outputs": [],
   "source": [
    "from mikeio.res1d import QueryDataNode, QueryDataReach"
   ]
  },
  {
   "cell_type": "code",
   "execution_count": 11,
   "metadata": {},
   "outputs": [],
   "source": [
    "# Read a specific reach\n",
    "query1 = QueryDataNode('WaterLevel', '1')\n",
    "\n",
    "# Read a specific reach and chainage\n",
    "query2 = QueryDataReach(\"WaterLevel\", \"104l1\", 34.4131)\n",
    "\n",
    "# Combine queries to extract in one go\n",
    "queries = [query1, query2]"
   ]
  },
  {
   "cell_type": "code",
   "execution_count": 12,
   "metadata": {},
   "outputs": [
    {
     "data": {
      "text/html": [
       "<div>\n",
       "<style scoped>\n",
       "    .dataframe tbody tr th:only-of-type {\n",
       "        vertical-align: middle;\n",
       "    }\n",
       "\n",
       "    .dataframe tbody tr th {\n",
       "        vertical-align: top;\n",
       "    }\n",
       "\n",
       "    .dataframe thead th {\n",
       "        text-align: right;\n",
       "    }\n",
       "</style>\n",
       "<table border=\"1\" class=\"dataframe\">\n",
       "  <thead>\n",
       "    <tr style=\"text-align: right;\">\n",
       "      <th></th>\n",
       "      <th>WaterLevel:1</th>\n",
       "      <th>WaterLevel:104l1:34.4131</th>\n",
       "    </tr>\n",
       "  </thead>\n",
       "  <tbody>\n",
       "    <tr>\n",
       "      <th>1994-08-07 16:35:00</th>\n",
       "      <td>195.053</td>\n",
       "      <td>196.9620</td>\n",
       "    </tr>\n",
       "    <tr>\n",
       "      <th>1994-08-07 16:36:01</th>\n",
       "      <td>195.053</td>\n",
       "      <td>196.9621</td>\n",
       "    </tr>\n",
       "    <tr>\n",
       "      <th>1994-08-07 16:37:07</th>\n",
       "      <td>195.053</td>\n",
       "      <td>196.9621</td>\n",
       "    </tr>\n",
       "    <tr>\n",
       "      <th>1994-08-07 16:38:55</th>\n",
       "      <td>195.053</td>\n",
       "      <td>196.9621</td>\n",
       "    </tr>\n",
       "    <tr>\n",
       "      <th>1994-08-07 16:39:55</th>\n",
       "      <td>195.053</td>\n",
       "      <td>196.9621</td>\n",
       "    </tr>\n",
       "  </tbody>\n",
       "</table>\n",
       "</div>"
      ],
      "text/plain": [
       "                     WaterLevel:1  WaterLevel:104l1:34.4131\n",
       "1994-08-07 16:35:00       195.053                  196.9620\n",
       "1994-08-07 16:36:01       195.053                  196.9621\n",
       "1994-08-07 16:37:07       195.053                  196.9621\n",
       "1994-08-07 16:38:55       195.053                  196.9621\n",
       "1994-08-07 16:39:55       195.053                  196.9621"
      ]
     },
     "execution_count": 12,
     "metadata": {},
     "output_type": "execute_result"
    }
   ],
   "source": [
    "df = res1d.read(queries)\n",
    "df.head()"
   ]
  },
  {
   "cell_type": "markdown",
   "metadata": {},
   "source": [
    "# Example: More data extraction examples"
   ]
  },
  {
   "cell_type": "code",
   "execution_count": 13,
   "metadata": {},
   "outputs": [],
   "source": [
    "# Get time series values at reach start or end chainage without specifying chainage number\n",
    "values_start = res1d.get_reach_start_values(\"9l1\", \"WaterLevel\")\n",
    "values_end = res1d.get_reach_end_values(\"9l1\", \"WaterLevel\") "
   ]
  },
  {
   "cell_type": "code",
   "execution_count": 14,
   "metadata": {},
   "outputs": [],
   "source": [
    "# Get time series values summed for all gridpoints in reach with given quantity, \n",
    "# i.e. useful for getting total volume in reach. \n",
    "values_sum = res1d.get_reach_sum_values(\"9l1\", \"WaterLevel\")"
   ]
  },
  {
   "cell_type": "code",
   "execution_count": 15,
   "metadata": {},
   "outputs": [],
   "source": [
    "import pandas as pd"
   ]
  },
  {
   "cell_type": "code",
   "execution_count": 16,
   "metadata": {},
   "outputs": [
    {
     "data": {
      "text/plain": [
       "<AxesSubplot:ylabel='9l1: WaterLevel'>"
      ]
     },
     "execution_count": 16,
     "metadata": {},
     "output_type": "execute_result"
    },
    {
     "data": {
      "image/png": "[encoded data removed]",
      "text/plain": [
       "<Figure size 432x288 with 1 Axes>"
      ]
     },
     "metadata": {
      "needs_background": "light"
     },
     "output_type": "display_data"
    }
   ],
   "source": [
    "# Create pandas time series and plot\n",
    "pd.Series(values_sum, index = res1d.time_index).plot(ylabel=\"9l1: \" + \"WaterLevel\")"
   ]
  },
  {
   "cell_type": "markdown",
   "metadata": {},
   "source": [
    "# Alternative: Access underlying C# query class to extract data"
   ]
  },
  {
   "cell_type": "code",
   "execution_count": 17,
   "metadata": {},
   "outputs": [],
   "source": [
    "from mikeio.dotnet import to_numpy"
   ]
  },
  {
   "cell_type": "code",
   "execution_count": 18,
   "metadata": {},
   "outputs": [
    {
     "data": {
      "text/plain": [
       "array([196.962  , 196.96205, 196.96208, 196.96211, 196.96213, 196.96214,\n",
       "       196.96216, 196.96217, 196.96219, 196.9622 , 196.96222, 196.96222,\n",
       "       196.9623 , 196.96275, 196.96391, 196.96538, 196.96637, 196.96707,\n",
       "       196.96747, 196.96756, 196.96759, 196.96759, 196.96756, 196.96753,\n",
       "       196.96747, 196.9674 , 196.96735, 196.96729, 196.96721, 196.96713,\n",
       "       196.96707, 196.967  , 196.96692, 196.96686, 196.96678, 196.96672,\n",
       "       196.96666, 196.9666 , 196.96654, 196.96648, 196.96643, 196.96637,\n",
       "       196.96657, 196.97063, 196.98033, 196.99182, 197.00194, 197.0102 ,\n",
       "       197.01689, 197.0226 , 197.02768, 197.03256, 197.03769, 197.04597,\n",
       "       197.03958, 197.03084, 197.02518, 197.0207 , 197.01746, 197.01495,\n",
       "       197.013  , 197.01141, 197.0101 , 197.00899, 197.00803, 197.00702,\n",
       "       197.00551, 197.00323, 197.00078, 196.99792, 196.99512, 196.99225,\n",
       "       196.98889, 196.98589, 196.98251, 196.97975, 196.97722, 196.97542,\n",
       "       196.97379, 196.97237, 196.97171, 196.97104, 196.9702 , 196.96985,\n",
       "       196.96956, 196.9693 , 196.96907, 196.96886, 196.96864, 196.96832,\n",
       "       196.96803, 196.9678 , 196.96767, 196.96756, 196.96742, 196.96736,\n",
       "       196.9673 , 196.96727, 196.96722, 196.9672 , 196.96716, 196.96715,\n",
       "       196.96712, 196.9671 , 196.96707, 196.96706, 196.96704, 196.96703,\n",
       "       196.96666, 196.96577], dtype=float32)"
      ]
     },
     "execution_count": 18,
     "metadata": {},
     "output_type": "execute_result"
    }
   ],
   "source": [
    "to_numpy(res1d.query.GetReachValues(\"104l1\", 34.4131, \"WaterLevel\"))"
   ]
  },
  {
   "cell_type": "code",
   "execution_count": 19,
   "metadata": {},
   "outputs": [],
   "source": [
    "values = res1d.query.GetReachEndValues(\"9l1\", \"WaterLevel\")  # avoid specifying chainage\n",
    "values = res1d.query.GetReachStartValues(\"9l1\", \"WaterLevel\")  # avoid specifying chainage\n",
    "values = res1d.query.GetReachSumValues(\"9l1\", \"WaterLevel\")  # useful for summing volume in reach (all grid points)"
   ]
  },
  {
   "cell_type": "code",
   "execution_count": 20,
   "metadata": {},
   "outputs": [],
   "source": [
    "# Extract catchment values (no catchments in this test file)\n",
    "# values = res1d.query.GetCatchmentValues(catchmentId, quantityId)"
   ]
  }
 ],
 "metadata": {
  "kernelspec": {
   "display_name": "Python 3",
   "language": "python",
   "name": "python3"
  },
  "language_info": {
   "codemirror_mode": {
    "name": "ipython",
    "version": 3
   },
   "file_extension": ".py",
   "mimetype": "text/x-python",
   "name": "python",
   "nbconvert_exporter": "python",
   "pygments_lexer": "ipython3",
   "version": "3.7.3"
  }
 },
 "nbformat": 4,
 "nbformat_minor": 4
}
