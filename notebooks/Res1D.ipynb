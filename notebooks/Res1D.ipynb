{
 "cells": [
  {
   "cell_type": "markdown",
   "metadata": {},
   "source": [
    "# Read a res1d file"
   ]
  },
  {
   "cell_type": "code",
   "execution_count": 1,
   "metadata": {},
   "outputs": [],
   "source": [
    "from mikeio import res1d\n"
   ]
  },
  {
   "cell_type": "code",
   "execution_count": 2,
   "metadata": {},
   "outputs": [],
   "source": [
    "filename = \"../tests/testdata/Exam6Base.res1d\""
   ]
  },
  {
   "cell_type": "code",
   "execution_count": 3,
   "metadata": {},
   "outputs": [
    {
     "data": {
      "text/html": [
       "<div>\n",
       "<style scoped>\n",
       "    .dataframe tbody tr th:only-of-type {\n",
       "        vertical-align: middle;\n",
       "    }\n",
       "\n",
       "    .dataframe tbody tr th {\n",
       "        vertical-align: top;\n",
       "    }\n",
       "\n",
       "    .dataframe thead th {\n",
       "        text-align: right;\n",
       "    }\n",
       "</style>\n",
       "<table border=\"1\" class=\"dataframe\">\n",
       "  <thead>\n",
       "    <tr style=\"text-align: right;\">\n",
       "      <th></th>\n",
       "      <th>WaterLevel 100l1 0.000</th>\n",
       "      <th>WaterLevel 100l1 47.683</th>\n",
       "      <th>WaterLevel 101l1 0.000</th>\n",
       "      <th>WaterLevel 101l1 66.436</th>\n",
       "      <th>WaterLevel 102l1 0.000</th>\n",
       "      <th>WaterLevel 102l1 10.937</th>\n",
       "      <th>WaterLevel 103l1 0.000</th>\n",
       "      <th>WaterLevel 103l1 26.065</th>\n",
       "      <th>WaterLevel 104l1 0.000</th>\n",
       "      <th>WaterLevel 104l1 34.413</th>\n",
       "      <th>...</th>\n",
       "      <th>WaterLevel 98l1 0.000</th>\n",
       "      <th>WaterLevel 98l1 16.010</th>\n",
       "      <th>WaterLevel 99l1 0.000</th>\n",
       "      <th>WaterLevel 99l1 44.502</th>\n",
       "      <th>WaterLevel 9l1 0.000</th>\n",
       "      <th>WaterLevel 9l1 10.000</th>\n",
       "      <th>WaterLevel Weir:119w1 0.000</th>\n",
       "      <th>WaterLevel Weir:119w1 1.000</th>\n",
       "      <th>WaterLevel Pump:115p1 0.000</th>\n",
       "      <th>WaterLevel Pump:115p1 82.428</th>\n",
       "    </tr>\n",
       "  </thead>\n",
       "  <tbody>\n",
       "    <tr>\n",
       "      <th>1994-08-07 16:35:00</th>\n",
       "      <td>195.4415</td>\n",
       "      <td>194.6615</td>\n",
       "      <td>195.9315</td>\n",
       "      <td>195.4415</td>\n",
       "      <td>193.5500</td>\n",
       "      <td>193.5500</td>\n",
       "      <td>195.8015</td>\n",
       "      <td>195.7015</td>\n",
       "      <td>197.072</td>\n",
       "      <td>196.9620</td>\n",
       "      <td>...</td>\n",
       "      <td>194.5815</td>\n",
       "      <td>194.5115</td>\n",
       "      <td>194.6615</td>\n",
       "      <td>194.5815</td>\n",
       "      <td>193.7750</td>\n",
       "      <td>193.7650</td>\n",
       "      <td>193.5500</td>\n",
       "      <td>188.48</td>\n",
       "      <td>193.3050</td>\n",
       "      <td>195.005</td>\n",
       "    </tr>\n",
       "    <tr>\n",
       "      <th>1994-08-07 16:36:01</th>\n",
       "      <td>195.4415</td>\n",
       "      <td>194.6616</td>\n",
       "      <td>195.9315</td>\n",
       "      <td>195.4416</td>\n",
       "      <td>193.5501</td>\n",
       "      <td>193.5501</td>\n",
       "      <td>195.8015</td>\n",
       "      <td>195.7032</td>\n",
       "      <td>197.072</td>\n",
       "      <td>196.9621</td>\n",
       "      <td>...</td>\n",
       "      <td>194.5815</td>\n",
       "      <td>194.5118</td>\n",
       "      <td>194.6616</td>\n",
       "      <td>194.5815</td>\n",
       "      <td>193.7751</td>\n",
       "      <td>193.7651</td>\n",
       "      <td>193.5500</td>\n",
       "      <td>188.48</td>\n",
       "      <td>193.3061</td>\n",
       "      <td>195.005</td>\n",
       "    </tr>\n",
       "    <tr>\n",
       "      <th>1994-08-07 16:37:07</th>\n",
       "      <td>195.4415</td>\n",
       "      <td>194.6617</td>\n",
       "      <td>195.9315</td>\n",
       "      <td>195.4416</td>\n",
       "      <td>193.5502</td>\n",
       "      <td>193.5502</td>\n",
       "      <td>195.8015</td>\n",
       "      <td>195.7034</td>\n",
       "      <td>197.072</td>\n",
       "      <td>196.9621</td>\n",
       "      <td>...</td>\n",
       "      <td>194.5815</td>\n",
       "      <td>194.5118</td>\n",
       "      <td>194.6617</td>\n",
       "      <td>194.5815</td>\n",
       "      <td>193.7754</td>\n",
       "      <td>193.7651</td>\n",
       "      <td>193.5500</td>\n",
       "      <td>188.48</td>\n",
       "      <td>193.3071</td>\n",
       "      <td>195.005</td>\n",
       "    </tr>\n",
       "    <tr>\n",
       "      <th>1994-08-07 16:38:55</th>\n",
       "      <td>195.4415</td>\n",
       "      <td>194.6618</td>\n",
       "      <td>195.9315</td>\n",
       "      <td>195.4416</td>\n",
       "      <td>193.5504</td>\n",
       "      <td>193.5503</td>\n",
       "      <td>195.8015</td>\n",
       "      <td>195.7037</td>\n",
       "      <td>197.072</td>\n",
       "      <td>196.9621</td>\n",
       "      <td>...</td>\n",
       "      <td>194.5815</td>\n",
       "      <td>194.5116</td>\n",
       "      <td>194.6619</td>\n",
       "      <td>194.5815</td>\n",
       "      <td>193.7759</td>\n",
       "      <td>193.7652</td>\n",
       "      <td>193.5501</td>\n",
       "      <td>188.48</td>\n",
       "      <td>193.3089</td>\n",
       "      <td>195.005</td>\n",
       "    </tr>\n",
       "    <tr>\n",
       "      <th>1994-08-07 16:39:55</th>\n",
       "      <td>195.4415</td>\n",
       "      <td>194.6620</td>\n",
       "      <td>195.9315</td>\n",
       "      <td>195.4416</td>\n",
       "      <td>193.5504</td>\n",
       "      <td>193.5504</td>\n",
       "      <td>195.8015</td>\n",
       "      <td>195.7038</td>\n",
       "      <td>197.072</td>\n",
       "      <td>196.9621</td>\n",
       "      <td>...</td>\n",
       "      <td>194.5815</td>\n",
       "      <td>194.5115</td>\n",
       "      <td>194.6619</td>\n",
       "      <td>194.5815</td>\n",
       "      <td>193.7762</td>\n",
       "      <td>193.7653</td>\n",
       "      <td>193.5501</td>\n",
       "      <td>188.48</td>\n",
       "      <td>193.3099</td>\n",
       "      <td>195.005</td>\n",
       "    </tr>\n",
       "  </tbody>\n",
       "</table>\n",
       "<p>5 rows × 247 columns</p>\n",
       "</div>"
      ],
      "text/plain": [
       "                     WaterLevel 100l1 0.000  WaterLevel 100l1 47.683  \\\n",
       "1994-08-07 16:35:00                195.4415                 194.6615   \n",
       "1994-08-07 16:36:01                195.4415                 194.6616   \n",
       "1994-08-07 16:37:07                195.4415                 194.6617   \n",
       "1994-08-07 16:38:55                195.4415                 194.6618   \n",
       "1994-08-07 16:39:55                195.4415                 194.6620   \n",
       "\n",
       "                     WaterLevel 101l1 0.000  WaterLevel 101l1 66.436  \\\n",
       "1994-08-07 16:35:00                195.9315                 195.4415   \n",
       "1994-08-07 16:36:01                195.9315                 195.4416   \n",
       "1994-08-07 16:37:07                195.9315                 195.4416   \n",
       "1994-08-07 16:38:55                195.9315                 195.4416   \n",
       "1994-08-07 16:39:55                195.9315                 195.4416   \n",
       "\n",
       "                     WaterLevel 102l1 0.000  WaterLevel 102l1 10.937  \\\n",
       "1994-08-07 16:35:00                193.5500                 193.5500   \n",
       "1994-08-07 16:36:01                193.5501                 193.5501   \n",
       "1994-08-07 16:37:07                193.5502                 193.5502   \n",
       "1994-08-07 16:38:55                193.5504                 193.5503   \n",
       "1994-08-07 16:39:55                193.5504                 193.5504   \n",
       "\n",
       "                     WaterLevel 103l1 0.000  WaterLevel 103l1 26.065  \\\n",
       "1994-08-07 16:35:00                195.8015                 195.7015   \n",
       "1994-08-07 16:36:01                195.8015                 195.7032   \n",
       "1994-08-07 16:37:07                195.8015                 195.7034   \n",
       "1994-08-07 16:38:55                195.8015                 195.7037   \n",
       "1994-08-07 16:39:55                195.8015                 195.7038   \n",
       "\n",
       "                     WaterLevel 104l1 0.000  WaterLevel 104l1 34.413  ...  \\\n",
       "1994-08-07 16:35:00                 197.072                 196.9620  ...   \n",
       "1994-08-07 16:36:01                 197.072                 196.9621  ...   \n",
       "1994-08-07 16:37:07                 197.072                 196.9621  ...   \n",
       "1994-08-07 16:38:55                 197.072                 196.9621  ...   \n",
       "1994-08-07 16:39:55                 197.072                 196.9621  ...   \n",
       "\n",
       "                     WaterLevel 98l1 0.000  WaterLevel 98l1 16.010  \\\n",
       "1994-08-07 16:35:00               194.5815                194.5115   \n",
       "1994-08-07 16:36:01               194.5815                194.5118   \n",
       "1994-08-07 16:37:07               194.5815                194.5118   \n",
       "1994-08-07 16:38:55               194.5815                194.5116   \n",
       "1994-08-07 16:39:55               194.5815                194.5115   \n",
       "\n",
       "                     WaterLevel 99l1 0.000  WaterLevel 99l1 44.502  \\\n",
       "1994-08-07 16:35:00               194.6615                194.5815   \n",
       "1994-08-07 16:36:01               194.6616                194.5815   \n",
       "1994-08-07 16:37:07               194.6617                194.5815   \n",
       "1994-08-07 16:38:55               194.6619                194.5815   \n",
       "1994-08-07 16:39:55               194.6619                194.5815   \n",
       "\n",
       "                     WaterLevel 9l1 0.000  WaterLevel 9l1 10.000  \\\n",
       "1994-08-07 16:35:00              193.7750               193.7650   \n",
       "1994-08-07 16:36:01              193.7751               193.7651   \n",
       "1994-08-07 16:37:07              193.7754               193.7651   \n",
       "1994-08-07 16:38:55              193.7759               193.7652   \n",
       "1994-08-07 16:39:55              193.7762               193.7653   \n",
       "\n",
       "                     WaterLevel Weir:119w1 0.000  WaterLevel Weir:119w1 1.000  \\\n",
       "1994-08-07 16:35:00                     193.5500                       188.48   \n",
       "1994-08-07 16:36:01                     193.5500                       188.48   \n",
       "1994-08-07 16:37:07                     193.5500                       188.48   \n",
       "1994-08-07 16:38:55                     193.5501                       188.48   \n",
       "1994-08-07 16:39:55                     193.5501                       188.48   \n",
       "\n",
       "                     WaterLevel Pump:115p1 0.000  WaterLevel Pump:115p1 82.428  \n",
       "1994-08-07 16:35:00                     193.3050                       195.005  \n",
       "1994-08-07 16:36:01                     193.3061                       195.005  \n",
       "1994-08-07 16:37:07                     193.3071                       195.005  \n",
       "1994-08-07 16:38:55                     193.3089                       195.005  \n",
       "1994-08-07 16:39:55                     193.3099                       195.005  \n",
       "\n",
       "[5 rows x 247 columns]"
      ]
     },
     "execution_count": 3,
     "metadata": {},
     "output_type": "execute_result"
    }
   ],
   "source": [
    "query = res1d.QueryData('WaterLevel')\n",
    "df = res1d.read(filename, query)\n",
    "\n",
    "df.head()"
   ]
  },
  {
   "cell_type": "code",
   "execution_count": 5,
   "metadata": {},
   "outputs": [
    {
     "data": {
      "text/plain": [
       "<matplotlib.axes._subplots.AxesSubplot at 0x18fa0575f08>"
      ]
     },
     "execution_count": 5,
     "metadata": {},
     "output_type": "execute_result"
    },
    {
     "data": {
      "image/png": "[encoded data removed]",
      "text/plain": [
       "<Figure size 432x288 with 1 Axes>"
      ]
     },
     "metadata": {
      "needs_background": "light"
     },
     "output_type": "display_data"
    }
   ],
   "source": [
    "df[['WaterLevel 100l1 0.000','WaterLevel 100l1 47.683']].plot()"
   ]
  },
  {
   "cell_type": "code",
   "execution_count": 11,
   "metadata": {},
   "outputs": [],
   "source": [
    "# read a specific reach\n",
    "query2 = res1d.QueryData('WaterLevel', '103l1')\n",
    "\n",
    "# read a specific reach and chainage\n",
    "query3 = res1d.QueryData('WaterLevel', reach_name ='101l1', chainage=66.436)\n",
    "\n",
    "# combine queries\n",
    "queries = [query2, query3]"
   ]
  },
  {
   "cell_type": "code",
   "execution_count": 12,
   "metadata": {},
   "outputs": [
    {
     "data": {
      "text/html": [
       "<div>\n",
       "<style scoped>\n",
       "    .dataframe tbody tr th:only-of-type {\n",
       "        vertical-align: middle;\n",
       "    }\n",
       "\n",
       "    .dataframe tbody tr th {\n",
       "        vertical-align: top;\n",
       "    }\n",
       "\n",
       "    .dataframe thead th {\n",
       "        text-align: right;\n",
       "    }\n",
       "</style>\n",
       "<table border=\"1\" class=\"dataframe\">\n",
       "  <thead>\n",
       "    <tr style=\"text-align: right;\">\n",
       "      <th></th>\n",
       "      <th>WaterLevel 103l1 0.000</th>\n",
       "      <th>WaterLevel 103l1 26.065</th>\n",
       "      <th>WaterLevel 101l1 66.436</th>\n",
       "    </tr>\n",
       "  </thead>\n",
       "  <tbody>\n",
       "    <tr>\n",
       "      <th>1994-08-07 16:35:00</th>\n",
       "      <td>195.8015</td>\n",
       "      <td>195.7015</td>\n",
       "      <td>195.4415</td>\n",
       "    </tr>\n",
       "    <tr>\n",
       "      <th>1994-08-07 16:36:01</th>\n",
       "      <td>195.8015</td>\n",
       "      <td>195.7032</td>\n",
       "      <td>195.4416</td>\n",
       "    </tr>\n",
       "    <tr>\n",
       "      <th>1994-08-07 16:37:07</th>\n",
       "      <td>195.8015</td>\n",
       "      <td>195.7034</td>\n",
       "      <td>195.4416</td>\n",
       "    </tr>\n",
       "    <tr>\n",
       "      <th>1994-08-07 16:38:55</th>\n",
       "      <td>195.8015</td>\n",
       "      <td>195.7037</td>\n",
       "      <td>195.4416</td>\n",
       "    </tr>\n",
       "    <tr>\n",
       "      <th>1994-08-07 16:39:55</th>\n",
       "      <td>195.8015</td>\n",
       "      <td>195.7038</td>\n",
       "      <td>195.4416</td>\n",
       "    </tr>\n",
       "  </tbody>\n",
       "</table>\n",
       "</div>"
      ],
      "text/plain": [
       "                     WaterLevel 103l1 0.000  WaterLevel 103l1 26.065  \\\n",
       "1994-08-07 16:35:00                195.8015                 195.7015   \n",
       "1994-08-07 16:36:01                195.8015                 195.7032   \n",
       "1994-08-07 16:37:07                195.8015                 195.7034   \n",
       "1994-08-07 16:38:55                195.8015                 195.7037   \n",
       "1994-08-07 16:39:55                195.8015                 195.7038   \n",
       "\n",
       "                     WaterLevel 101l1 66.436  \n",
       "1994-08-07 16:35:00                 195.4415  \n",
       "1994-08-07 16:36:01                 195.4416  \n",
       "1994-08-07 16:37:07                 195.4416  \n",
       "1994-08-07 16:38:55                 195.4416  \n",
       "1994-08-07 16:39:55                 195.4416  "
      ]
     },
     "execution_count": 12,
     "metadata": {},
     "output_type": "execute_result"
    }
   ],
   "source": [
    "df = res1d.read(filename, queries)\n",
    "\n",
    "df.head()"
   ]
  },
  {
   "cell_type": "code",
   "execution_count": 13,
   "metadata": {},
   "outputs": [
    {
     "data": {
      "text/plain": [
       "<matplotlib.axes._subplots.AxesSubplot at 0x18fa0b8e608>"
      ]
     },
     "execution_count": 13,
     "metadata": {},
     "output_type": "execute_result"
    },
    {
     "data": {
      "image/png": "[encoded data removed]",
      "text/plain": [
       "<Figure size 432x288 with 1 Axes>"
      ]
     },
     "metadata": {
      "needs_background": "light"
     },
     "output_type": "display_data"
    }
   ],
   "source": [
    "df.plot()"
   ]
  },
  {
   "cell_type": "code",
   "execution_count": null,
   "metadata": {},
   "outputs": [],
   "source": []
  }
 ],
 "metadata": {
  "kernelspec": {
   "display_name": "Python 3",
   "language": "python",
   "name": "python3"
  },
  "language_info": {
   "codemirror_mode": {
    "name": "ipython",
    "version": 3
   },
   "file_extension": ".py",
   "mimetype": "text/x-python",
   "name": "python",
   "nbconvert_exporter": "python",
   "pygments_lexer": "ipython3",
   "version": "3.7.4"
  }
 },
 "nbformat": 4,
 "nbformat_minor": 4
}
