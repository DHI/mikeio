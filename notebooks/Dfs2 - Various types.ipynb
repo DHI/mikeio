{
 "cells": [
  {
   "cell_type": "markdown",
   "metadata": {},
   "source": [
    "# Dfs2 - Various types\n",
    "\n",
    "This notebook examines various Dfs2 types: \n",
    "\n",
    "* Horizontal\n",
    "    - UTM (waves.dfs2)\n",
    "    - Long/Lat (Venice_lagoon_wind_longlat.dfs2)\n",
    "    - Local coordinates (M3WFM_sponge_local_coordinates.dfs2)\n",
    "* Rotated \n",
    "    - UTM (BW_Ronne_Layout1998_rotated.dfs2)    \n",
    "* Vertical (hd_vertical_slice.dfs2)\n",
    "* Spectral\n",
    "    - Linear f-axis (dir_wave_analysis_spectra.dfs2)\n",
    "    - Logarithmic f-axis (pt_spectra.dfs2)\n",
    "\n",
    "For each of these, it should be possible to:\n",
    "\n",
    "* read and write without changing header (origo and rotation)\n",
    "* plot\n",
    "* find_index (or throw relavant error)\n",
    "* isel \n",
    "* sel (or throw relevant error)"
   ]
  },
  {
   "cell_type": "code",
   "execution_count": 1,
   "metadata": {},
   "outputs": [],
   "source": [
    "import mikeio"
   ]
  },
  {
   "cell_type": "markdown",
   "metadata": {},
   "source": [
    "## Horizontal"
   ]
  },
  {
   "cell_type": "code",
   "execution_count": 2,
   "metadata": {},
   "outputs": [
    {
     "data": {
      "text/plain": [
       "<mikeio.DataArray>\n",
       "name: Sign. Wave Height\n",
       "dims: (time:3, y:31, x:31)\n",
       "time: 2004-01-01 00:00:00 - 2004-01-03 00:00:00 (3 records)\n",
       "geometry: Grid2DHorizontal (ny=31, nx=31)"
      ]
     },
     "execution_count": 2,
     "metadata": {},
     "output_type": "execute_result"
    }
   ],
   "source": [
    "fn = \"../tests/testdata/waves.dfs2\"\n",
    "da = mikeio.read(fn)[0]\n",
    "da"
   ]
  },
  {
   "cell_type": "code",
   "execution_count": null,
   "metadata": {},
   "outputs": [],
   "source": [
    "da.plot();"
   ]
  },
  {
   "cell_type": "code",
   "execution_count": 4,
   "metadata": {},
   "outputs": [
    {
     "data": {
      "text/plain": [
       "<mikeio.DataArray>\n",
       "name: Mean Sea Level Pressure\n",
       "dims: (time:1, y:101, x:221)\n",
       "time: 2012-01-01 00:00:00 (time-invariant)\n",
       "geometry: Grid2DHorizontal (ny=101, nx=221)"
      ]
     },
     "execution_count": 4,
     "metadata": {},
     "output_type": "execute_result"
    }
   ],
   "source": [
    "fn = \"../tests/testdata/Venice_lagoon_wind_longlat.dfs2\"\n",
    "da = mikeio.read(fn)[0]\n",
    "da"
   ]
  },
  {
   "cell_type": "code",
   "execution_count": null,
   "metadata": {},
   "outputs": [],
   "source": [
    "da.plot();"
   ]
  },
  {
   "cell_type": "code",
   "execution_count": 6,
   "metadata": {},
   "outputs": [
    {
     "data": {
      "text/plain": [
       "<mikeio.DataArray>\n",
       "name: z (m)\n",
       "dims: (time:1, y:62, x:362)\n",
       "time: 1990-01-01 12:00:00 (time-invariant)\n",
       "geometry: Grid2DHorizontal (ny=62, nx=362)"
      ]
     },
     "execution_count": 6,
     "metadata": {},
     "output_type": "execute_result"
    }
   ],
   "source": [
    "fn = \"../tests/testdata/M3WFM_sponge_local_coordinates.dfs2\"\n",
    "da = mikeio.read(fn)[0]\n",
    "da"
   ]
  },
  {
   "cell_type": "code",
   "execution_count": null,
   "metadata": {},
   "outputs": [],
   "source": [
    "da.plot();"
   ]
  },
  {
   "cell_type": "markdown",
   "metadata": {},
   "source": [
    "## Rotated"
   ]
  },
  {
   "cell_type": "code",
   "execution_count": 8,
   "metadata": {},
   "outputs": [
    {
     "data": {
      "text/plain": [
       "<mikeio.DataArray>\n",
       "name: Bathymetry\n",
       "dims: (time:1, y:172, x:263)\n",
       "time: 1990-01-01 12:00:00 (time-invariant)\n",
       "geometry: Grid2DHorizontal (ny=172, nx=263)"
      ]
     },
     "execution_count": 8,
     "metadata": {},
     "output_type": "execute_result"
    }
   ],
   "source": [
    "fn = \"../tests/testdata/BW_Ronne_Layout1998_rotated.dfs2\"\n",
    "da = mikeio.read(fn)[0]\n",
    "da"
   ]
  },
  {
   "cell_type": "code",
   "execution_count": null,
   "metadata": {},
   "outputs": [],
   "source": [
    "da.plot();"
   ]
  },
  {
   "cell_type": "markdown",
   "metadata": {},
   "source": [
    "## Vertical"
   ]
  },
  {
   "cell_type": "code",
   "execution_count": 10,
   "metadata": {},
   "outputs": [
    {
     "data": {
      "text/plain": [
       "<mikeio.DataArray>\n",
       "name: U velocity\n",
       "dims: (time:13, y:76, x:41)\n",
       "time: 2022-04-23 00:00:00 - 2022-04-23 12:00:00 (13 records)\n",
       "geometry: Grid2DHorizontal (ny=76, nx=41)"
      ]
     },
     "execution_count": 10,
     "metadata": {},
     "output_type": "execute_result"
    }
   ],
   "source": [
    "fn = \"../tests/testdata/hd_vertical_slice.dfs2\"\n",
    "da = mikeio.read(fn)[0]\n",
    "da"
   ]
  },
  {
   "cell_type": "code",
   "execution_count": null,
   "metadata": {},
   "outputs": [],
   "source": [
    "da.plot();"
   ]
  },
  {
   "cell_type": "markdown",
   "metadata": {},
   "source": [
    "## Spectral"
   ]
  },
  {
   "cell_type": "code",
   "execution_count": 12,
   "metadata": {},
   "outputs": [
    {
     "data": {
      "text/plain": [
       "<mikeio.DataArray>\n",
       "name: Directional spectrum [1]\n",
       "dims: (time:1, y:37, x:128)\n",
       "time: 1970-01-01 00:00:00 (time-invariant)\n",
       "geometry: Grid2DHorizontal (ny=37, nx=128)"
      ]
     },
     "execution_count": 12,
     "metadata": {},
     "output_type": "execute_result"
    }
   ],
   "source": [
    "fn = \"../tests/testdata/dir_wave_analysis_spectra.dfs2\"\n",
    "da = mikeio.read(fn)[0]\n",
    "da"
   ]
  },
  {
   "cell_type": "code",
   "execution_count": null,
   "metadata": {},
   "outputs": [],
   "source": [
    "da.plot();"
   ]
  },
  {
   "cell_type": "code",
   "execution_count": 14,
   "metadata": {},
   "outputs": [
    {
     "data": {
      "text/plain": [
       "<mikeio.DataArray>\n",
       "name: Point 1: Energy density\n",
       "dims: (time:31, y:16, x:25)\n",
       "time: 2017-10-27 00:00:00 - 2017-10-27 05:00:00 (31 records)\n",
       "geometry: Grid2DHorizontal (ny=16, nx=25)"
      ]
     },
     "execution_count": 14,
     "metadata": {},
     "output_type": "execute_result"
    }
   ],
   "source": [
    "fn = \"../tests/testdata/pt_spectra.dfs2\"\n",
    "da = mikeio.read(fn)[0]\n",
    "da"
   ]
  },
  {
   "cell_type": "code",
   "execution_count": null,
   "metadata": {},
   "outputs": [],
   "source": [
    "da.plot();"
   ]
  }
 ],
 "metadata": {
  "interpreter": {
   "hash": "fa576ebcd40e010bdc0ae86b06ce09151f3424f9e9aed6893ff04f39a9299d89"
  },
  "kernelspec": {
   "display_name": "Python 3.8.10 ('base')",
   "language": "python",
   "name": "python3"
  },
  "language_info": {
   "codemirror_mode": {
    "name": "ipython",
    "version": 3
   },
   "file_extension": ".py",
   "mimetype": "text/x-python",
   "name": "python",
   "nbconvert_exporter": "python",
   "pygments_lexer": "ipython3",
   "version": "3.8.10"
  },
  "orig_nbformat": 4
 },
 "nbformat": 4,
 "nbformat_minor": 2
}
