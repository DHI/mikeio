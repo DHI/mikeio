{
 "metadata": {
  "language_info": {
   "codemirror_mode": {
    "name": "ipython",
    "version": 3
   },
   "file_extension": ".py",
   "mimetype": "text/x-python",
   "name": "python",
   "nbconvert_exporter": "python",
   "pygments_lexer": "ipython3",
   "version": "3.8.3-final"
  },
  "orig_nbformat": 2,
  "kernelspec": {
   "name": "python_defaultSpec_1600065033248",
   "display_name": "Python 3.8.3 64-bit ('base': conda)"
  }
 },
 "nbformat": 4,
 "nbformat_minor": 2,
 "cells": [
  {
   "cell_type": "code",
   "execution_count": 1,
   "metadata": {
    "tags": []
   },
   "outputs": [],
   "source": [
    "# pip install mikeio xarray netcdf4"
   ]
  },
  {
   "cell_type": "code",
   "execution_count": 2,
   "metadata": {},
   "outputs": [],
   "source": [
    "import xarray as xr"
   ]
  },
  {
   "cell_type": "code",
   "execution_count": 3,
   "metadata": {},
   "outputs": [],
   "source": [
    "from mikeio import Dfsu"
   ]
  },
  {
   "cell_type": "code",
   "execution_count": 4,
   "metadata": {},
   "outputs": [
    {
     "output_type": "execute_result",
     "data": {
      "text/plain": "Dfsu3DSigmaZ\nNumber of elements: 17118\nNumber of nodes: 12042\nProjection: UTM-33\nNumber of sigma layers: 4\nMax number of z layers: 5\nItems:\n  0:  Z coordinate <ItemGeometry3D> (meter)\n  1:  Temperature <Temperature> (degree Celsius)\n  2:  Salinity <Salinity> (PSU)\nTime: 3 steps with dt=10800.0s\n      1997-09-15 21:00:00 -- 1997-09-16 03:00:00"
     },
     "metadata": {},
     "execution_count": 4
    }
   ],
   "source": [
    "dfsu = Dfsu(\"../tests/testdata/oresund_sigma_z.dfsu\")\n",
    "dfsu"
   ]
  },
  {
   "cell_type": "code",
   "execution_count": 5,
   "metadata": {},
   "outputs": [],
   "source": [
    "nc = dfsu.node_coordinates\n",
    "xn = nc[:,0]\n",
    "yn = nc[:,1]\n",
    "zn = nc[:,2]\n",
    "\n",
    "ec = dfsu.element_coordinates\n",
    "xe = ec[:,0]\n",
    "ye = ec[:,1]\n",
    "ze = ec[:,2]"
   ]
  },
  {
   "cell_type": "code",
   "execution_count": 6,
   "metadata": {},
   "outputs": [
    {
     "output_type": "execute_result",
     "data": {
      "text/plain": "<mikeio.DataSet>\nDimensions: (3, 17118)\nTime: 1997-09-15 21:00:00 - 1997-09-16 03:00:00\nItems:\n  0:  Z coordinate <ItemGeometry3D> (meter)\n  1:  Temperature <Temperature> (degree Celsius)\n  2:  Salinity <Salinity> (PSU)"
     },
     "metadata": {},
     "execution_count": 6
    }
   ],
   "source": [
    "ds = dfsu.read()\n",
    "ds"
   ]
  },
  {
   "cell_type": "code",
   "execution_count": 7,
   "metadata": {},
   "outputs": [],
   "source": [
    "# Time\n",
    "time = ds.time\n",
    "\n",
    "# Node based data\n",
    "node_ids = dfsu.node_ids\n",
    "z_dynamic = ds['Z coordinate']\n",
    "xn_da = xr.DataArray(xn, coords=[node_ids], dims=[\"nodes\"], attrs={'units': 'meter'})\n",
    "yn_da = xr.DataArray(xn, coords=[node_ids], dims=[\"nodes\"], attrs={'units': 'meter'})\n",
    "zn_da = xr.DataArray(zn, coords=[node_ids], dims=[\"nodes\"], attrs={'units': 'meter'})\n",
    "z_dyn_da = xr.DataArray(z_dynamic, coords =[time,node_ids],dims=[\"time\", \"nodes\"], attrs={'units': 'meter'})\n",
    "\n",
    "# Element based data\n",
    "el_ids = dfsu.element_ids\n",
    "xe_da = xr.DataArray(xe, coords=[el_ids], dims=[\"elements\"], attrs={'units': 'meter'})\n",
    "ye_da = xr.DataArray(ye, coords=[el_ids], dims=[\"elements\"], attrs={'units': 'meter'})\n",
    "ze_da = xr.DataArray(ze, coords=[el_ids], dims=[\"elements\"], attrs={'units': 'meter'})\n",
    "\n"
   ]
  },
  {
   "cell_type": "code",
   "execution_count": 8,
   "metadata": {},
   "outputs": [],
   "source": [
    "\n",
    "# Add coordinates for nodes and elements\n",
    "data_dict = {'x': xn_da,\n",
    "             'y' :yn_da,\n",
    "             'z' : zn_da,\n",
    "             'xe' : xe_da,\n",
    "             'ye' : ye_da,\n",
    "             'ze' : ze_da,\n",
    "             'z_dynamic' : z_dyn_da}\n",
    "\n",
    "# add rest of data\n",
    "for item in ds.items[1:]: # skip Z coordinate since this is defined on nodes\n",
    "    name = item.name\n",
    "    data = ds[item]\n",
    "    da = xr.DataArray(data, coords =[time,el_ids],dims=[\"time\", \"elements\"], attrs={'units': item.unit.name})\n",
    "\n",
    "    data_dict[name] = da\n",
    "\n",
    "# create an xarray dataset\n",
    "xr_ds = xr.Dataset(data_dict)\n",
    "\n"
   ]
  },
  {
   "cell_type": "code",
   "execution_count": 9,
   "metadata": {},
   "outputs": [
    {
     "output_type": "execute_result",
     "data": {
      "text/plain": "<xarray.Dataset>\nDimensions:      (elements: 17118, nodes: 12042, time: 3)\nCoordinates:\n  * nodes        (nodes) int32 0 1 2 3 4 5 ... 12037 12038 12039 12040 12041\n  * elements     (elements) int32 0 1 2 3 4 5 ... 17113 17114 17115 17116 17117\n  * time         (time) datetime64[ns] 1997-09-15T21:00:00 ... 1997-09-16T03:...\nData variables:\n    x            (nodes) float64 3.602e+05 3.602e+05 ... 3.698e+05 3.698e+05\n    y            (nodes) float64 3.602e+05 3.602e+05 ... 3.698e+05 3.698e+05\n    z            (nodes) float64 -0.2711 -0.2033 -0.1355 ... -4.0 -2.0 0.0\n    xe           (elements) float64 3.54e+05 3.54e+05 ... 3.696e+05 3.696e+05\n    ye           (elements) float64 6.199e+06 6.199e+06 ... 6.167e+06 6.167e+06\n    ze           (elements) float64 -10.5 -7.0 -5.0 -3.0 ... -7.0 -5.0 -3.0 -1.0\n    z_dynamic    (time, nodes) float64 -0.2711 -0.1232 0.02472 ... -1.888 0.1495\n    Temperature  (time, elements) float64 16.31 16.43 16.54 ... 16.35 16.07\n    Salinity     (time, elements) float64 23.19 22.63 22.32 ... 21.57 21.53",
      "text/html": "<div><svg style=\"position: absolute; width: 0; height: 0; overflow: hidden\">\n<defs>\n<symbol id=\"icon-database\" viewBox=\"0 0 32 32\">\n<path d=\"M16 0c-8.837 0-16 2.239-16 5v4c0 2.761 7.163 5 16 5s16-2.239 16-5v-4c0-2.761-7.163-5-16-5z\"></path>\n<path d=\"M16 17c-8.837 0-16-2.239-16-5v6c0 2.761 7.163 5 16 5s16-2.239 16-5v-6c0 2.761-7.163 5-16 5z\"></path>\n<path d=\"M16 26c-8.837 0-16-2.239-16-5v6c0 2.761 7.163 5 16 5s16-2.239 16-5v-6c0 2.761-7.163 5-16 5z\"></path>\n</symbol>\n<symbol id=\"icon-file-text2\" viewBox=\"0 0 32 32\">\n<path d=\"M28.681 7.159c-0.694-0.947-1.662-2.053-2.724-3.116s-2.169-2.030-3.116-2.724c-1.612-1.182-2.393-1.319-2.841-1.319h-15.5c-1.378 0-2.5 1.121-2.5 2.5v27c0 1.378 1.122 2.5 2.5 2.5h23c1.378 0 2.5-1.122 2.5-2.5v-19.5c0-0.448-0.137-1.23-1.319-2.841zM24.543 5.457c0.959 0.959 1.712 1.825 2.268 2.543h-4.811v-4.811c0.718 0.556 1.584 1.309 2.543 2.268zM28 29.5c0 0.271-0.229 0.5-0.5 0.5h-23c-0.271 0-0.5-0.229-0.5-0.5v-27c0-0.271 0.229-0.5 0.5-0.5 0 0 15.499-0 15.5 0v7c0 0.552 0.448 1 1 1h7v19.5z\"></path>\n<path d=\"M23 26h-14c-0.552 0-1-0.448-1-1s0.448-1 1-1h14c0.552 0 1 0.448 1 1s-0.448 1-1 1z\"></path>\n<path d=\"M23 22h-14c-0.552 0-1-0.448-1-1s0.448-1 1-1h14c0.552 0 1 0.448 1 1s-0.448 1-1 1z\"></path>\n<path d=\"M23 18h-14c-0.552 0-1-0.448-1-1s0.448-1 1-1h14c0.552 0 1 0.448 1 1s-0.448 1-1 1z\"></path>\n</symbol>\n</defs>\n</svg>\n<style>/* CSS stylesheet for displaying xarray objects in jupyterlab.\n *\n */\n\n:root {\n  --xr-font-color0: var(--jp-content-font-color0, rgba(0, 0, 0, 1));\n  --xr-font-color2: var(--jp-content-font-color2, rgba(0, 0, 0, 0.54));\n  --xr-font-color3: var(--jp-content-font-color3, rgba(0, 0, 0, 0.38));\n  --xr-border-color: var(--jp-border-color2, #e0e0e0);\n  --xr-disabled-color: var(--jp-layout-color3, #bdbdbd);\n  --xr-background-color: var(--jp-layout-color0, white);\n  --xr-background-color-row-even: var(--jp-layout-color1, white);\n  --xr-background-color-row-odd: var(--jp-layout-color2, #eeeeee);\n}\n\nhtml[theme=dark],\nbody.vscode-dark {\n  --xr-font-color0: rgba(255, 255, 255, 1);\n  --xr-font-color2: rgba(255, 255, 255, 0.54);\n  --xr-font-color3: rgba(255, 255, 255, 0.38);\n  --xr-border-color: #1F1F1F;\n  --xr-disabled-color: #515151;\n  --xr-background-color: #111111;\n  --xr-background-color-row-even: #111111;\n  --xr-background-color-row-odd: #313131;\n}\n\n.xr-wrap {\n  display: block;\n  min-width: 300px;\n  max-width: 700px;\n}\n\n.xr-text-repr-fallback {\n  /* fallback to plain text repr when CSS is not injected (untrusted notebook) */\n  display: none;\n}\n\n.xr-header {\n  padding-top: 6px;\n  padding-bottom: 6px;\n  margin-bottom: 4px;\n  border-bottom: solid 1px var(--xr-border-color);\n}\n\n.xr-header > div,\n.xr-header > ul {\n  display: inline;\n  margin-top: 0;\n  margin-bottom: 0;\n}\n\n.xr-obj-type,\n.xr-array-name {\n  margin-left: 2px;\n  margin-right: 10px;\n}\n\n.xr-obj-type {\n  color: var(--xr-font-color2);\n}\n\n.xr-sections {\n  padding-left: 0 !important;\n  display: grid;\n  grid-template-columns: 150px auto auto 1fr 20px 20px;\n}\n\n.xr-section-item {\n  display: contents;\n}\n\n.xr-section-item input {\n  display: none;\n}\n\n.xr-section-item input + label {\n  color: var(--xr-disabled-color);\n}\n\n.xr-section-item input:enabled + label {\n  cursor: pointer;\n  color: var(--xr-font-color2);\n}\n\n.xr-section-item input:enabled + label:hover {\n  color: var(--xr-font-color0);\n}\n\n.xr-section-summary {\n  grid-column: 1;\n  color: var(--xr-font-color2);\n  font-weight: 500;\n}\n\n.xr-section-summary > span {\n  display: inline-block;\n  padding-left: 0.5em;\n}\n\n.xr-section-summary-in:disabled + label {\n  color: var(--xr-font-color2);\n}\n\n.xr-section-summary-in + label:before {\n  display: inline-block;\n  content: '►';\n  font-size: 11px;\n  width: 15px;\n  text-align: center;\n}\n\n.xr-section-summary-in:disabled + label:before {\n  color: var(--xr-disabled-color);\n}\n\n.xr-section-summary-in:checked + label:before {\n  content: '▼';\n}\n\n.xr-section-summary-in:checked + label > span {\n  display: none;\n}\n\n.xr-section-summary,\n.xr-section-inline-details {\n  padding-top: 4px;\n  padding-bottom: 4px;\n}\n\n.xr-section-inline-details {\n  grid-column: 2 / -1;\n}\n\n.xr-section-details {\n  display: none;\n  grid-column: 1 / -1;\n  margin-bottom: 5px;\n}\n\n.xr-section-summary-in:checked ~ .xr-section-details {\n  display: contents;\n}\n\n.xr-array-wrap {\n  grid-column: 1 / -1;\n  display: grid;\n  grid-template-columns: 20px auto;\n}\n\n.xr-array-wrap > label {\n  grid-column: 1;\n  vertical-align: top;\n}\n\n.xr-preview {\n  color: var(--xr-font-color3);\n}\n\n.xr-array-preview,\n.xr-array-data {\n  padding: 0 5px !important;\n  grid-column: 2;\n}\n\n.xr-array-data,\n.xr-array-in:checked ~ .xr-array-preview {\n  display: none;\n}\n\n.xr-array-in:checked ~ .xr-array-data,\n.xr-array-preview {\n  display: inline-block;\n}\n\n.xr-dim-list {\n  display: inline-block !important;\n  list-style: none;\n  padding: 0 !important;\n  margin: 0;\n}\n\n.xr-dim-list li {\n  display: inline-block;\n  padding: 0;\n  margin: 0;\n}\n\n.xr-dim-list:before {\n  content: '(';\n}\n\n.xr-dim-list:after {\n  content: ')';\n}\n\n.xr-dim-list li:not(:last-child):after {\n  content: ',';\n  padding-right: 5px;\n}\n\n.xr-has-index {\n  font-weight: bold;\n}\n\n.xr-var-list,\n.xr-var-item {\n  display: contents;\n}\n\n.xr-var-item > div,\n.xr-var-item label,\n.xr-var-item > .xr-var-name span {\n  background-color: var(--xr-background-color-row-even);\n  margin-bottom: 0;\n}\n\n.xr-var-item > .xr-var-name:hover span {\n  padding-right: 5px;\n}\n\n.xr-var-list > li:nth-child(odd) > div,\n.xr-var-list > li:nth-child(odd) > label,\n.xr-var-list > li:nth-child(odd) > .xr-var-name span {\n  background-color: var(--xr-background-color-row-odd);\n}\n\n.xr-var-name {\n  grid-column: 1;\n}\n\n.xr-var-dims {\n  grid-column: 2;\n}\n\n.xr-var-dtype {\n  grid-column: 3;\n  text-align: right;\n  color: var(--xr-font-color2);\n}\n\n.xr-var-preview {\n  grid-column: 4;\n}\n\n.xr-var-name,\n.xr-var-dims,\n.xr-var-dtype,\n.xr-preview,\n.xr-attrs dt {\n  white-space: nowrap;\n  overflow: hidden;\n  text-overflow: ellipsis;\n  padding-right: 10px;\n}\n\n.xr-var-name:hover,\n.xr-var-dims:hover,\n.xr-var-dtype:hover,\n.xr-attrs dt:hover {\n  overflow: visible;\n  width: auto;\n  z-index: 1;\n}\n\n.xr-var-attrs,\n.xr-var-data {\n  display: none;\n  background-color: var(--xr-background-color) !important;\n  padding-bottom: 5px !important;\n}\n\n.xr-var-attrs-in:checked ~ .xr-var-attrs,\n.xr-var-data-in:checked ~ .xr-var-data {\n  display: block;\n}\n\n.xr-var-data > table {\n  float: right;\n}\n\n.xr-var-name span,\n.xr-var-data,\n.xr-attrs {\n  padding-left: 25px !important;\n}\n\n.xr-attrs,\n.xr-var-attrs,\n.xr-var-data {\n  grid-column: 1 / -1;\n}\n\ndl.xr-attrs {\n  padding: 0;\n  margin: 0;\n  display: grid;\n  grid-template-columns: 125px auto;\n}\n\n.xr-attrs dt, dd {\n  padding: 0;\n  margin: 0;\n  float: left;\n  padding-right: 10px;\n  width: auto;\n}\n\n.xr-attrs dt {\n  font-weight: normal;\n  grid-column: 1;\n}\n\n.xr-attrs dt:hover span {\n  display: inline-block;\n  background: var(--xr-background-color);\n  padding-right: 10px;\n}\n\n.xr-attrs dd {\n  grid-column: 2;\n  white-space: pre-wrap;\n  word-break: break-all;\n}\n\n.xr-icon-database,\n.xr-icon-file-text2 {\n  display: inline-block;\n  vertical-align: middle;\n  width: 1em;\n  height: 1.5em !important;\n  stroke-width: 0;\n  stroke: currentColor;\n  fill: currentColor;\n}\n</style><pre class='xr-text-repr-fallback'>&lt;xarray.Dataset&gt;\nDimensions:      (elements: 17118, nodes: 12042, time: 3)\nCoordinates:\n  * nodes        (nodes) int32 0 1 2 3 4 5 ... 12037 12038 12039 12040 12041\n  * elements     (elements) int32 0 1 2 3 4 5 ... 17113 17114 17115 17116 17117\n  * time         (time) datetime64[ns] 1997-09-15T21:00:00 ... 1997-09-16T03:...\nData variables:\n    x            (nodes) float64 3.602e+05 3.602e+05 ... 3.698e+05 3.698e+05\n    y            (nodes) float64 3.602e+05 3.602e+05 ... 3.698e+05 3.698e+05\n    z            (nodes) float64 -0.2711 -0.2033 -0.1355 ... -4.0 -2.0 0.0\n    xe           (elements) float64 3.54e+05 3.54e+05 ... 3.696e+05 3.696e+05\n    ye           (elements) float64 6.199e+06 6.199e+06 ... 6.167e+06 6.167e+06\n    ze           (elements) float64 -10.5 -7.0 -5.0 -3.0 ... -7.0 -5.0 -3.0 -1.0\n    z_dynamic    (time, nodes) float64 -0.2711 -0.1232 0.02472 ... -1.888 0.1495\n    Temperature  (time, elements) float64 16.31 16.43 16.54 ... 16.35 16.07\n    Salinity     (time, elements) float64 23.19 22.63 22.32 ... 21.57 21.53</pre><div class='xr-wrap' hidden><div class='xr-header'><div class='xr-obj-type'>xarray.Dataset</div></div><ul class='xr-sections'><li class='xr-section-item'><input id='section-09232132-df71-4467-bd58-96bfe58d85e4' class='xr-section-summary-in' type='checkbox' disabled ><label for='section-09232132-df71-4467-bd58-96bfe58d85e4' class='xr-section-summary'  title='Expand/collapse section'>Dimensions:</label><div class='xr-section-inline-details'><ul class='xr-dim-list'><li><span class='xr-has-index'>elements</span>: 17118</li><li><span class='xr-has-index'>nodes</span>: 12042</li><li><span class='xr-has-index'>time</span>: 3</li></ul></div><div class='xr-section-details'></div></li><li class='xr-section-item'><input id='section-275010e9-6b34-4bfa-bec4-7df928697b79' class='xr-section-summary-in' type='checkbox'  checked><label for='section-275010e9-6b34-4bfa-bec4-7df928697b79' class='xr-section-summary' >Coordinates: <span>(3)</span></label><div class='xr-section-inline-details'></div><div class='xr-section-details'><ul class='xr-var-list'><li class='xr-var-item'><div class='xr-var-name'><span class='xr-has-index'>nodes</span></div><div class='xr-var-dims'>(nodes)</div><div class='xr-var-dtype'>int32</div><div class='xr-var-preview xr-preview'>0 1 2 3 ... 12038 12039 12040 12041</div><input id='attrs-3a81899e-f3b5-4482-97c6-dfe2ca0fab78' class='xr-var-attrs-in' type='checkbox' disabled><label for='attrs-3a81899e-f3b5-4482-97c6-dfe2ca0fab78' title='Show/Hide attributes'><svg class='icon xr-icon-file-text2'><use xlink:href='#icon-file-text2'></use></svg></label><input id='data-b80276c5-4cb4-47e2-9824-8b4691125ef7' class='xr-var-data-in' type='checkbox'><label for='data-b80276c5-4cb4-47e2-9824-8b4691125ef7' title='Show/Hide data repr'><svg class='icon xr-icon-database'><use xlink:href='#icon-database'></use></svg></label><div class='xr-var-attrs'><dl class='xr-attrs'></dl></div><div class='xr-var-data'><pre>array([    0,     1,     2, ..., 12039, 12040, 12041])</pre></div></li><li class='xr-var-item'><div class='xr-var-name'><span class='xr-has-index'>elements</span></div><div class='xr-var-dims'>(elements)</div><div class='xr-var-dtype'>int32</div><div class='xr-var-preview xr-preview'>0 1 2 3 ... 17114 17115 17116 17117</div><input id='attrs-db88d80a-e87d-4262-8f8b-5c544bfdf4f8' class='xr-var-attrs-in' type='checkbox' disabled><label for='attrs-db88d80a-e87d-4262-8f8b-5c544bfdf4f8' title='Show/Hide attributes'><svg class='icon xr-icon-file-text2'><use xlink:href='#icon-file-text2'></use></svg></label><input id='data-25d69706-c42b-45e4-a92c-de14622cbe18' class='xr-var-data-in' type='checkbox'><label for='data-25d69706-c42b-45e4-a92c-de14622cbe18' title='Show/Hide data repr'><svg class='icon xr-icon-database'><use xlink:href='#icon-database'></use></svg></label><div class='xr-var-attrs'><dl class='xr-attrs'></dl></div><div class='xr-var-data'><pre>array([    0,     1,     2, ..., 17115, 17116, 17117])</pre></div></li><li class='xr-var-item'><div class='xr-var-name'><span class='xr-has-index'>time</span></div><div class='xr-var-dims'>(time)</div><div class='xr-var-dtype'>datetime64[ns]</div><div class='xr-var-preview xr-preview'>1997-09-15T21:00:00 ... 1997-09-...</div><input id='attrs-8be818ac-a2a1-4ec5-93b7-02f10acf1d01' class='xr-var-attrs-in' type='checkbox' disabled><label for='attrs-8be818ac-a2a1-4ec5-93b7-02f10acf1d01' title='Show/Hide attributes'><svg class='icon xr-icon-file-text2'><use xlink:href='#icon-file-text2'></use></svg></label><input id='data-29f2d6f7-709a-4407-801e-a26cfc9dc551' class='xr-var-data-in' type='checkbox'><label for='data-29f2d6f7-709a-4407-801e-a26cfc9dc551' title='Show/Hide data repr'><svg class='icon xr-icon-database'><use xlink:href='#icon-database'></use></svg></label><div class='xr-var-attrs'><dl class='xr-attrs'></dl></div><div class='xr-var-data'><pre>array([&#x27;1997-09-15T21:00:00.000000000&#x27;, &#x27;1997-09-16T00:00:00.000000000&#x27;,\n       &#x27;1997-09-16T03:00:00.000000000&#x27;], dtype=&#x27;datetime64[ns]&#x27;)</pre></div></li></ul></div></li><li class='xr-section-item'><input id='section-3a38bedc-aaaa-422f-9cb4-290e57d71da4' class='xr-section-summary-in' type='checkbox'  checked><label for='section-3a38bedc-aaaa-422f-9cb4-290e57d71da4' class='xr-section-summary' >Data variables: <span>(9)</span></label><div class='xr-section-inline-details'></div><div class='xr-section-details'><ul class='xr-var-list'><li class='xr-var-item'><div class='xr-var-name'><span>x</span></div><div class='xr-var-dims'>(nodes)</div><div class='xr-var-dtype'>float64</div><div class='xr-var-preview xr-preview'>3.602e+05 3.602e+05 ... 3.698e+05</div><input id='attrs-68c483f9-e57a-4323-99ab-3b4f13e12ec1' class='xr-var-attrs-in' type='checkbox' ><label for='attrs-68c483f9-e57a-4323-99ab-3b4f13e12ec1' title='Show/Hide attributes'><svg class='icon xr-icon-file-text2'><use xlink:href='#icon-file-text2'></use></svg></label><input id='data-60e99ee5-e090-407e-9230-0381bc5e9612' class='xr-var-data-in' type='checkbox'><label for='data-60e99ee5-e090-407e-9230-0381bc5e9612' title='Show/Hide data repr'><svg class='icon xr-icon-database'><use xlink:href='#icon-database'></use></svg></label><div class='xr-var-attrs'><dl class='xr-attrs'><dt><span>units :</span></dt><dd>meter</dd></dl></div><div class='xr-var-data'><pre>array([360189.36128087, 360189.36128087, 360189.36128087, ...,\n       369755.35686031, 369755.35686031, 369755.35686031])</pre></div></li><li class='xr-var-item'><div class='xr-var-name'><span>y</span></div><div class='xr-var-dims'>(nodes)</div><div class='xr-var-dtype'>float64</div><div class='xr-var-preview xr-preview'>3.602e+05 3.602e+05 ... 3.698e+05</div><input id='attrs-46c8684a-87cb-44f7-b36f-ae24e4b9e757' class='xr-var-attrs-in' type='checkbox' ><label for='attrs-46c8684a-87cb-44f7-b36f-ae24e4b9e757' title='Show/Hide attributes'><svg class='icon xr-icon-file-text2'><use xlink:href='#icon-file-text2'></use></svg></label><input id='data-aa1f1878-0586-440c-b720-f506c98943a7' class='xr-var-data-in' type='checkbox'><label for='data-aa1f1878-0586-440c-b720-f506c98943a7' title='Show/Hide data repr'><svg class='icon xr-icon-database'><use xlink:href='#icon-database'></use></svg></label><div class='xr-var-attrs'><dl class='xr-attrs'><dt><span>units :</span></dt><dd>meter</dd></dl></div><div class='xr-var-data'><pre>array([360189.36128087, 360189.36128087, 360189.36128087, ...,\n       369755.35686031, 369755.35686031, 369755.35686031])</pre></div></li><li class='xr-var-item'><div class='xr-var-name'><span>z</span></div><div class='xr-var-dims'>(nodes)</div><div class='xr-var-dtype'>float64</div><div class='xr-var-preview xr-preview'>-0.2711 -0.2033 ... -2.0 0.0</div><input id='attrs-0fb8e123-a5ff-4333-a048-5e53c5ae4d56' class='xr-var-attrs-in' type='checkbox' ><label for='attrs-0fb8e123-a5ff-4333-a048-5e53c5ae4d56' title='Show/Hide attributes'><svg class='icon xr-icon-file-text2'><use xlink:href='#icon-file-text2'></use></svg></label><input id='data-ff48702d-3e49-444b-954d-ccd74c3ee532' class='xr-var-data-in' type='checkbox'><label for='data-ff48702d-3e49-444b-954d-ccd74c3ee532' title='Show/Hide data repr'><svg class='icon xr-icon-database'><use xlink:href='#icon-database'></use></svg></label><div class='xr-var-attrs'><dl class='xr-attrs'><dt><span>units :</span></dt><dd>meter</dd></dl></div><div class='xr-var-data'><pre>array([-0.27109921, -0.20332441, -0.1355496 , ..., -4.        ,\n       -2.        ,  0.        ])</pre></div></li><li class='xr-var-item'><div class='xr-var-name'><span>xe</span></div><div class='xr-var-dims'>(elements)</div><div class='xr-var-dtype'>float64</div><div class='xr-var-preview xr-preview'>3.54e+05 3.54e+05 ... 3.696e+05</div><input id='attrs-9293823d-8553-4671-bc98-392cc642965a' class='xr-var-attrs-in' type='checkbox' ><label for='attrs-9293823d-8553-4671-bc98-392cc642965a' title='Show/Hide attributes'><svg class='icon xr-icon-file-text2'><use xlink:href='#icon-file-text2'></use></svg></label><input id='data-76128dea-b499-4557-9ada-5cd34c81dd8c' class='xr-var-data-in' type='checkbox'><label for='data-76128dea-b499-4557-9ada-5cd34c81dd8c' title='Show/Hide data repr'><svg class='icon xr-icon-database'><use xlink:href='#icon-database'></use></svg></label><div class='xr-var-attrs'><dl class='xr-attrs'><dt><span>units :</span></dt><dd>meter</dd></dl></div><div class='xr-var-data'><pre>array([354020.46382195, 354020.46382195, 354020.46382195, ...,\n       369594.41394007, 369594.41394007, 369594.41394007])</pre></div></li><li class='xr-var-item'><div class='xr-var-name'><span>ye</span></div><div class='xr-var-dims'>(elements)</div><div class='xr-var-dtype'>float64</div><div class='xr-var-preview xr-preview'>6.199e+06 6.199e+06 ... 6.167e+06</div><input id='attrs-ef9ebe04-fcfb-44dd-bfa8-e2ef124111d9' class='xr-var-attrs-in' type='checkbox' ><label for='attrs-ef9ebe04-fcfb-44dd-bfa8-e2ef124111d9' title='Show/Hide attributes'><svg class='icon xr-icon-file-text2'><use xlink:href='#icon-file-text2'></use></svg></label><input id='data-106bd22d-63ce-4bff-8b5a-e188794f2ca7' class='xr-var-data-in' type='checkbox'><label for='data-106bd22d-63ce-4bff-8b5a-e188794f2ca7' title='Show/Hide data repr'><svg class='icon xr-icon-database'><use xlink:href='#icon-database'></use></svg></label><div class='xr-var-attrs'><dl class='xr-attrs'><dt><span>units :</span></dt><dd>meter</dd></dl></div><div class='xr-var-data'><pre>array([6199389.61066609, 6199389.61066609, 6199389.61066609, ...,\n       6167345.11734754, 6167345.11734754, 6167345.11734754])</pre></div></li><li class='xr-var-item'><div class='xr-var-name'><span>ze</span></div><div class='xr-var-dims'>(elements)</div><div class='xr-var-dtype'>float64</div><div class='xr-var-preview xr-preview'>-10.5 -7.0 -5.0 ... -5.0 -3.0 -1.0</div><input id='attrs-150947bd-d2e5-409c-893e-488684faa093' class='xr-var-attrs-in' type='checkbox' ><label for='attrs-150947bd-d2e5-409c-893e-488684faa093' title='Show/Hide attributes'><svg class='icon xr-icon-file-text2'><use xlink:href='#icon-file-text2'></use></svg></label><input id='data-987a9309-99fe-4819-83cd-1766d9957b2f' class='xr-var-data-in' type='checkbox'><label for='data-987a9309-99fe-4819-83cd-1766d9957b2f' title='Show/Hide data repr'><svg class='icon xr-icon-database'><use xlink:href='#icon-database'></use></svg></label><div class='xr-var-attrs'><dl class='xr-attrs'><dt><span>units :</span></dt><dd>meter</dd></dl></div><div class='xr-var-data'><pre>array([-10.5,  -7. ,  -5. , ...,  -5. ,  -3. ,  -1. ])</pre></div></li><li class='xr-var-item'><div class='xr-var-name'><span>z_dynamic</span></div><div class='xr-var-dims'>(time, nodes)</div><div class='xr-var-dtype'>float64</div><div class='xr-var-preview xr-preview'>-0.2711 -0.1232 ... -1.888 0.1495</div><input id='attrs-df410633-e74b-4d0d-aa46-4988ef09e498' class='xr-var-attrs-in' type='checkbox' ><label for='attrs-df410633-e74b-4d0d-aa46-4988ef09e498' title='Show/Hide attributes'><svg class='icon xr-icon-file-text2'><use xlink:href='#icon-file-text2'></use></svg></label><input id='data-3a41348f-1566-4972-867a-daeee9c34703' class='xr-var-data-in' type='checkbox'><label for='data-3a41348f-1566-4972-867a-daeee9c34703' title='Show/Hide data repr'><svg class='icon xr-icon-database'><use xlink:href='#icon-database'></use></svg></label><div class='xr-var-attrs'><dl class='xr-attrs'><dt><span>units :</span></dt><dd>meter</dd></dl></div><div class='xr-var-data'><pre>array([[-0.27109921, -0.12319117,  0.02471687, ..., -3.8359921 ,\n        -1.75398827,  0.32801569],\n       [-0.27109921, -0.1521382 , -0.03317719, ..., -3.89310074,\n        -1.83965123,  0.2137984 ],\n       [-0.27109921, -0.1687863 , -0.06647337, ..., -3.92524767,\n        -1.88787162,  0.14950453]])</pre></div></li><li class='xr-var-item'><div class='xr-var-name'><span>Temperature</span></div><div class='xr-var-dims'>(time, elements)</div><div class='xr-var-dtype'>float64</div><div class='xr-var-preview xr-preview'>16.31 16.43 16.54 ... 16.35 16.07</div><input id='attrs-28d55f52-4449-4645-bc90-ff5d7491d995' class='xr-var-attrs-in' type='checkbox' ><label for='attrs-28d55f52-4449-4645-bc90-ff5d7491d995' title='Show/Hide attributes'><svg class='icon xr-icon-file-text2'><use xlink:href='#icon-file-text2'></use></svg></label><input id='data-ae68fc75-26ad-40af-91bd-3c48a8734e68' class='xr-var-data-in' type='checkbox'><label for='data-ae68fc75-26ad-40af-91bd-3c48a8734e68' title='Show/Hide data repr'><svg class='icon xr-icon-database'><use xlink:href='#icon-database'></use></svg></label><div class='xr-var-attrs'><dl class='xr-attrs'><dt><span>units :</span></dt><dd>degree_Celsius</dd></dl></div><div class='xr-var-data'><pre>array([[16.31186676, 16.4334774 , 16.53720474, ..., 16.84900475,\n        16.83393288, 16.69195747],\n       [16.2908783 , 16.3535347 , 16.37283325, ..., 16.70203781,\n        16.56764793, 16.34315109],\n       [16.26663399, 16.2753582 , 16.23961639, ..., 16.56900024,\n        16.35014343, 16.06955338]])</pre></div></li><li class='xr-var-item'><div class='xr-var-name'><span>Salinity</span></div><div class='xr-var-dims'>(time, elements)</div><div class='xr-var-dtype'>float64</div><div class='xr-var-preview xr-preview'>23.19 22.63 22.32 ... 21.57 21.53</div><input id='attrs-79344a8a-4c37-4d6c-9bbc-7dd31a812a7f' class='xr-var-attrs-in' type='checkbox' ><label for='attrs-79344a8a-4c37-4d6c-9bbc-7dd31a812a7f' title='Show/Hide attributes'><svg class='icon xr-icon-file-text2'><use xlink:href='#icon-file-text2'></use></svg></label><input id='data-e85ccc9a-8b34-42e5-a680-ebf713e0c027' class='xr-var-data-in' type='checkbox'><label for='data-e85ccc9a-8b34-42e5-a680-ebf713e0c027' title='Show/Hide data repr'><svg class='icon xr-icon-database'><use xlink:href='#icon-database'></use></svg></label><div class='xr-var-attrs'><dl class='xr-attrs'><dt><span>units :</span></dt><dd>PSU</dd></dl></div><div class='xr-var-data'><pre>array([[23.18906021, 22.63040161, 22.3212471 , ..., 21.52792931,\n        21.33455658, 21.26585197],\n       [23.31620026, 22.66361618, 22.29147911, ..., 21.60327721,\n        21.46448898, 21.4138813 ],\n       [23.36417389, 22.80498505, 22.46642113, ..., 21.68823624,\n        21.56858444, 21.5275116 ]])</pre></div></li></ul></div></li><li class='xr-section-item'><input id='section-af362970-e6ce-433f-8ecb-c51837846414' class='xr-section-summary-in' type='checkbox' disabled ><label for='section-af362970-e6ce-433f-8ecb-c51837846414' class='xr-section-summary'  title='Expand/collapse section'>Attributes: <span>(0)</span></label><div class='xr-section-inline-details'></div><div class='xr-section-details'><dl class='xr-attrs'></dl></div></li></ul></div></div>"
     },
     "metadata": {},
     "execution_count": 9
    }
   ],
   "source": [
    "xr_ds"
   ]
  },
  {
   "cell_type": "code",
   "execution_count": 10,
   "metadata": {},
   "outputs": [],
   "source": [
    "xr_ds.to_netcdf(\"oresund_sigma_z.nc\")"
   ]
  }
 ]
}