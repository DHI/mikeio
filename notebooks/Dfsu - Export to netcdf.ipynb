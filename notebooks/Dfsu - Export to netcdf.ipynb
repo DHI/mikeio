{
 "cells": [
  {
   "cell_type": "markdown",
   "metadata": {},
   "source": [
    "# Dfsu - Export to netcdf\n",
    "* Read data from dfsu file\n",
    "* Convert to xarray dataset\n",
    "* Write to netcdf file"
   ]
  },
  {
   "cell_type": "code",
   "execution_count": 1,
   "metadata": {
    "tags": []
   },
   "outputs": [],
   "source": [
    "# pip install mikeio xarray netcdf4"
   ]
  },
  {
   "cell_type": "code",
   "execution_count": 2,
   "metadata": {},
   "outputs": [],
   "source": [
    "import os\n",
    "import xarray as xr"
   ]
  },
  {
   "cell_type": "code",
   "execution_count": 3,
   "metadata": {},
   "outputs": [],
   "source": [
    "from mikeio import Dfsu"
   ]
  },
  {
   "cell_type": "code",
   "execution_count": 4,
   "metadata": {},
   "outputs": [
    {
     "data": {
      "text/plain": [
       "Dfsu3DSigmaZ\n",
       "Number of elements: 17118\n",
       "Number of nodes: 12042\n",
       "Projection: UTM-33\n",
       "Number of sigma layers: 4\n",
       "Max number of z layers: 5\n",
       "Items:\n",
       "  0:  Z coordinate <ItemGeometry3D> (meter)\n",
       "  1:  Temperature <Temperature> (degree Celsius)\n",
       "  2:  Salinity <Salinity> (PSU)\n",
       "Time: 3 steps with dt=10800.0s\n",
       "      1997-09-15 21:00:00 -- 1997-09-16 03:00:00"
      ]
     },
     "execution_count": 4,
     "metadata": {},
     "output_type": "execute_result"
    }
   ],
   "source": [
    "filename = \"../tests/testdata/oresund_sigma_z.dfsu\"\n",
    "dfsu = Dfsu(filename)\n",
    "dfsu"
   ]
  },
  {
   "cell_type": "code",
   "execution_count": 5,
   "metadata": {},
   "outputs": [],
   "source": [
    "nc = dfsu.node_coordinates\n",
    "xn = nc[:,0]\n",
    "yn = nc[:,1]\n",
    "zn = nc[:,2]\n",
    "\n",
    "ec = dfsu.element_coordinates\n",
    "xe = ec[:,0]\n",
    "ye = ec[:,1]\n",
    "ze = ec[:,2]"
   ]
  },
  {
   "cell_type": "code",
   "execution_count": 6,
   "metadata": {},
   "outputs": [
    {
     "data": {
      "text/plain": [
       "<mikeio.Dataset>\n",
       "Dimensions: (3, 17118)\n",
       "Time: 1997-09-15 21:00:00 - 1997-09-16 03:00:00\n",
       "Items:\n",
       "  0:  Z coordinate <ItemGeometry3D> (meter)\n",
       "  1:  Temperature <Temperature> (degree Celsius)\n",
       "  2:  Salinity <Salinity> (PSU)"
      ]
     },
     "execution_count": 6,
     "metadata": {},
     "output_type": "execute_result"
    }
   ],
   "source": [
    "ds = dfsu.read()\n",
    "ds"
   ]
  },
  {
   "cell_type": "code",
   "execution_count": 7,
   "metadata": {},
   "outputs": [],
   "source": [
    "# Time\n",
    "time = ds.time\n",
    "\n",
    "# Node based data\n",
    "node_ids = dfsu.node_ids\n",
    "z_dynamic = ds['Z coordinate'].to_numpy()\n",
    "xn_da = xr.DataArray(xn, coords=[node_ids], dims=[\"nodes\"], attrs={'units': 'meter'})\n",
    "yn_da = xr.DataArray(xn, coords=[node_ids], dims=[\"nodes\"], attrs={'units': 'meter'})\n",
    "zn_da = xr.DataArray(zn, coords=[node_ids], dims=[\"nodes\"], attrs={'units': 'meter'})\n",
    "z_dyn_da = xr.DataArray(z_dynamic, coords =[time,node_ids],dims=[\"time\", \"nodes\"], attrs={'units': 'meter'})\n",
    "\n",
    "# Element based data\n",
    "el_ids = dfsu.element_ids\n",
    "xe_da = xr.DataArray(xe, coords=[el_ids], dims=[\"elements\"], attrs={'units': 'meter'})\n",
    "ye_da = xr.DataArray(ye, coords=[el_ids], dims=[\"elements\"], attrs={'units': 'meter'})\n",
    "ze_da = xr.DataArray(ze, coords=[el_ids], dims=[\"elements\"], attrs={'units': 'meter'})"
   ]
  },
  {
   "cell_type": "code",
   "execution_count": 8,
   "metadata": {},
   "outputs": [],
   "source": [
    "# Add coordinates for nodes and elements\n",
    "data_dict = {'x': xn_da,\n",
    "             'y' :yn_da,\n",
    "             'z' : zn_da,\n",
    "             'xe' : xe_da,\n",
    "             'ye' : ye_da,\n",
    "             'ze' : ze_da,\n",
    "             'z_dynamic' : z_dyn_da}\n",
    "\n",
    "# add rest of data\n",
    "for key, value in ds.data_vars.items():\n",
    "    # skip Z coordinate since this is defined on nodes\n",
    "\n",
    "    if key != \"Z coordinate\":\n",
    "        da = xr.DataArray(value.to_numpy(), \n",
    "                          coords = [time,el_ids],\n",
    "                          dims=[\"time\", \"elements\"],\n",
    "                          attrs={'units': value.unit.name})\n",
    "\n",
    "        data_dict[key] = da\n",
    "\n",
    "\n",
    "# Here are some examples of global attributes, which is useful, but in most cases not required\n",
    "attributes={'title:' : dfsu._source.FileTitle,\n",
    "            'history': os.path.basename(filename),\n",
    "            'source': 'Mike 3 FM - Oresund',\n",
    "            'instituion': 'DHI'}\n",
    "\n",
    "# create an xarray dataset\n",
    "xr_ds = xr.Dataset(data_dict, attrs=attributes)"
   ]
  },
  {
   "cell_type": "code",
   "execution_count": 17,
   "metadata": {},
   "outputs": [
    {
     "data": {
      "text/plain": [
       "<mikeio.DataArray>\n",
       "Name: Temperature\n",
       "Dimensions: (3, 17118)\n",
       "Time: 1997-09-15 21:00:00 - 1997-09-16 03:00:00"
      ]
     },
     "execution_count": 17,
     "metadata": {},
     "output_type": "execute_result"
    }
   ],
   "source": [
    "ds.Temperature"
   ]
  },
  {
   "cell_type": "code",
   "execution_count": 18,
   "metadata": {},
   "outputs": [
    {
     "data": {
      "text/plain": [
       "<mikeio.DataArray>\n",
       "Name: Salinity\n",
       "Dimensions: (3, 17118)\n",
       "Time: 1997-09-15 21:00:00 - 1997-09-16 03:00:00"
      ]
     },
     "execution_count": 18,
     "metadata": {},
     "output_type": "execute_result"
    }
   ],
   "source": [
    "ds.Salinity"
   ]
  },
  {
   "cell_type": "code",
   "execution_count": 11,
   "metadata": {},
   "outputs": [
    {
     "data": {
      "text/plain": [
       "<AxesSubplot:xlabel='time', ylabel='Salinity [PSU]'>"
      ]
     },
     "execution_count": 11,
     "metadata": {},
     "output_type": "execute_result"
    },
    {
     "data": {
      "image/png": "[encoded data removed]",
      "text/plain": [
       "<Figure size 432x288 with 1 Axes>"
      ]
     },
     "metadata": {
      "needs_background": "light"
     },
     "output_type": "display_data"
    }
   ],
   "source": [
    "ds.Salinity[:,0].plot()"
   ]
  },
  {
   "cell_type": "code",
   "execution_count": 12,
   "metadata": {},
   "outputs": [
    {
     "data": {
      "text/plain": [
       "[<matplotlib.lines.Line2D at 0x2074f05f100>]"
      ]
     },
     "execution_count": 12,
     "metadata": {},
     "output_type": "execute_result"
    },
    {
     "data": {
      "image/png": "[encoded data removed]",
      "text/plain": [
       "<Figure size 432x288 with 1 Axes>"
      ]
     },
     "metadata": {
      "needs_background": "light"
     },
     "output_type": "display_data"
    }
   ],
   "source": [
    "xr_ds.Salinity[:,0].plot()"
   ]
  },
  {
   "cell_type": "code",
   "execution_count": 13,
   "metadata": {},
   "outputs": [],
   "source": [
    "xr_ds.to_netcdf(\"oresund_sigma_z.nc\")"
   ]
  },
  {
   "cell_type": "markdown",
   "metadata": {},
   "source": [
    "# Clean up"
   ]
  },
  {
   "cell_type": "code",
   "execution_count": 14,
   "metadata": {},
   "outputs": [],
   "source": [
    "import os\n",
    "os.remove(\"oresund_sigma_z.nc\")"
   ]
  },
  {
   "cell_type": "code",
   "execution_count": null,
   "metadata": {},
   "outputs": [],
   "source": []
  }
 ],
 "metadata": {
  "kernelspec": {
   "display_name": "Python 3.7.7 64-bit (conda)",
   "metadata": {
    "interpreter": {
     "hash": "925fb081efd8927dd3220b15e883a9858618b50119047b605c2ce4e0c78ada0f"
    }
   },
   "name": "python3"
  },
  "language_info": {
   "codemirror_mode": {
    "name": "ipython",
    "version": 3
   },
   "file_extension": ".py",
   "mimetype": "text/x-python",
   "name": "python",
   "nbconvert_exporter": "python",
   "pygments_lexer": "ipython3",
   "version": "3.9.6"
  },
  "orig_nbformat": 2
 },
 "nbformat": 4,
 "nbformat_minor": 2
}
