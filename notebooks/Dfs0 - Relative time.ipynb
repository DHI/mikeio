{
 "cells": [
  {
   "cell_type": "markdown",
   "metadata": {},
   "source": [
    "# Dfs0 - Relative time axis\n",
    "\n",
    "MIKE IO uses a pandas DatetimeIndex to represent the time dimension in dfs files. If the Dfs file has a relative time axis it will be converted to DatetimeIndex by using 1970-1-1 00:00:00 as start time. "
   ]
  },
  {
   "cell_type": "code",
   "execution_count": 1,
   "metadata": {},
   "outputs": [],
   "source": [
    "import mikeio"
   ]
  },
  {
   "cell_type": "code",
   "execution_count": 2,
   "metadata": {},
   "outputs": [
    {
     "data": {
      "text/plain": [
       "<mikeio.Dfs0>\n",
       "Timeaxis: TimeAxisType.TimeEquidistant\n",
       "Items:\n",
       "  0:  Item 1 <Undefined> (undefined)\n",
       "  1:  Item 2 <Undefined> (undefined)\n",
       "  2:  Item 3 <Undefined> (undefined)\n",
       "  3:  Item 4 <Undefined> (undefined)\n",
       "  4:  Item 5 <Undefined> (undefined)"
      ]
     },
     "execution_count": 2,
     "metadata": {},
     "output_type": "execute_result"
    }
   ],
   "source": [
    "dfs0 = mikeio.open(\"../tests/testdata/eq_relative.dfs0\")\n",
    "dfs0"
   ]
  },
  {
   "cell_type": "code",
   "execution_count": 3,
   "metadata": {},
   "outputs": [
    {
     "data": {
      "text/plain": [
       "<mikeio.Dataset>\n",
       "Dimensions: (time:504)\n",
       "Time: 1970-01-01 00:00:00 - 1970-01-01 00:00:56.237000 (504 records)\n",
       "-- Non-equidistant calendar axis --\n",
       "Items:\n",
       "  0:  Item 1 <Undefined> (undefined)\n",
       "  1:  Item 2 <Undefined> (undefined)\n",
       "  2:  Item 3 <Undefined> (undefined)\n",
       "  3:  Item 4 <Undefined> (undefined)\n",
       "  4:  Item 5 <Undefined> (undefined)"
      ]
     },
     "execution_count": 3,
     "metadata": {},
     "output_type": "execute_result"
    }
   ],
   "source": [
    "ds = dfs0.read()\n",
    "ds"
   ]
  },
  {
   "cell_type": "code",
   "execution_count": 4,
   "metadata": {},
   "outputs": [
    {
     "data": {
      "text/html": [
       "<div>\n",
       "<style scoped>\n",
       "    .dataframe tbody tr th:only-of-type {\n",
       "        vertical-align: middle;\n",
       "    }\n",
       "\n",
       "    .dataframe tbody tr th {\n",
       "        vertical-align: top;\n",
       "    }\n",
       "\n",
       "    .dataframe thead th {\n",
       "        text-align: right;\n",
       "    }\n",
       "</style>\n",
       "<table border=\"1\" class=\"dataframe\">\n",
       "  <thead>\n",
       "    <tr style=\"text-align: right;\">\n",
       "      <th></th>\n",
       "      <th>Item 1</th>\n",
       "      <th>Item 2</th>\n",
       "      <th>Item 3</th>\n",
       "      <th>Item 4</th>\n",
       "      <th>Item 5</th>\n",
       "    </tr>\n",
       "  </thead>\n",
       "  <tbody>\n",
       "    <tr>\n",
       "      <th>1970-01-01 00:00:00.000</th>\n",
       "      <td>-0.006862</td>\n",
       "      <td>-0.000611</td>\n",
       "      <td>0.177047</td>\n",
       "      <td>32.484425</td>\n",
       "      <td>-304.720428</td>\n",
       "    </tr>\n",
       "    <tr>\n",
       "      <th>1970-01-01 00:00:00.112</th>\n",
       "      <td>-0.011746</td>\n",
       "      <td>-0.000611</td>\n",
       "      <td>0.189257</td>\n",
       "      <td>32.292774</td>\n",
       "      <td>-308.553406</td>\n",
       "    </tr>\n",
       "    <tr>\n",
       "      <th>1970-01-01 00:00:00.224</th>\n",
       "      <td>-0.006862</td>\n",
       "      <td>-0.000611</td>\n",
       "      <td>0.189257</td>\n",
       "      <td>32.292774</td>\n",
       "      <td>-308.553406</td>\n",
       "    </tr>\n",
       "    <tr>\n",
       "      <th>1970-01-01 00:00:00.335</th>\n",
       "      <td>-0.001978</td>\n",
       "      <td>0.004273</td>\n",
       "      <td>0.189257</td>\n",
       "      <td>32.292774</td>\n",
       "      <td>-300.887482</td>\n",
       "    </tr>\n",
       "    <tr>\n",
       "      <th>1970-01-01 00:00:00.447</th>\n",
       "      <td>0.002906</td>\n",
       "      <td>0.009157</td>\n",
       "      <td>0.177047</td>\n",
       "      <td>32.292774</td>\n",
       "      <td>-300.887482</td>\n",
       "    </tr>\n",
       "  </tbody>\n",
       "</table>\n",
       "</div>"
      ],
      "text/plain": [
       "                           Item 1    Item 2    Item 3     Item 4      Item 5\n",
       "1970-01-01 00:00:00.000 -0.006862 -0.000611  0.177047  32.484425 -304.720428\n",
       "1970-01-01 00:00:00.112 -0.011746 -0.000611  0.189257  32.292774 -308.553406\n",
       "1970-01-01 00:00:00.224 -0.006862 -0.000611  0.189257  32.292774 -308.553406\n",
       "1970-01-01 00:00:00.335 -0.001978  0.004273  0.189257  32.292774 -300.887482\n",
       "1970-01-01 00:00:00.447  0.002906  0.009157  0.177047  32.292774 -300.887482"
      ]
     },
     "execution_count": 4,
     "metadata": {},
     "output_type": "execute_result"
    }
   ],
   "source": [
    "df = ds.to_dataframe()\n",
    "df.head()"
   ]
  },
  {
   "cell_type": "markdown",
   "metadata": {},
   "source": [
    "Correcing the dataframe index by subtracting start time to get relative time axis."
   ]
  },
  {
   "cell_type": "code",
   "execution_count": 5,
   "metadata": {},
   "outputs": [],
   "source": [
    "df.index = (df.index - df.index[0]).total_seconds()"
   ]
  },
  {
   "cell_type": "code",
   "execution_count": 6,
   "metadata": {},
   "outputs": [
    {
     "data": {
      "text/html": [
       "<div>\n",
       "<style scoped>\n",
       "    .dataframe tbody tr th:only-of-type {\n",
       "        vertical-align: middle;\n",
       "    }\n",
       "\n",
       "    .dataframe tbody tr th {\n",
       "        vertical-align: top;\n",
       "    }\n",
       "\n",
       "    .dataframe thead th {\n",
       "        text-align: right;\n",
       "    }\n",
       "</style>\n",
       "<table border=\"1\" class=\"dataframe\">\n",
       "  <thead>\n",
       "    <tr style=\"text-align: right;\">\n",
       "      <th></th>\n",
       "      <th>Item 1</th>\n",
       "      <th>Item 2</th>\n",
       "      <th>Item 3</th>\n",
       "      <th>Item 4</th>\n",
       "      <th>Item 5</th>\n",
       "    </tr>\n",
       "  </thead>\n",
       "  <tbody>\n",
       "    <tr>\n",
       "      <th>0.000</th>\n",
       "      <td>-0.006862</td>\n",
       "      <td>-0.000611</td>\n",
       "      <td>0.177047</td>\n",
       "      <td>32.484425</td>\n",
       "      <td>-304.720428</td>\n",
       "    </tr>\n",
       "    <tr>\n",
       "      <th>0.112</th>\n",
       "      <td>-0.011746</td>\n",
       "      <td>-0.000611</td>\n",
       "      <td>0.189257</td>\n",
       "      <td>32.292774</td>\n",
       "      <td>-308.553406</td>\n",
       "    </tr>\n",
       "    <tr>\n",
       "      <th>0.224</th>\n",
       "      <td>-0.006862</td>\n",
       "      <td>-0.000611</td>\n",
       "      <td>0.189257</td>\n",
       "      <td>32.292774</td>\n",
       "      <td>-308.553406</td>\n",
       "    </tr>\n",
       "    <tr>\n",
       "      <th>0.335</th>\n",
       "      <td>-0.001978</td>\n",
       "      <td>0.004273</td>\n",
       "      <td>0.189257</td>\n",
       "      <td>32.292774</td>\n",
       "      <td>-300.887482</td>\n",
       "    </tr>\n",
       "    <tr>\n",
       "      <th>0.447</th>\n",
       "      <td>0.002906</td>\n",
       "      <td>0.009157</td>\n",
       "      <td>0.177047</td>\n",
       "      <td>32.292774</td>\n",
       "      <td>-300.887482</td>\n",
       "    </tr>\n",
       "  </tbody>\n",
       "</table>\n",
       "</div>"
      ],
      "text/plain": [
       "         Item 1    Item 2    Item 3     Item 4      Item 5\n",
       "0.000 -0.006862 -0.000611  0.177047  32.484425 -304.720428\n",
       "0.112 -0.011746 -0.000611  0.189257  32.292774 -308.553406\n",
       "0.224 -0.006862 -0.000611  0.189257  32.292774 -308.553406\n",
       "0.335 -0.001978  0.004273  0.189257  32.292774 -300.887482\n",
       "0.447  0.002906  0.009157  0.177047  32.292774 -300.887482"
      ]
     },
     "execution_count": 6,
     "metadata": {},
     "output_type": "execute_result"
    }
   ],
   "source": [
    "df.head()"
   ]
  },
  {
   "cell_type": "code",
   "execution_count": 7,
   "metadata": {},
   "outputs": [
    {
     "data": {
      "image/png": "[encoded data removed]",
      "text/plain": [
       "<Figure size 432x288 with 1 Axes>"
      ]
     },
     "metadata": {
      "needs_background": "light"
     },
     "output_type": "display_data"
    }
   ],
   "source": [
    "df['Item 5'].plot();"
   ]
  },
  {
   "cell_type": "code",
   "execution_count": null,
   "metadata": {},
   "outputs": [],
   "source": []
  }
 ],
 "metadata": {
  "kernelspec": {
   "display_name": "Python 3.8.5 64-bit (conda)",
   "metadata": {
    "interpreter": {
     "hash": "1b27a185e5e38addd349bee67c436665dc7832e161e2a923b2540665280bf8fe"
    }
   },
   "name": "python3"
  },
  "language_info": {
   "codemirror_mode": {
    "name": "ipython",
    "version": 3
   },
   "file_extension": ".py",
   "mimetype": "text/x-python",
   "name": "python",
   "nbconvert_exporter": "python",
   "pygments_lexer": "ipython3",
   "version": "3.8.10"
  },
  "orig_nbformat": 2
 },
 "nbformat": 4,
 "nbformat_minor": 2
}
