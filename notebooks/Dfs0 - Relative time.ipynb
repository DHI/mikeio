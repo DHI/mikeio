{
 "cells": [
  {
   "cell_type": "markdown",
   "metadata": {},
   "source": [
    "# Dfs0 - Relative time axis\n",
    "\n",
    "MIKE IO uses a pandas DatetimeIndex to represent the time dimension in dfs files. If the Dfs file has a relative time axis it will be converted to DatetimeIndex by using 1970-1-1 00:00:00 as start time. "
   ]
  },
  {
   "cell_type": "code",
   "execution_count": 1,
   "metadata": {},
   "outputs": [],
   "source": [
    "import mikeio"
   ]
  },
  {
   "cell_type": "code",
   "execution_count": 2,
   "metadata": {},
   "outputs": [
    {
     "data": {
      "text/plain": [
       "<mikeio.Dataset>\n",
       "dims: (time:504)\n",
       "time: 1970-01-01 00:00:00 - 1970-01-01 00:00:56.237000 (504 non-equidistant records)\n",
       "items:\n",
       "  0:  Item 1 <Undefined> (undefined)\n",
       "  1:  Item 2 <Undefined> (undefined)\n",
       "  2:  Item 3 <Undefined> (undefined)\n",
       "  3:  Item 4 <Undefined> (undefined)\n",
       "  4:  Item 5 <Undefined> (undefined)"
      ]
     },
     "execution_count": 2,
     "metadata": {},
     "output_type": "execute_result"
    }
   ],
   "source": [
    "ds = mikeio.read(\"../tests/testdata/eq_relative.dfs0\")\n",
    "ds"
   ]
  },
  {
   "cell_type": "code",
   "execution_count": 3,
   "metadata": {},
   "outputs": [
    {
     "data": {
      "text/html": [
       "<div>\n",
       "<style scoped>\n",
       "    .dataframe tbody tr th:only-of-type {\n",
       "        vertical-align: middle;\n",
       "    }\n",
       "\n",
       "    .dataframe tbody tr th {\n",
       "        vertical-align: top;\n",
       "    }\n",
       "\n",
       "    .dataframe thead th {\n",
       "        text-align: right;\n",
       "    }\n",
       "</style>\n",
       "<table border=\"1\" class=\"dataframe\">\n",
       "  <thead>\n",
       "    <tr style=\"text-align: right;\">\n",
       "      <th></th>\n",
       "      <th>Item 1</th>\n",
       "      <th>Item 2</th>\n",
       "      <th>Item 3</th>\n",
       "      <th>Item 4</th>\n",
       "      <th>Item 5</th>\n",
       "    </tr>\n",
       "  </thead>\n",
       "  <tbody>\n",
       "    <tr>\n",
       "      <th>1970-01-01 00:00:00.000</th>\n",
       "      <td>-0.006862</td>\n",
       "      <td>-0.000611</td>\n",
       "      <td>0.177047</td>\n",
       "      <td>32.484425</td>\n",
       "      <td>-304.720428</td>\n",
       "    </tr>\n",
       "    <tr>\n",
       "      <th>1970-01-01 00:00:00.112</th>\n",
       "      <td>-0.011746</td>\n",
       "      <td>-0.000611</td>\n",
       "      <td>0.189257</td>\n",
       "      <td>32.292774</td>\n",
       "      <td>-308.553406</td>\n",
       "    </tr>\n",
       "    <tr>\n",
       "      <th>1970-01-01 00:00:00.224</th>\n",
       "      <td>-0.006862</td>\n",
       "      <td>-0.000611</td>\n",
       "      <td>0.189257</td>\n",
       "      <td>32.292774</td>\n",
       "      <td>-308.553406</td>\n",
       "    </tr>\n",
       "    <tr>\n",
       "      <th>1970-01-01 00:00:00.335</th>\n",
       "      <td>-0.001978</td>\n",
       "      <td>0.004273</td>\n",
       "      <td>0.189257</td>\n",
       "      <td>32.292774</td>\n",
       "      <td>-300.887482</td>\n",
       "    </tr>\n",
       "    <tr>\n",
       "      <th>1970-01-01 00:00:00.447</th>\n",
       "      <td>0.002906</td>\n",
       "      <td>0.009157</td>\n",
       "      <td>0.177047</td>\n",
       "      <td>32.292774</td>\n",
       "      <td>-300.887482</td>\n",
       "    </tr>\n",
       "  </tbody>\n",
       "</table>\n",
       "</div>"
      ],
      "text/plain": [
       "                           Item 1    Item 2    Item 3     Item 4      Item 5\n",
       "1970-01-01 00:00:00.000 -0.006862 -0.000611  0.177047  32.484425 -304.720428\n",
       "1970-01-01 00:00:00.112 -0.011746 -0.000611  0.189257  32.292774 -308.553406\n",
       "1970-01-01 00:00:00.224 -0.006862 -0.000611  0.189257  32.292774 -308.553406\n",
       "1970-01-01 00:00:00.335 -0.001978  0.004273  0.189257  32.292774 -300.887482\n",
       "1970-01-01 00:00:00.447  0.002906  0.009157  0.177047  32.292774 -300.887482"
      ]
     },
     "execution_count": 3,
     "metadata": {},
     "output_type": "execute_result"
    }
   ],
   "source": [
    "df = ds.to_dataframe()\n",
    "df.head()"
   ]
  },
  {
   "cell_type": "markdown",
   "metadata": {},
   "source": [
    "Correcing the dataframe index by subtracting start time to get relative time axis."
   ]
  },
  {
   "cell_type": "code",
   "execution_count": 4,
   "metadata": {},
   "outputs": [],
   "source": [
    "df.index = (df.index - df.index[0]).total_seconds()\n",
    "df.index.name = \"Relative time (s)\""
   ]
  },
  {
   "cell_type": "code",
   "execution_count": 5,
   "metadata": {},
   "outputs": [
    {
     "data": {
      "text/html": [
       "<div>\n",
       "<style scoped>\n",
       "    .dataframe tbody tr th:only-of-type {\n",
       "        vertical-align: middle;\n",
       "    }\n",
       "\n",
       "    .dataframe tbody tr th {\n",
       "        vertical-align: top;\n",
       "    }\n",
       "\n",
       "    .dataframe thead th {\n",
       "        text-align: right;\n",
       "    }\n",
       "</style>\n",
       "<table border=\"1\" class=\"dataframe\">\n",
       "  <thead>\n",
       "    <tr style=\"text-align: right;\">\n",
       "      <th></th>\n",
       "      <th>Item 1</th>\n",
       "      <th>Item 2</th>\n",
       "      <th>Item 3</th>\n",
       "      <th>Item 4</th>\n",
       "      <th>Item 5</th>\n",
       "    </tr>\n",
       "    <tr>\n",
       "      <th>Relative time (s)</th>\n",
       "      <th></th>\n",
       "      <th></th>\n",
       "      <th></th>\n",
       "      <th></th>\n",
       "      <th></th>\n",
       "    </tr>\n",
       "  </thead>\n",
       "  <tbody>\n",
       "    <tr>\n",
       "      <th>0.000</th>\n",
       "      <td>-0.006862</td>\n",
       "      <td>-0.000611</td>\n",
       "      <td>0.177047</td>\n",
       "      <td>32.484425</td>\n",
       "      <td>-304.720428</td>\n",
       "    </tr>\n",
       "    <tr>\n",
       "      <th>0.112</th>\n",
       "      <td>-0.011746</td>\n",
       "      <td>-0.000611</td>\n",
       "      <td>0.189257</td>\n",
       "      <td>32.292774</td>\n",
       "      <td>-308.553406</td>\n",
       "    </tr>\n",
       "    <tr>\n",
       "      <th>0.224</th>\n",
       "      <td>-0.006862</td>\n",
       "      <td>-0.000611</td>\n",
       "      <td>0.189257</td>\n",
       "      <td>32.292774</td>\n",
       "      <td>-308.553406</td>\n",
       "    </tr>\n",
       "    <tr>\n",
       "      <th>0.335</th>\n",
       "      <td>-0.001978</td>\n",
       "      <td>0.004273</td>\n",
       "      <td>0.189257</td>\n",
       "      <td>32.292774</td>\n",
       "      <td>-300.887482</td>\n",
       "    </tr>\n",
       "    <tr>\n",
       "      <th>0.447</th>\n",
       "      <td>0.002906</td>\n",
       "      <td>0.009157</td>\n",
       "      <td>0.177047</td>\n",
       "      <td>32.292774</td>\n",
       "      <td>-300.887482</td>\n",
       "    </tr>\n",
       "  </tbody>\n",
       "</table>\n",
       "</div>"
      ],
      "text/plain": [
       "                     Item 1    Item 2    Item 3     Item 4      Item 5\n",
       "Relative time (s)                                                     \n",
       "0.000             -0.006862 -0.000611  0.177047  32.484425 -304.720428\n",
       "0.112             -0.011746 -0.000611  0.189257  32.292774 -308.553406\n",
       "0.224             -0.006862 -0.000611  0.189257  32.292774 -308.553406\n",
       "0.335             -0.001978  0.004273  0.189257  32.292774 -300.887482\n",
       "0.447              0.002906  0.009157  0.177047  32.292774 -300.887482"
      ]
     },
     "execution_count": 5,
     "metadata": {},
     "output_type": "execute_result"
    }
   ],
   "source": [
    "df.head()"
   ]
  },
  {
   "cell_type": "code",
   "execution_count": 6,
   "metadata": {},
   "outputs": [
    {
     "data": {
      "image/png": "[encoded data removed]",
      "text/plain": [
       "<Figure size 432x288 with 1 Axes>"
      ]
     },
     "metadata": {
      "needs_background": "light"
     },
     "output_type": "display_data"
    }
   ],
   "source": [
    "df['Item 5'].plot();"
   ]
  },
  {
   "cell_type": "code",
   "execution_count": null,
   "metadata": {},
   "outputs": [],
   "source": []
  }
 ],
 "metadata": {
  "interpreter": {
   "hash": "767d51c1340bd893661ea55ea3124f6de3c7a262a8b4abca0554b478b1e2ff90"
  },
  "kernelspec": {
   "display_name": "Python 3.8.10 64-bit",
   "language": "python",
   "name": "python3"
  },
  "language_info": {
   "codemirror_mode": {
    "name": "ipython",
    "version": 3
   },
   "file_extension": ".py",
   "mimetype": "text/x-python",
   "name": "python",
   "nbconvert_exporter": "python",
   "pygments_lexer": "ipython3",
   "version": "3.8.10"
  },
  "orig_nbformat": 2
 },
 "nbformat": 4,
 "nbformat_minor": 2
}
