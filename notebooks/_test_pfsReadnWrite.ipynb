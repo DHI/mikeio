{
 "cells": [
  {
   "cell_type": "code",
   "execution_count": 46,
   "metadata": {},
   "outputs": [
    {
     "name": "stdout",
     "output_type": "stream",
     "text": [
      "The autoreload extension is already loaded. To reload it, use:\n",
      "  %reload_ext autoreload\n"
     ]
    }
   ],
   "source": [
    "%load_ext autoreload\n",
    "%autoreload 2\n",
    "\n",
    "import os\n",
    "from datetime import datetime\n",
    "from mikeio import Pfs"
   ]
  },
  {
   "cell_type": "code",
   "execution_count": 57,
   "metadata": {},
   "outputs": [],
   "source": [
    "# input pfs template\n",
    "#fn_template = '../tests/testdata/template.sw'\n",
    "fn_template = '../tests/testdata/concat.mzt'\n",
    "\n",
    "pfs = Pfs(fn_template)"
   ]
  },
  {
   "cell_type": "code",
   "execution_count": 52,
   "metadata": {},
   "outputs": [
    {
     "name": "stdout",
     "output_type": "stream",
     "text": [
      "Land boundary\n",
      "Landy\n"
     ]
    }
   ],
   "source": [
    "# print parameter before alteration \n",
    "print(pfs.data.DOMAIN.BOUNDARY_NAMES.CODE_1.name)\n",
    "\n",
    "# change in place\n",
    "pfs.data.DOMAIN.BOUNDARY_NAMES.CODE_1.name = \"Landy\"\n",
    "\n",
    "# print parameter after alteration \n",
    "print(pfs.data.DOMAIN.BOUNDARY_NAMES.CODE_1.name)"
   ]
  },
  {
   "cell_type": "code",
   "execution_count": 58,
   "metadata": {},
   "outputs": [],
   "source": [
    "# write output to new file\n",
    "#fn_out = '../tests/testdata/template_modified.sw'\n",
    "fn_out = '../tests/testdata/template_modified.mzt'\n",
    "\n",
    "pfs.write(fn_out)"
   ]
  },
  {
   "cell_type": "markdown",
   "metadata": {},
   "source": [
    "State of development\n",
    "\n",
    "- writing to pfs directly from pfs.data nested (and modified) structure works ✅\n",
    "- level constraints should be solved (to be tested thoroughly) 🤞\n",
    "- Final touches on output formatting ❔\n",
    "\n",
    "Test\n",
    "\n",
    "- is pfs case sensitive (we typically output everything lowercase)\n",
    "- compare diffs with / without case sensitivity"
   ]
  }
 ],
 "metadata": {
  "kernelspec": {
   "display_name": "Python 3.9.0",
   "language": "python",
   "name": "python3"
  },
  "language_info": {
   "codemirror_mode": {
    "name": "ipython",
    "version": 3
   },
   "file_extension": ".py",
   "mimetype": "text/x-python",
   "name": "python",
   "nbconvert_exporter": "python",
   "pygments_lexer": "ipython3",
   "version": "3.9.0"
  },
  "orig_nbformat": 4,
  "vscode": {
   "interpreter": {
    "hash": "05cbcb9c32fd8412a1102395665c2e5356d56ae7314d03b8ca390cd8eb9c519f"
   }
  }
 },
 "nbformat": 4,
 "nbformat_minor": 2
}
