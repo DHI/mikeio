{
 "cells": [
  {
   "cell_type": "markdown",
   "metadata": {},
   "source": [
    "# Working with data that doesn't fit in memory\n",
    "\n",
    "In this notebook we will explore the necessary steps to do an arbitrary computation based on data from a dfs file, without reading the entire file in memory first."
   ]
  },
  {
   "cell_type": "code",
   "execution_count": 1,
   "metadata": {},
   "outputs": [],
   "source": [
    "\n",
    "import numpy as np\n",
    "import dask.array as da\n",
    "import dask\n",
    "\n",
    "import mikeio\n",
    "from mikecore.DfsFileFactory import DfsFileFactory\n",
    "\n",
    "# 1. Create a function to read a subset of the file\n",
    "def my_dfs_reader(filename, item, t):\n",
    "    dfs = DfsFileFactory.DfsGenericOpenEdit(str(filename))\n",
    "    data = dfs.ReadItemTimeStep(itemNumber = item+1, timestepIndex=t)\n",
    "    return data.Data\n",
    "\n",
    "# 2. Turn it into a delayed computation , which is is a pure function and can be cached\n",
    "reader = dask.delayed(my_dfs_reader,pure=True)\n",
    "\n",
    "# 3. Get the shape of the data\n",
    "item = 0\n",
    "testfile = \"../tests/testdata/wind_north_sea.dfsu\"\n",
    "filename = testfile\n",
    "dfs = mikeio.open(filename)\n",
    "shape = (dfs.n_elements,)\n",
    "n_timesteps = dfs.n_timesteps"
   ]
  },
  {
   "cell_type": "code",
   "execution_count": 2,
   "metadata": {},
   "outputs": [
    {
     "data": {
      "text/plain": [
       "Delayed('my_dfs_reader-2e31704906668678a8a9608472f00ad4')"
      ]
     },
     "execution_count": 2,
     "metadata": {},
     "output_type": "execute_result"
    }
   ],
   "source": [
    "#4. Create a list of delayed functions\n",
    "lazy_arrays = [reader(testfile,item,t) for t in range(n_timesteps)]\n",
    "lazy_arrays[0]"
   ]
  },
  {
   "cell_type": "code",
   "execution_count": 3,
   "metadata": {},
   "outputs": [],
   "source": [
    "# 5. Create a list of dask arrays\n",
    "arrays = [da.from_delayed(a, dtype=np.float32, shape=shape) for a in lazy_arrays]"
   ]
  },
  {
   "cell_type": "code",
   "execution_count": 4,
   "metadata": {},
   "outputs": [
    {
     "data": {
      "text/html": [
       "<table>\n",
       "    <tr>\n",
       "        <td>\n",
       "            <table>\n",
       "                <thead>\n",
       "                    <tr>\n",
       "                        <td> </td>\n",
       "                        <th> Array </th>\n",
       "                        <th> Chunk </th>\n",
       "                    </tr>\n",
       "                </thead>\n",
       "                <tbody>\n",
       "                    \n",
       "                    <tr>\n",
       "                        <th> Bytes </th>\n",
       "                        <td> 22.45 kiB </td>\n",
       "                        <td> 3.74 kiB </td>\n",
       "                    </tr>\n",
       "                    \n",
       "                    <tr>\n",
       "                        <th> Shape </th>\n",
       "                        <td> (6, 958) </td>\n",
       "                        <td> (1, 958) </td>\n",
       "                    </tr>\n",
       "                    <tr>\n",
       "                        <th> Count </th>\n",
       "                        <td> 13 Graph Layers </td>\n",
       "                        <td> 6 Chunks </td>\n",
       "                    </tr>\n",
       "                    <tr>\n",
       "                    <th> Type </th>\n",
       "                    <td> float32 </td>\n",
       "                    <td> numpy.ndarray </td>\n",
       "                    </tr>\n",
       "                </tbody>\n",
       "            </table>\n",
       "        </td>\n",
       "        <td>\n",
       "        <svg width=\"170\" height=\"75\" style=\"stroke:rgb(0,0,0);stroke-width:1\" >\n",
       "\n",
       "  <!-- Horizontal lines -->\n",
       "  <line x1=\"0\" y1=\"0\" x2=\"120\" y2=\"0\" style=\"stroke-width:2\" />\n",
       "  <line x1=\"0\" y1=\"4\" x2=\"120\" y2=\"4\" />\n",
       "  <line x1=\"0\" y1=\"8\" x2=\"120\" y2=\"8\" />\n",
       "  <line x1=\"0\" y1=\"12\" x2=\"120\" y2=\"12\" />\n",
       "  <line x1=\"0\" y1=\"16\" x2=\"120\" y2=\"16\" />\n",
       "  <line x1=\"0\" y1=\"21\" x2=\"120\" y2=\"21\" />\n",
       "  <line x1=\"0\" y1=\"25\" x2=\"120\" y2=\"25\" style=\"stroke-width:2\" />\n",
       "\n",
       "  <!-- Vertical lines -->\n",
       "  <line x1=\"0\" y1=\"0\" x2=\"0\" y2=\"25\" style=\"stroke-width:2\" />\n",
       "  <line x1=\"120\" y1=\"0\" x2=\"120\" y2=\"25\" style=\"stroke-width:2\" />\n",
       "\n",
       "  <!-- Colored Rectangle -->\n",
       "  <polygon points=\"0.0,0.0 120.0,0.0 120.0,25.412616514582485 0.0,25.412616514582485\" style=\"fill:#ECB172A0;stroke-width:0\"/>\n",
       "\n",
       "  <!-- Text -->\n",
       "  <text x=\"60.000000\" y=\"45.412617\" font-size=\"1.0rem\" font-weight=\"100\" text-anchor=\"middle\" >958</text>\n",
       "  <text x=\"140.000000\" y=\"12.706308\" font-size=\"1.0rem\" font-weight=\"100\" text-anchor=\"middle\" transform=\"rotate(0,140.000000,12.706308)\">6</text>\n",
       "</svg>\n",
       "        </td>\n",
       "    </tr>\n",
       "</table>"
      ],
      "text/plain": [
       "dask.array<stack, shape=(6, 958), dtype=float32, chunksize=(1, 958), chunktype=numpy.ndarray>"
      ]
     },
     "execution_count": 4,
     "metadata": {},
     "output_type": "execute_result"
    }
   ],
   "source": [
    "# 6. Stack the arrays into a single array-like object\n",
    "stack = da.stack(arrays, axis=0)\n",
    "stack"
   ]
  },
  {
   "cell_type": "code",
   "execution_count": 5,
   "metadata": {},
   "outputs": [
    {
     "data": {
      "text/plain": [
       "(dtype('float32'), 2, (6, 958))"
      ]
     },
     "execution_count": 5,
     "metadata": {},
     "output_type": "execute_result"
    }
   ],
   "source": [
    "stack.dtype, stack.ndim, stack.shape"
   ]
  },
  {
   "cell_type": "markdown",
   "metadata": {},
   "source": [
    "Calling e.g. `.mean()` on the `stack` only creates a computational graph, it doesn't exectute it."
   ]
  },
  {
   "cell_type": "code",
   "execution_count": 6,
   "metadata": {},
   "outputs": [
    {
     "data": {
      "text/html": [
       "<table>\n",
       "    <tr>\n",
       "        <td>\n",
       "            <table>\n",
       "                <thead>\n",
       "                    <tr>\n",
       "                        <td> </td>\n",
       "                        <th> Array </th>\n",
       "                        <th> Chunk </th>\n",
       "                    </tr>\n",
       "                </thead>\n",
       "                <tbody>\n",
       "                    \n",
       "                    <tr>\n",
       "                        <th> Bytes </th>\n",
       "                        <td> 4 B </td>\n",
       "                        <td> 4 B </td>\n",
       "                    </tr>\n",
       "                    \n",
       "                    <tr>\n",
       "                        <th> Shape </th>\n",
       "                        <td> () </td>\n",
       "                        <td> () </td>\n",
       "                    </tr>\n",
       "                    <tr>\n",
       "                        <th> Count </th>\n",
       "                        <td> 17 Graph Layers </td>\n",
       "                        <td> 1 Chunks </td>\n",
       "                    </tr>\n",
       "                    <tr>\n",
       "                    <th> Type </th>\n",
       "                    <td> float32 </td>\n",
       "                    <td> numpy.ndarray </td>\n",
       "                    </tr>\n",
       "                </tbody>\n",
       "            </table>\n",
       "        </td>\n",
       "        <td>\n",
       "        \n",
       "        </td>\n",
       "    </tr>\n",
       "</table>"
      ],
      "text/plain": [
       "dask.array<mean_agg-aggregate, shape=(), dtype=float32, chunksize=(), chunktype=numpy.ndarray>"
      ]
     },
     "execution_count": 6,
     "metadata": {},
     "output_type": "execute_result"
    }
   ],
   "source": [
    "stack.mean()"
   ]
  },
  {
   "cell_type": "code",
   "execution_count": 7,
   "metadata": {},
   "outputs": [
    {
     "data": {
      "text/plain": [
       "array([10.234554 , 10.264292 , 10.531686 , 10.794677 , 10.858319 ,\n",
       "       10.9060335], dtype=float32)"
      ]
     },
     "execution_count": 7,
     "metadata": {},
     "output_type": "execute_result"
    }
   ],
   "source": [
    "stack.mean(axis=1).compute()"
   ]
  },
  {
   "cell_type": "markdown",
   "metadata": {},
   "source": [
    "As an example of a computation we choose the trimmed mean in each timestep, i.e. ignoring a fraction from the tails (e.g. caused by to numerical instability)\n",
    "<https://docs.scipy.org/doc/scipy/reference/generated/scipy.stats.trim_mean.html>\n",
    "\n",
    "(this still reads the entire dataset, since dask doesn't know how to calculate a trimmed mean?🤔)"
   ]
  },
  {
   "cell_type": "code",
   "execution_count": 8,
   "metadata": {},
   "outputs": [
    {
     "data": {
      "text/plain": [
       "array([10.331429, 10.351207, 10.670218, 10.930687, 11.019432, 11.058955],\n",
       "      dtype=float32)"
      ]
     },
     "execution_count": 8,
     "metadata": {},
     "output_type": "execute_result"
    }
   ],
   "source": [
    "from scipy import stats\n",
    "\n",
    "tm = stats.trim_mean(stack, 0.1, axis=1)\n",
    "tm"
   ]
  },
  {
   "cell_type": "markdown",
   "metadata": {},
   "source": [
    "## DataArray\n",
    "\n",
    "Creating a mikeio DataArray with a dask array instead of a NumPy array is possible.\n",
    "\n",
    "Are there any limitations 🤔?"
   ]
  },
  {
   "cell_type": "code",
   "execution_count": 17,
   "metadata": {},
   "outputs": [
    {
     "data": {
      "text/plain": [
       "<mikeio.DataArray>\n",
       "name: Wind speed\n",
       "dims: (time:6, element:958)\n",
       "time: 2017-10-27 00:00:00 - 2017-10-27 05:00:00 (6 records)\n",
       "geometry: Dfsu2D (958 elements, 570 nodes)"
      ]
     },
     "execution_count": 17,
     "metadata": {},
     "output_type": "execute_result"
    }
   ],
   "source": [
    "da = mikeio.DataArray(data=stack, time=dfs.time, geometry=dfs.geometry, item=dfs.items[item])\n",
    "da"
   ]
  },
  {
   "cell_type": "code",
   "execution_count": 20,
   "metadata": {},
   "outputs": [
    {
     "data": {
      "image/png": "[encoded data removed]",
      "text/plain": [
       "<Figure size 640x480 with 2 Axes>"
      ]
     },
     "metadata": {},
     "output_type": "display_data"
    }
   ],
   "source": [
    "da.isel(time=-1).plot();"
   ]
  },
  {
   "cell_type": "code",
   "execution_count": 26,
   "metadata": {},
   "outputs": [],
   "source": [
    "mda = da.mean()"
   ]
  },
  {
   "cell_type": "code",
   "execution_count": 32,
   "metadata": {},
   "outputs": [
    {
     "ename": "TypeError",
     "evalue": "unsupported format string passed to Array.__format__",
     "output_type": "error",
     "traceback": [
      "\u001b[0;31m---------------------------------------------------------------------------\u001b[0m",
      "\u001b[0;31mTypeError\u001b[0m                                 Traceback (most recent call last)",
      "File \u001b[0;32m~/mambaforge/lib/python3.10/site-packages/IPython/core/formatters.py:707\u001b[0m, in \u001b[0;36mPlainTextFormatter.__call__\u001b[0;34m(self, obj)\u001b[0m\n\u001b[1;32m    700\u001b[0m stream \u001b[39m=\u001b[39m StringIO()\n\u001b[1;32m    701\u001b[0m printer \u001b[39m=\u001b[39m pretty\u001b[39m.\u001b[39mRepresentationPrinter(stream, \u001b[39mself\u001b[39m\u001b[39m.\u001b[39mverbose,\n\u001b[1;32m    702\u001b[0m     \u001b[39mself\u001b[39m\u001b[39m.\u001b[39mmax_width, \u001b[39mself\u001b[39m\u001b[39m.\u001b[39mnewline,\n\u001b[1;32m    703\u001b[0m     max_seq_length\u001b[39m=\u001b[39m\u001b[39mself\u001b[39m\u001b[39m.\u001b[39mmax_seq_length,\n\u001b[1;32m    704\u001b[0m     singleton_pprinters\u001b[39m=\u001b[39m\u001b[39mself\u001b[39m\u001b[39m.\u001b[39msingleton_printers,\n\u001b[1;32m    705\u001b[0m     type_pprinters\u001b[39m=\u001b[39m\u001b[39mself\u001b[39m\u001b[39m.\u001b[39mtype_printers,\n\u001b[1;32m    706\u001b[0m     deferred_pprinters\u001b[39m=\u001b[39m\u001b[39mself\u001b[39m\u001b[39m.\u001b[39mdeferred_printers)\n\u001b[0;32m--> 707\u001b[0m printer\u001b[39m.\u001b[39;49mpretty(obj)\n\u001b[1;32m    708\u001b[0m printer\u001b[39m.\u001b[39mflush()\n\u001b[1;32m    709\u001b[0m \u001b[39mreturn\u001b[39;00m stream\u001b[39m.\u001b[39mgetvalue()\n",
      "File \u001b[0;32m~/mambaforge/lib/python3.10/site-packages/IPython/lib/pretty.py:410\u001b[0m, in \u001b[0;36mRepresentationPrinter.pretty\u001b[0;34m(self, obj)\u001b[0m\n\u001b[1;32m    407\u001b[0m                         \u001b[39mreturn\u001b[39;00m meth(obj, \u001b[39mself\u001b[39m, cycle)\n\u001b[1;32m    408\u001b[0m                 \u001b[39mif\u001b[39;00m \u001b[39mcls\u001b[39m \u001b[39mis\u001b[39;00m \u001b[39mnot\u001b[39;00m \u001b[39mobject\u001b[39m \\\n\u001b[1;32m    409\u001b[0m                         \u001b[39mand\u001b[39;00m callable(\u001b[39mcls\u001b[39m\u001b[39m.\u001b[39m\u001b[39m__dict__\u001b[39m\u001b[39m.\u001b[39mget(\u001b[39m'\u001b[39m\u001b[39m__repr__\u001b[39m\u001b[39m'\u001b[39m)):\n\u001b[0;32m--> 410\u001b[0m                     \u001b[39mreturn\u001b[39;00m _repr_pprint(obj, \u001b[39mself\u001b[39;49m, cycle)\n\u001b[1;32m    412\u001b[0m     \u001b[39mreturn\u001b[39;00m _default_pprint(obj, \u001b[39mself\u001b[39m, cycle)\n\u001b[1;32m    413\u001b[0m \u001b[39mfinally\u001b[39;00m:\n",
      "File \u001b[0;32m~/mambaforge/lib/python3.10/site-packages/IPython/lib/pretty.py:778\u001b[0m, in \u001b[0;36m_repr_pprint\u001b[0;34m(obj, p, cycle)\u001b[0m\n\u001b[1;32m    776\u001b[0m \u001b[39m\"\"\"A pprint that just redirects to the normal repr function.\"\"\"\u001b[39;00m\n\u001b[1;32m    777\u001b[0m \u001b[39m# Find newlines and replace them with p.break_()\u001b[39;00m\n\u001b[0;32m--> 778\u001b[0m output \u001b[39m=\u001b[39m \u001b[39mrepr\u001b[39;49m(obj)\n\u001b[1;32m    779\u001b[0m lines \u001b[39m=\u001b[39m output\u001b[39m.\u001b[39msplitlines()\n\u001b[1;32m    780\u001b[0m \u001b[39mwith\u001b[39;00m p\u001b[39m.\u001b[39mgroup():\n",
      "File \u001b[0;32m~/code/mikeio/mikeio/dataarray.py:2275\u001b[0m, in \u001b[0;36mDataArray.__repr__\u001b[0;34m(self)\u001b[0m\n\u001b[1;32m   2268\u001b[0m \u001b[39mif\u001b[39;00m \u001b[39mself\u001b[39m\u001b[39m.\u001b[39mname \u001b[39mis\u001b[39;00m \u001b[39mnot\u001b[39;00m \u001b[39mNone\u001b[39;00m:\n\u001b[1;32m   2269\u001b[0m     out\u001b[39m.\u001b[39mappend(\u001b[39mf\u001b[39m\u001b[39m\"\u001b[39m\u001b[39mname: \u001b[39m\u001b[39m{\u001b[39;00m\u001b[39mself\u001b[39m\u001b[39m.\u001b[39mname\u001b[39m}\u001b[39;00m\u001b[39m\"\u001b[39m)\n\u001b[1;32m   2271\u001b[0m rest \u001b[39m=\u001b[39m [\n\u001b[1;32m   2272\u001b[0m     \u001b[39mself\u001b[39m\u001b[39m.\u001b[39m_dims_txt(),\n\u001b[1;32m   2273\u001b[0m     \u001b[39mself\u001b[39m\u001b[39m.\u001b[39m_time_txt(),\n\u001b[1;32m   2274\u001b[0m     \u001b[39mself\u001b[39m\u001b[39m.\u001b[39m_geometry_txt(),\n\u001b[0;32m-> 2275\u001b[0m     \u001b[39mself\u001b[39;49m\u001b[39m.\u001b[39;49m_values_txt(),\n\u001b[1;32m   2276\u001b[0m ]\n\u001b[1;32m   2277\u001b[0m out \u001b[39m=\u001b[39m out \u001b[39m+\u001b[39m [x \u001b[39mfor\u001b[39;00m x \u001b[39min\u001b[39;00m rest \u001b[39mif\u001b[39;00m x \u001b[39mis\u001b[39;00m \u001b[39mnot\u001b[39;00m \u001b[39mNone\u001b[39;00m]\n\u001b[1;32m   2279\u001b[0m \u001b[39mreturn\u001b[39;00m \u001b[39m\"\u001b[39m\u001b[39m\\n\u001b[39;00m\u001b[39m\"\u001b[39m\u001b[39m.\u001b[39mjoin(out)\n",
      "File \u001b[0;32m~/code/mikeio/mikeio/dataarray.py:2307\u001b[0m, in \u001b[0;36mDataArray._values_txt\u001b[0;34m(self)\u001b[0m\n\u001b[1;32m   2305\u001b[0m     \u001b[39mreturn\u001b[39;00m \u001b[39mf\u001b[39m\u001b[39m\"\u001b[39m\u001b[39mvalues: [\u001b[39m\u001b[39m{\u001b[39;00mvaltxt\u001b[39m}\u001b[39;00m\u001b[39m]\u001b[39m\u001b[39m\"\u001b[39m\n\u001b[1;32m   2306\u001b[0m \u001b[39melif\u001b[39;00m \u001b[39mself\u001b[39m\u001b[39m.\u001b[39mndim \u001b[39m==\u001b[39m \u001b[39m1\u001b[39m:\n\u001b[0;32m-> 2307\u001b[0m     \u001b[39mreturn\u001b[39;00m \u001b[39mf\u001b[39m\u001b[39m\"\u001b[39m\u001b[39mvalues: [\u001b[39m\u001b[39m{\u001b[39;00m\u001b[39mself\u001b[39m\u001b[39m.\u001b[39mvalues[\u001b[39m0\u001b[39m]\u001b[39m:\u001b[39;00m\u001b[39m0.4g\u001b[39m\u001b[39m}\u001b[39;00m\u001b[39m, \u001b[39m\u001b[39m{\u001b[39;00m\u001b[39mself\u001b[39m\u001b[39m.\u001b[39mvalues[\u001b[39m1\u001b[39m]\u001b[39m:\u001b[39;00m\u001b[39m0.4g\u001b[39m\u001b[39m}\u001b[39;00m\u001b[39m, ..., \u001b[39m\u001b[39m{\u001b[39;00m\u001b[39mself\u001b[39m\u001b[39m.\u001b[39mvalues[\u001b[39m-\u001b[39m\u001b[39m1\u001b[39m]\u001b[39m:\u001b[39;00m\u001b[39m0.4g\u001b[39m\u001b[39m}\u001b[39;00m\u001b[39m]\u001b[39m\u001b[39m\"\u001b[39m\n",
      "\u001b[0;31mTypeError\u001b[0m: unsupported format string passed to Array.__format__"
     ]
    }
   ],
   "source": [
    "mda"
   ]
  },
  {
   "cell_type": "code",
   "execution_count": 27,
   "metadata": {},
   "outputs": [
    {
     "data": {
      "text/plain": [
       "mikeio.dataarray.DataArray"
      ]
     },
     "execution_count": 27,
     "metadata": {},
     "output_type": "execute_result"
    }
   ],
   "source": [
    "type(mda)"
   ]
  },
  {
   "cell_type": "code",
   "execution_count": 28,
   "metadata": {},
   "outputs": [
    {
     "data": {
      "text/plain": [
       "dask.array.core.Array"
      ]
     },
     "execution_count": 28,
     "metadata": {},
     "output_type": "execute_result"
    }
   ],
   "source": [
    "type(mda.values)"
   ]
  },
  {
   "cell_type": "code",
   "execution_count": 30,
   "metadata": {},
   "outputs": [
    {
     "data": {
      "text/plain": [
       "array([10.364221 ,  9.923343 , 10.065123 ,  9.613399 , 11.170132 ,\n",
       "       13.088929 , 10.176351 , 13.406188 , 10.309226 , 11.316236 ,\n",
       "       12.124619 , 12.103238 , 10.555797 , 10.396169 , 11.787071 ,\n",
       "       10.658889 ,  8.821848 , 11.0115385,  4.7177215,  6.173535 ,\n",
       "        5.103184 ,  6.3007073, 12.529544 ,  7.650946 ,  5.821486 ,\n",
       "       10.083186 ,  8.384222 , 14.019547 ,  5.5536733, 11.865041 ,\n",
       "        6.7281895, 13.341821 ,  5.007231 ,  5.6754813,  5.7009964,\n",
       "        8.482699 , 12.8366785,  6.151703 ,  6.8178744, 13.67719  ,\n",
       "        6.6221366,  8.69757  , 10.583645 , 12.480821 , 13.337848 ,\n",
       "        9.774634 , 12.391949 , 13.006325 , 10.430568 , 11.5022   ,\n",
       "       10.297248 , 12.098232 , 13.485686 , 13.352249 , 11.334523 ,\n",
       "       13.481868 , 11.804993 , 13.168241 , 13.479293 , 12.823176 ,\n",
       "        5.840704 , 11.725774 , 13.78389  ,  5.3381944,  5.590835 ,\n",
       "       13.140911 , 13.423068 ,  6.6157455, 10.520663 , 10.383477 ,\n",
       "        6.9204917, 13.292895 , 13.939855 ,  6.551924 , 10.968486 ,\n",
       "        7.31053  ,  6.8495774,  8.572359 , 12.694673 , 10.353055 ,\n",
       "        6.5768867,  6.2019897, 11.697932 ,  8.621652 ,  6.190333 ,\n",
       "        8.095817 ,  7.979261 ,  7.6455283, 13.459576 ,  7.7210402,\n",
       "        8.299783 ,  7.8462105,  7.562584 , 11.691719 ,  9.426807 ,\n",
       "       12.346973 , 10.159332 ,  9.730864 , 12.646657 , 10.733974 ,\n",
       "        9.625429 , 10.327424 , 11.1805315, 11.527213 ,  6.705759 ,\n",
       "        6.6854835,  6.712236 ,  9.16325  , 11.199814 , 13.423238 ,\n",
       "       12.860646 , 12.188611 , 10.68365  , 10.415311 , 11.315468 ,\n",
       "       11.316795 ,  8.091397 ,  7.6730466, 13.487393 , 12.466415 ,\n",
       "       11.2758   , 13.464737 ,  7.5765233, 10.683495 ,  9.1203985,\n",
       "        8.268639 ,  8.536494 , 10.429057 , 10.927749 ,  9.364855 ,\n",
       "        9.961737 , 13.997508 , 12.3680725, 13.89305  ,  7.90765  ,\n",
       "       11.821021 , 13.811501 , 10.187827 ,  9.556994 ,  6.716986 ,\n",
       "       12.860771 , 12.884517 , 11.5349245,  6.793981 , 11.2753935,\n",
       "        4.9858356,  9.4478   , 12.525978 ,  8.885602 , 12.403587 ,\n",
       "       10.430465 , 13.570577 , 11.129985 ,  7.672952 , 12.681354 ,\n",
       "       10.372375 , 13.004163 , 14.503488 ,  8.930503 , 12.08199  ,\n",
       "       10.146607 ,  9.125315 , 12.541576 , 13.605659 ,  8.180272 ,\n",
       "        8.938187 , 12.154553 ,  9.969945 ,  8.353093 , 13.0113   ,\n",
       "       13.736646 ,  9.400091 , 11.286564 , 12.790512 , 10.756017 ,\n",
       "       12.012157 , 10.71603  , 10.907405 ,  7.6142545, 10.870379 ,\n",
       "       11.885601 ,  9.932712 , 11.98214  , 12.351566 , 11.191037 ,\n",
       "       10.2046995,  8.046552 , 11.875477 ,  9.307017 ,  9.577706 ,\n",
       "       13.235951 , 11.489451 , 10.168781 ,  8.356642 , 12.135956 ,\n",
       "        7.6676373, 10.57187  ,  8.053193 , 14.233685 , 11.787198 ,\n",
       "       10.871585 , 11.604054 ,  8.741277 , 12.275879 ,  8.255778 ,\n",
       "       13.030257 ,  7.839386 , 10.533522 ,  9.360004 ,  6.838407 ,\n",
       "       11.436254 , 13.65338  ,  6.6022935, 11.946324 , 13.85406  ,\n",
       "       13.310489 , 12.997178 , 10.679339 ,  9.426358 , 11.4341   ,\n",
       "       13.087529 ,  5.917439 ,  5.318097 , 11.85838  , 11.192406 ,\n",
       "       13.0702095,  5.0456805, 13.111843 , 11.749698 , 10.456048 ,\n",
       "        8.329018 ,  7.2350373,  9.377628 ,  5.888214 ,  9.599842 ,\n",
       "        7.4037604, 13.124076 ,  5.8791924,  8.387979 ,  5.515396 ,\n",
       "        6.997213 ,  6.629047 ,  7.266361 ,  8.129282 ,  7.329511 ,\n",
       "        9.166244 ,  7.833117 ,  8.656186 , 13.968044 , 13.490651 ,\n",
       "        8.285141 ,  8.775811 , 13.492966 ,  7.1228967, 10.794835 ,\n",
       "       10.8259735,  8.435894 ,  7.776727 , 12.419049 , 13.513836 ,\n",
       "       11.433698 ,  9.934188 ,  8.336688 , 12.58094  ,  8.913306 ,\n",
       "        8.623691 ,  6.7740154,  8.616059 ,  9.858541 ,  8.889852 ,\n",
       "        8.231113 ,  9.543046 ,  9.216826 , 10.605042 , 10.354257 ,\n",
       "        6.8513856,  9.619742 , 11.208354 , 10.400007 , 11.498744 ,\n",
       "       11.388402 , 12.428058 , 11.955781 , 11.440869 , 10.962372 ,\n",
       "       10.361686 ,  7.6609497, 11.202686 ,  8.4805565, 10.726483 ,\n",
       "       10.887131 ,  6.081333 ,  5.882933 ,  6.909776 ,  6.513533 ,\n",
       "        8.856265 , 13.145518 ,  7.9668336,  8.656531 ,  9.404349 ,\n",
       "        5.79328  ,  7.2899075,  8.348933 ,  9.467594 ,  9.769635 ,\n",
       "       10.190219 , 10.327767 , 10.298993 ,  9.827056 , 10.448165 ,\n",
       "       10.476066 , 10.978771 , 10.594064 , 11.149623 , 11.5401125,\n",
       "       12.426229 , 11.358383 , 11.090991 , 10.382371 , 10.609283 ,\n",
       "       10.019454 , 11.74099  , 11.369954 , 11.456143 , 10.195151 ,\n",
       "       10.778893 , 10.695793 , 12.55394  , 11.871814 , 12.087021 ,\n",
       "       11.86034  , 12.346246 , 11.707703 , 12.415599 , 12.778343 ,\n",
       "       12.339274 , 12.606643 , 12.736755 , 10.4338045, 12.807986 ,\n",
       "       10.088859 , 10.983795 , 10.258896 , 10.921767 , 11.114474 ,\n",
       "        7.0193596,  9.733626 , 11.103602 , 10.997483 ,  8.950952 ,\n",
       "        9.092589 ,  9.698272 ,  6.30174  , 10.651382 , 10.033734 ,\n",
       "        7.0865154,  9.483171 , 11.040788 , 12.2495985, 11.384706 ,\n",
       "       10.113921 , 10.99739  ,  7.6251817,  9.468314 ,  8.678857 ,\n",
       "       10.717557 , 10.281063 , 12.368233 ,  9.342067 ,  9.098826 ,\n",
       "       11.2456665, 10.95577  , 10.425132 , 10.782078 ,  6.5853086,\n",
       "        9.572038 , 10.601037 , 12.018533 ,  9.241578 , 10.607482 ,\n",
       "       10.920789 ,  9.095398 , 11.088229 , 13.490836 , 13.073784 ,\n",
       "       10.717122 , 11.166904 , 10.791637 ,  7.3827024, 10.099795 ,\n",
       "        9.452594 ,  9.839977 , 13.870361 , 12.267711 , 10.643077 ,\n",
       "       12.744419 , 11.408801 , 12.853944 ,  8.853135 , 13.407611 ,\n",
       "        6.9557166,  9.926928 ,  9.1034565,  8.571768 , 13.850238 ,\n",
       "       11.09936  ,  5.7627454,  8.5670805,  8.579364 , 11.499023 ,\n",
       "        9.626638 ,  9.0959215,  6.906363 ,  8.889798 , 11.291481 ,\n",
       "       12.595383 ,  9.83674  ,  7.2502856, 11.825372 , 13.023158 ,\n",
       "       12.608621 ,  8.5261345, 11.18206  , 10.359519 , 13.188222 ,\n",
       "        8.715861 , 11.296294 ,  7.7238426, 12.979767 , 11.717255 ,\n",
       "       11.946889 , 12.958852 , 10.468622 , 10.988643 , 13.283137 ,\n",
       "       10.565312 ,  8.914912 , 10.86374  , 10.681514 ,  7.9008737,\n",
       "       11.240254 , 10.528054 , 10.966708 ,  9.6112   , 12.755989 ,\n",
       "        7.170794 , 10.112222 ,  9.296917 ,  9.654994 , 10.643988 ,\n",
       "       11.990903 , 10.1206045,  7.913094 , 13.4773035,  9.08677  ,\n",
       "        7.5794234,  9.500566 ,  9.860609 , 12.276192 ,  9.714669 ,\n",
       "       14.115875 , 13.126506 ,  9.42353  , 13.183632 ,  9.252282 ,\n",
       "        9.513802 ,  8.582444 ,  6.2983747, 12.6097765,  9.776519 ,\n",
       "       12.864525 , 10.282687 , 11.655174 , 10.3142805, 12.817609 ,\n",
       "       11.049066 ,  9.490941 , 10.493855 , 10.921615 , 11.59199  ,\n",
       "        7.129994 , 11.571899 ,  9.702325 , 12.872056 , 14.223168 ,\n",
       "       10.550983 , 14.284706 , 11.080379 , 12.693362 ,  6.4432087,\n",
       "       12.907742 , 13.58126  ,  7.839582 ,  9.234954 , 10.165515 ,\n",
       "        9.030929 , 13.340103 ,  8.984161 ,  9.52741  , 13.235471 ,\n",
       "       12.883824 , 13.4347   , 10.0262785, 10.137829 ,  8.899426 ,\n",
       "        9.651651 , 13.296924 ,  9.035805 , 10.467507 ,  7.3205643,\n",
       "        9.774237 , 13.54351  , 11.136795 , 13.747539 ,  8.524404 ,\n",
       "       14.444504 , 13.22023  , 10.677066 ,  9.811687 , 10.760303 ,\n",
       "       11.180371 , 10.629592 , 10.593676 , 10.534495 , 11.666598 ,\n",
       "        9.426752 ,  9.151061 ,  9.708148 ,  8.295801 , 10.123393 ,\n",
       "       10.06567  , 12.662814 ,  9.990235 , 10.603089 ,  9.433396 ,\n",
       "       12.005885 , 13.268273 ,  8.943614 , 10.616565 , 11.070049 ,\n",
       "       11.420629 , 12.005963 , 11.847088 ,  9.663418 ,  8.961812 ,\n",
       "       13.998193 , 12.628354 ,  7.9107337,  9.823483 , 11.221161 ,\n",
       "       10.768509 ,  9.268044 , 13.328476 , 13.879252 ,  9.02345  ,\n",
       "        9.374655 , 10.480741 , 14.027373 ,  9.957754 ,  9.759883 ,\n",
       "        9.6352415, 10.582451 , 13.80011  ,  9.641564 , 13.541935 ,\n",
       "        8.734553 , 13.546773 ,  9.163092 , 11.01003  , 10.4349375,\n",
       "       10.967007 , 10.684227 , 12.944911 , 10.137255 ,  7.6208534,\n",
       "       10.797339 , 13.465337 , 10.69428  ,  9.933539 ,  8.602451 ,\n",
       "       11.189861 ,  8.670733 , 12.612105 , 10.638734 ,  8.164875 ,\n",
       "       12.908519 ,  8.668559 , 10.576754 , 11.954186 , 10.81363  ,\n",
       "        8.768738 ,  9.34241  , 12.478172 , 12.69391  , 10.285076 ,\n",
       "        8.512193 , 10.396867 , 11.265609 ,  8.654428 , 10.224883 ,\n",
       "       10.21312  , 10.804192 , 10.946961 , 10.98383  ,  6.786688 ,\n",
       "        8.47065  , 11.905144 , 10.935837 , 11.145688 , 13.008069 ,\n",
       "       13.508845 ,  9.805688 , 10.067185 ,  5.8592696, 12.950546 ,\n",
       "       12.570109 , 11.162841 , 10.298523 ,  9.564946 , 13.363734 ,\n",
       "       10.704178 ,  7.0191216, 10.79929  , 11.622429 , 13.511575 ,\n",
       "       11.043824 , 11.245583 , 12.664544 , 10.030005 ,  9.562528 ,\n",
       "       11.740817 , 11.013942 , 11.460332 , 11.496498 , 12.478547 ,\n",
       "       10.175325 , 11.69374  , 12.897428 , 13.289627 , 13.2438965,\n",
       "       10.509248 , 11.52284  ,  7.3385453, 10.509522 , 13.040652 ,\n",
       "       12.971363 , 12.181645 ,  8.975921 ,  8.947833 ,  9.039469 ,\n",
       "       11.004993 , 10.296357 , 13.629039 , 13.289234 , 12.342298 ,\n",
       "        6.4695053,  7.156336 , 10.842729 , 10.106929 , 13.53362  ,\n",
       "        9.869077 , 12.775314 ,  6.4255385, 10.640118 , 13.6176405,\n",
       "       11.038899 , 11.0275   , 10.841174 ,  6.605127 , 13.670936 ,\n",
       "       10.264523 ,  9.919728 , 10.6772   , 12.129505 , 11.112968 ,\n",
       "        9.336453 , 10.852483 , 10.254836 ,  7.139506 , 13.20069  ,\n",
       "       10.781238 , 10.717481 , 12.939517 ,  6.508249 ,  7.0347977,\n",
       "       10.499615 , 11.035661 ,  5.363462 , 12.018077 ,  7.706177 ,\n",
       "        5.581058 , 13.7236595,  5.764689 ,  6.946817 , 13.573907 ,\n",
       "        9.289238 , 12.49554  , 10.100507 , 10.388152 , 11.694068 ,\n",
       "       13.566257 , 13.397007 , 12.546051 , 13.745114 ,  5.7760806,\n",
       "       13.5035515, 11.641864 , 13.074252 , 11.653668 ,  5.567449 ,\n",
       "        6.715838 ,  6.490593 ,  7.9521904,  6.788217 , 10.861888 ,\n",
       "        8.0327   ,  9.045779 , 11.546107 , 13.733598 , 12.477386 ,\n",
       "       11.352386 ,  6.044742 , 13.55119  , 13.530754 , 12.011456 ,\n",
       "       10.160631 ,  7.86099  ,  9.900619 ,  8.017547 , 10.541394 ,\n",
       "       10.28516  , 14.341812 , 11.692185 , 14.128932 , 13.565904 ,\n",
       "       14.026566 , 12.113339 , 10.565103 ,  6.773403 ,  9.740687 ,\n",
       "       12.828655 , 10.460008 ,  5.64084  , 11.985911 , 10.921491 ,\n",
       "       12.679791 ,  9.544972 ,  9.276343 ,  6.833135 ,  5.9861145,\n",
       "       12.54407  , 12.597331 ,  9.551303 , 10.467933 , 13.487465 ,\n",
       "       11.063277 ,  8.626331 ,  7.7085533,  9.516534 , 12.5743   ,\n",
       "       10.080569 , 13.294604 , 10.436919 ,  6.8148236,  7.9982834,\n",
       "       10.817304 , 14.098981 ,  6.734986 , 13.613365 , 12.250389 ,\n",
       "        7.23691  , 13.688758 ,  9.618186 , 12.268593 , 12.17006  ,\n",
       "       12.159459 , 12.667915 , 12.603147 , 12.778358 , 13.073781 ,\n",
       "        8.362868 ,  7.0599847, 11.00089  , 12.329175 ,  7.746727 ,\n",
       "       11.265597 , 12.627566 , 13.143143 , 13.1681185, 13.177185 ,\n",
       "       13.064059 , 13.237264 , 13.329323 , 13.691836 , 13.24749  ,\n",
       "       13.527642 , 12.87072  , 12.155281 , 11.721524 , 12.385185 ,\n",
       "       13.573537 , 10.576409 , 10.123949 , 11.215263 , 10.152743 ,\n",
       "       11.142268 , 13.213656 , 10.020762 , 10.818286 ,  6.1022525,\n",
       "       10.48085  , 13.363164 ,  8.638665 ,  9.921758 , 13.559692 ,\n",
       "        6.6639657,  8.990396 ,  5.7858176, 13.634273 , 13.568817 ,\n",
       "       13.732971 , 10.448905 , 12.533101 , 13.447258 , 11.9679365,\n",
       "       13.72819  ,  8.197385 ,  7.1671424, 13.741857 , 10.931625 ,\n",
       "       14.174103 ,  7.8970923, 10.286309 , 13.736384 , 13.328861 ,\n",
       "        9.599196 , 11.503265 , 10.131623 , 10.769261 , 12.783923 ,\n",
       "       13.749596 , 11.51144  , 10.249966 , 11.369924 , 10.569173 ,\n",
       "        6.729756 , 12.667901 , 11.575406 , 12.035317 , 13.112605 ,\n",
       "        7.4740043, 13.341069 , 10.562516 ,  9.563117 , 11.938006 ,\n",
       "       13.499316 , 10.248794 , 10.245548 , 13.428058 , 10.08538  ,\n",
       "       10.829839 , 14.104358 ,  9.089546 , 13.946589 , 13.62812  ,\n",
       "        9.308133 ,  6.846663 ,  9.425269 , 13.936523 ,  8.721154 ,\n",
       "       11.169624 ,  7.38222  , 12.346845 , 13.66441  , 12.94426  ,\n",
       "       11.1729765,  6.7227693, 12.5045805, 10.559792 , 12.201359 ,\n",
       "       11.769203 , 11.970417 , 10.827298 ,  7.659266 , 12.441821 ,\n",
       "       12.160823 , 10.293243 , 10.469253 , 10.92305  ,  9.942139 ,\n",
       "       10.690983 , 12.358897 , 10.871785 , 12.638448 , 12.667954 ,\n",
       "       11.255277 ,  9.1284075, 11.9837265, 13.049758 ,  9.849395 ,\n",
       "       11.448575 , 11.875928 , 10.601582 , 12.225717 , 11.508695 ,\n",
       "       13.420133 ,  9.517756 , 13.69677  , 10.836978 , 10.987851 ,\n",
       "        8.979344 , 11.044236 , 14.345395 , 14.2089815, 13.3141165,\n",
       "        6.989821 , 13.451747 , 14.180699 , 13.492206 , 13.896735 ,\n",
       "       14.01448  , 12.510288 , 12.617271 , 10.656034 , 14.359752 ,\n",
       "       12.378525 , 12.044682 , 10.864665 , 11.400276 ,  9.112668 ,\n",
       "        9.561143 , 13.2891655, 10.201271 , 10.015654 ,  7.171942 ,\n",
       "        9.8702135,  7.2762246,  8.711151 , 10.296109 , 13.717603 ,\n",
       "       10.872963 , 12.68177  , 10.82702  , 10.65945  ,  8.832203 ,\n",
       "       11.896745 , 13.084266 , 12.240963 , 14.530551 , 14.000737 ,\n",
       "       12.849635 , 14.508962 , 10.801206 , 11.660138 , 11.103958 ,\n",
       "        7.306804 , 13.663035 , 13.751358 ], dtype=float32)"
      ]
     },
     "execution_count": 30,
     "metadata": {},
     "output_type": "execute_result"
    }
   ],
   "source": [
    "mda.values.compute()"
   ]
  },
  {
   "cell_type": "code",
   "execution_count": null,
   "metadata": {},
   "outputs": [],
   "source": []
  }
 ],
 "metadata": {
  "kernelspec": {
   "display_name": "Python 3.10.6 ('base')",
   "language": "python",
   "name": "python3"
  },
  "language_info": {
   "codemirror_mode": {
    "name": "ipython",
    "version": 3
   },
   "file_extension": ".py",
   "mimetype": "text/x-python",
   "name": "python",
   "nbconvert_exporter": "python",
   "pygments_lexer": "ipython3",
   "version": "3.10.6"
  },
  "orig_nbformat": 4,
  "vscode": {
   "interpreter": {
    "hash": "29241bd0f6dcdc7baf6ca7a8c63eed3702f363cfda55e5fb2434992ede57da6b"
   }
  }
 },
 "nbformat": 4,
 "nbformat_minor": 2
}
