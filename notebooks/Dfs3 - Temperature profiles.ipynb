{
 "cells": [
  {
   "cell_type": "markdown",
   "metadata": {},
   "source": [
    "# Global Forecasting System - Temperature profiles in the atmosphere"
   ]
  },
  {
   "cell_type": "code",
   "execution_count": 1,
   "metadata": {},
   "outputs": [],
   "source": [
    "from datetime import datetime\n",
    "import xarray\n",
    "import numpy as np\n",
    "import pandas as pd\n",
    "from mikeio import Dfs3"
   ]
  },
  {
   "cell_type": "markdown",
   "metadata": {},
   "source": [
    "Let's try to download todays forecast from the OpenDAP server."
   ]
  },
  {
   "cell_type": "code",
   "execution_count": 2,
   "metadata": {},
   "outputs": [],
   "source": [
    "now = datetime.now()\n",
    "\n",
    "forecast = datetime(now.year,now.month,now.day)"
   ]
  },
  {
   "cell_type": "code",
   "execution_count": 3,
   "metadata": {},
   "outputs": [],
   "source": [
    "dtstr = forecast.strftime(\"%Y%m%d\")\n",
    "hour = \"00\" # valid options are 00,06,12,18\n",
    "url = f\"https://nomads.ncep.noaa.gov:9090/dods/gfs_0p25/gfs{dtstr}/gfs_0p25_{hour}z\"\n",
    "ds = xarray.open_dataset(url)"
   ]
  },
  {
   "cell_type": "markdown",
   "metadata": {},
   "source": [
    "Create a small subset of the data to make it faster to download."
   ]
  },
  {
   "cell_type": "code",
   "execution_count": 4,
   "metadata": {},
   "outputs": [],
   "source": [
    "ds = ds.sel(lon=slice(10,15), lat=slice(54,58)).isel(time=slice(0,2))"
   ]
  },
  {
   "cell_type": "markdown",
   "metadata": {},
   "source": [
    "Temperature on pressure levels in the atmosphere is named *tmpprs*"
   ]
  },
  {
   "cell_type": "code",
   "execution_count": 5,
   "metadata": {},
   "outputs": [
    {
     "data": {
      "text/html": [
       "<pre>&lt;xarray.DataArray &#x27;tmpprs&#x27; (time: 2, lev: 34, lat: 17, lon: 21)&gt;\n",
       "array([[[[285.8049 , ..., 284.40488],\n",
       "         ...,\n",
       "         [287.50488, ..., 280.8049 ]],\n",
       "\n",
       "        ...,\n",
       "\n",
       "        [[252.2    , ..., 253.1    ],\n",
       "         ...,\n",
       "         [252.40001, ..., 252.8    ]]],\n",
       "\n",
       "\n",
       "       [[[285.2049 , ..., 282.8049 ],\n",
       "         ...,\n",
       "         [286.8049 , ..., 280.2049 ]],\n",
       "\n",
       "        ...,\n",
       "\n",
       "        [[252.70523, ..., 252.70523],\n",
       "         ...,\n",
       "         [253.20523, ..., 253.00523]]]], dtype=float32)\n",
       "Coordinates:\n",
       "  * time     (time) datetime64[ns] 2020-06-04 2020-06-04T03:00:00\n",
       "  * lev      (lev) float64 1e+03 975.0 950.0 925.0 900.0 ... 5.0 3.0 2.0 1.0 0.4\n",
       "  * lat      (lat) float64 54.0 54.25 54.5 54.75 55.0 ... 57.25 57.5 57.75 58.0\n",
       "  * lon      (lon) float64 10.0 10.25 10.5 10.75 11.0 ... 14.25 14.5 14.75 15.0\n",
       "Attributes:\n",
       "    long_name:  ** (1000 975 950 925 900.. 5 3 2 1 40) temperature [k] </pre>"
      ],
      "text/plain": [
       "<xarray.DataArray 'tmpprs' (time: 2, lev: 34, lat: 17, lon: 21)>\n",
       "array([[[[285.8049 , ..., 284.40488],\n",
       "         ...,\n",
       "         [287.50488, ..., 280.8049 ]],\n",
       "\n",
       "        ...,\n",
       "\n",
       "        [[252.2    , ..., 253.1    ],\n",
       "         ...,\n",
       "         [252.40001, ..., 252.8    ]]],\n",
       "\n",
       "\n",
       "       [[[285.2049 , ..., 282.8049 ],\n",
       "         ...,\n",
       "         [286.8049 , ..., 280.2049 ]],\n",
       "\n",
       "        ...,\n",
       "\n",
       "        [[252.70523, ..., 252.70523],\n",
       "         ...,\n",
       "         [253.20523, ..., 253.00523]]]], dtype=float32)\n",
       "Coordinates:\n",
       "  * time     (time) datetime64[ns] 2020-06-04 2020-06-04T03:00:00\n",
       "  * lev      (lev) float64 1e+03 975.0 950.0 925.0 900.0 ... 5.0 3.0 2.0 1.0 0.4\n",
       "  * lat      (lat) float64 54.0 54.25 54.5 54.75 55.0 ... 57.25 57.5 57.75 58.0\n",
       "  * lon      (lon) float64 10.0 10.25 10.5 10.75 11.0 ... 14.25 14.5 14.75 15.0\n",
       "Attributes:\n",
       "    long_name:  ** (1000 975 950 925 900.. 5 3 2 1 40) temperature [k] "
      ]
     },
     "execution_count": 5,
     "metadata": {},
     "output_type": "execute_result"
    }
   ],
   "source": [
    "ds.tmpprs"
   ]
  },
  {
   "cell_type": "code",
   "execution_count": 6,
   "metadata": {},
   "outputs": [
    {
     "data": {
      "text/html": [
       "<pre>&lt;xarray.DataArray &#x27;lev&#x27; (lev: 34)&gt;\n",
       "array([1.00e+03, 9.75e+02, 9.50e+02, 9.25e+02, 9.00e+02, 8.50e+02, 8.00e+02,\n",
       "       7.50e+02, 7.00e+02, 6.50e+02, 6.00e+02, 5.50e+02, 5.00e+02, 4.50e+02,\n",
       "       4.00e+02, 3.50e+02, 3.00e+02, 2.50e+02, 2.00e+02, 1.50e+02, 1.00e+02,\n",
       "       7.00e+01, 5.00e+01, 4.00e+01, 3.00e+01, 2.00e+01, 1.50e+01, 1.00e+01,\n",
       "       7.00e+00, 5.00e+00, 3.00e+00, 2.00e+00, 1.00e+00, 4.00e-01])\n",
       "Coordinates:\n",
       "  * lev      (lev) float64 1e+03 975.0 950.0 925.0 900.0 ... 5.0 3.0 2.0 1.0 0.4\n",
       "Attributes:\n",
       "    grads_dim:      z\n",
       "    grads_mapping:  levels\n",
       "    units:          millibar\n",
       "    long_name:      altitude\n",
       "    minimum:        1000.0\n",
       "    maximum:        0.4\n",
       "    resolution:     30.290909</pre>"
      ],
      "text/plain": [
       "<xarray.DataArray 'lev' (lev: 34)>\n",
       "array([1.00e+03, 9.75e+02, 9.50e+02, 9.25e+02, 9.00e+02, 8.50e+02, 8.00e+02,\n",
       "       7.50e+02, 7.00e+02, 6.50e+02, 6.00e+02, 5.50e+02, 5.00e+02, 4.50e+02,\n",
       "       4.00e+02, 3.50e+02, 3.00e+02, 2.50e+02, 2.00e+02, 1.50e+02, 1.00e+02,\n",
       "       7.00e+01, 5.00e+01, 4.00e+01, 3.00e+01, 2.00e+01, 1.50e+01, 1.00e+01,\n",
       "       7.00e+00, 5.00e+00, 3.00e+00, 2.00e+00, 1.00e+00, 4.00e-01])\n",
       "Coordinates:\n",
       "  * lev      (lev) float64 1e+03 975.0 950.0 925.0 900.0 ... 5.0 3.0 2.0 1.0 0.4\n",
       "Attributes:\n",
       "    grads_dim:      z\n",
       "    grads_mapping:  levels\n",
       "    units:          millibar\n",
       "    long_name:      altitude\n",
       "    minimum:        1000.0\n",
       "    maximum:        0.4\n",
       "    resolution:     30.290909"
      ]
     },
     "execution_count": 6,
     "metadata": {},
     "output_type": "execute_result"
    }
   ],
   "source": [
    "ds.lev"
   ]
  },
  {
   "cell_type": "markdown",
   "metadata": {},
   "source": [
    "Level 0 = 1000 mbar, i.e. close to the ground."
   ]
  },
  {
   "cell_type": "code",
   "execution_count": 7,
   "metadata": {},
   "outputs": [
    {
     "data": {
      "text/plain": [
       "<matplotlib.collections.QuadMesh at 0x20cc61dfac8>"
      ]
     },
     "execution_count": 7,
     "metadata": {},
     "output_type": "execute_result"
    },
    {
     "data": {
      "image/png": "[encoded data removed]",
      "text/plain": [
       "<Figure size 432x288 with 2 Axes>"
      ]
     },
     "metadata": {
      "needs_background": "light"
     },
     "output_type": "display_data"
    }
   ],
   "source": [
    "ds.tmpprs.isel(time=0,lev=0).plot()"
   ]
  },
  {
   "cell_type": "markdown",
   "metadata": {},
   "source": [
    "Top level = 0.4 mbar, i.e. at the top of the atmosphere."
   ]
  },
  {
   "cell_type": "code",
   "execution_count": 8,
   "metadata": {},
   "outputs": [
    {
     "data": {
      "text/plain": [
       "<matplotlib.collections.QuadMesh at 0x20cc83d8688>"
      ]
     },
     "execution_count": 8,
     "metadata": {},
     "output_type": "execute_result"
    },
    {
     "data": {
      "image/png": "[encoded data removed]",
      "text/plain": [
       "<Figure size 432x288 with 2 Axes>"
      ]
     },
     "metadata": {
      "needs_background": "light"
     },
     "output_type": "display_data"
    }
   ],
   "source": [
    "ds.tmpprs.isel(time=0,lev=-1).plot()"
   ]
  },
  {
   "cell_type": "markdown",
   "metadata": {},
   "source": [
    "Let's look at a profile"
   ]
  },
  {
   "cell_type": "code",
   "execution_count": 9,
   "metadata": {},
   "outputs": [
    {
     "data": {
      "text/plain": [
       "[<matplotlib.lines.Line2D at 0x20cc84877c8>]"
      ]
     },
     "execution_count": 9,
     "metadata": {},
     "output_type": "execute_result"
    },
    {
     "data": {
      "image/png": "[encoded data removed]",
      "text/plain": [
       "<Figure size 432x288 with 1 Axes>"
      ]
     },
     "metadata": {
      "needs_background": "light"
     },
     "output_type": "display_data"
    }
   ],
   "source": [
    "ds.tmpprs.sel(lon=10,lat=56).isel(time=0).plot()"
   ]
  },
  {
   "cell_type": "markdown",
   "metadata": {},
   "source": [
    "## Convert to dfs3\n",
    "\n",
    "Dfs3 does not support irregularly spaced spatial axis as is used by the vertical coordinate axis in this case (pressure levels).\n",
    "\n",
    "**Thus, please note that the vertical coordinates are not correct in this example.**"
   ]
  },
  {
   "cell_type": "code",
   "execution_count": 10,
   "metadata": {},
   "outputs": [
    {
     "data": {
      "text/plain": [
       "(10.0, 54.0, 21, 17, 0.24, 0.24)"
      ]
     },
     "execution_count": 10,
     "metadata": {},
     "output_type": "execute_result"
    }
   ],
   "source": [
    "lat = ds.lat.values\n",
    "lon = ds.lon.values\n",
    "lev = ds.lev.values\n",
    "\n",
    "nx = len(lon)\n",
    "ny = len(lat)\n",
    "nz = len(lev)\n",
    "\n",
    "x0 = lon[0]\n",
    "y0 = lat[0]\n",
    "\n",
    "dx = np.round((lon[-1] - lon[0]) / nx,2)\n",
    "dy = np.round((lat[-1] - lat[0]) / ny,2)\n",
    "\n",
    "x0, y0, nx, ny, dx, dy"
   ]
  },
  {
   "cell_type": "markdown",
   "metadata": {},
   "source": [
    "## Time"
   ]
  },
  {
   "cell_type": "code",
   "execution_count": 11,
   "metadata": {},
   "outputs": [
    {
     "name": "stdout",
     "output_type": "stream",
     "text": [
      "2020-06-04T00:00:00.000000000\n"
     ]
    }
   ],
   "source": [
    "t = ds.time.values\n",
    "print(t[0])\n",
    "start_time = pd.to_datetime(t).to_pydatetime()[0]"
   ]
  },
  {
   "cell_type": "markdown",
   "metadata": {},
   "source": [
    "## Variable types"
   ]
  },
  {
   "cell_type": "code",
   "execution_count": 12,
   "metadata": {},
   "outputs": [
    {
     "data": {
      "text/plain": [
       "Temperature"
      ]
     },
     "execution_count": 12,
     "metadata": {},
     "output_type": "execute_result"
    }
   ],
   "source": [
    "from mikeio.eum import EUMType\n",
    "EUMType.Temperature"
   ]
  },
  {
   "cell_type": "code",
   "execution_count": 13,
   "metadata": {},
   "outputs": [
    {
     "data": {
      "text/plain": [
       "[degree Celsius, degree Fahrenheit, degree Kelvin]"
      ]
     },
     "execution_count": 13,
     "metadata": {},
     "output_type": "execute_result"
    }
   ],
   "source": [
    "EUMType.Temperature.units"
   ]
  },
  {
   "cell_type": "markdown",
   "metadata": {},
   "source": [
    "# Data manipulation\n",
    "Flip upside / down"
   ]
  },
  {
   "cell_type": "code",
   "execution_count": 14,
   "metadata": {},
   "outputs": [],
   "source": [
    "temperature = ds.tmpprs.values\n",
    "\n",
    "temperature = temperature[:,::-1,:,:]"
   ]
  },
  {
   "cell_type": "code",
   "execution_count": 19,
   "metadata": {},
   "outputs": [],
   "source": [
    "from mikeio.eum import ItemInfo, EUMUnit\n",
    "\n",
    "d = []\n",
    "d.append(temperature)\n",
    "      \n",
    "dfs = Dfs3()\n",
    "dfsfilename = f\"gfs_{dtstr}_{hour}_temperature_profile.dfs3\"\n",
    "dfs.create(filename=dfsfilename,\n",
    "           data=d,\n",
    "           start_time = start_time,\n",
    "           dt=3600,\n",
    "           items=[ItemInfo(EUMType.Temperature, EUMUnit.degree_Kelvin)],\n",
    "           coordinate=['LONG/LAT', x0, y0, 0],\n",
    "           length_x=dx, length_y=dy\n",
    ")"
   ]
  },
  {
   "cell_type": "markdown",
   "metadata": {},
   "source": [
    "## Clean up (don't run this)"
   ]
  },
  {
   "cell_type": "code",
   "execution_count": 21,
   "metadata": {},
   "outputs": [],
   "source": [
    "import os\n",
    "os.remove(dfsfilename)"
   ]
  },
  {
   "cell_type": "code",
   "execution_count": null,
   "metadata": {},
   "outputs": [],
   "source": []
  }
 ],
 "metadata": {
  "kernelspec": {
   "display_name": "Python 3",
   "language": "python",
   "name": "python3"
  },
  "language_info": {
   "codemirror_mode": {
    "name": "ipython",
    "version": 3
   },
   "file_extension": ".py",
   "mimetype": "text/x-python",
   "name": "python",
   "nbconvert_exporter": "python",
   "pygments_lexer": "ipython3",
   "version": "3.7.4"
  }
 },
 "nbformat": 4,
 "nbformat_minor": 4
}
