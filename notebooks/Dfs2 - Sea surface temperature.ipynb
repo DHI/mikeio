{
 "cells": [
  {
   "cell_type": "markdown",
   "metadata": {},
   "source": [
    "# Sea surface temperature\n",
    "\n",
    "This is an example of how to convert publicly available raster data to dfs2.\n",
    "\n",
    "Data are provided in gzipped netcdf.\n"
   ]
  },
  {
   "cell_type": "code",
   "execution_count": 1,
   "metadata": {},
   "outputs": [],
   "source": [
    "import gzip\n",
    "import shutil\n",
    "import numpy as np\n",
    "import pandas as pd\n",
    "import matplotlib.pyplot as plt\n",
    "%matplotlib inline\n",
    "import xarray\n",
    "import urllib.request"
   ]
  },
  {
   "cell_type": "markdown",
   "metadata": {},
   "source": [
    "## Download file"
   ]
  },
  {
   "cell_type": "code",
   "execution_count": 2,
   "metadata": {},
   "outputs": [
    {
     "data": {
      "text/plain": [
       "('20150101-DMI-L4UHfnd-NSEABALTIC-v01-fv01-DMI_OI.nc.gz',\n",
       " <http.client.HTTPMessage at 0x1d71febe108>)"
      ]
     },
     "execution_count": 2,
     "metadata": {},
     "output_type": "execute_result"
    }
   ],
   "source": [
    "url = \"https://data.nodc.noaa.gov/ghrsst/L4/NSEABALTIC/DMI/DMI_OI/2015/001/20150101-DMI-L4UHfnd-NSEABALTIC-v01-fv01-DMI_OI.nc.gz\"\n",
    "filename = \"20150101-DMI-L4UHfnd-NSEABALTIC-v01-fv01-DMI_OI.nc\"\n",
    "gzfilename = filename + \".gz\"\n",
    "\n",
    "urllib.request.urlretrieve (url, gzfilename)"
   ]
  },
  {
   "cell_type": "markdown",
   "metadata": {},
   "source": [
    "## Unzip file"
   ]
  },
  {
   "cell_type": "code",
   "execution_count": 3,
   "metadata": {},
   "outputs": [],
   "source": [
    "with gzip.open(gzfilename, 'rb') as f_in:\n",
    "    with open(filename, 'wb') as f_out:\n",
    "        shutil.copyfileobj(f_in, f_out)"
   ]
  },
  {
   "cell_type": "code",
   "execution_count": 4,
   "metadata": {},
   "outputs": [
    {
     "data": {
      "text/html": [
       "<pre>&lt;xarray.Dataset&gt;\n",
       "Dimensions:         (lat: 600, lon: 1334, time: 1)\n",
       "Coordinates:\n",
       "  * lon             (lon) float32 -9.99 -9.96 -9.93 ... 29.939999 29.969997 30.0\n",
       "  * lat             (lat) float32 48.01 48.04 48.07 ... 65.92 65.95 65.979996\n",
       "  * time            (time) object 2015-01-01 00:00:00\n",
       "Data variables:\n",
       "    analysed_sst    (time, lat, lon) float32 ...\n",
       "    analysis_error  (time, lat, lon) float32 ...\n",
       "    mask            (time, lat, lon) float32 ...\n",
       "Attributes:\n",
       "    Conventions:            CF-1.0\n",
       "    title:                  DMI Sea Surface Temperature analysis\n",
       "    GDS_version_id:         v1.0-rev1.7\n",
       "    netcdf_version_id:      netcdf-3.6.1-beta3 of Jan  9 2006 03:17:05\n",
       "    DSD_entry_id:           DMI-L4UHfnd-NSEABALTIC-DMI_OI\n",
       "    institution:            Center for Ocean and Ice, Danish Meteorological I...\n",
       "    references:             http://ocean.dmi.dk\n",
       "    contact:                jlh@dmi.dk\n",
       "    creation_date:          2015-01-01T07:24:31 UTC\n",
       "    product_version:        Version 1.0\n",
       "    history:                Version 1.0\n",
       "    spatial_resolution:       0.03 degrees\n",
       "    start_date:             2015-01-01\n",
       "    start_time:             00:00:00\n",
       "    stop_date:              2015-01-02\n",
       "    stop_time:              00:00:00\n",
       "    source_data:            Nighttime AMSRE,ATS_NR_2P,AVHRR18_G,AVHRR17_NAR,A...\n",
       "    westernmost_longitude:  -9.99\n",
       "    easternmost_longitude:  30.0\n",
       "    southernmost_latitude:  48.01\n",
       "    northernmost_latitude:  65.979996\n",
       "    file_quality_index:     0\n",
       "    comment:                IN NO EVENT SHALL DMI OR ITS REPRESENTATIVES BE L...</pre>"
      ],
      "text/plain": [
       "<xarray.Dataset>\n",
       "Dimensions:         (lat: 600, lon: 1334, time: 1)\n",
       "Coordinates:\n",
       "  * lon             (lon) float32 -9.99 -9.96 -9.93 ... 29.939999 29.969997 30.0\n",
       "  * lat             (lat) float32 48.01 48.04 48.07 ... 65.92 65.95 65.979996\n",
       "  * time            (time) object 2015-01-01 00:00:00\n",
       "Data variables:\n",
       "    analysed_sst    (time, lat, lon) float32 ...\n",
       "    analysis_error  (time, lat, lon) float32 ...\n",
       "    mask            (time, lat, lon) float32 ...\n",
       "Attributes:\n",
       "    Conventions:            CF-1.0\n",
       "    title:                  DMI Sea Surface Temperature analysis\n",
       "    GDS_version_id:         v1.0-rev1.7\n",
       "    netcdf_version_id:      netcdf-3.6.1-beta3 of Jan  9 2006 03:17:05\n",
       "    DSD_entry_id:           DMI-L4UHfnd-NSEABALTIC-DMI_OI\n",
       "    institution:            Center for Ocean and Ice, Danish Meteorological I...\n",
       "    references:             http://ocean.dmi.dk\n",
       "    contact:                jlh@dmi.dk\n",
       "    creation_date:          2015-01-01T07:24:31 UTC\n",
       "    product_version:        Version 1.0\n",
       "    history:                Version 1.0\n",
       "    spatial_resolution:       0.03 degrees\n",
       "    start_date:             2015-01-01\n",
       "    start_time:             00:00:00\n",
       "    stop_date:              2015-01-02\n",
       "    stop_time:              00:00:00\n",
       "    source_data:            Nighttime AMSRE,ATS_NR_2P,AVHRR18_G,AVHRR17_NAR,A...\n",
       "    westernmost_longitude:  -9.99\n",
       "    easternmost_longitude:  30.0\n",
       "    southernmost_latitude:  48.01\n",
       "    northernmost_latitude:  65.979996\n",
       "    file_quality_index:     0\n",
       "    comment:                IN NO EVENT SHALL DMI OR ITS REPRESENTATIVES BE L..."
      ]
     },
     "execution_count": 4,
     "metadata": {},
     "output_type": "execute_result"
    }
   ],
   "source": [
    "ds = xarray.open_dataset(filename)\n",
    "ds"
   ]
  },
  {
   "cell_type": "code",
   "execution_count": 5,
   "metadata": {},
   "outputs": [
    {
     "data": {
      "text/plain": [
       "<matplotlib.collections.QuadMesh at 0x1d724ebec48>"
      ]
     },
     "execution_count": 5,
     "metadata": {},
     "output_type": "execute_result"
    },
    {
     "data": {
      "image/png": "[encoded data removed]",
      "text/plain": [
       "<Figure size 432x288 with 2 Axes>"
      ]
     },
     "metadata": {
      "needs_background": "light"
     },
     "output_type": "display_data"
    }
   ],
   "source": [
    "ds.analysed_sst[0].plot()"
   ]
  },
  {
   "cell_type": "code",
   "execution_count": 6,
   "metadata": {},
   "outputs": [
    {
     "data": {
      "text/plain": [
       "(1, 600, 1334)"
      ]
     },
     "execution_count": 6,
     "metadata": {},
     "output_type": "execute_result"
    }
   ],
   "source": [
    "sst = ds.analysed_sst.values\n",
    "sst.shape"
   ]
  },
  {
   "cell_type": "markdown",
   "metadata": {},
   "source": [
    "The input dataset dimensions are ordered (time, lon, lat).\n",
    "\n",
    "This is the expected order\n",
    "\n",
    "But the image have to be flipped upside down."
   ]
  },
  {
   "cell_type": "code",
   "execution_count": 7,
   "metadata": {},
   "outputs": [],
   "source": [
    "import numpy as np\n",
    "\n",
    "sst[0] = np.flipud(sst[0])"
   ]
  },
  {
   "cell_type": "markdown",
   "metadata": {},
   "source": [
    "## Coordinates"
   ]
  },
  {
   "cell_type": "code",
   "execution_count": 8,
   "metadata": {},
   "outputs": [
    {
     "data": {
      "text/plain": [
       "(-9.99, 48.01, 1334, 600, 0.029977509643005645, 0.029949995676676434)"
      ]
     },
     "execution_count": 8,
     "metadata": {},
     "output_type": "execute_result"
    }
   ],
   "source": [
    "lat = ds.lat.values\n",
    "lon = ds.lon.values\n",
    "\n",
    "\n",
    "nx = len(lon)\n",
    "ny = len(lat)\n",
    "\n",
    "x0 = lon[0]\n",
    "y0 = lat[0]\n",
    "\n",
    "\n",
    "dx = (lon[-1] - lon[0]) / nx\n",
    "dy = (lat[-1] - lat[0]) / ny\n",
    "\n",
    "x0, y0, nx, ny, dx, dy"
   ]
  },
  {
   "cell_type": "markdown",
   "metadata": {},
   "source": [
    "## Time"
   ]
  },
  {
   "cell_type": "code",
   "execution_count": 9,
   "metadata": {},
   "outputs": [
    {
     "name": "stdout",
     "output_type": "stream",
     "text": [
      "2015-01-01 00:00:00\n"
     ]
    }
   ],
   "source": [
    "print(ds.time.values[0])"
   ]
  },
  {
   "cell_type": "code",
   "execution_count": 12,
   "metadata": {},
   "outputs": [],
   "source": [
    "from datetime import datetime\n",
    "start_time = datetime(2015,1,1)"
   ]
  },
  {
   "cell_type": "markdown",
   "metadata": {},
   "source": [
    "## Variable types"
   ]
  },
  {
   "cell_type": "code",
   "execution_count": 13,
   "metadata": {},
   "outputs": [
    {
     "data": {
      "text/plain": [
       "Temperature"
      ]
     },
     "execution_count": 13,
     "metadata": {},
     "output_type": "execute_result"
    }
   ],
   "source": [
    "from mikeio.eum import EUMType, EUMUnit\n",
    "\n",
    "EUMType.Temperature"
   ]
  },
  {
   "cell_type": "code",
   "execution_count": 14,
   "metadata": {},
   "outputs": [
    {
     "data": {
      "text/plain": [
       "[degree Celsius, degree Fahrenheit, degree Kelvin]"
      ]
     },
     "execution_count": 14,
     "metadata": {},
     "output_type": "execute_result"
    }
   ],
   "source": [
    "EUMType.Temperature.units"
   ]
  },
  {
   "cell_type": "markdown",
   "metadata": {},
   "source": [
    "## Create dfs2"
   ]
  },
  {
   "cell_type": "code",
   "execution_count": 15,
   "metadata": {},
   "outputs": [],
   "source": [
    "from mikeio import Dfs2\n",
    "from mikeio.eum import ItemInfo\n",
    "\n",
    "d = [sst]\n",
    "\n",
    "dfsfilename = filename.replace(\".nc\", \".dfs2\")\n",
    "\n",
    "coordinate = ['LONG/LAT', x0, y0, 0]\n",
    "\n",
    "dfs = Dfs2()\n",
    "dfs.write(filename=dfsfilename,\n",
    "           data=d,\n",
    "           start_time = start_time, \n",
    "           coordinate=coordinate, dx=dx, dy=dy,\n",
    "           items=[ItemInfo(\"Sea surface temperature\", EUMType.Temperature, EUMUnit.degree_Kelvin)]\n",
    ")"
   ]
  },
  {
   "cell_type": "markdown",
   "metadata": {},
   "source": [
    "# Dfs2\n",
    "\n",
    "![dfs2](../images/sst_dfs2.png)"
   ]
  },
  {
   "cell_type": "markdown",
   "metadata": {},
   "source": [
    "# Clean up"
   ]
  },
  {
   "cell_type": "code",
   "execution_count": 17,
   "metadata": {},
   "outputs": [],
   "source": [
    "import os\n",
    "ds.close()\n",
    "os.remove(gzfilename)\n",
    "os.remove(filename)\n",
    "os.remove(dfsfilename)"
   ]
  }
 ],
 "metadata": {
  "kernelspec": {
   "display_name": "Python 3",
   "language": "python",
   "name": "python3"
  },
  "language_info": {
   "codemirror_mode": {
    "name": "ipython",
    "version": 3
   },
   "file_extension": ".py",
   "mimetype": "text/x-python",
   "name": "python",
   "nbconvert_exporter": "python",
   "pygments_lexer": "ipython3",
   "version": "3.7.4"
  }
 },
 "nbformat": 4,
 "nbformat_minor": 4
}
