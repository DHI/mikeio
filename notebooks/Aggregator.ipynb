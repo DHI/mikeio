{
 "cells": [
  {
   "cell_type": "markdown",
   "metadata": {},
   "source": [
    "# Aggregator examples\n",
    "Shows how dfs aggregator functions work"
   ]
  },
  {
   "cell_type": "code",
   "execution_count": 1,
   "metadata": {},
   "outputs": [],
   "source": [
    "import numpy as np\n",
    "import mikeio\n",
    "from mikeio import aggregator\n",
    "from mikeio import Dfs2, Dfs1, Dfs0"
   ]
  },
  {
   "cell_type": "markdown",
   "metadata": {},
   "source": [
    "## Input data"
   ]
  },
  {
   "cell_type": "code",
   "execution_count": 2,
   "metadata": {},
   "outputs": [
    {
     "name": "stdout",
     "output_type": "stream",
     "text": [
      "(5, 10, 20)\n",
      "0.6761106789112091\n",
      "0.44341139290481807\n",
      "0.9616825580596924\n",
      "0.5700161132588982\n",
      "0.2893546406119982\n"
     ]
    }
   ],
   "source": [
    "dfs2file = r\"..\\tests\\testdata\\eq.dfs2\"\n",
    "dfs2 = Dfs2(dfs2file)\n",
    "ds = dfs2.read()\n",
    "data2 = ds.data\n",
    "print(data2[0].shape)\n",
    "print(np.nanmean(data2[0][:,0,0]))\n",
    "print(np.nanmean(data2[0][0,:,0]))\n",
    "print(np.nanmax(data2[0][:,0,0]))\n",
    "#\n",
    "s1, s2, s3 = data2[0].shape\n",
    "vec=np.reshape(data2[0][:,:,0],s1*s2,1)\n",
    "print(np.nanmean(vec))\n",
    "print(np.nanstd(vec))"
   ]
  },
  {
   "cell_type": "code",
   "execution_count": 3,
   "metadata": {},
   "outputs": [],
   "source": [
    "s1, s2, s3 = data2[0].shape\n",
    "vec=np.reshape(data2[0][:,:,0],s1*s2,1)"
   ]
  },
  {
   "cell_type": "markdown",
   "metadata": {},
   "source": [
    "## Example 1\n",
    "make y-average of dfs2 (keeping x-axis)"
   ]
  },
  {
   "cell_type": "code",
   "execution_count": 4,
   "metadata": {},
   "outputs": [
    {
     "name": "stdout",
     "output_type": "stream",
     "text": [
      "(5, 20)\n",
      "0.4434114098548889\n"
     ]
    }
   ],
   "source": [
    "dfs1file1 = r\"..\\tests\\testdata\\eq_ax_x.dfs1\"\n",
    "aggregator.dfs2todfs1(dfs2file, dfs1file1)\n",
    "dfs1 = Dfs1(dfs1file1)\n",
    "ds1 = dfs1.read()\n",
    "data1 = ds1.data\n",
    "print(data1[0].shape)\n",
    "print(data1[0][0,0])"
   ]
  },
  {
   "cell_type": "markdown",
   "metadata": {},
   "source": [
    "## Example 2: other axis\n",
    "Take average instead over x-axis "
   ]
  },
  {
   "cell_type": "code",
   "execution_count": 5,
   "metadata": {},
   "outputs": [
    {
     "name": "stdout",
     "output_type": "stream",
     "text": [
      "(5, 10)\n",
      "0.5089341998100281\n"
     ]
    }
   ],
   "source": [
    "dfs1file2 = r\"..\\tests\\testdata\\eq_ax_y.dfs1\"\n",
    "aggregator.dfs2todfs1(dfs2file, dfs1file2, axis=2)\n",
    "dfs1 = Dfs1(dfs1file2)\n",
    "ds1 = dfs1.read()\n",
    "data1 = ds1.data\n",
    "print(data1[0].shape)\n",
    "print(data1[0][0,0])"
   ]
  },
  {
   "cell_type": "markdown",
   "metadata": {},
   "source": [
    "## Example 3: max\n",
    "Take max instead over y-axis"
   ]
  },
  {
   "cell_type": "code",
   "execution_count": 6,
   "metadata": {},
   "outputs": [
    {
     "name": "stdout",
     "output_type": "stream",
     "text": [
      "(5, 10)\n",
      "0.5089341998100281\n"
     ]
    }
   ],
   "source": [
    "dfs1file3 = r\"..\\tests\\testdata\\eq_ax_x_max.dfs1\"\n",
    "aggregator.dfs2todfs1(dfs2file, dfs1file3, axis=1, func=np.nanmax)\n",
    "\n",
    "dfs1 = Dfs1(dfs1file3)\n",
    "ds = dfs1.read()\n",
    "data1 = ds1.data\n",
    "print(data1[0].shape)\n",
    "print(data1[0][0,0])"
   ]
  },
  {
   "cell_type": "markdown",
   "metadata": {},
   "source": [
    "## Example 4: aggregate to dfs0\n",
    "Calc mean of each time step"
   ]
  },
  {
   "cell_type": "code",
   "execution_count": 7,
   "metadata": {},
   "outputs": [
    {
     "data": {
      "text/plain": [
       "<mikeio.DataSet>\n",
       "Dimensions: (5,)\n",
       "Time: 2019-09-17 14:04:53 - 2019-09-17 18:04:53\n",
       "Items:\n",
       "  0:  Item 1 <Undefined> (undefined)"
      ]
     },
     "execution_count": 7,
     "metadata": {},
     "output_type": "execute_result"
    }
   ],
   "source": [
    "dfs0fileA = r\"..\\tests\\testdata\\eq_mean.dfs0\"\n",
    "aggregator.dfstodfs0(dfs2file, dfs0fileA)\n",
    "dfs0 = Dfs0(dfs0fileA)\n",
    "ds = dfs0.read()\n",
    "ds"
   ]
  },
  {
   "cell_type": "markdown",
   "metadata": {},
   "source": [
    "## Example 5: calc standard deviation pr step"
   ]
  },
  {
   "cell_type": "code",
   "execution_count": 8,
   "metadata": {},
   "outputs": [
    {
     "data": {
      "text/plain": [
       "0.2997477352619171"
      ]
     },
     "execution_count": 8,
     "metadata": {},
     "output_type": "execute_result"
    }
   ],
   "source": [
    "dfs0fileB = r\"..\\tests\\testdata\\eq_std.dfs0\"\n",
    "aggregator.dfstodfs0(dfs2file, dfs0fileB, np.nanstd)\n",
    "dfs0 = Dfs0(dfs0fileB)\n",
    "ds = dfs0.read()\n",
    "ds.data[0][0]"
   ]
  },
  {
   "cell_type": "markdown",
   "metadata": {},
   "source": [
    "## Clean up"
   ]
  },
  {
   "cell_type": "code",
   "execution_count": 9,
   "metadata": {},
   "outputs": [],
   "source": [
    "import os\n",
    "os.remove(dfs1file1)\n",
    "os.remove(dfs1file2)\n",
    "os.remove(dfs1file3)\n",
    "os.remove(dfs0fileA)\n",
    "os.remove(dfs0fileB)"
   ]
  },
  {
   "cell_type": "code",
   "execution_count": null,
   "metadata": {},
   "outputs": [],
   "source": []
  }
 ],
 "metadata": {
  "kernelspec": {
   "display_name": "Python 3",
   "language": "python",
   "name": "python3"
  },
  "language_info": {
   "codemirror_mode": {
    "name": "ipython",
    "version": 3
   },
   "file_extension": ".py",
   "mimetype": "text/x-python",
   "name": "python",
   "nbconvert_exporter": "python",
   "pygments_lexer": "ipython3",
   "version": "3.7.4"
  }
 },
 "nbformat": 4,
 "nbformat_minor": 4
}
