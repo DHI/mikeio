{
 "cells": [
  {
   "cell_type": "markdown",
   "metadata": {},
   "source": [
    "# Aggregator examples\n",
    "Shows how dfs aggregator functions work"
   ]
  },
  {
   "cell_type": "code",
   "execution_count": 1,
   "metadata": {},
   "outputs": [],
   "source": [
    "import numpy as np\n",
    "import mikeio\n",
    "import mikeio.aggregator"
   ]
  },
  {
   "cell_type": "markdown",
   "metadata": {},
   "source": [
    "## Input data"
   ]
  },
  {
   "cell_type": "code",
   "execution_count": 2,
   "metadata": {},
   "outputs": [
    {
     "name": "stdout",
     "output_type": "stream",
     "text": [
      "(25, 10, 20)\n",
      "0.28897558569908144\n",
      "0.44341139290481807\n",
      "0.8741341829299927\n",
      "0.53730055398494\n",
      "0.20780547246244235\n"
     ]
    },
    {
     "name": "stderr",
     "output_type": "stream",
     "text": [
      "c:\\users\\jem\\source\\mikeio\\mikeio\\dataset.py:379: FutureWarning: property data is deprecated, use to_numpy() instead\n",
      "  warnings.warn(\n"
     ]
    }
   ],
   "source": [
    "dfs2file = \"../tests/testdata/eq.dfs2\"\n",
    "dfs2 = mikeio.open(dfs2file)\n",
    "ds = dfs2.read()\n",
    "data2 = ds.data\n",
    "print(data2[0].shape)\n",
    "print(np.nanmean(data2[0][:,0,0]))\n",
    "print(np.nanmean(data2[0][0,:,0]))\n",
    "print(np.nanmax(data2[0][:,0,0]))\n",
    "#\n",
    "s1, s2, s3 = data2[0].shape\n",
    "vec=np.reshape(data2[0][:,:,0],newshape=(s1*s2,1))\n",
    "print(np.nanmean(vec))\n",
    "print(np.nanstd(vec))"
   ]
  },
  {
   "cell_type": "code",
   "execution_count": 3,
   "metadata": {},
   "outputs": [],
   "source": [
    "s1, s2, s3 = data2[0].shape\n",
    "vec=np.reshape(data2[0][:,:,0],newshape=(s1*s2,1))"
   ]
  },
  {
   "cell_type": "markdown",
   "metadata": {},
   "source": [
    "## Example 1\n",
    "make y-average of dfs2 (keeping x-axis)"
   ]
  },
  {
   "cell_type": "code",
   "execution_count": 4,
   "metadata": {},
   "outputs": [
    {
     "name": "stdout",
     "output_type": "stream",
     "text": [
      "(25, 20)\n",
      "0.4434114098548889\n"
     ]
    }
   ],
   "source": [
    "dfs1file1 = \"../tests/testdata/eq_ax_x.dfs1\"\n",
    "mikeio.aggregator.dfs2todfs1(dfs2file, dfs1file1)\n",
    "dfs1 = mikeio.open(dfs1file1)\n",
    "ds1 = dfs1.read()\n",
    "data1 = ds1.data\n",
    "print(data1[0].shape)\n",
    "print(data1[0][0,0])"
   ]
  },
  {
   "cell_type": "markdown",
   "metadata": {},
   "source": [
    "## Example 2: other axis\n",
    "Take average instead over x-axis "
   ]
  },
  {
   "cell_type": "code",
   "execution_count": 5,
   "metadata": {},
   "outputs": [
    {
     "name": "stdout",
     "output_type": "stream",
     "text": [
      "(25, 10)\n",
      "0.5089341998100281\n"
     ]
    }
   ],
   "source": [
    "dfs1file2 = \"../tests/testdata/eq_ax_y.dfs1\"\n",
    "mikeio.aggregator.dfs2todfs1(dfs2file, dfs1file2, axis=2)\n",
    "dfs1 = mikeio.open(dfs1file2)\n",
    "ds1 = dfs1.read()\n",
    "data1 = ds1.data\n",
    "print(data1[0].shape)\n",
    "print(data1[0][0,0])"
   ]
  },
  {
   "cell_type": "markdown",
   "metadata": {},
   "source": [
    "## Example 3: max\n",
    "Take max instead over y-axis"
   ]
  },
  {
   "cell_type": "code",
   "execution_count": 6,
   "metadata": {},
   "outputs": [
    {
     "name": "stdout",
     "output_type": "stream",
     "text": [
      "(25, 10)\n",
      "0.5089341998100281\n"
     ]
    }
   ],
   "source": [
    "dfs1file3 = \"../tests/testdata/eq_ax_x_max.dfs1\"\n",
    "mikeio.aggregator.dfs2todfs1(dfs2file, dfs1file3, axis=1, func=np.nanmax)\n",
    "\n",
    "dfs1 = mikeio.open(dfs1file3)\n",
    "ds = dfs1.read()\n",
    "data1 = ds1.data\n",
    "print(data1[0].shape)\n",
    "print(data1[0][0,0])"
   ]
  },
  {
   "cell_type": "markdown",
   "metadata": {},
   "source": [
    "## Example 4: aggregate to dfs0\n",
    "Calc mean of each time step"
   ]
  },
  {
   "cell_type": "code",
   "execution_count": 7,
   "metadata": {},
   "outputs": [
    {
     "data": {
      "text/plain": [
       "<mikeio.Dataset>\n",
       "Dimensions: (time:25)\n",
       "Time: 2000-01-01 00:00:00 - 2000-01-02 00:00:00 (25 records)\n",
       "Items:\n",
       "  0:  Item 1 <Undefined> (undefined)"
      ]
     },
     "execution_count": 7,
     "metadata": {},
     "output_type": "execute_result"
    }
   ],
   "source": [
    "dfs0fileA = \"../tests/testdata/eq_mean.dfs0\"\n",
    "mikeio.aggregator.dfstodfs0(dfs2file, dfs0fileA)\n",
    "dfs0 = mikeio.open(dfs0fileA)\n",
    "ds = dfs0.read()\n",
    "ds"
   ]
  },
  {
   "cell_type": "markdown",
   "metadata": {},
   "source": [
    "## Example 5: calc standard deviation pr step"
   ]
  },
  {
   "cell_type": "code",
   "execution_count": 8,
   "metadata": {},
   "outputs": [
    {
     "data": {
      "text/plain": [
       "0.2997477352619171"
      ]
     },
     "execution_count": 8,
     "metadata": {},
     "output_type": "execute_result"
    }
   ],
   "source": [
    "dfs0fileB = \"../tests/testdata/eq_std.dfs0\"\n",
    "mikeio.aggregator.dfstodfs0(dfs2file, dfs0fileB, np.nanstd)\n",
    "dfs0 = mikeio.open(dfs0fileB)\n",
    "ds = dfs0.read()\n",
    "ds.data[0][0]"
   ]
  },
  {
   "cell_type": "markdown",
   "metadata": {},
   "source": [
    "## Clean up"
   ]
  },
  {
   "cell_type": "code",
   "execution_count": 9,
   "metadata": {},
   "outputs": [],
   "source": [
    "import os\n",
    "os.remove(dfs1file1)\n",
    "os.remove(dfs1file2)\n",
    "os.remove(dfs1file3)\n",
    "os.remove(dfs0fileA)\n",
    "os.remove(dfs0fileB)"
   ]
  }
 ],
 "metadata": {
  "interpreter": {
   "hash": "fa576ebcd40e010bdc0ae86b06ce09151f3424f9e9aed6893ff04f39a9299d89"
  },
  "kernelspec": {
   "display_name": "Python 3.8.10 64-bit ('base': conda)",
   "name": "python3"
  },
  "language_info": {
   "codemirror_mode": {
    "name": "ipython",
    "version": 3
   },
   "file_extension": ".py",
   "mimetype": "text/x-python",
   "name": "python",
   "nbconvert_exporter": "python",
   "pygments_lexer": "ipython3",
   "version": "3.8.10"
  }
 },
 "nbformat": 4,
 "nbformat_minor": 4
}
