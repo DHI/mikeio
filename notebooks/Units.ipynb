{
 "cells": [
  {
   "source": [
    "# EUM Types"
   ],
   "cell_type": "markdown",
   "metadata": {}
  },
  {
   "cell_type": "code",
   "execution_count": 1,
   "metadata": {},
   "outputs": [
    {
     "output_type": "execute_result",
     "data": {
      "text/plain": "Water Level"
     },
     "metadata": {},
     "execution_count": 1
    }
   ],
   "source": [
    "from mikeio.eum import EUMType\n",
    "\n",
    "EUMType.Water_Level"
   ]
  },
  {
   "cell_type": "code",
   "execution_count": 2,
   "metadata": {},
   "outputs": [
    {
     "output_type": "execute_result",
     "data": {
      "text/plain": "[meter,\n kilometer,\n centimeter,\n millimeter,\n feet,\n feet US,\n inch,\n inch US,\n mile,\n mile US,\n yard,\n yard US]"
     },
     "metadata": {},
     "execution_count": 2
    }
   ],
   "source": [
    "EUMType.Water_Level.units"
   ]
  },
  {
   "cell_type": "code",
   "execution_count": 3,
   "metadata": {},
   "outputs": [
    {
     "output_type": "execute_result",
     "data": {
      "text/plain": "[degree Celsius, degree Fahrenheit, degree Kelvin]"
     },
     "metadata": {},
     "execution_count": 3
    }
   ],
   "source": [
    "EUMType.Temperature.units"
   ]
  },
  {
   "cell_type": "code",
   "execution_count": 4,
   "metadata": {},
   "outputs": [
    {
     "output_type": "execute_result",
     "data": {
      "text/plain": "[Resistance factor,\n Spreading factor,\n Wind friction factor,\n Dimensionless factor,\n Dispersion factor,\n Friction factor,\n Erosion Coefficient Factor,\n Bioconcentration Factor,\n Yield Factor,\n Dispersion Velocity Factor,\n Decay Factor,\n Reduction Factor,\n Time step factor]"
     },
     "metadata": {},
     "execution_count": 4
    }
   ],
   "source": [
    "EUMType.search(\"factor\")"
   ]
  },
  {
   "cell_type": "code",
   "execution_count": 5,
   "metadata": {},
   "outputs": [
    {
     "output_type": "execute_result",
     "data": {
      "text/plain": "meter"
     },
     "metadata": {},
     "execution_count": 5
    }
   ],
   "source": [
    "from mikeio.eum import EUMUnit\n",
    "\n",
    "EUMUnit.meter"
   ]
  },
  {
   "source": [
    "# Time step"
   ],
   "cell_type": "markdown",
   "metadata": {}
  },
  {
   "cell_type": "code",
   "execution_count": 6,
   "metadata": {},
   "outputs": [
    {
     "output_type": "execute_result",
     "data": {
      "text/plain": "<TimeStepUnit.SECOND: 1400>"
     },
     "metadata": {},
     "execution_count": 6
    }
   ],
   "source": [
    "from mikeio.eum import TimeStepUnit\n",
    "\n",
    "TimeStepUnit.SECOND"
   ]
  }
 ],
 "metadata": {
  "kernelspec": {
   "display_name": "Python 3",
   "language": "python",
   "name": "python3"
  },
  "language_info": {
   "codemirror_mode": {
    "name": "ipython",
    "version": 3
   },
   "file_extension": ".py",
   "mimetype": "text/x-python",
   "name": "python",
   "nbconvert_exporter": "python",
   "pygments_lexer": "ipython3",
   "version": "3.8.3-final"
  }
 },
 "nbformat": 4,
 "nbformat_minor": 4
}