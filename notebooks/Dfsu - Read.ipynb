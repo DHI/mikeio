{
 "cells": [
  {
   "cell_type": "code",
   "execution_count": 1,
   "metadata": {
    "tags": []
   },
   "outputs": [
    {
     "data": {
      "text/plain": [
       "Dfsu2D\n",
       "Number of elements: 884\n",
       "Number of nodes: 529\n",
       "Projection: UTM-29\n",
       "Items:\n",
       "  0:  Surface elevation <Surface Elevation> (meter)\n",
       "  1:  U velocity <u velocity component> (meter per sec)\n",
       "  2:  V velocity <v velocity component> (meter per sec)\n",
       "  3:  Current speed <Current Speed> (meter per sec)\n",
       "Time: 9 steps with dt=9000.0s\n",
       "      1985-08-06 07:00:00 -- 1985-08-07 03:00:00"
      ]
     },
     "execution_count": 1,
     "metadata": {},
     "output_type": "execute_result"
    }
   ],
   "source": [
    "from mikeio import Dfsu\n",
    "\n",
    "filename = \"../tests/testdata/HD2D.dfsu\"\n",
    "dfs = Dfsu(filename)\n",
    "\n",
    "dfs"
   ]
  },
  {
   "cell_type": "code",
   "execution_count": 2,
   "metadata": {},
   "outputs": [
    {
     "data": {
      "text/plain": [
       "<mikeio.Dataset>\n",
       "Dimensions: (9, 884)\n",
       "Time: 1985-08-06 07:00:00 - 1985-08-07 03:00:00\n",
       "Items:\n",
       "  0:  Surface elevation <Surface Elevation> (meter)\n",
       "  1:  Current speed <Current Speed> (meter per sec)"
      ]
     },
     "execution_count": 2,
     "metadata": {},
     "output_type": "execute_result"
    }
   ],
   "source": [
    "ds = dfs.read([\"Surface elevation\",\"Current speed\"]) # to read some variables\n",
    "ds"
   ]
  },
  {
   "cell_type": "code",
   "execution_count": 3,
   "metadata": {},
   "outputs": [
    {
     "name": "stderr",
     "output_type": "stream",
     "text": [
      "100%|██████████| 9/9 [00:00<00:00, 8998.51it/s]\n"
     ]
    }
   ],
   "source": [
    "Dfsu.show_progress = True # Turn on progress bar, useful to get progress for long-running tasks\n",
    "ds = dfs.read()"
   ]
  },
  {
   "cell_type": "code",
   "execution_count": 4,
   "metadata": {},
   "outputs": [
    {
     "data": {
      "text/html": [
       "<div>\n",
       "<style scoped>\n",
       "    .dataframe tbody tr th:only-of-type {\n",
       "        vertical-align: middle;\n",
       "    }\n",
       "\n",
       "    .dataframe tbody tr th {\n",
       "        vertical-align: top;\n",
       "    }\n",
       "\n",
       "    .dataframe thead th {\n",
       "        text-align: right;\n",
       "    }\n",
       "</style>\n",
       "<table border=\"1\" class=\"dataframe\">\n",
       "  <thead>\n",
       "    <tr style=\"text-align: right;\">\n",
       "      <th></th>\n",
       "      <th>Surface elevation</th>\n",
       "      <th>U velocity</th>\n",
       "      <th>V velocity</th>\n",
       "      <th>Current speed</th>\n",
       "    </tr>\n",
       "  </thead>\n",
       "  <tbody>\n",
       "    <tr>\n",
       "      <th>count</th>\n",
       "      <td>7956.000000</td>\n",
       "      <td>7956.000000</td>\n",
       "      <td>7956.000000</td>\n",
       "      <td>7956.000000</td>\n",
       "    </tr>\n",
       "    <tr>\n",
       "      <th>mean</th>\n",
       "      <td>0.034152</td>\n",
       "      <td>-0.027504</td>\n",
       "      <td>0.051639</td>\n",
       "      <td>0.073658</td>\n",
       "    </tr>\n",
       "    <tr>\n",
       "      <th>std</th>\n",
       "      <td>0.534890</td>\n",
       "      <td>0.088108</td>\n",
       "      <td>0.092440</td>\n",
       "      <td>0.119606</td>\n",
       "    </tr>\n",
       "    <tr>\n",
       "      <th>min</th>\n",
       "      <td>-0.758378</td>\n",
       "      <td>-1.280627</td>\n",
       "      <td>-0.811804</td>\n",
       "      <td>0.000082</td>\n",
       "    </tr>\n",
       "    <tr>\n",
       "      <th>25%</th>\n",
       "      <td>-0.579662</td>\n",
       "      <td>-0.022283</td>\n",
       "      <td>0.019642</td>\n",
       "      <td>0.029917</td>\n",
       "    </tr>\n",
       "    <tr>\n",
       "      <th>50%</th>\n",
       "      <td>0.101636</td>\n",
       "      <td>-0.011019</td>\n",
       "      <td>0.041748</td>\n",
       "      <td>0.046848</td>\n",
       "    </tr>\n",
       "    <tr>\n",
       "      <th>75%</th>\n",
       "      <td>0.462013</td>\n",
       "      <td>0.004649</td>\n",
       "      <td>0.062974</td>\n",
       "      <td>0.070259</td>\n",
       "    </tr>\n",
       "    <tr>\n",
       "      <th>max</th>\n",
       "      <td>1.172707</td>\n",
       "      <td>0.056265</td>\n",
       "      <td>1.518996</td>\n",
       "      <td>1.714988</td>\n",
       "    </tr>\n",
       "  </tbody>\n",
       "</table>\n",
       "</div>"
      ],
      "text/plain": [
       "       Surface elevation   U velocity   V velocity  Current speed\n",
       "count        7956.000000  7956.000000  7956.000000    7956.000000\n",
       "mean            0.034152    -0.027504     0.051639       0.073658\n",
       "std             0.534890     0.088108     0.092440       0.119606\n",
       "min            -0.758378    -1.280627    -0.811804       0.000082\n",
       "25%            -0.579662    -0.022283     0.019642       0.029917\n",
       "50%             0.101636    -0.011019     0.041748       0.046848\n",
       "75%             0.462013     0.004649     0.062974       0.070259\n",
       "max             1.172707     0.056265     1.518996       1.714988"
      ]
     },
     "execution_count": 4,
     "metadata": {},
     "output_type": "execute_result"
    }
   ],
   "source": [
    "ds.describe()"
   ]
  },
  {
   "cell_type": "markdown",
   "metadata": {},
   "source": [
    "Find which element is nearest to POI."
   ]
  },
  {
   "cell_type": "code",
   "execution_count": 5,
   "metadata": {},
   "outputs": [],
   "source": [
    "idx = dfs.find_nearest_elements(606200, 6905480)"
   ]
  },
  {
   "cell_type": "markdown",
   "metadata": {},
   "source": [
    "Extract a subset of the dataset from this element. (Discrete values, no interpolation)"
   ]
  },
  {
   "cell_type": "code",
   "execution_count": 6,
   "metadata": {},
   "outputs": [
    {
     "data": {
      "text/plain": [
       "<mikeio.Dataset>\n",
       "Dimensions: (9,)\n",
       "Time: 1985-08-06 07:00:00 - 1985-08-07 03:00:00\n",
       "Items:\n",
       "  0:  Surface elevation <Surface Elevation> (meter)\n",
       "  1:  U velocity <u velocity component> (meter per sec)\n",
       "  2:  V velocity <v velocity component> (meter per sec)\n",
       "  3:  Current speed <Current Speed> (meter per sec)"
      ]
     },
     "execution_count": 6,
     "metadata": {},
     "output_type": "execute_result"
    }
   ],
   "source": [
    "selds = ds.isel(idx=idx)\n",
    "selds"
   ]
  },
  {
   "cell_type": "markdown",
   "metadata": {},
   "source": [
    "Convert to a dataframe, for convenience."
   ]
  },
  {
   "cell_type": "code",
   "execution_count": 7,
   "metadata": {},
   "outputs": [
    {
     "data": {
      "text/html": [
       "<div>\n",
       "<style scoped>\n",
       "    .dataframe tbody tr th:only-of-type {\n",
       "        vertical-align: middle;\n",
       "    }\n",
       "\n",
       "    .dataframe tbody tr th {\n",
       "        vertical-align: top;\n",
       "    }\n",
       "\n",
       "    .dataframe thead th {\n",
       "        text-align: right;\n",
       "    }\n",
       "</style>\n",
       "<table border=\"1\" class=\"dataframe\">\n",
       "  <thead>\n",
       "    <tr style=\"text-align: right;\">\n",
       "      <th></th>\n",
       "      <th>Surface elevation</th>\n",
       "      <th>U velocity</th>\n",
       "      <th>V velocity</th>\n",
       "      <th>Current speed</th>\n",
       "    </tr>\n",
       "  </thead>\n",
       "  <tbody>\n",
       "    <tr>\n",
       "      <th>1985-08-06 07:00:00</th>\n",
       "      <td>0.459460</td>\n",
       "      <td>0.006372</td>\n",
       "      <td>-0.007143</td>\n",
       "      <td>0.009572</td>\n",
       "    </tr>\n",
       "    <tr>\n",
       "      <th>1985-08-06 09:30:00</th>\n",
       "      <td>0.806965</td>\n",
       "      <td>0.010517</td>\n",
       "      <td>0.003438</td>\n",
       "      <td>0.011064</td>\n",
       "    </tr>\n",
       "    <tr>\n",
       "      <th>1985-08-06 12:00:00</th>\n",
       "      <td>0.100285</td>\n",
       "      <td>0.011300</td>\n",
       "      <td>0.012926</td>\n",
       "      <td>0.017169</td>\n",
       "    </tr>\n",
       "    <tr>\n",
       "      <th>1985-08-06 14:30:00</th>\n",
       "      <td>-0.727009</td>\n",
       "      <td>0.010402</td>\n",
       "      <td>0.010033</td>\n",
       "      <td>0.014452</td>\n",
       "    </tr>\n",
       "    <tr>\n",
       "      <th>1985-08-06 17:00:00</th>\n",
       "      <td>-0.579541</td>\n",
       "      <td>0.007293</td>\n",
       "      <td>-0.000902</td>\n",
       "      <td>0.007349</td>\n",
       "    </tr>\n",
       "  </tbody>\n",
       "</table>\n",
       "</div>"
      ],
      "text/plain": [
       "                     Surface elevation  U velocity  V velocity  Current speed\n",
       "1985-08-06 07:00:00           0.459460    0.006372   -0.007143       0.009572\n",
       "1985-08-06 09:30:00           0.806965    0.010517    0.003438       0.011064\n",
       "1985-08-06 12:00:00           0.100285    0.011300    0.012926       0.017169\n",
       "1985-08-06 14:30:00          -0.727009    0.010402    0.010033       0.014452\n",
       "1985-08-06 17:00:00          -0.579541    0.007293   -0.000902       0.007349"
      ]
     },
     "execution_count": 7,
     "metadata": {},
     "output_type": "execute_result"
    }
   ],
   "source": [
    "df = selds.to_dataframe()\n",
    "df.head()"
   ]
  },
  {
   "cell_type": "code",
   "execution_count": 8,
   "metadata": {},
   "outputs": [
    {
     "data": {
      "text/plain": [
       "<AxesSubplot:>"
      ]
     },
     "execution_count": 8,
     "metadata": {},
     "output_type": "execute_result"
    },
    {
     "data": {
      "image/png": "[encoded data removed]",
      "text/plain": [
       "<Figure size 432x288 with 1 Axes>"
      ]
     },
     "metadata": {
      "needs_background": "light"
     },
     "output_type": "display_data"
    }
   ],
   "source": [
    "df.plot()"
   ]
  },
  {
   "cell_type": "markdown",
   "metadata": {},
   "source": [
    "## Other ways to subset data "
   ]
  },
  {
   "cell_type": "markdown",
   "metadata": {},
   "source": [
    "Assume that we interested in these 3 points only"
   ]
  },
  {
   "cell_type": "code",
   "execution_count": 9,
   "metadata": {},
   "outputs": [],
   "source": [
    "pt1 = (606200, 6905480)\n",
    "pt2 = (606300, 6905410)\n",
    "pt3 = (606400, 6905520)\n",
    "pts_x = [pt1[0], pt2[0], pt3[0]]\n",
    "pts_y = [pt1[1], pt2[1], pt3[1]]\n",
    "elem_ids = dfs.find_nearest_elements(pts_x, pts_y)"
   ]
  },
  {
   "cell_type": "markdown",
   "metadata": {},
   "source": [
    "We can use these element ids either when we select the data from the complete dataset using the method isel() as shown above or already when we read the data from file (particular useful for files larger than memory)"
   ]
  },
  {
   "cell_type": "code",
   "execution_count": 10,
   "metadata": {},
   "outputs": [
    {
     "name": "stderr",
     "output_type": "stream",
     "text": [
      "100%|██████████| 9/9 [00:00<00:00, 4493.36it/s]\n"
     ]
    },
    {
     "data": {
      "text/plain": [
       "<mikeio.Dataset>\n",
       "Dimensions: (9, 3)\n",
       "Time: 1985-08-06 07:00:00 - 1985-08-07 03:00:00\n",
       "Items:\n",
       "  0:  Surface elevation <Surface Elevation> (meter)\n",
       "  1:  U velocity <u velocity component> (meter per sec)\n",
       "  2:  V velocity <v velocity component> (meter per sec)\n",
       "  3:  Current speed <Current Speed> (meter per sec)"
      ]
     },
     "execution_count": 10,
     "metadata": {},
     "output_type": "execute_result"
    }
   ],
   "source": [
    "ds_pts = dfs.read(elements=elem_ids)\n",
    "ds_pts"
   ]
  },
  {
   "cell_type": "markdown",
   "metadata": {},
   "source": [
    "### Select area\n",
    "Let's take the area North of y=6905480"
   ]
  },
  {
   "cell_type": "code",
   "execution_count": 11,
   "metadata": {},
   "outputs": [],
   "source": [
    "yc = dfs.element_coordinates[:,1]"
   ]
  },
  {
   "cell_type": "code",
   "execution_count": 12,
   "metadata": {},
   "outputs": [],
   "source": [
    "elem_ids = dfs.element_ids[yc>6905480] "
   ]
  },
  {
   "cell_type": "markdown",
   "metadata": {},
   "source": [
    "And find the maximum average current speed in this area in the last time step"
   ]
  },
  {
   "cell_type": "code",
   "execution_count": 13,
   "metadata": {
    "tags": []
   },
   "outputs": [
    {
     "name": "stdout",
     "output_type": "stream",
     "text": [
      "U velocity <u velocity component> (meter per sec)\n",
      "Max current speed in area is found in [ 606674.6 6905718.3] and is 0.039m/s\n"
     ]
    }
   ],
   "source": [
    "item_num = 1\n",
    "print(ds.items[item_num])\n",
    "subset = ds.data[1][:,elem_ids] \n",
    "subset_timeavg = subset.mean(axis=0) \n",
    "idx = subset_timeavg.argmax()\n",
    "coords = dfs.element_coordinates[idx,0:2].round(1)\n",
    "print(f'Max current speed in area is found in {coords} and is {subset_timeavg[idx]:.3f}m/s')"
   ]
  },
  {
   "cell_type": "markdown",
   "metadata": {},
   "source": [
    "Let us save the time averaged subset to a dfsu file. "
   ]
  },
  {
   "cell_type": "code",
   "execution_count": 14,
   "metadata": {
    "tags": []
   },
   "outputs": [
    {
     "name": "stderr",
     "output_type": "stream",
     "text": [
      "c:\\users\\jan\\code\\mikeio\\mikeio\\dfsu.py:2709: FutureWarning: setting items is deprecated, please supply data in the form of a Dataset\n",
      "  warnings.warn(\n",
      "c:\\users\\jan\\code\\mikeio\\mikeio\\dfsu.py:2715: FutureWarning: supplying data as a list of numpy arrays is deprecated, please supply data in the form of a Dataset\n",
      "  warnings.warn(\n",
      "c:\\users\\jan\\code\\mikeio\\mikeio\\dfsu.py:2752: UserWarning: No start time supplied. Using start time from source: 1985-08-06 07:00:00 as start time.\n",
      "  warnings.warn(\n",
      "100%|██████████| 1/1 [00:00<00:00, 1005.59it/s]\n"
     ]
    }
   ],
   "source": [
    "outfilename1 = \"HD2D_north.dfsu\"\n",
    "data = []\n",
    "data.append(subset_timeavg.reshape(1,-1))\n",
    "items = ds.items[item_num]\n",
    "dfs.write(outfilename1, data, items=[items], elements=elem_ids)"
   ]
  },
  {
   "cell_type": "markdown",
   "metadata": {},
   "source": [
    "# Create a new dfsu file\n",
    "\n",
    "* Subset of items\n",
    "* Renamed variables\n",
    "\n",
    "First inspect the source file:"
   ]
  },
  {
   "cell_type": "code",
   "execution_count": 23,
   "metadata": {},
   "outputs": [
    {
     "name": "stderr",
     "output_type": "stream",
     "text": [
      "100%|██████████| 9/9 [00:00<00:00, 1827.94it/s]\n"
     ]
    },
    {
     "data": {
      "text/plain": [
       "<mikeio.Dataset>\n",
       "Dimensions: (9, 884)\n",
       "Time: 1985-08-06 07:00:00 - 1985-08-07 03:00:00\n",
       "Items:\n",
       "  0:  Surface elevation <Surface Elevation> (meter)\n",
       "  1:  U velocity <u velocity component> (meter per sec)\n",
       "  2:  V velocity <v velocity component> (meter per sec)\n",
       "  3:  Current speed <Current Speed> (meter per sec)"
      ]
     },
     "execution_count": 23,
     "metadata": {},
     "output_type": "execute_result"
    }
   ],
   "source": [
    "ds = dfs.read()\n",
    "ds"
   ]
  },
  {
   "cell_type": "code",
   "execution_count": 21,
   "metadata": {},
   "outputs": [
    {
     "data": {
      "text/plain": [
       "<mikeio.Dataset>\n",
       "Dimensions: (9, 884)\n",
       "Time: 1985-08-06 07:00:00 - 1985-08-07 03:00:00\n",
       "Items:\n",
       "  0:  eastward_sea_water_velocity <u velocity component> (meter per sec)\n",
       "  1:  northward_sea_water_velocity <v velocity component> (meter per sec)"
      ]
     },
     "execution_count": 21,
     "metadata": {},
     "output_type": "execute_result"
    }
   ],
   "source": [
    "from mikeio.eum import ItemInfo, EUMType\n",
    "from mikeio import Dataset\n",
    "\n",
    "sourcefilename = filename\n",
    "outfilename2 = \"HD2D_selected.dfsu\"\n",
    "\n",
    "newds = ds[[\"U velocity\", \"V velocity\"]].rename({'U velocity': 'eastward_sea_water_velocity',\n",
    "                                                 'V velocity': 'northward_sea_water_velocity'})\n",
    "newds\n"
   ]
  },
  {
   "cell_type": "code",
   "execution_count": 22,
   "metadata": {},
   "outputs": [
    {
     "name": "stderr",
     "output_type": "stream",
     "text": [
      "100%|██████████| 9/9 [00:00<00:00, 9413.65it/s]\n"
     ]
    }
   ],
   "source": [
    "dfs.write(outfilename2, newds)"
   ]
  },
  {
   "cell_type": "markdown",
   "metadata": {},
   "source": [
    "Read the newly created file to verify the contents."
   ]
  },
  {
   "cell_type": "code",
   "execution_count": 24,
   "metadata": {},
   "outputs": [
    {
     "name": "stderr",
     "output_type": "stream",
     "text": [
      "100%|██████████| 9/9 [00:00<00:00, 8964.32it/s]\n"
     ]
    },
    {
     "data": {
      "text/plain": [
       "<mikeio.Dataset>\n",
       "Dimensions: (9, 884)\n",
       "Time: 1985-08-06 07:00:00 - 1985-08-07 03:00:00\n",
       "Items:\n",
       "  0:  eastward_sea_water_velocity <u velocity component> (meter per sec)\n",
       "  1:  northward_sea_water_velocity <v velocity component> (meter per sec)"
      ]
     },
     "execution_count": 24,
     "metadata": {},
     "output_type": "execute_result"
    }
   ],
   "source": [
    "newdfs = Dfsu(outfilename2)\n",
    "\n",
    "newds2 = newdfs.read()\n",
    "newds2"
   ]
  },
  {
   "cell_type": "markdown",
   "metadata": {},
   "source": [
    "# Write mesh from dfsu file\n",
    "Don't you have the original mesh? No problem - you can re-create it from the dfsu file... "
   ]
  },
  {
   "cell_type": "code",
   "execution_count": 25,
   "metadata": {},
   "outputs": [],
   "source": [
    "outmesh = 'mesh_from_HD2D.mesh'\n",
    "dfs.to_mesh(outmesh)"
   ]
  },
  {
   "cell_type": "markdown",
   "metadata": {},
   "source": [
    "# Clean up"
   ]
  },
  {
   "cell_type": "code",
   "execution_count": 26,
   "metadata": {},
   "outputs": [],
   "source": [
    "import os\n",
    "os.remove(outfilename1)\n",
    "os.remove(outfilename2)\n",
    "os.remove(outmesh)"
   ]
  },
  {
   "cell_type": "code",
   "execution_count": null,
   "metadata": {},
   "outputs": [],
   "source": []
  }
 ],
 "metadata": {
  "interpreter": {
   "hash": "fa576ebcd40e010bdc0ae86b06ce09151f3424f9e9aed6893ff04f39a9299d89"
  },
  "kernelspec": {
   "display_name": "Python 3 (ipykernel)",
   "language": "python",
   "name": "python3"
  },
  "language_info": {
   "codemirror_mode": {
    "name": "ipython",
    "version": 3
   },
   "file_extension": ".py",
   "mimetype": "text/x-python",
   "name": "python",
   "nbconvert_exporter": "python",
   "pygments_lexer": "ipython3",
   "version": "3.9.6"
  }
 },
 "nbformat": 4,
 "nbformat_minor": 4
}
