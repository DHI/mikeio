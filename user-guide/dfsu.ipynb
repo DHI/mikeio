{
  "cells": [
    {
      "cell_type": "markdown",
      "metadata": {},
      "source": [
        "# Dfsu\n",
        "\n",
        "Dfsu and mesh files are both flexible mesh file formats used by MIKE\n",
        "21/3 engines. The .mesh file is an ASCII file for storing the flexible\n",
        "mesh geometry. The .dfsu file is a binary dfs file with data on this\n",
        "mesh. The mesh geometry is available in a .dfsu file as static items.\n",
        "\n",
        "For a detailed description of the .mesh and .dfsu file specification see\n",
        "the [flexible file format\n",
        "documentation](https://manuals.mikepoweredbydhi.help/2024/General/FM_FileSpecification.pdf).\n",
        "\n",
        "## The flexible mesh\n",
        "\n",
        "The mesh geometry in a .mesh or a .dfsu file consists of a list of nodes\n",
        "and a list of elements.\n",
        "\n",
        "Each node has:\n",
        "\n",
        "-   Node id\n",
        "-   x,y,z coordinates\n",
        "-   Code (0 for internal water points, 1 for land, \\>1 for open\n",
        "    boundary)\n",
        "\n",
        "Each element has:\n",
        "\n",
        "-   Element id\n",
        "-   Element table; specifies for each element the nodes that defines the\n",
        "    element. (the number of nodes defines the type: triangular,\n",
        "    quadrilateral, prism etc.)\n",
        "\n",
        "> **Note**\n",
        ">\n",
        "> In MIKE Zero, node ids, element ids and layer ids are 1-based. In MIKE\n",
        "> IO, all ids are **0-based** following standard Python indexing. That\n",
        "> means, as an example, that when finding the element closest to a point\n",
        "> its id will be 1 lower in MIKE IO compared to examining the file in\n",
        "> MIKE Zero.\n",
        "\n",
        "## MIKE IO Flexible Mesh Geometry\n",
        "\n",
        "MIKE IO has Flexible Mesh Geometry classes,\n",
        "e.g. [`GeometryFM2D`](../api/spatial.GeometryFM2D.html#mikeio.spatial.GeometryFM2D),\n",
        "containing the list of node coordinates and the element table which\n",
        "defines the mesh, as well as a number of derived properties\n",
        "(e.g. element coordinates) and methods making it convenient to work with\n",
        "the mesh.\n",
        "\n",
        "| Property | Description |\n",
        "|------------------------------|------------------------------------------|\n",
        "| `n_nodes` | Number of nodes |\n",
        "| `node_coordinates` | Coordinates (x,y,z) of all nodes |\n",
        "| `codes` | Codes of all nodes (0:water, 1:land, \\>=2:open boundary) |\n",
        "| `boundary_polylines` | Lists of closed polylines defining domain outline |\n",
        "| `n_elements` | Number of elements |\n",
        "| `element_coordinates` | Center coordinates of each element |\n",
        "| `element_table` | Element to node connectivity |\n",
        "| `max_nodes_per_element` | The maximum number of nodes for an element |\n",
        "| `is_tri_only` | Does the mesh consist of triangles only? |\n",
        "| `projection_string` | The projection string |\n",
        "| `is_geo` | Are coordinates geographical (LONG/LAT)? |\n",
        "| `is_local_coordinates` | Are coordinates relative (NON-UTM)? |\n",
        "| `type_name` | Type name, e.g. Dfsu2D |\n",
        "\n",
        "| Method | Description |\n",
        "|------------------------------|------------------------------------------|\n",
        "| `contains()` | test if a list of points are contained by mesh |\n",
        "| `find_index()` | Find index of elements containing points/area |\n",
        "| `isel()` | Get subset geometry for list of indicies |\n",
        "| `find_nearest_points()` | Find index of nearest elements (optionally for a list) |\n",
        "| `plot` | Plot the geometry |\n",
        "| `get_overset_grid()` | Get a Grid2D covering the domain |\n",
        "| `to_shapely()` | Export mesh as shapely MultiPolygon |\n",
        "| `get_element_area()` | Calculate the horizontal area of each element |\n",
        "\n",
        "These properties and methods are accessible from the geometry, but also\n",
        "from the Mesh/Dfsu object.\n",
        "\n",
        "If a .dfsu file is *read* with\n",
        "[`mikeio.read`](../api/read.html#mikeio.read), the returned Dataset ds\n",
        "will contain a Flexible Mesh Geometry `geometry`. If a .dfsu or a .mesh\n",
        "file is *opened* with [`mikeio.open`](../api/open.html#mikeio.open), the\n",
        "returned object will also contain a Flexible Mesh Geometry `geometry`."
      ],
      "id": "4b0ffbe4-bb27-4e57-89cf-5d6e31e8b308"
    },
    {
      "cell_type": "code",
      "execution_count": 1,
      "metadata": {},
      "outputs": [
        {
          "output_type": "display_data",
          "metadata": {},
          "data": {
            "text/plain": [
              "Flexible Mesh Geometry: Dfsu2D\n",
              "number of nodes: 2046\n",
              "number of elements: 3612\n",
              "projection: UTM-33"
            ]
          }
        }
      ],
      "source": [
        "import mikeio\n",
        "\n",
        "ds = mikeio.read(\"../data/oresundHD_run1.dfsu\")\n",
        "ds.geometry"
      ],
      "id": "d5055d0f"
    },
    {
      "cell_type": "code",
      "execution_count": 2,
      "metadata": {},
      "outputs": [
        {
          "output_type": "display_data",
          "metadata": {},
          "data": {
            "text/plain": [
              "Flexible Mesh Geometry: Dfsu2D\n",
              "number of nodes: 2046\n",
              "number of elements: 3612\n",
              "projection: UTM-33"
            ]
          }
        }
      ],
      "source": [
        "dfs = mikeio.open(\"../data/oresundHD_run1.dfsu\")\n",
        "dfs.geometry"
      ],
      "id": "e7467b6b"
    },
    {
      "cell_type": "markdown",
      "metadata": {},
      "source": [
        "## Common Dfsu and Mesh properties\n",
        "\n",
        "MIKE IO has Dfsu classes for .dfsu files and a [Mesh\n",
        "class](../api/Mesh.html#mikeio.Mesh) for .mesh files which both have a\n",
        "[`mikeio.spatial.GeometryFM2D`](../api/spatial.GeometryFM2D.html#mikeio.spatial.GeometryFM2D)/[`mikeio.spatial.GeometryFM3D`](../api/spatial.GeometryFM3D.html#mikeio.spatial.GeometryFM3D)\n",
        "accessible through the ´geometry´ accessor.\n",
        "\n",
        "## Dfsu types\n",
        "\n",
        "The following dfsu file types are supported by MIKE IO.\n",
        "\n",
        "-   2D horizontal.\n",
        "-   3D layered.\n",
        "-   2D vertical profile - a vertical slice through a 3D layered file.\n",
        "-   1D vertical column - a vertical dfs1 file and is produced by taking\n",
        "    out one column of a 3D layered file.\n",
        "-   3D/4D SW, two horizontal dimensions and 1-2 spectral dimensions.\n",
        "    Output from MIKE 21 SW.\n",
        "\n",
        "When a dfsu file is opened with mikeio.open() the returned dfs object\n",
        "will be a specialized class\n",
        "[Dfsu2DH](../api/dfsu.Dfsu2DH.html#mikeio.dfsu.Dfsu2DH),\n",
        "[Dfsu3D](../api/dfsu.Dfsu3D.html#mikeio.dfsu.Dfsu3D),\n",
        "[Dfsu2DV](../api/dfsu.Dfsu2DV.html#mikeio.dfsu.Dfsu2DV), or\n",
        "[DfsuSpectral](../api/dfsu.DfsuSpectral.html#mikeio.dfsu.DfsuSpectral)\n",
        "according to the type of dfsu file.\n",
        "\n",
        "The layered files (3d, 2d/1d vertical) can have both sigma- and z-layers\n",
        "or only sigma-layers.\n",
        "\n",
        "In most cases values are stored in cell centers and vertical (z)\n",
        "information in nodes, but the following values types exists:\n",
        "\n",
        "-   Standard value type, storing values on elements and/or nodes. This\n",
        "    is the default type.\n",
        "-   Face value type, storing values on element faces. This is used\n",
        "    e.g. for HD decoupling files, to store the discharge between\n",
        "    elements.\n",
        "-   Spectral value type, for each node or element, storing vales for a\n",
        "    number of frequencies and/or directions. This is the file type for\n",
        "    spectral output from the MIKE 21 SW."
      ],
      "id": "bf2bee92-428d-4143-a45b-46048548f5ab"
    }
  ],
  "nbformat": 4,
  "nbformat_minor": 5,
  "metadata": {
    "kernelspec": {
      "name": "python3",
      "display_name": "Python 3 (ipykernel)",
      "language": "python",
      "path": "/opt/hostedtoolcache/Python/3.12.7/x64/share/jupyter/kernels/python3"
    },
    "language_info": {
      "name": "python",
      "codemirror_mode": {
        "name": "ipython",
        "version": "3"
      },
      "file_extension": ".py",
      "mimetype": "text/x-python",
      "nbconvert_exporter": "python",
      "pygments_lexer": "ipython3",
      "version": "3.12.7"
    }
  }
}