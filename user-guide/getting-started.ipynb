{
  "cells": [
    {
      "cell_type": "markdown",
      "metadata": {},
      "source": [
        "# Getting started\n",
        "\n",
        "##  Dataset\n",
        "\n",
        "The [Dataset](dataset.qmd) is the common MIKE IO data structure for data\n",
        "read from dfs files. The [`mikeio.read`](../api/read.html#mikeio.read)\n",
        "method returns a Dataset with a [DataArray](dataarray.qmd) for each\n",
        "item.\n",
        "\n",
        "Each DataArray have the following properties:\n",
        "\n",
        "-   **item** - an\n",
        "    [`mikeio.ItemInfo`](../api/ItemInfo.html#mikeio.ItemInfo) with name,\n",
        "    type and unit\n",
        "-   **time** - a\n",
        "    [`pandas.DatetimeIndex`](https://pandas.pydata.org/docs/reference/api/pandas.DatetimeIndex.html#pandas.DatetimeIndex)\n",
        "    with the time instances of the data\n",
        "-   **geometry** - a Geometry object with the spatial description of the\n",
        "    data\n",
        "-   **values** - a\n",
        "    [`numpy.ndarray`](https://numpy.org/doc/stable/reference/generated/numpy.ndarray.html#numpy.ndarray)\n",
        "\n",
        "##  Types and units\n",
        "\n",
        "The dfs items in MIKE IO are represented by the [ItemInfo\n",
        "class](../api/ItemInfo.html#mikeio.ItemInfo). An ItemInfo consists of:\n",
        "\n",
        "-   name - a user-defined string\n",
        "-   type - an [EUMType](../api/EUMType.html#mikeio.EUMType)\n",
        "-   unit - an [EUMUnit](../api/EUMUnit.html#mikeio.EUMUnit)"
      ],
      "id": "5666ad28-9be8-4e3d-8f0c-80bf9eaf4a76"
    },
    {
      "cell_type": "code",
      "execution_count": 1,
      "metadata": {},
      "outputs": [
        {
          "output_type": "display_data",
          "metadata": {},
          "data": {
            "text/plain": [
              "Viken <Water Level> (meter)"
            ]
          }
        }
      ],
      "source": [
        "import mikeio\n",
        "\n",
        "mikeio.ItemInfo(\"Viken\", mikeio.EUMType.Water_Level)"
      ],
      "id": "75af8e8a"
    },
    {
      "cell_type": "code",
      "execution_count": 2,
      "metadata": {},
      "outputs": [
        {
          "output_type": "display_data",
          "metadata": {},
          "data": {
            "text/plain": [
              "Wind speed <Wind speed> (meter per sec)"
            ]
          }
        }
      ],
      "source": [
        "mikeio.ItemInfo(mikeio.EUMType.Wind_speed)"
      ],
      "id": "e6d265c3"
    },
    {
      "cell_type": "markdown",
      "metadata": {},
      "source": [
        "##  Dfs0\n",
        "\n",
        "A dfs0 file is also called a time series file.\n",
        "\n",
        "Read Dfs0 to Dataset:"
      ],
      "id": "3dcaf1de-b0ba-4489-8b29-5c56ad6626ec"
    },
    {
      "cell_type": "code",
      "execution_count": 3,
      "metadata": {},
      "outputs": [
        {
          "output_type": "display_data",
          "metadata": {},
          "data": {
            "text/plain": [
              "<mikeio.Dataset>\n",
              "dims: (time:744)\n",
              "time: 2017-10-27 00:00:00 - 2017-10-29 18:00:00 (744 non-equidistant records)\n",
              "geometry: GeometryUndefined()\n",
              "items:\n",
              "  0:  State 1Sign. Wave Height <Significant wave height> (meter)\n",
              "  1:  State 2Sign. Wave Height <Significant wave height> (meter)\n",
              "  2:  Mean StateSign. Wave Height <Significant wave height> (meter)\n",
              "  3:  MeasurementSign. Wave Height <Significant wave height> (meter)"
            ]
          }
        }
      ],
      "source": [
        "ds = mikeio.read(\"../data/da_diagnostic.dfs0\")\n",
        "ds"
      ],
      "id": "17386614"
    },
    {
      "cell_type": "markdown",
      "metadata": {},
      "source": [
        "Read more on the [Dfs0 page](dfs0.qmd).\n",
        "\n",
        "Convert the timeseries dataset to a pandas DataFrame:"
      ],
      "id": "1f2a0302-23f6-4e2c-aa96-09c4041d3956"
    },
    {
      "cell_type": "code",
      "execution_count": 4,
      "metadata": {},
      "outputs": [
        {
          "output_type": "display_data",
          "metadata": {},
          "data": {
            "text/html": [
              "\n",
              "</div>"
            ]
          }
        }
      ],
      "source": [
        "df = ds.to_dataframe()\n",
        "df.head()"
      ],
      "id": "999341ea"
    },
    {
      "cell_type": "markdown",
      "metadata": {},
      "source": [
        "##  Dfs2\n",
        "\n",
        "A dfs2 file is also called a grid series file. Values in a dfs2 file are\n",
        "‘element based’, i.e. values are defined in the centre of each grid\n",
        "cell."
      ],
      "id": "5745f309-ece8-4dba-bea1-e77d8074f5e7"
    },
    {
      "cell_type": "code",
      "execution_count": 5,
      "metadata": {},
      "outputs": [
        {
          "output_type": "display_data",
          "metadata": {},
          "data": {
            "text/plain": [
              "<mikeio.Dataset>\n",
              "dims: (time:1, y:264, x:216)\n",
              "time: 2020-05-15 11:04:52 (time-invariant)\n",
              "geometry: Grid2D (ny=264, nx=216)\n",
              "items:\n",
              "  0:  Elevation <Total Water Depth> (meter)"
            ]
          }
        }
      ],
      "source": [
        "ds = mikeio.read(\"../data/gebco_sound.dfs2\")\n",
        "ds"
      ],
      "id": "a4c938f9"
    },
    {
      "cell_type": "markdown",
      "metadata": {},
      "source": [
        "Read more on the [Dfs2 page](dfs2.qmd).\n",
        "\n",
        "##  Generic dfs\n",
        "\n",
        "MIKE IO has [`generic`](generic.qmd) functionality that works for all\n",
        "dfs files:\n",
        "\n",
        "-   [`concat()`](../api/generic.html#mikeio.generic.concat) -\n",
        "    Concatenates files along the time axis\n",
        "-   [`extract()`](../api/generic.html#mikeio.generic.extract) - Extract\n",
        "    timesteps and/or items to a new dfs file\n",
        "-   [`diff()`](../api/generic.html#mikeio.generic.diff) - Calculate\n",
        "    difference between two dfs files with identical geometry\n",
        "-   [`sum()`](../api/generic.html#mikeio.generic.sum) - Calculate the\n",
        "    sum of two dfs files\n",
        "-   [`scale()`](../api/generic.html#mikeio.generic.scale) - Apply\n",
        "    scaling to any dfs file\n",
        "-   [`avg_time()`](../api/generic.html#mikeio.generic.avg_time) - Create\n",
        "    a temporally averaged dfs file\n",
        "-   [`quantile()`](../api/generic.html#mikeio.generic.quantile) - Create\n",
        "    a dfs file with temporal quantiles\n",
        "\n",
        "All generic methods creates a new dfs file.\n",
        "\n",
        "``` python\n",
        "from mikeio import generic\n",
        "generic.concat([\"fileA.dfs2\", \"fileB.dfs2\"], \"new_file.dfs2\")\n",
        "```\n",
        "\n",
        "##  Additional resources\n",
        "\n",
        "-   Online book: [Getting started with Dfs files in Python using MIKE\n",
        "    IO](https://dhi.github.io/getting-started-with-mikeio)\n",
        "-   Online book: [Python for marine modelers using MIKE IO and\n",
        "    ModellSkill](https://dhi.github.io/book-learn-mikeio-modelskill)\n",
        "-   [DFS file system\n",
        "    specification](https://docs.mikepoweredbydhi.com/core_libraries/dfs/dfs-file-system)"
      ],
      "id": "07543232-4543-4154-bafd-090df50b7c29"
    }
  ],
  "nbformat": 4,
  "nbformat_minor": 5,
  "metadata": {
    "kernelspec": {
      "name": "python3",
      "display_name": "Python 3 (ipykernel)",
      "language": "python",
      "path": "/opt/hostedtoolcache/Python/3.12.8/x64/share/jupyter/kernels/python3"
    },
    "language_info": {
      "name": "python",
      "codemirror_mode": {
        "name": "ipython",
        "version": "3"
      },
      "file_extension": ".py",
      "mimetype": "text/x-python",
      "nbconvert_exporter": "python",
      "pygments_lexer": "ipython3",
      "version": "3.12.8"
    }
  }
}