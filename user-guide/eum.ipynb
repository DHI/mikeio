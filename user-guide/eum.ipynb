{
  "cells": [
    {
      "cell_type": "markdown",
      "metadata": {},
      "source": [
        "# \n",
        "\n",
        "# EUM\n",
        "\n",
        "The dfs items in MIKE IO are represented by the `ItemInfo` class. An\n",
        "ItemInfo consists of:\n",
        "\n",
        "-   name - a user-defined string\n",
        "-   type - an [`EUMType`](../api/EUMType.html#mikeio.EUMType)\n",
        "-   unit - an [`EUMUnit`](../api/EUMUnit.html#mikeio.EUMUnit)\n",
        "\n",
        "The ItemInfo class has some sensible defaults, thus you can specify only\n",
        "a name or a type. If you don’t specify a unit, the default unit for that\n",
        "type will be used."
      ],
      "id": "4baa6459-6ff5-45a3-b4fa-66e13cb03b1a"
    },
    {
      "cell_type": "code",
      "execution_count": 1,
      "metadata": {},
      "outputs": [
        {
          "output_type": "display_data",
          "metadata": {},
          "data": {
            "text/plain": [
              "Viken <Water Level> (meter)"
            ]
          }
        }
      ],
      "source": [
        "from mikeio import ItemInfo, EUMType, EUMUnit\n",
        "\n",
        "item = ItemInfo(\"Viken\", EUMType.Water_Level)\n",
        "item"
      ],
      "id": "03cc831a"
    },
    {
      "cell_type": "code",
      "execution_count": 2,
      "metadata": {},
      "outputs": [
        {
          "output_type": "display_data",
          "metadata": {},
          "data": {
            "text/plain": [
              "Wind speed <Wind speed> (meter per sec)"
            ]
          }
        }
      ],
      "source": [
        "ItemInfo(EUMType.Wind_speed)"
      ],
      "id": "e4dcc3ff"
    },
    {
      "cell_type": "code",
      "execution_count": 3,
      "metadata": {},
      "outputs": [
        {
          "output_type": "display_data",
          "metadata": {},
          "data": {
            "text/plain": [
              "Viken <Water Level> (feet)"
            ]
          }
        }
      ],
      "source": [
        "ItemInfo(\"Viken\", EUMType.Water_Level, EUMUnit.feet)"
      ],
      "id": "109b1e2d"
    },
    {
      "cell_type": "markdown",
      "metadata": {},
      "source": [
        "Matching units for specific type:"
      ],
      "id": "ea2a5961-5642-44bb-a0a0-86b01bcdd3ea"
    },
    {
      "cell_type": "code",
      "execution_count": 4,
      "metadata": {},
      "outputs": [
        {
          "output_type": "display_data",
          "metadata": {},
          "data": {
            "text/plain": [
              "[meter per sec, feet per sec, knot, km per hour, miles per hour]"
            ]
          }
        }
      ],
      "source": [
        "EUMType.Wind_speed.units"
      ],
      "id": "f213620c"
    },
    {
      "cell_type": "markdown",
      "metadata": {},
      "source": [
        "Default unit:"
      ],
      "id": "9d8fe011-f496-4e22-923b-d85e162a1736"
    },
    {
      "cell_type": "code",
      "execution_count": 5,
      "metadata": {},
      "outputs": [
        {
          "output_type": "display_data",
          "metadata": {},
          "data": {
            "text/plain": [
              "mm per day"
            ]
          }
        }
      ],
      "source": [
        "EUMType.Precipitation_Rate.units[0]"
      ],
      "id": "431e743c"
    },
    {
      "cell_type": "code",
      "execution_count": 6,
      "metadata": {},
      "outputs": [
        {
          "output_type": "display_data",
          "metadata": {},
          "data": {
            "text/plain": [
              "mm per day"
            ]
          }
        }
      ],
      "source": [
        "unit = EUMType.Precipitation_Rate.units[0]\n",
        "unit"
      ],
      "id": "be8cef08"
    },
    {
      "cell_type": "code",
      "execution_count": 7,
      "metadata": {},
      "outputs": [
        {
          "output_type": "display_data",
          "metadata": {},
          "data": {
            "text/plain": [
              "<enum 'EUMUnit'>"
            ]
          }
        }
      ],
      "source": [
        "type(unit)"
      ],
      "id": "05c138ef"
    },
    {
      "cell_type": "markdown",
      "metadata": {},
      "source": [
        "an [`EUMUnit`](../api/EUMUnit.html#mikeio.EUMUnit) is encoded as\n",
        "integers, which you can utilize in some MIKE applications."
      ],
      "id": "2faa9b58-ed78-4156-b337-bff8d145a584"
    },
    {
      "cell_type": "code",
      "execution_count": 8,
      "metadata": {},
      "outputs": [
        {
          "output_type": "display_data",
          "metadata": {},
          "data": {
            "text/plain": [
              "2004"
            ]
          }
        }
      ],
      "source": [
        "int(unit)\n",
        "2004"
      ],
      "id": "2782d36b"
    },
    {
      "cell_type": "markdown",
      "metadata": {},
      "source": [
        "## EUM type search\n",
        "\n",
        "It is also possible to do a string based search, e.g. to find all EUM\n",
        "types containing the substring ‘period’:"
      ],
      "id": "be2d650c-80f3-482b-8d8a-de0f5eecc9dc"
    },
    {
      "cell_type": "code",
      "execution_count": 9,
      "metadata": {},
      "outputs": [
        {
          "output_type": "display_data",
          "metadata": {},
          "data": {
            "text/plain": [
              "[Wave period, Return period, Update Period, Threshold period]"
            ]
          }
        }
      ],
      "source": [
        "EUMType.search(\"period\")"
      ],
      "id": "30d97418"
    }
  ],
  "nbformat": 4,
  "nbformat_minor": 5,
  "metadata": {
    "kernelspec": {
      "name": "python3",
      "display_name": "Python 3 (ipykernel)",
      "language": "python",
      "path": "/opt/hostedtoolcache/Python/3.12.9/x64/share/jupyter/kernels/python3"
    },
    "language_info": {
      "name": "python",
      "codemirror_mode": {
        "name": "ipython",
        "version": "3"
      },
      "file_extension": ".py",
      "mimetype": "text/x-python",
      "nbconvert_exporter": "python",
      "pygments_lexer": "ipython3",
      "version": "3.12.9"
    }
  }
}