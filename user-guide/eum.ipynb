{
  "cells": [
    {
      "cell_type": "markdown",
      "metadata": {},
      "source": [
        "# \n",
        "\n",
        "# EUM\n",
        "\n",
        "The dfs items in MIKE IO are represented by the `ItemInfo` class. An\n",
        "ItemInfo consists of:\n",
        "\n",
        "-   name - a user-defined string\n",
        "-   type - an [`EUMType`](../api/EUMType.html#mikeio.EUMType)\n",
        "-   unit - an [`EUMUnit`](../api/EUMUnit.html#mikeio.EUMUnit)\n",
        "\n",
        "The ItemInfo class has some sensible defaults, thus you can specify only\n",
        "a name or a type. If you don’t specify a unit, the default unit for that\n",
        "type will be used."
      ],
      "id": "d60dac87-d3f7-4268-9310-28dbc987e327"
    },
    {
      "cell_type": "code",
      "execution_count": 1,
      "metadata": {},
      "outputs": [
        {
          "output_type": "display_data",
          "metadata": {},
          "data": {
            "text/plain": [
              "Viken <Water Level> (meter)"
            ]
          }
        }
      ],
      "source": [
        "from mikeio import ItemInfo, EUMType, EUMUnit\n",
        "\n",
        "item = ItemInfo(\"Viken\", EUMType.Water_Level)\n",
        "item"
      ],
      "id": "457926c2"
    },
    {
      "cell_type": "code",
      "execution_count": 2,
      "metadata": {},
      "outputs": [
        {
          "output_type": "display_data",
          "metadata": {},
          "data": {
            "text/plain": [
              "Wind speed <Wind speed> (meter per sec)"
            ]
          }
        }
      ],
      "source": [
        "ItemInfo(EUMType.Wind_speed)"
      ],
      "id": "6accf01c"
    },
    {
      "cell_type": "code",
      "execution_count": 3,
      "metadata": {},
      "outputs": [
        {
          "output_type": "display_data",
          "metadata": {},
          "data": {
            "text/plain": [
              "Viken <Water Level> (feet)"
            ]
          }
        }
      ],
      "source": [
        "ItemInfo(\"Viken\", EUMType.Water_Level, EUMUnit.feet)"
      ],
      "id": "c2d56310"
    },
    {
      "cell_type": "markdown",
      "metadata": {},
      "source": [
        "Matching units for specific type:"
      ],
      "id": "8eff29a1-35c3-4f0d-807f-99f5402fc98c"
    },
    {
      "cell_type": "code",
      "execution_count": 4,
      "metadata": {},
      "outputs": [
        {
          "output_type": "display_data",
          "metadata": {},
          "data": {
            "text/plain": [
              "[meter per sec, feet per sec, knot, km per hour, miles per hour]"
            ]
          }
        }
      ],
      "source": [
        "EUMType.Wind_speed.units"
      ],
      "id": "e0f65501"
    },
    {
      "cell_type": "markdown",
      "metadata": {},
      "source": [
        "Default unit:"
      ],
      "id": "15917c17-a165-411e-b949-de98bef4fc14"
    },
    {
      "cell_type": "code",
      "execution_count": 5,
      "metadata": {},
      "outputs": [
        {
          "output_type": "display_data",
          "metadata": {},
          "data": {
            "text/plain": [
              "mm per day"
            ]
          }
        }
      ],
      "source": [
        "EUMType.Precipitation_Rate.units[0]"
      ],
      "id": "0ecde832"
    },
    {
      "cell_type": "code",
      "execution_count": 6,
      "metadata": {},
      "outputs": [
        {
          "output_type": "display_data",
          "metadata": {},
          "data": {
            "text/plain": [
              "mm per day"
            ]
          }
        }
      ],
      "source": [
        "unit = EUMType.Precipitation_Rate.units[0]\n",
        "unit"
      ],
      "id": "310d2a94"
    },
    {
      "cell_type": "code",
      "execution_count": 7,
      "metadata": {},
      "outputs": [
        {
          "output_type": "display_data",
          "metadata": {},
          "data": {
            "text/plain": [
              "<enum 'EUMUnit'>"
            ]
          }
        }
      ],
      "source": [
        "type(unit)"
      ],
      "id": "9ef1955e"
    },
    {
      "cell_type": "markdown",
      "metadata": {},
      "source": [
        "an [`EUMUnit`](../api/EUMUnit.html#mikeio.EUMUnit) is encoded as\n",
        "integers, which you can utilize in some MIKE applications."
      ],
      "id": "1f46e297-0c87-4ec6-ac9d-0edd162396e9"
    },
    {
      "cell_type": "code",
      "execution_count": 8,
      "metadata": {},
      "outputs": [
        {
          "output_type": "display_data",
          "metadata": {},
          "data": {
            "text/plain": [
              "2004"
            ]
          }
        }
      ],
      "source": [
        "int(unit)\n",
        "2004"
      ],
      "id": "58cf5c3a"
    },
    {
      "cell_type": "markdown",
      "metadata": {},
      "source": [
        "## EUM type search\n",
        "\n",
        "It is also possible to do a string based search, e.g. to find all EUM\n",
        "types containing the substring ‘period’:"
      ],
      "id": "b6ad9c3e-cc4f-4600-9922-fa0e44678997"
    },
    {
      "cell_type": "code",
      "execution_count": 9,
      "metadata": {},
      "outputs": [
        {
          "output_type": "display_data",
          "metadata": {},
          "data": {
            "text/plain": [
              "[Wave period, Return period, Update Period, Threshold period]"
            ]
          }
        }
      ],
      "source": [
        "EUMType.search(\"period\")"
      ],
      "id": "0ffeac03"
    }
  ],
  "nbformat": 4,
  "nbformat_minor": 5,
  "metadata": {
    "kernelspec": {
      "name": "python3",
      "display_name": "Python 3 (ipykernel)",
      "language": "python",
      "path": "/opt/hostedtoolcache/Python/3.12.11/x64/share/jupyter/kernels/python3"
    },
    "language_info": {
      "name": "python",
      "codemirror_mode": {
        "name": "ipython",
        "version": "3"
      },
      "file_extension": ".py",
      "mimetype": "text/x-python",
      "nbconvert_exporter": "python",
      "pygments_lexer": "ipython3",
      "version": "3.12.11"
    }
  }
}