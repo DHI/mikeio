{
  "cells": [
    {
      "cell_type": "markdown",
      "metadata": {},
      "source": [
        "# \n",
        "\n",
        "# EUM\n",
        "\n",
        "The dfs items in MIKE IO are represented by the `ItemInfo` class. An\n",
        "ItemInfo consists of:\n",
        "\n",
        "-   name - a user-defined string\n",
        "-   type - an [`EUMType`](../api/EUMType.html#mikeio.EUMType)\n",
        "-   unit - an [`EUMUnit`](../api/EUMUnit.html#mikeio.EUMUnit)\n",
        "\n",
        "The ItemInfo class has some sensible defaults, thus you can specify only\n",
        "a name or a type. If you don’t specify a unit, the default unit for that\n",
        "type will be used."
      ],
      "id": "bb569cd4-28cf-4357-945a-95316e0023b7"
    },
    {
      "cell_type": "code",
      "execution_count": 1,
      "metadata": {},
      "outputs": [
        {
          "output_type": "display_data",
          "metadata": {},
          "data": {
            "text/plain": [
              "Viken <Water Level> (meter)"
            ]
          }
        }
      ],
      "source": [
        "from mikeio import ItemInfo, EUMType, EUMUnit\n",
        "\n",
        "item = ItemInfo(\"Viken\", EUMType.Water_Level)\n",
        "item"
      ],
      "id": "d47b9efd"
    },
    {
      "cell_type": "code",
      "execution_count": 2,
      "metadata": {},
      "outputs": [
        {
          "output_type": "display_data",
          "metadata": {},
          "data": {
            "text/plain": [
              "Wind speed <Wind speed> (meter per sec)"
            ]
          }
        }
      ],
      "source": [
        "ItemInfo(EUMType.Wind_speed)"
      ],
      "id": "a43ad6d5"
    },
    {
      "cell_type": "code",
      "execution_count": 3,
      "metadata": {},
      "outputs": [
        {
          "output_type": "display_data",
          "metadata": {},
          "data": {
            "text/plain": [
              "Viken <Water Level> (feet)"
            ]
          }
        }
      ],
      "source": [
        "ItemInfo(\"Viken\", EUMType.Water_Level, EUMUnit.feet)"
      ],
      "id": "aaf152bb"
    },
    {
      "cell_type": "markdown",
      "metadata": {},
      "source": [
        "Matching units for specific type:"
      ],
      "id": "ec9728d0-3551-4a8a-a9d0-eccfd7742174"
    },
    {
      "cell_type": "code",
      "execution_count": 4,
      "metadata": {},
      "outputs": [
        {
          "output_type": "display_data",
          "metadata": {},
          "data": {
            "text/plain": [
              "[meter per sec, feet per sec, knot, km per hour, miles per hour]"
            ]
          }
        }
      ],
      "source": [
        "EUMType.Wind_speed.units"
      ],
      "id": "39910c00"
    },
    {
      "cell_type": "markdown",
      "metadata": {},
      "source": [
        "Default unit:"
      ],
      "id": "e0e9068d-d74a-4bc5-8ba7-8eef32764966"
    },
    {
      "cell_type": "code",
      "execution_count": 5,
      "metadata": {},
      "outputs": [
        {
          "output_type": "display_data",
          "metadata": {},
          "data": {
            "text/plain": [
              "mm per day"
            ]
          }
        }
      ],
      "source": [
        "EUMType.Precipitation_Rate.units[0]"
      ],
      "id": "06db61ef"
    },
    {
      "cell_type": "code",
      "execution_count": 6,
      "metadata": {},
      "outputs": [
        {
          "output_type": "display_data",
          "metadata": {},
          "data": {
            "text/plain": [
              "mm per day"
            ]
          }
        }
      ],
      "source": [
        "unit = EUMType.Precipitation_Rate.units[0]\n",
        "unit"
      ],
      "id": "482ed32d"
    },
    {
      "cell_type": "code",
      "execution_count": 7,
      "metadata": {},
      "outputs": [
        {
          "output_type": "display_data",
          "metadata": {},
          "data": {
            "text/plain": [
              "<enum 'EUMUnit'>"
            ]
          }
        }
      ],
      "source": [
        "type(unit)"
      ],
      "id": "1b150637"
    },
    {
      "cell_type": "markdown",
      "metadata": {},
      "source": [
        "an [`EUMUnit`](../api/EUMUnit.html#mikeio.EUMUnit) is encoded as\n",
        "integers, which you can utilize in some MIKE applications."
      ],
      "id": "55ea4ab9-6022-47df-aa1f-531e61347435"
    },
    {
      "cell_type": "code",
      "execution_count": 8,
      "metadata": {},
      "outputs": [
        {
          "output_type": "display_data",
          "metadata": {},
          "data": {
            "text/plain": [
              "2004"
            ]
          }
        }
      ],
      "source": [
        "int(unit)\n",
        "2004"
      ],
      "id": "dc46581d"
    },
    {
      "cell_type": "markdown",
      "metadata": {},
      "source": [
        "## EUM type search\n",
        "\n",
        "It is also possible to do a string based search, e.g. to find all EUM\n",
        "types containing the substring ‘period’:"
      ],
      "id": "b1a40101-f34d-45da-9f63-0341eba61cae"
    },
    {
      "cell_type": "code",
      "execution_count": 9,
      "metadata": {},
      "outputs": [
        {
          "output_type": "display_data",
          "metadata": {},
          "data": {
            "text/plain": [
              "[Wave period, Return period, Update Period, Threshold period]"
            ]
          }
        }
      ],
      "source": [
        "EUMType.search(\"period\")"
      ],
      "id": "6e748fde"
    }
  ],
  "nbformat": 4,
  "nbformat_minor": 5,
  "metadata": {
    "kernelspec": {
      "name": "python3",
      "display_name": "Python 3 (ipykernel)",
      "language": "python",
      "path": "/opt/hostedtoolcache/Python/3.12.9/x64/share/jupyter/kernels/python3"
    },
    "language_info": {
      "name": "python",
      "codemirror_mode": {
        "name": "ipython",
        "version": "3"
      },
      "file_extension": ".py",
      "mimetype": "text/x-python",
      "nbconvert_exporter": "python",
      "pygments_lexer": "ipython3",
      "version": "3.12.9"
    }
  }
}