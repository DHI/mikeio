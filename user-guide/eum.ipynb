{
  "cells": [
    {
      "cell_type": "markdown",
      "metadata": {},
      "source": [
        "# \n",
        "\n",
        "# EUM\n",
        "\n",
        "The dfs items in MIKE IO are represented by the `ItemInfo` class. An\n",
        "ItemInfo consists of:\n",
        "\n",
        "-   name - a user-defined string\n",
        "-   type - an [`EUMType`](../api/EUMType.html#mikeio.EUMType)\n",
        "-   unit - an [`EUMUnit`](../api/EUMUnit.html#mikeio.EUMUnit)\n",
        "\n",
        "The ItemInfo class has some sensible defaults, thus you can specify only\n",
        "a name or a type. If you don’t specify a unit, the default unit for that\n",
        "type will be used."
      ],
      "id": "5d37490a-d7de-4638-8132-442d511f0220"
    },
    {
      "cell_type": "code",
      "execution_count": 1,
      "metadata": {},
      "outputs": [
        {
          "output_type": "display_data",
          "metadata": {},
          "data": {
            "text/plain": [
              "Viken <Water Level> (meter)"
            ]
          }
        }
      ],
      "source": [
        "from mikeio import ItemInfo, EUMType, EUMUnit\n",
        "\n",
        "item = ItemInfo(\"Viken\", EUMType.Water_Level)\n",
        "item"
      ],
      "id": "4e420a7b"
    },
    {
      "cell_type": "code",
      "execution_count": 2,
      "metadata": {},
      "outputs": [
        {
          "output_type": "display_data",
          "metadata": {},
          "data": {
            "text/plain": [
              "Wind speed <Wind speed> (meter per sec)"
            ]
          }
        }
      ],
      "source": [
        "ItemInfo(EUMType.Wind_speed)"
      ],
      "id": "b50629de"
    },
    {
      "cell_type": "code",
      "execution_count": 3,
      "metadata": {},
      "outputs": [
        {
          "output_type": "display_data",
          "metadata": {},
          "data": {
            "text/plain": [
              "Viken <Water Level> (feet)"
            ]
          }
        }
      ],
      "source": [
        "ItemInfo(\"Viken\", EUMType.Water_Level, EUMUnit.feet)"
      ],
      "id": "a60ee102"
    },
    {
      "cell_type": "markdown",
      "metadata": {},
      "source": [
        "Matching units for specific type:"
      ],
      "id": "f5fa060d-d6a8-4880-abc6-4e74e9cc1691"
    },
    {
      "cell_type": "code",
      "execution_count": 4,
      "metadata": {},
      "outputs": [
        {
          "output_type": "display_data",
          "metadata": {},
          "data": {
            "text/plain": [
              "[meter per sec, feet per sec, knot, km per hour, miles per hour]"
            ]
          }
        }
      ],
      "source": [
        "EUMType.Wind_speed.units"
      ],
      "id": "afc18afc"
    },
    {
      "cell_type": "markdown",
      "metadata": {},
      "source": [
        "Default unit:"
      ],
      "id": "2507da8a-eb60-4134-a563-b8cb03d0a4e1"
    },
    {
      "cell_type": "code",
      "execution_count": 5,
      "metadata": {},
      "outputs": [
        {
          "output_type": "display_data",
          "metadata": {},
          "data": {
            "text/plain": [
              "mm per day"
            ]
          }
        }
      ],
      "source": [
        "EUMType.Precipitation_Rate.units[0]"
      ],
      "id": "81e6bd7a"
    },
    {
      "cell_type": "code",
      "execution_count": 6,
      "metadata": {},
      "outputs": [
        {
          "output_type": "display_data",
          "metadata": {},
          "data": {
            "text/plain": [
              "mm per day"
            ]
          }
        }
      ],
      "source": [
        "unit = EUMType.Precipitation_Rate.units[0]\n",
        "unit"
      ],
      "id": "baec07c1"
    },
    {
      "cell_type": "code",
      "execution_count": 7,
      "metadata": {},
      "outputs": [
        {
          "output_type": "display_data",
          "metadata": {},
          "data": {
            "text/plain": [
              "<enum 'EUMUnit'>"
            ]
          }
        }
      ],
      "source": [
        "type(unit)"
      ],
      "id": "a1cecf73"
    },
    {
      "cell_type": "markdown",
      "metadata": {},
      "source": [
        "an [`EUMUnit`](../api/EUMUnit.html#mikeio.EUMUnit) is encoded as\n",
        "integers, which you can utilize in some MIKE applications."
      ],
      "id": "7b49441f-3292-4cbf-bba9-f03782c1db00"
    },
    {
      "cell_type": "code",
      "execution_count": 8,
      "metadata": {},
      "outputs": [
        {
          "output_type": "display_data",
          "metadata": {},
          "data": {
            "text/plain": [
              "2004"
            ]
          }
        }
      ],
      "source": [
        "int(unit)\n",
        "2004"
      ],
      "id": "21e1d5ee"
    },
    {
      "cell_type": "markdown",
      "metadata": {},
      "source": [
        "## EUM type search\n",
        "\n",
        "It is also possible to do a string based search, e.g. to find all EUM\n",
        "types containing the substring ‘period’:"
      ],
      "id": "7707701f-501f-4c79-a3f1-67c454797751"
    },
    {
      "cell_type": "code",
      "execution_count": 9,
      "metadata": {},
      "outputs": [
        {
          "output_type": "display_data",
          "metadata": {},
          "data": {
            "text/plain": [
              "[Wave period, Return period, Update Period, Threshold period]"
            ]
          }
        }
      ],
      "source": [
        "EUMType.search(\"period\")"
      ],
      "id": "ad5116bd"
    }
  ],
  "nbformat": 4,
  "nbformat_minor": 5,
  "metadata": {
    "kernelspec": {
      "name": "python3",
      "display_name": "Python 3 (ipykernel)",
      "language": "python",
      "path": "/home/runner/work/mikeio/mikeio/.venv/share/jupyter/kernels/python3"
    },
    "language_info": {
      "name": "python",
      "codemirror_mode": {
        "name": "ipython",
        "version": "3"
      },
      "file_extension": ".py",
      "mimetype": "text/x-python",
      "nbconvert_exporter": "python",
      "pygments_lexer": "ipython3",
      "version": "3.12.3"
    }
  }
}