{
  "cells": [
    {
      "cell_type": "markdown",
      "metadata": {},
      "source": [
        "# \n",
        "\n",
        "# EUM\n",
        "\n",
        "The dfs items in MIKE IO are represented by the `ItemInfo` class. An\n",
        "ItemInfo consists of:\n",
        "\n",
        "-   name - a user-defined string\n",
        "-   type - an [`EUMType`](../api/EUMType.html#mikeio.EUMType)\n",
        "-   unit - an [`EUMUnit`](../api/EUMUnit.html#mikeio.EUMUnit)\n",
        "\n",
        "The ItemInfo class has some sensible defaults, thus you can specify only\n",
        "a name or a type. If you don’t specify a unit, the default unit for that\n",
        "type will be used."
      ],
      "id": "c4ee166b-68e8-4651-ab27-310e93de0e42"
    },
    {
      "cell_type": "code",
      "execution_count": 1,
      "metadata": {},
      "outputs": [
        {
          "output_type": "display_data",
          "metadata": {},
          "data": {
            "text/plain": [
              "Viken <Water Level> (meter)"
            ]
          }
        }
      ],
      "source": [
        "from mikeio import ItemInfo, EUMType, EUMUnit\n",
        "\n",
        "item = ItemInfo(\"Viken\", EUMType.Water_Level)\n",
        "item"
      ],
      "id": "be38478c"
    },
    {
      "cell_type": "code",
      "execution_count": 2,
      "metadata": {},
      "outputs": [
        {
          "output_type": "display_data",
          "metadata": {},
          "data": {
            "text/plain": [
              "Wind speed <Wind speed> (meter per sec)"
            ]
          }
        }
      ],
      "source": [
        "ItemInfo(EUMType.Wind_speed)"
      ],
      "id": "cdad6ead"
    },
    {
      "cell_type": "code",
      "execution_count": 3,
      "metadata": {},
      "outputs": [
        {
          "output_type": "display_data",
          "metadata": {},
          "data": {
            "text/plain": [
              "Viken <Water Level> (feet)"
            ]
          }
        }
      ],
      "source": [
        "ItemInfo(\"Viken\", EUMType.Water_Level, EUMUnit.feet)"
      ],
      "id": "cf622b63"
    },
    {
      "cell_type": "markdown",
      "metadata": {},
      "source": [
        "Matching units for specific type:"
      ],
      "id": "c09813ad-e1cb-4918-9a9f-aa8fe7626866"
    },
    {
      "cell_type": "code",
      "execution_count": 4,
      "metadata": {},
      "outputs": [
        {
          "output_type": "display_data",
          "metadata": {},
          "data": {
            "text/plain": [
              "[meter per sec, feet per sec, knot, km per hour, miles per hour]"
            ]
          }
        }
      ],
      "source": [
        "EUMType.Wind_speed.units"
      ],
      "id": "cbb721bd"
    },
    {
      "cell_type": "markdown",
      "metadata": {},
      "source": [
        "Default unit:"
      ],
      "id": "13264fd4-97bd-4bc7-b505-270cab607805"
    },
    {
      "cell_type": "code",
      "execution_count": 5,
      "metadata": {},
      "outputs": [
        {
          "output_type": "display_data",
          "metadata": {},
          "data": {
            "text/plain": [
              "mm per day"
            ]
          }
        }
      ],
      "source": [
        "EUMType.Precipitation_Rate.units[0]"
      ],
      "id": "0f3942a1"
    },
    {
      "cell_type": "code",
      "execution_count": 6,
      "metadata": {},
      "outputs": [
        {
          "output_type": "display_data",
          "metadata": {},
          "data": {
            "text/plain": [
              "mm per day"
            ]
          }
        }
      ],
      "source": [
        "unit = EUMType.Precipitation_Rate.units[0]\n",
        "unit"
      ],
      "id": "e1023977"
    },
    {
      "cell_type": "code",
      "execution_count": 7,
      "metadata": {},
      "outputs": [
        {
          "output_type": "display_data",
          "metadata": {},
          "data": {
            "text/plain": [
              "<enum 'EUMUnit'>"
            ]
          }
        }
      ],
      "source": [
        "type(unit)"
      ],
      "id": "cb5496d5"
    },
    {
      "cell_type": "markdown",
      "metadata": {},
      "source": [
        "`a [](`mikeio.EUMUnit)\\` is encoded as integers, which you can utilize\n",
        "in some MIKE applications."
      ],
      "id": "826ef3a7-7ec2-45fa-9aae-95282c047bd4"
    },
    {
      "cell_type": "code",
      "execution_count": 8,
      "metadata": {},
      "outputs": [
        {
          "output_type": "display_data",
          "metadata": {},
          "data": {
            "text/plain": [
              "2004"
            ]
          }
        }
      ],
      "source": [
        "int(unit)\n",
        "2004"
      ],
      "id": "b6f0c550"
    },
    {
      "cell_type": "markdown",
      "metadata": {},
      "source": [
        "## EUM type search\n",
        "\n",
        "It is also possible to do a string based search, e.g. to find all EUM\n",
        "types containing the substring ‘period’:"
      ],
      "id": "8d868cb1-d330-429f-9911-d794b9bb717a"
    },
    {
      "cell_type": "code",
      "execution_count": 9,
      "metadata": {},
      "outputs": [
        {
          "output_type": "display_data",
          "metadata": {},
          "data": {
            "text/plain": [
              "[Wave period, Return period, Update Period, Threshold period]"
            ]
          }
        }
      ],
      "source": [
        "EUMType.search(\"period\")"
      ],
      "id": "c5ca19c0"
    }
  ],
  "nbformat": 4,
  "nbformat_minor": 5,
  "metadata": {
    "kernelspec": {
      "name": "python3",
      "display_name": "Python 3 (ipykernel)",
      "language": "python",
      "path": "/opt/hostedtoolcache/Python/3.12.7/x64/share/jupyter/kernels/python3"
    },
    "language_info": {
      "name": "python",
      "codemirror_mode": {
        "name": "ipython",
        "version": "3"
      },
      "file_extension": ".py",
      "mimetype": "text/x-python",
      "nbconvert_exporter": "python",
      "pygments_lexer": "ipython3",
      "version": "3.12.7"
    }
  }
}