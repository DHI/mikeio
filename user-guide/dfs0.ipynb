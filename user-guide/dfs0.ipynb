{
  "cells": [
    {
      "cell_type": "markdown",
      "metadata": {},
      "source": [
        "# Dfs0\n",
        "\n",
        "A dfs0 file is also called a time series file.\n",
        "\n",
        "Working with data from dfs0 files are conveniently done in one of two\n",
        "ways:\n",
        "\n",
        "-   [`mikeio.Dataset`](../api/Dataset.html#mikeio.Dataset) - keeps EUM\n",
        "    information (convenient if you save data to new dfs0 file)\n",
        "-   [`pandas.DataFrame`](https://pandas.pydata.org/docs/reference/api/pandas.DataFrame.html#pandas.DataFrame) -\n",
        "    utilize all the powerful methods of pandas\n",
        "\n",
        "## Read Dfs0 to Dataset"
      ],
      "id": "e13355fd-7d77-4664-b71c-45a88a4bdce3"
    },
    {
      "cell_type": "code",
      "execution_count": 1,
      "metadata": {},
      "outputs": [
        {
          "output_type": "display_data",
          "metadata": {},
          "data": {
            "text/plain": [
              "<mikeio.Dataset>\n",
              "dims: (time:744)\n",
              "time: 2017-10-27 00:00:00 - 2017-10-29 18:00:00 (744 non-equidistant records)\n",
              "geometry: GeometryUndefined()\n",
              "items:\n",
              "  0:  State 1Sign. Wave Height <Significant wave height> (meter)\n",
              "  1:  State 2Sign. Wave Height <Significant wave height> (meter)\n",
              "  2:  Mean StateSign. Wave Height <Significant wave height> (meter)\n",
              "  3:  MeasurementSign. Wave Height <Significant wave height> (meter)"
            ]
          }
        }
      ],
      "source": [
        "import mikeio\n",
        "\n",
        "ds = mikeio.read(\"../data/da_diagnostic.dfs0\")\n",
        "ds"
      ],
      "id": "3d5539fa"
    },
    {
      "cell_type": "markdown",
      "metadata": {},
      "source": [
        "## From Dfs0 to pandas DataFrame"
      ],
      "id": "1c1a1ad9-64ba-4357-8950-afddaeeb2d55"
    },
    {
      "cell_type": "code",
      "execution_count": 2,
      "metadata": {},
      "outputs": [
        {
          "output_type": "display_data",
          "metadata": {},
          "data": {
            "text/html": [
              "\n",
              "</div>"
            ]
          }
        }
      ],
      "source": [
        "df = ds.to_dataframe()\n",
        "df.head()"
      ],
      "id": "b77ed4e0"
    },
    {
      "cell_type": "markdown",
      "metadata": {},
      "source": [
        "## From pandas DataFrame to Dfs0"
      ],
      "id": "22c2c80a-01ad-436a-ba4d-fc21a66fc125"
    },
    {
      "cell_type": "code",
      "execution_count": 3,
      "metadata": {},
      "outputs": [],
      "source": [
        "import pandas as pd\n",
        "\n",
        "df = pd.read_csv(\n",
        "    \"../data/co2-mm-mlo.csv\", parse_dates=True, index_col=\"Date\", na_values=-99.99\n",
        ")\n",
        "ds = mikeio.from_pandas(df)\n",
        "ds.to_dfs(\"mauna_loa_co2.dfs0\")"
      ],
      "id": "597b20ee"
    },
    {
      "cell_type": "markdown",
      "metadata": {},
      "source": [
        "## Dfs0 example notebooks\n",
        "\n",
        "-   [Dfs0](https://nbviewer.jupyter.org/github/DHI/mikeio/blob/main/notebooks/Dfs0%20-%20Timeseries.ipynb) -\n",
        "    read, write, to_dataframe, non-equidistant, accumulated timestep,\n",
        "    extrapolation\n",
        "-   [Dfs0\n",
        "    Relative-time](https://nbviewer.jupyter.org/github/DHI/mikeio/blob/main/notebooks/Dfs0%20-%20Relative%20time.ipynb) -\n",
        "    read file with relative time axis\n",
        "-   [Dfs0 \\|\n",
        "    getting-started-with-mikeio](https://dhi.github.io/getting-started-with-mikeio/dfs0.html) -\n",
        "    Course literature"
      ],
      "id": "0e2554c3-649b-41ed-b544-84f4ed17b8a8"
    }
  ],
  "nbformat": 4,
  "nbformat_minor": 5,
  "metadata": {
    "kernelspec": {
      "name": "python3",
      "display_name": "Python 3 (ipykernel)",
      "language": "python",
      "path": "/opt/hostedtoolcache/Python/3.12.7/x64/share/jupyter/kernels/python3"
    },
    "language_info": {
      "name": "python",
      "codemirror_mode": {
        "name": "ipython",
        "version": "3"
      },
      "file_extension": ".py",
      "mimetype": "text/x-python",
      "nbconvert_exporter": "python",
      "pygments_lexer": "ipython3",
      "version": "3.12.7"
    }
  }
}