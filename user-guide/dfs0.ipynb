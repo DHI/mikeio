{
  "cells": [
    {
      "cell_type": "markdown",
      "metadata": {},
      "source": [
        "# Dfs0\n",
        "\n",
        "A dfs0 file is also called a time series file.\n",
        "\n",
        "Working with data from dfs0 files are conveniently done in one of two\n",
        "ways:\n",
        "\n",
        "-   [`mikeio.Dataset`](../api/Dataset.html#mikeio.Dataset) - keeps EUM\n",
        "    information (convenient if you save data to new dfs0 file)\n",
        "-   [`pandas.DataFrame`](https://pandas.pydata.org/docs/reference/api/pandas.DataFrame.html#pandas.DataFrame) -\n",
        "    utilize all the powerful methods of pandas\n",
        "\n",
        "## Read Dfs0 to Dataset"
      ],
      "id": "69524e54-e45e-4ea3-a3d4-d9f033fa959a"
    },
    {
      "cell_type": "code",
      "execution_count": 1,
      "metadata": {},
      "outputs": [
        {
          "output_type": "display_data",
          "metadata": {},
          "data": {
            "text/plain": [
              "<mikeio.Dataset>\n",
              "dims: (time:744)\n",
              "time: 2017-10-27 00:00:00 - 2017-10-29 18:00:00 (744 non-equidistant records)\n",
              "geometry: GeometryUndefined()\n",
              "items:\n",
              "  0:  State 1Sign. Wave Height <Significant wave height> (meter)\n",
              "  1:  State 2Sign. Wave Height <Significant wave height> (meter)\n",
              "  2:  Mean StateSign. Wave Height <Significant wave height> (meter)\n",
              "  3:  MeasurementSign. Wave Height <Significant wave height> (meter)"
            ]
          }
        }
      ],
      "source": [
        "import mikeio\n",
        "\n",
        "ds = mikeio.read(\"../data/da_diagnostic.dfs0\")\n",
        "ds"
      ],
      "id": "c634fd88"
    },
    {
      "cell_type": "markdown",
      "metadata": {},
      "source": [
        "## From Dfs0 to pandas DataFrame"
      ],
      "id": "7f0b4684-8b25-476c-b803-61f8bc0975c1"
    },
    {
      "cell_type": "code",
      "execution_count": 2,
      "metadata": {},
      "outputs": [
        {
          "output_type": "display_data",
          "metadata": {},
          "data": {
            "text/html": [
              "\n",
              "</div>"
            ]
          }
        }
      ],
      "source": [
        "df = ds.to_dataframe()\n",
        "df.head()"
      ],
      "id": "be290ff4"
    },
    {
      "cell_type": "markdown",
      "metadata": {},
      "source": [
        "## From pandas DataFrame to Dfs0"
      ],
      "id": "50efaf68-7aa5-4a6b-a973-f6c9f7882f21"
    },
    {
      "cell_type": "code",
      "execution_count": 3,
      "metadata": {},
      "outputs": [],
      "source": [
        "import pandas as pd\n",
        "\n",
        "df = pd.read_csv(\n",
        "    \"../data/co2-mm-mlo.csv\", parse_dates=True, index_col=\"Date\", na_values=-99.99\n",
        ")\n",
        "ds = mikeio.from_pandas(df)\n",
        "ds.to_dfs(\"mauna_loa_co2.dfs0\")"
      ],
      "id": "c5e90ef2"
    },
    {
      "cell_type": "markdown",
      "metadata": {},
      "source": [
        "## Dfs0 example notebooks\n",
        "\n",
        "-   [Dfs0](https://nbviewer.jupyter.org/github/DHI/mikeio/blob/main/notebooks/Dfs0%20-%20Timeseries.ipynb) -\n",
        "    read, write, to_dataframe, non-equidistant, accumulated timestep,\n",
        "    extrapolation\n",
        "-   [Dfs0\n",
        "    Relative-time](https://nbviewer.jupyter.org/github/DHI/mikeio/blob/main/notebooks/Dfs0%20-%20Relative%20time.ipynb) -\n",
        "    read file with relative time axis\n",
        "-   [Dfs0 \\|\n",
        "    getting-started-with-mikeio](https://dhi.github.io/getting-started-with-mikeio/dfs0.html) -\n",
        "    Course literature"
      ],
      "id": "d93a4af2-5827-4327-8b3b-ab76c5da1be3"
    }
  ],
  "nbformat": 4,
  "nbformat_minor": 5,
  "metadata": {
    "kernelspec": {
      "name": "python3",
      "display_name": "Python 3 (ipykernel)",
      "language": "python",
      "path": "/opt/hostedtoolcache/Python/3.12.9/x64/share/jupyter/kernels/python3"
    },
    "language_info": {
      "name": "python",
      "codemirror_mode": {
        "name": "ipython",
        "version": "3"
      },
      "file_extension": ".py",
      "mimetype": "text/x-python",
      "nbconvert_exporter": "python",
      "pygments_lexer": "ipython3",
      "version": "3.12.9"
    }
  }
}