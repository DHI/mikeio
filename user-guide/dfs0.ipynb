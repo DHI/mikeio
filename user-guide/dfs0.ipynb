{
  "cells": [
    {
      "cell_type": "markdown",
      "metadata": {},
      "source": [
        "# Dfs0\n",
        "\n",
        "A dfs0 file is also called a time series file.\n",
        "\n",
        "Working with data from dfs0 files are conveniently done in one of two\n",
        "ways:\n",
        "\n",
        "-   [`mikeio.Dataset`](../api/Dataset.html#mikeio.Dataset) - keeps EUM\n",
        "    information (convenient if you save data to new dfs0 file)\n",
        "-   [`pandas.DataFrame`](https://pandas.pydata.org/docs/reference/api/pandas.DataFrame.html#pandas.DataFrame) -\n",
        "    utilize all the powerful methods of pandas\n",
        "\n",
        "## Read Dfs0 to Dataset"
      ],
      "id": "88daf1ad-83a7-4f04-9354-0905b6ee7b20"
    },
    {
      "cell_type": "code",
      "execution_count": 1,
      "metadata": {},
      "outputs": [
        {
          "output_type": "display_data",
          "metadata": {},
          "data": {
            "text/plain": [
              "<mikeio.Dataset>\n",
              "dims: (time:744)\n",
              "time: 2017-10-27 00:00:00 - 2017-10-29 18:00:00 (744 non-equidistant records)\n",
              "geometry: GeometryUndefined()\n",
              "items:\n",
              "  0:  State 1Sign. Wave Height <Significant wave height> (meter)\n",
              "  1:  State 2Sign. Wave Height <Significant wave height> (meter)\n",
              "  2:  Mean StateSign. Wave Height <Significant wave height> (meter)\n",
              "  3:  MeasurementSign. Wave Height <Significant wave height> (meter)"
            ]
          }
        }
      ],
      "source": [
        "import mikeio\n",
        "\n",
        "ds = mikeio.read(\"../data/da_diagnostic.dfs0\")\n",
        "ds"
      ],
      "id": "4bcaa636"
    },
    {
      "cell_type": "markdown",
      "metadata": {},
      "source": [
        "## From Dfs0 to pandas DataFrame"
      ],
      "id": "260654d0-8b35-4048-be2f-c5429403e10d"
    },
    {
      "cell_type": "code",
      "execution_count": 2,
      "metadata": {},
      "outputs": [
        {
          "output_type": "display_data",
          "metadata": {},
          "data": {
            "text/html": [
              "\n",
              "</div>"
            ]
          }
        }
      ],
      "source": [
        "df = ds.to_dataframe()\n",
        "df.head()"
      ],
      "id": "e1919a48"
    },
    {
      "cell_type": "markdown",
      "metadata": {},
      "source": [
        "## From pandas DataFrame to Dfs0"
      ],
      "id": "ca31e343-8ac2-4b4f-9388-881c9df5772e"
    },
    {
      "cell_type": "code",
      "execution_count": 3,
      "metadata": {},
      "outputs": [],
      "source": [
        "import pandas as pd\n",
        "\n",
        "df = pd.read_csv(\n",
        "    \"../data/co2-mm-mlo.csv\", parse_dates=True, index_col=\"Date\", na_values=-99.99\n",
        ")\n",
        "ds = mikeio.from_pandas(df)\n",
        "ds.to_dfs(\"mauna_loa_co2.dfs0\")"
      ],
      "id": "bff9634a"
    },
    {
      "cell_type": "markdown",
      "metadata": {},
      "source": [
        "## Dfs0 example notebooks\n",
        "\n",
        "-   [Dfs0 \\| Relative time](../examples/dfs0/relative_time.qmd)\n",
        "-   [Dfs0 \\|\n",
        "    getting-started-with-mikeio](https://dhi.github.io/getting-started-with-mikeio/dfs0.html) -\n",
        "    Course literature"
      ],
      "id": "7b522a4d-b211-4c4c-bec0-bad1999f8681"
    }
  ],
  "nbformat": 4,
  "nbformat_minor": 5,
  "metadata": {
    "kernelspec": {
      "name": "python3",
      "display_name": "Python 3 (ipykernel)",
      "language": "python",
      "path": "/opt/hostedtoolcache/Python/3.12.9/x64/share/jupyter/kernels/python3"
    },
    "language_info": {
      "name": "python",
      "codemirror_mode": {
        "name": "ipython",
        "version": "3"
      },
      "file_extension": ".py",
      "mimetype": "text/x-python",
      "nbconvert_exporter": "python",
      "pygments_lexer": "ipython3",
      "version": "3.12.9"
    }
  }
}