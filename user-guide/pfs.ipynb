{
  "cells": [
    {
      "cell_type": "markdown",
      "metadata": {},
      "source": [
        "# PFS\n",
        "\n",
        "A PFS file is a text file with a tree structure that contains parameters\n",
        "and settings for MIKE tools and engines. MIKE IO can read, modify and\n",
        "create PFS files.\n",
        "\n",
        "## The PFS file\n",
        "\n",
        "The content of the PFS file is similar to a nested dictionary. The root\n",
        "element is often called the *target*. Some PFS files have multiple root\n",
        "elements. The below sections are called *PFS Sections* which can be\n",
        "nested and contain key-value pairs called *keywords* and *parameters*.\n",
        "\n",
        "``` ini\n",
        "[TARGET1]\n",
        "   keywordA = parameterA\n",
        "   [SECTION1]\n",
        "      keywordB = parameterB\n",
        "      keywordC = parameterC\n",
        "      [SECTION2]\n",
        "         keywordD = parameterD\n",
        "      EndSect  // SECTION2\n",
        "   EndSect  // SECTION1\n",
        "EndSect  // TARGET1\n",
        "\n",
        "[TARGET2]\n",
        "   keywordE = parameterE\n",
        "   [SECTION3]\n",
        "      keywordF = parameterF\n",
        "   EndSect  // SECTION3\n",
        "EndSect  // TARGET2\n",
        "```\n",
        "\n",
        "Lines 1-10  \n",
        "First target, access this part with `pfs.targets[0]`\n",
        "\n",
        "Lines 12-17  \n",
        "Second target, access this part with `pfs.targets[1]`\n",
        "\n",
        "> **Note**\n",
        ">\n",
        "> **Comments** `//` is used to add comments to the PFS file\n",
        "> (e.g. `// SECTION2`), the comments are ignored by MIKE IO.\n",
        "\n",
        "## Read\n",
        "\n",
        "When a PFS file is read with MIKE IO, a `PfsDocument` object is created.\n",
        "It will contain one or more `PfsSection` objects - one for each target.\n",
        "The PfsSections will typically contain other PfsSections together with a\n",
        "number of key-value pairs.\n",
        "\n",
        "A PFS file is read using\n",
        "[`mikeio.read_pfs`](../api/read_pfs.html#mikeio.read_pfs):"
      ],
      "id": "0bb00307-75f7-4ca5-ae59-3359a753a5cf"
    },
    {
      "cell_type": "code",
      "execution_count": 1,
      "metadata": {},
      "outputs": [
        {
          "output_type": "display_data",
          "metadata": {},
          "data": {
            "text/plain": [
              "[txconc]\n",
              "   CLSID = 'TxConc.dll'\n",
              "   TypeName = 'txconc'\n",
              "   CREATEDTIME = '2020-03-11T15:24:45'\n",
              "   MODIFIEDTIME = '2020-03-11T15:24:45'\n",
              "   NOTES = ''\n",
              "   [Setup]\n",
              "      Name = 'Setup Name'\n",
              "      NumberFiles = 2\n",
              "      NumberDimensions = 1\n",
              "      NumberItems = 1\n",
              "      InsertDelIfGabs = 0\n",
              "      UseTimeRange = 1\n",
              "      TimeRange = 0, 145, 1\n",
              "      FirstFileTimeDef = 0\n",
              "      OverwriteWithLatest = 1\n",
              "      [File_1]\n",
              "         InputFile = |.\\tide1.dfs1|\n",
              "         Items = 1\n",
              "      EndSect  // File_1\n",
              "      [File_2]\n",
              "         InputFile = |.\\tide2.dfs1|\n",
              "         Items = 1\n",
              "      EndSect  // File_2\n",
              "      [File_Out]\n",
              "         OutputFile = |.\\txconc.dfs1|\n",
              "         OutputFileTitle = ''\n",
              "      EndSect  // File_Out\n",
              "   EndSect  // Setup\n",
              "EndSect  // txconc"
            ]
          }
        }
      ],
      "source": [
        "import mikeio\n",
        "\n",
        "pfs = mikeio.read_pfs(\"../data/pfs/concat.mzt\")\n",
        "pfs"
      ],
      "id": "d58e77ca"
    },
    {
      "cell_type": "markdown",
      "metadata": {},
      "source": [
        "### PfsDocument\n",
        "\n",
        "The [`mikeio.PfsDocument`](../api/PfsDocument.html#mikeio.PfsDocument)\n",
        "is the MIKE IO equivalent to a PFS file. Its targets can be accessed by\n",
        "their name (as properties), like this:"
      ],
      "id": "d2c1efd6-fa9a-4511-be74-466a6c5f9a0d"
    },
    {
      "cell_type": "code",
      "execution_count": 2,
      "metadata": {},
      "outputs": [
        {
          "output_type": "display_data",
          "metadata": {},
          "data": {
            "text/plain": [
              "CLSID = 'TxConc.dll'\n",
              "TypeName = 'txconc'\n",
              "CREATEDTIME = '2020-03-11T15:24:45'\n",
              "MODIFIEDTIME = '2020-03-11T15:24:45'\n",
              "NOTES = ''\n",
              "[Setup]\n",
              "   Name = 'Setup Name'\n",
              "   NumberFiles = 2\n",
              "   NumberDimensions = 1\n",
              "   NumberItems = 1\n",
              "   InsertDelIfGabs = 0\n",
              "   UseTimeRange = 1\n",
              "   TimeRange = 0, 145, 1\n",
              "   FirstFileTimeDef = 0\n",
              "   OverwriteWithLatest = 1\n",
              "   [File_1]\n",
              "      InputFile = |.\\tide1.dfs1|\n",
              "      Items = 1\n",
              "   EndSect  // File_1\n",
              "   [File_2]\n",
              "      InputFile = |.\\tide2.dfs1|\n",
              "      Items = 1\n",
              "   EndSect  // File_2\n",
              "   [File_Out]\n",
              "      OutputFile = |.\\txconc.dfs1|\n",
              "      OutputFileTitle = ''\n",
              "   EndSect  // File_Out\n",
              "EndSect  // Setup"
            ]
          }
        }
      ],
      "source": [
        "pfs.txconc"
      ],
      "id": "ea51825c"
    },
    {
      "cell_type": "markdown",
      "metadata": {},
      "source": [
        "Or by the `pfs.targets` object (which is a list of PfsSections). Each of\n",
        "the targets is a `PfsSection` object consisting of key-value pairs\n",
        "(keyword-parameter) and other PfsSections.\n",
        "\n",
        "The [`mikeio.PfsDocument`](../api/PfsDocument.html#mikeio.PfsDocument)\n",
        "object is similar to a dictionary. You can loop over its contents with\n",
        "`items()`, `keys()` and `values()` like a dictionary.\n",
        "\n",
        "### PfsSection\n",
        "\n",
        "The [`mikeio.PfsSection`](../api/PfsSection.html#mikeio.PfsSection)\n",
        "object is also similar to a dictionary. You can loop over its contents\n",
        "with `items()`, `keys()` and `values()` like a dictionary."
      ],
      "id": "b047ac87-91f2-4433-884b-11edcce7f96a"
    },
    {
      "cell_type": "code",
      "execution_count": 3,
      "metadata": {},
      "outputs": [
        {
          "output_type": "display_data",
          "metadata": {},
          "data": {
            "text/plain": [
              "dict_keys(['CLSID', 'TypeName', 'CREATEDTIME', 'MODIFIEDTIME', 'NOTES', 'Setup'])"
            ]
          }
        }
      ],
      "source": [
        "pfs.txconc.keys()"
      ],
      "id": "3543b323"
    },
    {
      "cell_type": "markdown",
      "metadata": {},
      "source": [
        "You can access a specific parameter with the `get()` method:"
      ],
      "id": "b559737f-d562-44bb-a041-e442f5e6f03e"
    },
    {
      "cell_type": "code",
      "execution_count": 4,
      "metadata": {},
      "outputs": [
        {
          "output_type": "display_data",
          "metadata": {},
          "data": {
            "text/plain": [
              "'TxConc.dll'"
            ]
          }
        }
      ],
      "source": [
        "pfs.txconc.get(\"CLSID\")"
      ],
      "id": "5433270b"
    },
    {
      "cell_type": "markdown",
      "metadata": {},
      "source": [
        "Or as a property with dot-notation—which is prefered in most cases as it\n",
        "is more readable:"
      ],
      "id": "c816fa2f-567f-4176-88e7-4ed979d5e2de"
    },
    {
      "cell_type": "code",
      "execution_count": 5,
      "metadata": {},
      "outputs": [
        {
          "output_type": "display_data",
          "metadata": {},
          "data": {
            "text/plain": [
              "'TxConc.dll'"
            ]
          }
        }
      ],
      "source": [
        "pfs.txconc.CLSID"
      ],
      "id": "d42238e4"
    },
    {
      "cell_type": "markdown",
      "metadata": {},
      "source": [
        "A PfsSection can be converted to a dictionary with the to_dict() method:"
      ],
      "id": "106c0438-7044-4d1b-8447-9c19c0def2c7"
    },
    {
      "cell_type": "code",
      "execution_count": 6,
      "metadata": {},
      "outputs": [
        {
          "output_type": "display_data",
          "metadata": {},
          "data": {
            "text/plain": [
              "{'InputFile': '|.\\\\tide1.dfs1|', 'Items': 1}"
            ]
          }
        }
      ],
      "source": [
        "pfs.txconc.Setup.File_1.to_dict()"
      ],
      "id": "a662076f"
    },
    {
      "cell_type": "markdown",
      "metadata": {},
      "source": [
        "You can access nested subsections by passing a path-like string, using\n",
        "“/” as a separator character:"
      ],
      "id": "11162d3c-756e-4e7a-bed0-3f910ac2655f"
    },
    {
      "cell_type": "code",
      "execution_count": 7,
      "metadata": {},
      "outputs": [
        {
          "output_type": "display_data",
          "metadata": {},
          "data": {
            "text/plain": [
              "InputFile = |.\\tide1.dfs1|\n",
              "Items = 1"
            ]
          }
        }
      ],
      "source": [
        "pfs[\"txconc/Setup/File_1\"]"
      ],
      "id": "36e25d3a"
    },
    {
      "cell_type": "markdown",
      "metadata": {},
      "source": [
        "If a PfsSection contains enumerated subsections, they can be converted\n",
        "to a pandas DataFrame with the `to_dataframe()` method:"
      ],
      "id": "394d77b6-beeb-4a6b-892c-6e7abf332187"
    },
    {
      "cell_type": "code",
      "execution_count": 8,
      "metadata": {},
      "outputs": [
        {
          "output_type": "display_data",
          "metadata": {},
          "data": {
            "text/html": [
              "\n",
              "</div>"
            ]
          }
        }
      ],
      "source": [
        "pfs.txconc.Setup.to_dataframe(prefix=\"File_\")"
      ],
      "id": "040d8407"
    },
    {
      "cell_type": "markdown",
      "metadata": {},
      "source": [
        "### Unique or non-unique keywords\n",
        "\n",
        "Depending on the engine intended for reading the PFS file it may or may\n",
        "not make sense to have multiple identical keywords in the same\n",
        "PfsSection. MIKE 21/3 and the marine tools does *not* support non-unique\n",
        "keywords—if non-unique keywords are present, only the first will be read\n",
        "and the presence is most likely a mistake made by hand-editing the file.\n",
        "In other tools, e.g. MIKE Plot Composer, non-unique keywords are used a\n",
        "lot. How MIKE IO shall deal with non-unique keywords can be specified\n",
        "using the `unique_keywords` argument in the\n",
        "[`mikeio.read_pfs`](../api/read_pfs.html#mikeio.read_pfs) function:\n",
        "\n",
        "``` python\n",
        "pfs = mikeio.read_pfs(\"myplot.plt\", unique_keywords=False)\n",
        "```\n",
        "\n",
        "If a PfsSection contains non-unique PfsSections or keywords and\n",
        "`unique_keywords=False`, the repeated key will only appear once and the\n",
        "corresponding value will be a list.\n",
        "\n",
        "## Update\n",
        "\n",
        "The PfsSection object can be modified. Existing values can be changed,\n",
        "new key-value pairs can be added, subsections can added or removed.\n",
        "\n",
        "### Modify existing keyword\n",
        "\n",
        "It is very simple to modify an existing keyword:\n",
        "\n",
        "``` python\n",
        "pfs.txconc.Setup.Name = \"new name\"\n",
        "```\n",
        "\n",
        "### Add new key-value pair\n",
        "\n",
        "A new key-value pair can be added, like in a dictionary, in this way:\n",
        "\n",
        "``` python\n",
        "pfs.txconc.Setup[\"NewKeyword\"] = 12.0\n",
        "```\n",
        "\n",
        "### Add new section as a copy of another section\n",
        "\n",
        "Often a PfsSection is added using an existing PfsSection as a template.\n",
        "\n",
        "``` python\n",
        "s = pfs.txconc.Setup.File_1.copy()\n",
        "s.InputFile = '|.\\tide3.dfs1|'\n",
        "pfs.txconc.Setup[\"File_3\"] = s\n",
        "```\n",
        "\n",
        "### Add new section from a dictionary\n",
        "\n",
        "A PfsSection can be created from a dictionary and then added to another\n",
        "PfsSection like any other key-value pair:"
      ],
      "id": "0eedc906-f423-4865-b023-4e1374541bac"
    },
    {
      "cell_type": "code",
      "execution_count": 9,
      "metadata": {},
      "outputs": [],
      "source": [
        "d = {'InputFile': '|.\\\\tide4.dfs1|', 'Items': 1}\n",
        "s = mikeio.PfsSection(d)\n",
        "pfs.txconc.Setup[\"File_4\"] = s"
      ],
      "id": "aa642426"
    },
    {
      "cell_type": "markdown",
      "metadata": {},
      "source": [
        "## Write to file\n",
        "\n",
        "A Pfs document can be written to a file using the `write` method.\n",
        "\n",
        "``` python\n",
        "pfs.write(\"new.pfs\")\n",
        "```\n",
        "\n",
        "## Create new Pfs files\n",
        "\n",
        "A new PFS file can be created from dictionary in the following way:"
      ],
      "id": "a1684650-9026-467d-b39e-85240be6a983"
    },
    {
      "cell_type": "code",
      "execution_count": 10,
      "metadata": {},
      "outputs": [
        {
          "output_type": "display_data",
          "metadata": {},
          "data": {
            "text/plain": [
              "[MYTOOL]\n",
              "   key1 = 1\n",
              "   lst = 0.3, 0.7\n",
              "   file_name = |path\\file.dfs0|\n",
              "   start_time = 2019, 7, 1, 0, 0, 0\n",
              "EndSect  // MYTOOL"
            ]
          }
        }
      ],
      "source": [
        "d = dict(\n",
        "    key1=1,\n",
        "    lst=[0.3, 0.7],\n",
        "    file_name=r\"|path\\file.dfs0|\",\n",
        "    start_time=[2019, 7, 1, 0, 0, 0],\n",
        ")\n",
        "pfs = mikeio.PfsDocument({\"MYTOOL\": d})\n",
        "pfs"
      ],
      "id": "e24092ca"
    },
    {
      "cell_type": "markdown",
      "metadata": {},
      "source": [
        "Multiple targets can be achieved by providing a list of\n",
        "`mikeio.PfsSection`, in this way you can create a PFS file with multiple\n",
        "targets for the same tool."
      ],
      "id": "497c78ae-7c78-4c3e-a082-b3f0a2d29628"
    },
    {
      "cell_type": "code",
      "execution_count": 11,
      "metadata": {},
      "outputs": [
        {
          "output_type": "display_data",
          "metadata": {},
          "data": {
            "text/plain": [
              "[ATOOL]\n",
              "   file_name = |path\\file1.dfs0|\n",
              "EndSect  // ATOOL\n",
              "[ATOOL]\n",
              "   file_name = |path\\file2.dfs0|\n",
              "EndSect  // ATOOL"
            ]
          }
        }
      ],
      "source": [
        "data = [\n",
        "    mikeio.PfsSection({\"ATOOL\": {\"file_name\": r\"|path\\file1.dfs0|\"}}),\n",
        "    mikeio.PfsSection({\"ATOOL\": {\"file_name\": r\"|path\\file2.dfs0|\"}}),\n",
        "]\n",
        "\n",
        "pfs = mikeio.PfsDocument(data)\n",
        "pfs"
      ],
      "id": "c0a45735"
    }
  ],
  "nbformat": 4,
  "nbformat_minor": 5,
  "metadata": {
    "kernelspec": {
      "name": "python3",
      "display_name": "Python 3 (ipykernel)",
      "language": "python",
      "path": "/opt/hostedtoolcache/Python/3.12.9/x64/share/jupyter/kernels/python3"
    },
    "language_info": {
      "name": "python",
      "codemirror_mode": {
        "name": "ipython",
        "version": "3"
      },
      "file_extension": ".py",
      "mimetype": "text/x-python",
      "nbconvert_exporter": "python",
      "pygments_lexer": "ipython3",
      "version": "3.12.9"
    }
  }
}