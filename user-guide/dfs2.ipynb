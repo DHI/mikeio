{
  "cells": [
    {
      "cell_type": "markdown",
      "metadata": {},
      "source": [
        "# Dfs2\n",
        "\n",
        "A dfs2 file is also called a grid series file. Values in a dfs2 file are\n",
        "‘element based’, i.e. values are defined in the centre of each grid\n",
        "cell."
      ],
      "id": "0e3d012b-2ebc-4c9d-bda9-f38770cec087"
    },
    {
      "cell_type": "code",
      "execution_count": 1,
      "metadata": {},
      "outputs": [
        {
          "output_type": "display_data",
          "metadata": {},
          "data": {
            "text/plain": [
              "<mikeio.Dataset>\n",
              "dims: (time:1, y:264, x:216)\n",
              "time: 2020-05-15 11:04:52 (time-invariant)\n",
              "geometry: Grid2D (ny=264, nx=216)\n",
              "items:\n",
              "  0:  Elevation <Total Water Depth> (meter)"
            ]
          }
        }
      ],
      "source": [
        "import mikeio\n",
        "ds = mikeio.read(\"../data/gebco_sound.dfs2\")\n",
        "ds"
      ],
      "id": "1ad50a62"
    },
    {
      "cell_type": "markdown",
      "metadata": {},
      "source": [
        "## Subset in space\n",
        "\n",
        "The most convenient way to subset in space is to use the `sel` method,\n",
        "which returns a new (smaller) dataset, which can be further processed or\n",
        "written to disk using the `to_dfs` method."
      ],
      "id": "df23fc7d-b70a-4b65-aec5-e64a7af7ea0a"
    },
    {
      "cell_type": "code",
      "execution_count": 2,
      "metadata": {},
      "outputs": [
        {
          "output_type": "display_data",
          "metadata": {},
          "data": {
            "text/plain": [
              "<mikeio.Grid2D>\n",
              "x: [12.2, 12.21, ..., 13.1] (nx=216, dx=0.004167)\n",
              "y: [55.2, 55.21, ..., 56.3] (ny=264, dy=0.004167)\n",
              "projection: LONG/LAT"
            ]
          }
        }
      ],
      "source": [
        "ds.geometry"
      ],
      "id": "f5f4cb95"
    },
    {
      "cell_type": "code",
      "execution_count": 3,
      "metadata": {},
      "outputs": [
        {
          "output_type": "display_data",
          "metadata": {},
          "data": {
            "text/plain": [
              "<mikeio.Grid2D>\n",
              "x: [12.5, 12.5, ..., 12.99] (nx=120, dx=0.004167)\n",
              "y: [55.5, 55.5, ..., 55.99] (ny=120, dy=0.004167)\n",
              "projection: LONG/LAT"
            ]
          }
        }
      ],
      "source": [
        "ds_aoi = ds.sel(x=slice(12.5, 13.0), y=slice(55.5, 56.0))\n",
        "ds_aoi.geometry"
      ],
      "id": "245e5c33"
    },
    {
      "cell_type": "markdown",
      "metadata": {},
      "source": [
        "In order to specify an open-ended subset (i.e. where the end of the\n",
        "subset is the end of the domain), use `None` as the end of the slice."
      ],
      "id": "e7a7455e-c1e5-40f9-b7d1-f21e96afc7a8"
    },
    {
      "cell_type": "code",
      "execution_count": 4,
      "metadata": {},
      "outputs": [
        {
          "output_type": "display_data",
          "metadata": {},
          "data": {
            "text/plain": [
              "<mikeio.Dataset>\n",
              "dims: (time:1, y:264, x:191)\n",
              "time: 2020-05-15 11:04:52 (time-invariant)\n",
              "geometry: Grid2D (ny=264, nx=191)\n",
              "items:\n",
              "  0:  Elevation <Total Water Depth> (meter)"
            ]
          }
        }
      ],
      "source": [
        "ds.sel(x=slice(None, 13.0))"
      ],
      "id": "64df57ba"
    },
    {
      "cell_type": "markdown",
      "metadata": {},
      "source": [
        "## Grid2D\n",
        "\n",
        "The spatial information is available in the `geometry` attribute\n",
        "(accessible from Dfs2, Dataset, and DataArray), which in the case of a\n",
        "dfs2 file is a [`Grid2D`](../api/Grid2D.html#mikeio.Grid2D) geometry."
      ],
      "id": "95035c42-596b-45d9-a07b-c38ccc47d300"
    },
    {
      "cell_type": "code",
      "execution_count": 5,
      "metadata": {},
      "outputs": [
        {
          "output_type": "display_data",
          "metadata": {},
          "data": {
            "text/plain": [
              "<mikeio.Grid2D>\n",
              "x: [12.2, 12.21, ..., 13.1] (nx=216, dx=0.004167)\n",
              "y: [55.2, 55.21, ..., 56.3] (ny=264, dy=0.004167)\n",
              "projection: LONG/LAT"
            ]
          }
        }
      ],
      "source": [
        "ds.geometry"
      ],
      "id": "0fad4de0"
    },
    {
      "cell_type": "markdown",
      "metadata": {},
      "source": [
        "Grid2D’s primary properties and methods are:\n",
        "\n",
        "-   `x`\n",
        "-   `nx`\n",
        "-   `dx`\n",
        "-   `y`\n",
        "-   `ny`\n",
        "-   `dy`\n",
        "-   `origin`\n",
        "-   `projection`\n",
        "-   `xy`\n",
        "-   `bbox`\n",
        "-   `contains()`\n",
        "-   `find_index()`\n",
        "-   `isel()`\n",
        "-   `to_mesh()`\n",
        "\n",
        "See [API specification](../api/Grid2D.html#mikeio.Grid2D) for details.\n",
        "\n",
        "## Dfs2 resources\n",
        "\n",
        "-   [Dfs2 \\|\n",
        "    getting-started-with-mikeio](https://dhi.github.io/getting-started-with-mikeio/dfs2.html)\n",
        "-   [Dfs2-Bathymetry](../examples/dfs2/bathy.qmd) - GEBCO NetCDF/xarray\n",
        "    to dfs2\n",
        "-   [Dfs2-GFS](../examples/dfs2/gfs.qmd) - GFS NetCDF/xarray to dfs2"
      ],
      "id": "b11bd31c-5beb-4dce-b610-32a35d1e7606"
    }
  ],
  "nbformat": 4,
  "nbformat_minor": 5,
  "metadata": {
    "kernelspec": {
      "name": "python3",
      "display_name": "Python 3 (ipykernel)",
      "language": "python",
      "path": "/opt/hostedtoolcache/Python/3.12.9/x64/share/jupyter/kernels/python3"
    },
    "language_info": {
      "name": "python",
      "codemirror_mode": {
        "name": "ipython",
        "version": "3"
      },
      "file_extension": ".py",
      "mimetype": "text/x-python",
      "nbconvert_exporter": "python",
      "pygments_lexer": "ipython3",
      "version": "3.12.9"
    }
  }
}