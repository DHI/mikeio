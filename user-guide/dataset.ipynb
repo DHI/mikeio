{
  "cells": [
    {
      "cell_type": "markdown",
      "metadata": {},
      "source": [
        "# Dataset\n",
        "\n",
        "The [Dataset](../api/Dataset.html#mikeio.Dataset) is the MIKE IO data\n",
        "structure for data from dfs files. The\n",
        "[`mikeio.read`](../api/read.html#mikeio.read) methods returns a Dataset\n",
        "as a container of [DataArray](../api/DataArray.html#mikeio.DataArray)\n",
        "(Dfs items). Each DataArray has the properties, *item*, *time*,\n",
        "*geometry* and *values*. The time and geometry are common to all\n",
        "DataArrays in the Dataset.\n",
        "\n",
        "The Dataset has the following primary properties:\n",
        "\n",
        "-   **items** - a list of\n",
        "    [`mikeio.ItemInfo`](../api/ItemInfo.html#mikeio.ItemInfo) items for\n",
        "    each dataarray\n",
        "-   **time** - a\n",
        "    [`pandas.DatetimeIndex`](https://pandas.pydata.org/docs/reference/api/pandas.DatetimeIndex.html#pandas.DatetimeIndex)\n",
        "    with the time instances of the data\n",
        "-   **geometry** - a Geometry object with the spatial description of the\n",
        "    data\n",
        "\n",
        "Use Dataset’s string representation to get an overview of the Dataset"
      ],
      "id": "f03f4e6d-855c-48c8-a3c8-cd6ad224eff4"
    },
    {
      "cell_type": "code",
      "execution_count": 1,
      "metadata": {},
      "outputs": [
        {
          "output_type": "display_data",
          "metadata": {},
          "data": {
            "text/plain": [
              "<mikeio.Dataset>\n",
              "dims: (time:9, element:884)\n",
              "time: 1985-08-06 07:00:00 - 1985-08-07 03:00:00 (9 records)\n",
              "geometry: Dfsu2D (884 elements, 529 nodes)\n",
              "items:\n",
              "  0:  Surface elevation <Surface Elevation> (meter)\n",
              "  1:  U velocity <u velocity component> (meter per sec)\n",
              "  2:  V velocity <v velocity component> (meter per sec)\n",
              "  3:  Current speed <Current Speed> (meter per sec)"
            ]
          }
        }
      ],
      "source": [
        "import mikeio\n",
        "ds = mikeio.read(\"../data/HD2D.dfsu\")\n",
        "ds"
      ],
      "id": "8f890792"
    },
    {
      "cell_type": "markdown",
      "metadata": {},
      "source": [
        "##  Selecting items\n",
        "\n",
        "Selecting a specific item “itemA” (at position 0) from a Dataset ds can\n",
        "be done with:\n",
        "\n",
        "-   `ds[[\"itemA\"]]` - returns a new Dataset with “itemA”\n",
        "-   `ds[\"itemA\"]` - returns “itemA” DataArray\n",
        "-   `ds[[0]]` - returns a new Dataset with “itemA”\n",
        "-   `ds[0]` - returns “itemA” DataArray\n",
        "-   `ds.itemA` - returns “itemA” DataArray\n",
        "\n",
        "We recommend the use *named* items for readability."
      ],
      "id": "ff81aec3-28fb-4279-a1d9-9474e78afb1b"
    },
    {
      "cell_type": "code",
      "execution_count": 2,
      "metadata": {},
      "outputs": [
        {
          "output_type": "display_data",
          "metadata": {},
          "data": {
            "text/plain": [
              "<mikeio.DataArray>\n",
              "name: Surface elevation\n",
              "dims: (time:9, element:884)\n",
              "time: 1985-08-06 07:00:00 - 1985-08-07 03:00:00 (9 records)\n",
              "geometry: Dfsu2D (884 elements, 529 nodes)"
            ]
          }
        }
      ],
      "source": [
        "ds.Surface_elevation"
      ],
      "id": "0456c925"
    },
    {
      "cell_type": "markdown",
      "metadata": {},
      "source": [
        "Negative index e.g. ds\\[-1\\] can also be used to select from the end.\n",
        "Several items (“itemA” at 0 and “itemC” at 2) can be selected with the\n",
        "notation:\n",
        "\n",
        "-   `ds[[\"itemA\", \"itemC\"]]`\n",
        "-   `ds[[0, 2]]`\n",
        "\n",
        "Note that this behavior is similar to pandas and xarray.\n",
        "\n",
        "##  Temporal selection\n",
        "\n",
        "A time slice of a Dataset can be selected in several different ways."
      ],
      "id": "c44b125c-2505-4bb2-ab36-c4d5a8c08782"
    },
    {
      "cell_type": "code",
      "execution_count": 3,
      "metadata": {},
      "outputs": [
        {
          "output_type": "display_data",
          "metadata": {},
          "data": {
            "text/plain": [
              "<mikeio.Dataset>\n",
              "dims: (element:884)\n",
              "time: 1985-08-06 12:00:00 (time-invariant)\n",
              "geometry: Dfsu2D (884 elements, 529 nodes)\n",
              "items:\n",
              "  0:  Surface elevation <Surface Elevation> (meter)\n",
              "  1:  U velocity <u velocity component> (meter per sec)\n",
              "  2:  V velocity <v velocity component> (meter per sec)\n",
              "  3:  Current speed <Current Speed> (meter per sec)"
            ]
          }
        }
      ],
      "source": [
        "ds.sel(time=\"1985-08-06 12:00\")"
      ],
      "id": "fd489d79"
    },
    {
      "cell_type": "code",
      "execution_count": 4,
      "metadata": {},
      "outputs": [
        {
          "output_type": "display_data",
          "metadata": {},
          "data": {
            "text/plain": [
              "<mikeio.Dataset>\n",
              "dims: (time:2, element:884)\n",
              "time: 1985-08-07 00:30:00 - 1985-08-07 03:00:00 (2 records)\n",
              "geometry: Dfsu2D (884 elements, 529 nodes)\n",
              "items:\n",
              "  0:  Surface elevation <Surface Elevation> (meter)\n",
              "  1:  U velocity <u velocity component> (meter per sec)\n",
              "  2:  V velocity <v velocity component> (meter per sec)\n",
              "  3:  Current speed <Current Speed> (meter per sec)"
            ]
          }
        }
      ],
      "source": [
        "ds[\"1985-8-7\":]"
      ],
      "id": "5d69a019"
    },
    {
      "cell_type": "markdown",
      "metadata": {},
      "source": [
        "##  Spatial selection\n",
        "\n",
        "The `sel` method finds a single element."
      ],
      "id": "c49b5636-ca43-4187-a968-f141b8ffd392"
    },
    {
      "cell_type": "code",
      "execution_count": 5,
      "metadata": {},
      "outputs": [
        {
          "output_type": "display_data",
          "metadata": {},
          "data": {
            "text/plain": [
              "<mikeio.Dataset>\n",
              "dims: (time:9)\n",
              "time: 1985-08-06 07:00:00 - 1985-08-07 03:00:00 (9 records)\n",
              "geometry: GeometryPoint2D(x=607002.7094112666, y=6906734.833048992)\n",
              "items:\n",
              "  0:  Surface elevation <Surface Elevation> (meter)\n",
              "  1:  U velocity <u velocity component> (meter per sec)\n",
              "  2:  V velocity <v velocity component> (meter per sec)\n",
              "  3:  Current speed <Current Speed> (meter per sec)"
            ]
          }
        }
      ],
      "source": [
        "ds.sel(x=607002, y=6906734)"
      ],
      "id": "a354bfca"
    },
    {
      "cell_type": "markdown",
      "metadata": {},
      "source": [
        "##  Plotting\n",
        "\n",
        "In most cases, you will *not* plot the Dataset, but rather it’s\n",
        "DataArrays. But there are two exceptions:\n",
        "\n",
        "-   dfs0-Dataset : plot all items as timeseries with ds.plot()\n",
        "-   scatter : compare two items using ds.plot.scatter(x=“itemA”,\n",
        "    y=“itemB”)\n",
        "\n",
        "See details in the [Dataset Plotter\n",
        "API](../api/dataset._data_plot._DatasetPlotter.html#mikeio.dataset._data_plot._DatasetPlotter).\n",
        "\n",
        "## Add a new item\n",
        "\n",
        "A common workflow is to create a new item based on existing items in a\n",
        "dataset.\n",
        "\n",
        "This can be in done in several ways. Let’s try one of the options."
      ],
      "id": "eb257c81-fd2a-4271-b364-3bce5355b29d"
    },
    {
      "cell_type": "code",
      "execution_count": 6,
      "metadata": {},
      "outputs": [
        {
          "output_type": "display_data",
          "metadata": {},
          "data": {
            "text/plain": [
              "<mikeio.Dataset>\n",
              "dims: (time:67, element:958)\n",
              "time: 2017-10-27 00:00:00 - 2017-10-29 18:00:00 (67 records)\n",
              "geometry: Dfsu2D (958 elements, 570 nodes)\n",
              "items:\n",
              "  0:  Surface elevation <Surface Elevation> (meter)\n",
              "  1:  Wind speed <Wind speed> (meter per sec)"
            ]
          }
        }
      ],
      "source": [
        "ds = mikeio.read(\"../data/NorthSea_HD_and_windspeed.dfsu\")\n",
        "ds"
      ],
      "id": "afc0d31a"
    },
    {
      "cell_type": "markdown",
      "metadata": {},
      "source": [
        "1.  Create a copy of the DataArray"
      ],
      "id": "dc081d8a-f7f2-4d83-a64c-be87075e38e4"
    },
    {
      "cell_type": "code",
      "execution_count": 7,
      "metadata": {},
      "outputs": [
        {
          "output_type": "display_data",
          "metadata": {},
          "data": {
            "image/png": "[encoded data removed]"
          }
        }
      ],
      "source": [
        "ws2 = ds.Wind_speed.copy()\n",
        "ws2.plot.hist();"
      ],
      "id": "ad12cebc"
    },
    {
      "cell_type": "markdown",
      "metadata": {},
      "source": [
        "1.  Make the modifications, in this case we will clip the values to the\n",
        "    interval 1-18 m/s."
      ],
      "id": "f91cb108-fb44-4ad3-a47d-888a3db4ca59"
    },
    {
      "cell_type": "code",
      "execution_count": 8,
      "metadata": {},
      "outputs": [
        {
          "output_type": "display_data",
          "metadata": {},
          "data": {
            "image/png": "[encoded data removed]"
          }
        }
      ],
      "source": [
        "import numpy as np\n",
        "ws2.values = np.clip(ws2.to_numpy(), 1,18)\n",
        "ws2.plot.hist();"
      ],
      "id": "85a96dee"
    },
    {
      "cell_type": "markdown",
      "metadata": {},
      "source": [
        "1.  Assign it to a new name in the dataset"
      ],
      "id": "f009cde0-9ef6-4000-b211-0a0207ed55ad"
    },
    {
      "cell_type": "code",
      "execution_count": 9,
      "metadata": {},
      "outputs": [
        {
          "output_type": "display_data",
          "metadata": {},
          "data": {
            "text/plain": [
              "<mikeio.Dataset>\n",
              "dims: (time:67, element:958)\n",
              "time: 2017-10-27 00:00:00 - 2017-10-29 18:00:00 (67 records)\n",
              "geometry: Dfsu2D (958 elements, 570 nodes)\n",
              "items:\n",
              "  0:  Surface elevation <Surface Elevation> (meter)\n",
              "  1:  Wind speed <Wind speed> (meter per sec)\n",
              "  2:  Wind_speed_clipped <Wind speed> (meter per sec)"
            ]
          }
        }
      ],
      "source": [
        "ds[\"Wind_speed_clipped\"] = ws2\n",
        "ds"
      ],
      "id": "d492e3ca"
    },
    {
      "cell_type": "markdown",
      "metadata": {},
      "source": [
        "1.  Reorder items if necessary (See [selecting items](#selecting-items)\n",
        "    above)"
      ],
      "id": "eabc95c2-1522-45c4-a7d8-1b5c8e67736a"
    },
    {
      "cell_type": "code",
      "execution_count": 10,
      "metadata": {},
      "outputs": [
        {
          "output_type": "display_data",
          "metadata": {},
          "data": {
            "text/plain": [
              "<mikeio.Dataset>\n",
              "dims: (time:67, element:958)\n",
              "time: 2017-10-27 00:00:00 - 2017-10-29 18:00:00 (67 records)\n",
              "geometry: Dfsu2D (958 elements, 570 nodes)\n",
              "items:\n",
              "  0:  Wind_speed_clipped <Wind speed> (meter per sec)\n",
              "  1:  Surface elevation <Surface Elevation> (meter)\n",
              "  2:  Wind speed <Wind speed> (meter per sec)"
            ]
          }
        }
      ],
      "source": [
        "ds2 = ds[[\"Wind_speed_clipped\", \"Surface elevation\", \"Wind speed\"]]\n",
        "ds2"
      ],
      "id": "c6b5ca9f"
    },
    {
      "cell_type": "markdown",
      "metadata": {},
      "source": [
        "1.  Write the new dataset to a new file"
      ],
      "id": "061a5408-8b49-4cee-8650-c1f4c72011bb"
    },
    {
      "cell_type": "code",
      "execution_count": 11,
      "metadata": {},
      "outputs": [],
      "source": [
        "ds2.to_dfs(\"modified.dfsu\")"
      ],
      "id": "c2281366"
    },
    {
      "cell_type": "markdown",
      "metadata": {},
      "source": [
        "## Properties\n",
        "\n",
        "The Dataset (and DataArray) has several properties:\n",
        "\n",
        "-   n_items - Number of items\n",
        "-   n_timesteps - Number of timesteps\n",
        "-   n_elements - Number of elements\n",
        "-   start_time - First time instance (as datetime)\n",
        "-   end_time - Last time instance (as datetime)\n",
        "-   is_equidistant - Is the time series equidistant in time\n",
        "-   timestep - Time step in seconds (if is_equidistant)\n",
        "-   shape - Shape of each item\n",
        "-   deletevalue - File delete value (NaN value)\n",
        "\n",
        "## Methods\n",
        "\n",
        "Dataset (and DataArray) has several useful methods for working with\n",
        "data, including different ways of *selecting* data:\n",
        "\n",
        "-   [`sel()`](../api/Dataset.html#mikeio.Dataset.sel) - Select subset\n",
        "    along an axis\n",
        "-   [`isel()`](../api/Dataset.html#mikeio.Dataset.isel) - Select subset\n",
        "    along an axis with an integer\n",
        "\n",
        "*Aggregations* along an axis:\n",
        "\n",
        "-   [`mean()`](../api/Dataset.html#mikeio.Dataset.mean) - Mean value\n",
        "    along an axis\n",
        "-   [`nanmean()`](../api/Dataset.html#mikeio.Dataset.nanmean) - Mean\n",
        "    value along an axis (NaN removed)\n",
        "-   [`max()`](../api/Dataset.html#mikeio.Dataset.max) - Max value along\n",
        "    an axis\n",
        "-   [`nanmax()`](../api/Dataset.html#mikeio.Dataset.nanmax) - Max value\n",
        "    along an axis (NaN removed)\n",
        "-   [`min()`](../api/Dataset.html#mikeio.Dataset.min) - Min value along\n",
        "    an axis\n",
        "-   [`nanmin()`](../api/Dataset.html#mikeio.Dataset.nanmin) - Min value\n",
        "    along an axis (NaN removed)\n",
        "-   [`average()`](../api/Dataset.html#mikeio.Dataset.average) - Compute\n",
        "    the weighted average along the specified axis.\n",
        "-   [`aggregate()`](../api/Dataset.html#mikeio.Dataset.aggregate) -\n",
        "    Aggregate along an axis\n",
        "-   [`quantile()`](../api/Dataset.html#mikeio.Dataset.quantile) -\n",
        "    Quantiles along an axis\n",
        "-   [`nanquantile()`](../api/Dataset.html#mikeio.Dataset.nanquantile) -\n",
        "    Quantiles along an axis (NaN ignored)\n",
        "\n",
        "###  Mathematical operations\n",
        "\n",
        "-   ds + value\n",
        "-   ds - value\n",
        "-   ds \\* value\n",
        "\n",
        "and + and - between two Datasets (if number of items and shapes\n",
        "conform):\n",
        "\n",
        "-   ds1 + ds2\n",
        "-   ds1 - ds2\n",
        "\n",
        "Other methods that also return a Dataset:\n",
        "\n",
        "-   [`interp_like`](../api/Dataset.html#mikeio.Dataset.interp_like) -\n",
        "    Spatio (temporal) interpolation (see [Dfsu interpolation\n",
        "    notebook](../examples/dfsu/spatial_interpolation.qmd)\n",
        "-   [`interp_time()`](../api/Dataset.html#mikeio.Dataset.interp_time) -\n",
        "    Temporal interpolation (see [Time interpolation\n",
        "    notebook](../examples/Time-interpolation.qmd))\n",
        "-   [`dropna()`](../api/Dataset.html#mikeio.Dataset.dropna) - Remove\n",
        "    time steps where all items are NaN\n",
        "-   [`squeeze()`](../api/Dataset.html#mikeio.Dataset.squeeze) - Remove\n",
        "    axes of length 1\n",
        "\n",
        "### Conversion:\n",
        "\n",
        "-   [`to_dataframe()`](../api/Dataset.html#mikeio.Dataset.to_dataframe) -\n",
        "    Convert Dataset to a\n",
        "    [`pandas.DataFrame`](https://pandas.pydata.org/docs/reference/api/pandas.DataFrame.html#pandas.DataFrame).\n",
        "-   [`to_xarray()`](../api/Dataset.html#mikeio.Dataset.to_xarray) -\n",
        "    Convert Dataset to a\n",
        "    [`xarray.Dataset`](https://xarray.pydata.org/en/stable/generated/xarray.Dataset.html#xarray.Dataset)\n",
        "    (great for Dfs2, Dfs3).\n",
        "-   [`to_dfs()`](../api/Dataset.html#mikeio.Dataset.to_dfs) - Write\n",
        "    Dataset to a Dfs file"
      ],
      "id": "30a47f92-1d63-4ff6-8555-51f83c03aed8"
    }
  ],
  "nbformat": 4,
  "nbformat_minor": 5,
  "metadata": {
    "kernelspec": {
      "name": "python3",
      "display_name": "Python 3 (ipykernel)",
      "language": "python",
      "path": "/opt/hostedtoolcache/Python/3.12.7/x64/share/jupyter/kernels/python3"
    },
    "language_info": {
      "name": "python",
      "codemirror_mode": {
        "name": "ipython",
        "version": "3"
      },
      "file_extension": ".py",
      "mimetype": "text/x-python",
      "nbconvert_exporter": "python",
      "pygments_lexer": "ipython3",
      "version": "3.12.7"
    }
  }
}