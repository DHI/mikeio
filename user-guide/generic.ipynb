{
  "cells": [
    {
      "cell_type": "markdown",
      "metadata": {},
      "source": [
        "# \n",
        "\n",
        "# Generic\n",
        "\n",
        "The generic module contains functionality that works for all types of\n",
        "dfs (dfs0, dfs1, dfs2, dfs3, dfsu) files:\n",
        "\n",
        "-   [`concat()`](../api/generic.html#mikeio.generic.concat) -\n",
        "    Concatenates files along the time axis\n",
        "-   [`extract()`](../api/generic.html#mikeio.generic.extract) - Extract\n",
        "    timesteps and/or items to a new dfs file\n",
        "-   [`diff()`](../api/generic.html#mikeio.generic.diff) - Calculate\n",
        "    difference between two dfs files with identical geometry\n",
        "-   [`sum()`](../api/generic.html#mikeio.generic.sum) - Calculate the\n",
        "    sum of two dfs files\n",
        "-   [`scale()`](../api/generic.html#mikeio.generic.scale) - Apply\n",
        "    scaling to any dfs file\n",
        "-   [`avg_time()`](../api/generic.html#mikeio.generic.avg_time) - Create\n",
        "    a temporally averaged dfs file\n",
        "-   [`quantile()`](../api/generic.html#mikeio.generic.quantile) - Create\n",
        "    a dfs file with temporal quantiles\n",
        "\n",
        "## When to use the generic module\n",
        "\n",
        "-   The processing is not tied to the spatial dimension of the data\n",
        "-   When the files are large and you want to avoid reading the entire\n",
        "    file into memory\n",
        "\n",
        "## When not to use the generic module\n",
        "\n",
        "-   When you need processing depending on the spatial information in the\n",
        "    file. For example, spatial interpolation, subsetting, etc.\n",
        "-   When you need more complex processing, not covered by the generic\n",
        "    module\n",
        "-   When the input files data are not dfs files\n",
        "-   When the end result is not a dfs file\n",
        "\n",
        "## Example\n",
        "\n",
        "``` python\n",
        ">>> from mikeio import generic\n",
        ">>> generic.concat([\"fileA.dfs2\", \"fileB.dfs2\"], \"new_file.dfs2\")\n",
        "```\n",
        "\n",
        "## More examples\n",
        "\n",
        "See the [Generic notebook](../examples/Generic.qmd) for more examples."
      ],
      "id": "5acbf169-6068-4bd5-9d6d-d4d713cd5e0f"
    }
  ],
  "nbformat": 4,
  "nbformat_minor": 5,
  "metadata": {
    "kernelspec": {
      "display_name": "Python 3",
      "language": "python",
      "name": "python3"
    }
  }
}