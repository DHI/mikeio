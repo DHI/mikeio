{
  "cells": [
    {
      "cell_type": "markdown",
      "metadata": {},
      "source": [
        "# \n",
        "\n",
        "# Data Structures\n",
        "\n",
        "MIKE IO has these primary data structures:\n",
        "\n",
        "-   [**Dataset**](dataset.qmd) - a collection of DataArrays\n",
        "    corresponding to the contents of a dfs file; typically obtained from\n",
        "    {py:meth}`mikeio.read`\n",
        "-   [**DataArray**](dataarray.qmd) - data and metadata corresponding to\n",
        "    one “item” in a dfs file.\n",
        "-   **Geometry** - spatial description of the data in a dfs file; comes\n",
        "    in different flavours: [Grid1D](../api/Grid1D.html#mikeio.Grid1D),\n",
        "    [Grid2D](../api/Grid2D.html#mikeio.Grid2D),\n",
        "    [Grid3D](../api/Grid3D.html#mikeio.Grid3D),\n",
        "    [GeometryFM2](../api/spatial.GeometryFM2D.html#mikeio.spatial.GeometryFM2D),\n",
        "    [GeometryFM3D](../api/spatial.GeometryFM3D.html#mikeio.spatial.GeometryFM3D),\n",
        "    etc. corresponding to different types of dfs files.\n",
        "-   **Dfs** - an object returned by `dfs = mikeio.open()` containing the\n",
        "    metadata (=header) of a dfs file ready for reading the data (which\n",
        "    can be done with `dfs.read()`); exists in different specialized\n",
        "    versions: [Dfs0](../api/Dfs0.html#mikeio.Dfs0),\n",
        "    [Dfs1](../api/Dfs1.html#mikeio.Dfs1),\n",
        "    [Dfs2](../api/Dfs2.html#mikeio.Dfs2),\n",
        "    [Dfs3](../api/Dfs3.html#mikeio.Dfs3),\n",
        "    [Dfsu2DH](../api/dfsu.Dfsu2DH.html#mikeio.dfsu.Dfsu2DH),\n",
        "    [Dfsu3D](../api/dfsu.Dfsu3D.html#mikeio.dfsu.Dfsu3D),\n",
        "    [Dfsu2DV](../api/dfsu.Dfsu2DV.html#mikeio.dfsu.Dfsu2DV),\n",
        "    [DfsuSpectral](../api/dfsu.DfsuSpectral.html#mikeio.dfsu.DfsuSpectral)."
      ],
      "id": "1d9bd92d-e070-4ce2-89c6-b456ae6d0e39"
    }
  ],
  "nbformat": 4,
  "nbformat_minor": 5,
  "metadata": {
    "kernelspec": {
      "display_name": "Python 3",
      "language": "python",
      "name": "python3"
    }
  }
}