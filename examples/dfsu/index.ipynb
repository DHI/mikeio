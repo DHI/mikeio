{
  "cells": [
    {
      "cell_type": "markdown",
      "metadata": {},
      "source": [
        "# Dfsu examples\n",
        "\n",
        "A collection of specific examples of working with dfsu files. For a\n",
        "general introduction to dfsu see the [user\n",
        "guide](../../user-guide/dfsu.qmd) and the [API\n",
        "reference](../../api/#dfs).\n",
        "\n",
        "-   [2D spatial interpolation](spatial_interpolation.qmd)\n",
        "-   [Merging subdomain dfsu files](merge_subdomains.qmd)"
      ],
      "id": "caab91f9-a4d6-4935-b467-4381c2795ba8"
    }
  ],
  "nbformat": 4,
  "nbformat_minor": 5,
  "metadata": {
    "kernelspec": {
      "display_name": "Python 3",
      "language": "python",
      "name": "python3"
    }
  }
}