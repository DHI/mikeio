{
  "cells": [
    {
      "cell_type": "markdown",
      "metadata": {},
      "source": [
        "# Dfsu examples\n",
        "\n",
        "A collection of specific examples of working with dfsu files. For a\n",
        "general introduction to dfsu see the [user\n",
        "guide](../../user-guide/dfsu.qmd) and the [API\n",
        "reference](../../api/#dfs).\n",
        "\n",
        "-   [2D spatial interpolation](spatial_interpolation.qmd)\n",
        "-   [Merging subdomain dfsu files](merge_subdomains.qmd)"
      ],
      "id": "66608a84-573d-4ab5-8f7d-1a77f52f662a"
    }
  ],
  "nbformat": 4,
  "nbformat_minor": 5,
  "metadata": {
    "kernelspec": {
      "display_name": "Python 3",
      "language": "python",
      "name": "python3"
    }
  }
}