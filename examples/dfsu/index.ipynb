{
  "cells": [
    {
      "cell_type": "markdown",
      "metadata": {},
      "source": [
        "# Dfsu examples\n",
        "\n",
        "A collection of specific examples of working with dfsu files. For a\n",
        "general introduction to dfsu see the [user\n",
        "guide](../../user-guide/dfsu.qmd) and the [API\n",
        "reference](../../api/#dfs).\n",
        "\n",
        "-   [2D spatial interpolation](spatial_interpolation.qmd)\n",
        "-   [Merging subdomain dfsu files](merge_subdomains.qmd)"
      ],
      "id": "bca4ab4e-953f-4925-a320-8888637e0106"
    }
  ],
  "nbformat": 4,
  "nbformat_minor": 5,
  "metadata": {
    "kernelspec": {
      "display_name": "Python 3",
      "language": "python",
      "name": "python3"
    }
  }
}