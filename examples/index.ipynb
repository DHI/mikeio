{
  "cells": [
    {
      "cell_type": "markdown",
      "metadata": {},
      "source": [
        "# Examples\n",
        "\n",
        "> **Example data**\n",
        ">\n",
        "> If you want to try one of the examples you need to first download some\n",
        "> data files.\n",
        ">\n",
        "> The files are stored on GitHub in the [MIKE IO\n",
        "> repo](https://github.com/DHI/mikeio).\n",
        ">\n",
        "> The easiest way is to the download the repo as a [zip\n",
        "> file](https://github.com/DHI/mikeio/archive/main.zip) and extract the\n",
        "> files you need.\n",
        ">\n",
        "> In the zip file you find the files in `tests/testdata/` folder\n",
        ">\n",
        "> Some of the files:\n",
        ">\n",
        ">     tests/testdata\n",
        ">     ├── FakeLake.dfsu\n",
        ">     ├── HD2D.dfsu\n",
        ">     ├── NorthSea_HD_and_windspeed.dfsu\n",
        ">     ├── consistency\n",
        ">     │   ├── oresundHD.dfs2\n",
        ">     │   └── oresundHD.dfsu\n",
        ">     ├── gebco_2020_n56.3_s55.2_w12.2_e13.1.nc\n",
        ">     ├── gfs_wind.nc\n",
        ">     ├── odense_rough.mesh\n",
        ">     ├── oresund_sigma_z.dfsu\n",
        ">     ├── pfs\n",
        ">     │   ├── concat.mzt\n",
        ">     │   └── t1_t0.mzt\n",
        ">     ├── tide1.dfs1\n",
        ">     ├── tide2.dfs1"
      ],
      "id": "62126dd8-626e-41e0-b67e-3ff6bda3665f"
    }
  ],
  "nbformat": 4,
  "nbformat_minor": 5,
  "metadata": {
    "kernelspec": {
      "display_name": "Python 3",
      "language": "python",
      "name": "python3"
    }
  }
}