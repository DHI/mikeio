{
  "cells": [
    {
      "cell_type": "markdown",
      "metadata": {},
      "source": [
        "# Dfs2 examples\n",
        "\n",
        "A collection of specific examples of working with dfs2 files. For a\n",
        "general introduction to dfsu see the [user\n",
        "guide](../../user-guide/dfs2.qmd) and the [API\n",
        "reference](../../api/#dfs).\n",
        "\n",
        "-   [Bathymetry](bathy.qmd)\n",
        "-   [Meteo data](gfs.qmd)"
      ],
      "id": "f8f6aa16-502c-4c54-a92c-b7d247100b57"
    }
  ],
  "nbformat": 4,
  "nbformat_minor": 5,
  "metadata": {
    "kernelspec": {
      "display_name": "Python 3",
      "language": "python",
      "name": "python3"
    }
  }
}