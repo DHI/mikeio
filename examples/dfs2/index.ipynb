{
  "cells": [
    {
      "cell_type": "markdown",
      "metadata": {},
      "source": [
        "# Dfs2 examples\n",
        "\n",
        "A collection of specific examples of working with dfs2 files. For a\n",
        "general introduction to dfsu see the [user\n",
        "guide](../../user-guide/dfs2.qmd) and the [API\n",
        "reference](../../api/#dfs).\n",
        "\n",
        "-   [Bathymetry](bathy.qmd)\n",
        "-   [Meteo data](gfs.qmd)"
      ],
      "id": "dbc08215-4604-4807-a003-f90923245bd9"
    }
  ],
  "nbformat": 4,
  "nbformat_minor": 5,
  "metadata": {
    "kernelspec": {
      "display_name": "Python 3",
      "language": "python",
      "name": "python3"
    }
  }
}