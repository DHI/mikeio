{
  "cells": [
    {
      "cell_type": "markdown",
      "metadata": {},
      "source": [
        "# Dfs2 examples\n",
        "\n",
        "A collection of specific examples of working with dfs2 files. For a\n",
        "general introduction to dfsu see the [user\n",
        "guide](../../user-guide/dfs2.qmd) and the [API\n",
        "reference](../../api/#dfs).\n",
        "\n",
        "-   [Bathymetry](bathy.qmd)\n",
        "-   [Meteo data](gfs.qmd)"
      ],
      "id": "167c39fb-0acc-4143-b886-9d8a5683a1eb"
    }
  ],
  "nbformat": 4,
  "nbformat_minor": 5,
  "metadata": {
    "kernelspec": {
      "display_name": "Python 3",
      "language": "python",
      "name": "python3"
    }
  }
}