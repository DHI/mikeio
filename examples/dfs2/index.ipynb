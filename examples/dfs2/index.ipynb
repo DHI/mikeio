{
  "cells": [
    {
      "cell_type": "markdown",
      "metadata": {},
      "source": [
        "# Dfs2 examples\n",
        "\n",
        "A collection of specific examples of working with dfs2 files. For a\n",
        "general introduction to dfsu see the [user\n",
        "guide](../../user-guide/dfs2.qmd) and the [API\n",
        "reference](../../api/#dfs).\n",
        "\n",
        "-   [Bathymetry](bathy.qmd)\n",
        "-   [Meteo data](gfs.qmd)"
      ],
      "id": "261f7e7f-2e0f-43c9-bbbc-12635f28dfa1"
    }
  ],
  "nbformat": 4,
  "nbformat_minor": 5,
  "metadata": {
    "kernelspec": {
      "display_name": "Python 3",
      "language": "python",
      "name": "python3"
    }
  }
}