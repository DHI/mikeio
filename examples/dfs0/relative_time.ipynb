{
  "cells": [
    {
      "cell_type": "markdown",
      "metadata": {},
      "source": [
        "# Dfs0 - Relative time axis\n",
        "\n",
        "MIKE IO uses a pandas DatetimeIndex to represent the time dimension in\n",
        "dfs files. If the Dfs file has a relative time axis it will be converted\n",
        "to DatetimeIndex by using 1970-1-1 00:00:00 as start time."
      ],
      "id": "767032f9-f1b6-4043-be0a-519f71ba7e89"
    },
    {
      "cell_type": "code",
      "execution_count": 1,
      "metadata": {},
      "outputs": [],
      "source": [
        "import mikeio"
      ],
      "id": "9a1bd51a"
    },
    {
      "cell_type": "code",
      "execution_count": 2,
      "metadata": {},
      "outputs": [
        {
          "output_type": "display_data",
          "metadata": {},
          "data": {
            "text/plain": [
              "<mikeio.Dataset>\n",
              "dims: (time:504)\n",
              "time: 1970-01-01 00:00:00 - 1970-01-01 00:00:56.237000 (504 non-equidistant records)\n",
              "geometry: GeometryUndefined()\n",
              "items:\n",
              "  0:  Item 1 <Undefined> (undefined)\n",
              "  1:  Item 2 <Undefined> (undefined)\n",
              "  2:  Item 3 <Undefined> (undefined)\n",
              "  3:  Item 4 <Undefined> (undefined)\n",
              "  4:  Item 5 <Undefined> (undefined)"
            ]
          }
        }
      ],
      "source": [
        "ds = mikeio.read(\"../../data/eq_relative.dfs0\")\n",
        "ds"
      ],
      "id": "f28fd553"
    },
    {
      "cell_type": "code",
      "execution_count": 3,
      "metadata": {},
      "outputs": [
        {
          "output_type": "display_data",
          "metadata": {},
          "data": {
            "text/html": [
              "\n",
              "</div>"
            ]
          }
        }
      ],
      "source": [
        "df = ds.to_dataframe()\n",
        "df.head()"
      ],
      "id": "398d61ca"
    },
    {
      "cell_type": "markdown",
      "metadata": {},
      "source": [
        "Correcting the dataframe index by subtracting start time to get relative\n",
        "time axis."
      ],
      "id": "1795cf7f-6300-4d7c-98b9-ac5dab47ac1d"
    },
    {
      "cell_type": "code",
      "execution_count": 4,
      "metadata": {},
      "outputs": [],
      "source": [
        "df.index = (df.index - df.index[0]).total_seconds()\n",
        "df.index.name = \"Relative time (s)\""
      ],
      "id": "21bfe6e5"
    },
    {
      "cell_type": "code",
      "execution_count": 5,
      "metadata": {},
      "outputs": [
        {
          "output_type": "display_data",
          "metadata": {},
          "data": {
            "text/html": [
              "\n",
              "</div>"
            ]
          }
        }
      ],
      "source": [
        "df.head()"
      ],
      "id": "6376c136"
    },
    {
      "cell_type": "code",
      "execution_count": 6,
      "metadata": {},
      "outputs": [
        {
          "output_type": "display_data",
          "metadata": {},
          "data": {
            "image/png": "[encoded data removed]"
          }
        }
      ],
      "source": [
        "df['Item 5'].plot();"
      ],
      "id": "1a9c7367"
    },
    {
      "cell_type": "markdown",
      "metadata": {},
      "source": [
        "## mikecore\n",
        "\n",
        "An alternative is to use the underlying library\n",
        "[`mikecore`](https://github.com/DHI/mikecore-python) to read the file."
      ],
      "id": "2506fc92-e3fd-4ac2-b5e4-5bab7fa51ec6"
    },
    {
      "cell_type": "code",
      "execution_count": 7,
      "metadata": {},
      "outputs": [],
      "source": [
        "from mikecore.DfsFileFactory import DfsFileFactory\n",
        "\n",
        "dfs = DfsFileFactory.DfsGenericOpen(\"../../data/eq_relative.dfs0\")"
      ],
      "id": "02a5561f"
    },
    {
      "cell_type": "markdown",
      "metadata": {},
      "source": [
        "Using the `ReadDfs0DataDouble` method you get the data as a numpy array,\n",
        "with the time axis or other type of as the first column,"
      ],
      "id": "23576dcf-5252-4b98-bd74-72d4ef9cdc2d"
    },
    {
      "cell_type": "code",
      "execution_count": 8,
      "metadata": {},
      "outputs": [
        {
          "output_type": "display_data",
          "metadata": {},
          "data": {
            "text/plain": [
              "numpy.ndarray"
            ]
          }
        }
      ],
      "source": [
        "data = dfs.ReadDfs0DataDouble()\n",
        "\n",
        "type(data)"
      ],
      "id": "3f7b0126"
    },
    {
      "cell_type": "markdown",
      "metadata": {},
      "source": [
        "which can be converted to a pandas dataframe. First we extract the name\n",
        "of items (which in this example hapeens to be not very creative)."
      ],
      "id": "60c53035-2a1e-437c-a328-ad26ab34431f"
    },
    {
      "cell_type": "code",
      "execution_count": 9,
      "metadata": {},
      "outputs": [
        {
          "output_type": "display_data",
          "metadata": {},
          "data": {
            "text/plain": [
              "['time', 'Item 1', 'Item 2', 'Item 3', 'Item 4', 'Item 5']"
            ]
          }
        }
      ],
      "source": [
        "index_name = \"time\"\n",
        "items = [i.Name for i in dfs.ItemInfo]\n",
        "items = [index_name] + items\n",
        "items"
      ],
      "id": "6d005c03"
    },
    {
      "cell_type": "code",
      "execution_count": 10,
      "metadata": {},
      "outputs": [
        {
          "output_type": "display_data",
          "metadata": {},
          "data": {
            "text/html": [
              "\n",
              "</div>"
            ]
          }
        }
      ],
      "source": [
        "import pandas as df\n",
        "\n",
        "df = df.DataFrame(data, columns=items).set_index(index_name)\n",
        "df.head()"
      ],
      "id": "2e1e9563"
    }
  ],
  "nbformat": 4,
  "nbformat_minor": 5,
  "metadata": {
    "kernelspec": {
      "name": "python3",
      "display_name": "Python 3 (ipykernel)",
      "language": "python",
      "path": "/opt/hostedtoolcache/Python/3.12.10/x64/share/jupyter/kernels/python3"
    },
    "language_info": {
      "name": "python",
      "codemirror_mode": {
        "name": "ipython",
        "version": "3"
      },
      "file_extension": ".py",
      "mimetype": "text/x-python",
      "nbconvert_exporter": "python",
      "pygments_lexer": "ipython3",
      "version": "3.12.10"
    }
  }
}