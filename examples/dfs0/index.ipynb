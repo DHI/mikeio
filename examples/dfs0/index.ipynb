{
  "cells": [
    {
      "cell_type": "markdown",
      "metadata": {},
      "source": [
        "# Dfs0 examples\n",
        "\n",
        "A collection of specific examples of working with dfs0 files. For a\n",
        "general introduction to dfs0 see the [user\n",
        "guide](../../user-guide/dfs0.qmd) and the [API\n",
        "reference](../../api/#dfs).\n",
        "\n",
        "-   [CMEMS *In-situ* data](cmems_insitu.qmd)"
      ],
      "id": "0c3e5565-ce65-44c5-85a7-2b81b9370bc6"
    }
  ],
  "nbformat": 4,
  "nbformat_minor": 5,
  "metadata": {
    "kernelspec": {
      "display_name": "Python 3",
      "language": "python",
      "name": "python3"
    }
  }
}