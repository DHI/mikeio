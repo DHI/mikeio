{
  "cells": [
    {
      "cell_type": "markdown",
      "metadata": {},
      "source": [
        "# Dfs0 examples\n",
        "\n",
        "A collection of specific examples of working with dfs0 files. For a\n",
        "general introduction to dfs0 see the [user\n",
        "guide](../../user-guide/dfs0.qmd) and the [API\n",
        "reference](../../api/#dfs).\n",
        "\n",
        "-   [CMEMS *In-situ* data](cmems_insitu.qmd)"
      ],
      "id": "5c8dc07d-d31a-4a67-8508-6dc9876e2d0a"
    }
  ],
  "nbformat": 4,
  "nbformat_minor": 5,
  "metadata": {
    "kernelspec": {
      "display_name": "Python 3",
      "language": "python",
      "name": "python3"
    }
  }
}