{
  "cells": [
    {
      "cell_type": "markdown",
      "metadata": {},
      "source": [
        "# Dfs0 examples\n",
        "\n",
        "A collection of specific examples of working with dfs0 files. For a\n",
        "general introduction to dfs0 see the [user\n",
        "guide](../../user-guide/dfs0.qmd) and the [API\n",
        "reference](../../api/#dfs).\n",
        "\n",
        "-   [CMEMS *In-situ* data](cmems_insitu.qmd)"
      ],
      "id": "fcf126dc-6e77-49fe-9400-f42235ffcf8d"
    }
  ],
  "nbformat": 4,
  "nbformat_minor": 5,
  "metadata": {
    "kernelspec": {
      "display_name": "Python 3",
      "language": "python",
      "name": "python3"
    }
  }
}