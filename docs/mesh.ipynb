{
  "cells": [
    {
      "cell_type": "raw",
      "metadata": {},
      "source": [
        "---\n",
        "title: Mesh\n",
        "---"
      ],
      "id": "1145341c"
    },
    {
      "cell_type": "markdown",
      "metadata": {},
      "source": [
        "* read mesh file\n",
        "* plot mesh \n",
        "* convert to shapely\n",
        "* check if point is inside or outside mesh\n",
        "* subset mesh, plot subset\n",
        "* change z values\n",
        "* change boundary codes\n"
      ],
      "id": "8c840d79"
    },
    {
      "cell_type": "code",
      "metadata": {},
      "source": [
        "import matplotlib.pyplot as plt\n",
        "import mikeio"
      ],
      "id": "21234226",
      "execution_count": null,
      "outputs": []
    },
    {
      "cell_type": "code",
      "metadata": {},
      "source": [
        "msh = mikeio.Mesh(\"../data/odense_rough.mesh\")\n",
        "msh"
      ],
      "id": "9f861719",
      "execution_count": null,
      "outputs": []
    },
    {
      "cell_type": "code",
      "metadata": {},
      "source": [
        "msh.plot()"
      ],
      "id": "98d00038",
      "execution_count": null,
      "outputs": []
    },
    {
      "cell_type": "code",
      "metadata": {},
      "source": [
        "msh.plot.boundary_nodes(boundary_names=['Land','Open boundary']);"
      ],
      "id": "cad0698e",
      "execution_count": null,
      "outputs": []
    },
    {
      "cell_type": "markdown",
      "metadata": {},
      "source": [
        "# Convert mesh to shapely\n",
        "Convert mesh to [shapely](https://shapely.readthedocs.io/en/latest/manual.html) MultiPolygon object, requires that the `shapely` library is installed.\n"
      ],
      "id": "54e8eb3e"
    },
    {
      "cell_type": "code",
      "metadata": {},
      "source": [
        "mp = msh.to_shapely()\n",
        "mp"
      ],
      "id": "dda2393b",
      "execution_count": null,
      "outputs": []
    },
    {
      "cell_type": "markdown",
      "metadata": {},
      "source": [
        "Now a lot of methods are available\n"
      ],
      "id": "e0fee6bc"
    },
    {
      "cell_type": "code",
      "metadata": {},
      "source": [
        "mp.area"
      ],
      "id": "1d6f9674",
      "execution_count": null,
      "outputs": []
    },
    {
      "cell_type": "code",
      "metadata": {},
      "source": [
        "mp.bounds"
      ],
      "id": "19085e93",
      "execution_count": null,
      "outputs": []
    },
    {
      "cell_type": "code",
      "metadata": {},
      "source": [
        "domain = mp.buffer(0)\n",
        "domain"
      ],
      "id": "7f148c53",
      "execution_count": null,
      "outputs": []
    },
    {
      "cell_type": "code",
      "metadata": {},
      "source": [
        "open_water = domain.buffer(-500)\n",
        "\n",
        "coastalzone = domain - open_water\n",
        "coastalzone"
      ],
      "id": "077fa780",
      "execution_count": null,
      "outputs": []
    },
    {
      "cell_type": "markdown",
      "metadata": {},
      "source": [
        "Find if points are inside the domain\n"
      ],
      "id": "5b1dbb3d"
    },
    {
      "cell_type": "code",
      "metadata": {
        "tags": []
      },
      "source": [
        "from shapely.geometry import Point\n",
        "\n",
        "p1 = Point(216000, 6162000)\n",
        "p2 = Point(220000, 6156000)\n",
        "print(mp.contains(p1))\n",
        "print(mp.contains(p2))"
      ],
      "id": "255b965b",
      "execution_count": null,
      "outputs": []
    },
    {
      "cell_type": "markdown",
      "metadata": {},
      "source": [
        "## Mesh class can also check if a mesh contains points \n"
      ],
      "id": "95ca4864"
    },
    {
      "cell_type": "code",
      "metadata": {},
      "source": [
        "p1p2 = [[216000, 6162000], [220000, 6156000]]\n",
        "msh.contains(p1p2)"
      ],
      "id": "d890aede",
      "execution_count": null,
      "outputs": []
    },
    {
      "cell_type": "code",
      "metadata": {},
      "source": [
        "ax = msh.plot()\n",
        "ax.scatter(p1.x, p1.y, marker=\"*\", s=200, c=\"red\", label=\"inside\")\n",
        "ax.scatter(p2.x, p2.y, marker=\"+\", s=200, c=\"green\", label=\"outside\")\n",
        "ax.legend();"
      ],
      "id": "cb9b9ed0",
      "execution_count": null,
      "outputs": []
    },
    {
      "cell_type": "markdown",
      "metadata": {},
      "source": [
        "# Change z values and boundary code\n",
        "Assume that we want to have a minimum depth of 2 meters and change the open boundary (code 2) to a closed one (code 1). \n"
      ],
      "id": "a500ba89"
    },
    {
      "cell_type": "code",
      "metadata": {},
      "source": [
        "print(f'max z before: {msh.node_coordinates[:,2].max()}')\n",
        "zc = msh.node_coordinates[:,2]\n",
        "zc[zc>-2] = -2\n",
        "msh.zn = zc\n",
        "print(f'max z after: {msh.node_coordinates[:,2].max()}')"
      ],
      "id": "f1bb1181",
      "execution_count": null,
      "outputs": []
    },
    {
      "cell_type": "code",
      "metadata": {},
      "source": [
        "print(f'valid codes before: {msh.valid_codes}')\n",
        "c = msh.geometry.codes\n",
        "c[c==2] = 1\n",
        "msh.codes = c\n",
        "print(f'valid codes after: {msh.valid_codes}')"
      ],
      "id": "75709670",
      "execution_count": null,
      "outputs": []
    },
    {
      "cell_type": "code",
      "metadata": {},
      "source": [
        "msh.plot()"
      ],
      "id": "99a91265",
      "execution_count": null,
      "outputs": []
    }
  ],
  "metadata": {
    "kernelspec": {
      "name": "python3",
      "language": "python",
      "display_name": "Python 3 (ipykernel)"
    }
  },
  "nbformat": 4,
  "nbformat_minor": 5
}