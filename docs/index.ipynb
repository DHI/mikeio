{
  "cells": [
    {
      "cell_type": "markdown",
      "metadata": {},
      "source": [
        "![](MIKE-IO-Logo-Pos-RGB.svg)\n",
        "\n",
        "# MIKE IO: input/output of MIKE files in Python\n",
        " ![Python version](https://img.shields.io/pypi/pyversions/mikeio.svg)\n",
        "[![PyPI version](https://badge.fury.io/py/mikeio.svg)](https://badge.fury.io/py/mikeio)\n",
        "\n",
        "Read, write and manipulate dfs0, dfs1, dfs2, dfs3, dfsu and mesh files. \n",
        "\n",
        "See our sister library [MIKE IO 1D](https://github.com/DHI/mikeio1d) for .res1d and .xns11 files.\n",
        "\n",
        "## Requirements\n",
        "\n",
        "* Windows or Linux operating system\n",
        "* Python x64 3.8 - 3.11\n",
        "* (Windows) [VC++ redistributables](https://support.microsoft.com/en-us/help/2977003/the-latest-supported-visual-c-downloads>) (already installed if you have MIKE)\n",
        "\n",
        "## Installation\n",
        "\n",
        "```\n",
        "$ pip install mikeio\n",
        "```\n",
        "\n",
        "::: callout-warning\n",
        "**Don't use conda to install MIKE IO!**, the version on conda is outdated.\n",
        ":::\n",
        "\n",
        "## Getting started\n"
      ],
      "id": "3ca70052"
    },
    {
      "cell_type": "code",
      "metadata": {},
      "source": [
        "import mikeio\n",
        "ds = mikeio.read('simple.dfs0')\n",
        "ds"
      ],
      "id": "2aeda947",
      "execution_count": null,
      "outputs": []
    },
    {
      "cell_type": "markdown",
      "metadata": {},
      "source": [
        "Read more in the [getting started guide](user-guide/getting-started.qmd).\n",
        "\n",
        "\n",
        "## Where can I get help?\n",
        "\n",
        "* New ideas and feature requests - [GitHub Discussions](https://github.com/DHI/mikeio/discussions)\n",
        "* Bugs - [GitHub Issues](https://github.com/DHI/mikeio/issues)\n"
      ],
      "id": "1bd9bd57"
    }
  ],
  "metadata": {
    "kernelspec": {
      "name": "python3",
      "language": "python",
      "display_name": "Python 3 (ipykernel)"
    }
  },
  "nbformat": 4,
  "nbformat_minor": 5
}