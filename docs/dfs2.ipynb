{
  "cells": [
    {
      "cell_type": "markdown",
      "metadata": {},
      "source": [
        "# Dfs2\n",
        "\n",
        "A dfs2 file is also called a grid series file. Values in a dfs2 file are ‘element based’, i.e. values are defined in the centre of each grid cell. \n"
      ],
      "id": "4cbc5ffe"
    },
    {
      "cell_type": "code",
      "metadata": {},
      "source": [
        "import mikeio\n",
        "ds = mikeio.read(\"data/gebco_sound.dfs2\")\n",
        "ds"
      ],
      "id": "cf4eb7cd",
      "execution_count": null,
      "outputs": []
    },
    {
      "cell_type": "markdown",
      "metadata": {},
      "source": [
        "## Subset in space\n",
        "\n",
        "The most convenient way to subset in space is to use the `sel` method, which returns a new (smaller) dataset, which can be further processed or written to disk using the `to_dfs` method. \n"
      ],
      "id": "9998963a"
    },
    {
      "cell_type": "code",
      "metadata": {},
      "source": [
        "ds.geometry"
      ],
      "id": "d583110f",
      "execution_count": null,
      "outputs": []
    },
    {
      "cell_type": "code",
      "metadata": {},
      "source": [
        "ds_aoi = ds.sel(x=slice(12.5, 13.0), y=slice(55.5, 56.0))\n",
        "ds_aoi.geometry"
      ],
      "id": "9cc2c8ba",
      "execution_count": null,
      "outputs": []
    },
    {
      "cell_type": "markdown",
      "metadata": {},
      "source": [
        "In order to specify an open-ended subset (i.e. where the end of the subset is the end of the domain), use `None` as the end of the slice. \n"
      ],
      "id": "e7563c5c"
    },
    {
      "cell_type": "code",
      "metadata": {},
      "source": [
        "ds.sel(x=slice(None, 13.0))"
      ],
      "id": "ed58485f",
      "execution_count": null,
      "outputs": []
    },
    {
      "cell_type": "markdown",
      "metadata": {},
      "source": [
        "## Grid2D\n",
        "\n",
        "The spatial information is available in the `geometry` attribute (accessible from Dfs2, Dataset, and DataArray), which in the case of a dfs2 file is a [`Grid2D`](`mikeio.Grid2D`) geometry. \n"
      ],
      "id": "5dd6a443"
    },
    {
      "cell_type": "code",
      "metadata": {},
      "source": [
        "ds.geometry"
      ],
      "id": "02cf910d",
      "execution_count": null,
      "outputs": []
    },
    {
      "cell_type": "markdown",
      "metadata": {},
      "source": [
        "Grid2D's primary properties and methods are: \n",
        "\n",
        "* `x` \n",
        "* `nx`\n",
        "* `dx`\n",
        "* `y`\n",
        "* `ny`\n",
        "* `dy`\n",
        "* `origin`\n",
        "* `projection`\n",
        "* `xy` \n",
        "* `bbox`\n",
        "* `contains()`\n",
        "* `find_index()`\n",
        "* `isel()`\n",
        "* `to_mesh()`\n",
        "\n",
        "See [API specification](`mikeio.Grid2D`) for details.\n",
        "\n",
        "\n",
        "## Dfs2 Example notebooks\n",
        "\n",
        "* [Dfs2 | getting-started-with-mikeio](https://dhi.github.io/getting-started-with-mikeio/dfs2.html)\n",
        "* [Dfs2-Bathymetry](https://nbviewer.jupyter.org/github/DHI/mikeio/blob/main/notebooks/Dfs2%20-%20Bathymetry.ipynb) - GEBCO NetCDF/xarray to dfs2 \n",
        "* [Dfs2-Boundary](https://nbviewer.jupyter.org/github/DHI/mikeio/blob/main/notebooks/Dfs2%20-%20Boundary.ipynb) - Vertical transect dfs2, interpolation in time \n",
        "* [Dfs2-Export-to-netCDF](https://nbviewer.jupyter.org/github/DHI/mikeio/blob/main/notebooks/Dfs2%20-%20Export%20to%20netcdf.ipynb) Export dfs2 to NetCDF\n",
        "* [Dfs2-GFS](https://nbviewer.jupyter.org/github/DHI/mikeio/blob/main/notebooks/Dfs2%20-%20Global%20Forecasting%20System.ipynb) - GFS NetCDF/xarray to dfs2\n",
        "* [Dfs2-SST](https://nbviewer.jupyter.org/github/DHI/mikeio/blob/main/notebooks/Dfs2%20-%20Sea%20surface%20temperature.ipynb) - DMI NetCDF/xarray to dfs2 "
      ],
      "id": "e3d746f1"
    }
  ],
  "metadata": {
    "kernelspec": {
      "name": "python3",
      "language": "python",
      "display_name": "Python 3 (ipykernel)"
    }
  },
  "nbformat": 4,
  "nbformat_minor": 5
}